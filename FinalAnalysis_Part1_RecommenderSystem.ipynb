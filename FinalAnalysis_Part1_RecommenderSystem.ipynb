{
 "cells": [
  {
   "cell_type": "markdown",
   "metadata": {},
   "source": [
    "# K-Nearest Neighbors Recommendation with Collaborative Filtering\n",
    "\n",
    "We wanted to apply K-NN algorithm to implement our own recommender system for restaurants. We will be using an intem-based collaborative filtering system, where we use patterns of users who went to the same restaurant to make recommendations. \n",
    "\n",
    "For our K-NN Algorithm, we are trying to find our nearest neighbors by distance based off of other users' behavior. If a lot of people visit both Restaurant A and Restaurant B, then the two restaurants are likely to be close neighbors, and we will recommend it to them. \n",
    "\n",
    "Recommendation System was inspired by Nick Becker: https://beckernick.github.io/music_recommender/"
   ]
  },
  {
   "cell_type": "code",
   "execution_count": 180,
   "metadata": {},
   "outputs": [],
   "source": [
    "# imports\n",
    "import pandas as pd\n",
    "from tqdm import tqdm\n",
    "import json\n",
    "import numpy as np\n",
    "import matplotlib.pyplot as plt\n",
    "import seaborn as sns\n",
    "from sklearn.neighbors import NearestNeighbors\n",
    "from sklearn import metrics\n",
    "from scipy.sparse import csr_matrix\n",
    "from fuzzywuzzy import fuzz\n",
    "import re\n",
    "import random\n",
    "import warnings\n",
    "warnings.filterwarnings('ignore')"
   ]
  },
  {
   "cell_type": "markdown",
   "metadata": {},
   "source": [
    "We'll be mainly using two data sets, both extracted from Yelp's original dataset `review.json` and `business.json`:\n",
    "- extracted_restaurants_from_business.csv\n",
    "- extracted_restaurants_from_review.csv"
   ]
  },
  {
   "cell_type": "code",
   "execution_count": 181,
   "metadata": {
    "scrolled": true
   },
   "outputs": [],
   "source": [
    "# Reading in 'extracted_restaurants_from_business.csv'\n",
    "rest_biz_csvTOpd = pd.read_csv('extracted_restaurants_from_business.csv')"
   ]
  },
  {
   "cell_type": "code",
   "execution_count": 182,
   "metadata": {},
   "outputs": [
    {
     "data": {
      "text/plain": [
       "['QXAEGFB4oINsVuTFxEYKFQ',\n",
       " 'gnKjwL_1w79qoiV3IC_xQQ',\n",
       " '1Dfx3zM-rW4n-31KeC8sJg',\n",
       " 'fweCYi8FmbJXHCqLnwuk8w',\n",
       " 'PZ-LZzSlhSe9utkQYU8pFg']"
      ]
     },
     "execution_count": 182,
     "metadata": {},
     "output_type": "execute_result"
    }
   ],
   "source": [
    "# Business IDs for the restaurants\n",
    "restaurant_id_list = rest_biz_csvTOpd.business_id.tolist()\n",
    "restaurant_id_list[:5]"
   ]
  },
  {
   "cell_type": "code",
   "execution_count": 183,
   "metadata": {},
   "outputs": [
    {
     "name": "stdout",
     "output_type": "stream",
     "text": [
      "Number of restaurants in the original dataset: 59371\n"
     ]
    }
   ],
   "source": [
    "print('Number of restaurants in the original dataset:',len(restaurant_id_list))"
   ]
  },
  {
   "cell_type": "code",
   "execution_count": 184,
   "metadata": {},
   "outputs": [],
   "source": [
    "# Reading in 'extracted_restaurants_from_review.csv'\n",
    "rest_review_csvTOpd = pd.read_csv('extracted_restaurants_from_review.csv')"
   ]
  },
  {
   "cell_type": "code",
   "execution_count": 185,
   "metadata": {
    "scrolled": false
   },
   "outputs": [
    {
     "data": {
      "text/html": [
       "<div>\n",
       "<style scoped>\n",
       "    .dataframe tbody tr th:only-of-type {\n",
       "        vertical-align: middle;\n",
       "    }\n",
       "\n",
       "    .dataframe tbody tr th {\n",
       "        vertical-align: top;\n",
       "    }\n",
       "\n",
       "    .dataframe thead th {\n",
       "        text-align: right;\n",
       "    }\n",
       "</style>\n",
       "<table border=\"1\" class=\"dataframe\">\n",
       "  <thead>\n",
       "    <tr style=\"text-align: right;\">\n",
       "      <th></th>\n",
       "      <th>review_id</th>\n",
       "      <th>user_id</th>\n",
       "      <th>business_id</th>\n",
       "      <th>stars</th>\n",
       "      <th>text</th>\n",
       "    </tr>\n",
       "  </thead>\n",
       "  <tbody>\n",
       "    <tr>\n",
       "      <th>0</th>\n",
       "      <td>yi0R0Ugj_xUx_Nek0-_Qig</td>\n",
       "      <td>dacAIZ6fTM6mqwW5uxkskg</td>\n",
       "      <td>ikCg8xy5JIg_NGPx-MSIDA</td>\n",
       "      <td>5.0</td>\n",
       "      <td>Went in for a lunch. Steak sandwich was delici...</td>\n",
       "    </tr>\n",
       "    <tr>\n",
       "      <th>1</th>\n",
       "      <td>fdiNeiN_hoCxCMy2wTRW9g</td>\n",
       "      <td>w31MKYsNFMrjhWxxAb5wIw</td>\n",
       "      <td>eU_713ec6fTGNO4BegRaww</td>\n",
       "      <td>4.0</td>\n",
       "      <td>I'll be the first to admit that I was not exci...</td>\n",
       "    </tr>\n",
       "    <tr>\n",
       "      <th>2</th>\n",
       "      <td>G7XHMxG0bx9oBJNECG4IFg</td>\n",
       "      <td>jlu4CztcSxrKx56ba1a5AQ</td>\n",
       "      <td>3fw2X5bZYeW9xCz_zGhOHg</td>\n",
       "      <td>3.0</td>\n",
       "      <td>Tracy dessert had a big name in Hong Kong and ...</td>\n",
       "    </tr>\n",
       "    <tr>\n",
       "      <th>3</th>\n",
       "      <td>8e9HxxLjjqc9ez5ezzN7iQ</td>\n",
       "      <td>d6xvYpyzcfbF_AZ8vMB7QA</td>\n",
       "      <td>zvO-PJCpNk4fgAVUnExYAA</td>\n",
       "      <td>1.0</td>\n",
       "      <td>This place has gone down hill.  Clearly they h...</td>\n",
       "    </tr>\n",
       "    <tr>\n",
       "      <th>4</th>\n",
       "      <td>kbtscdyz6lvrtGjD1quQTg</td>\n",
       "      <td>FIk4lQQu1eTe2EpzQ4xhBA</td>\n",
       "      <td>8mIrX_LrOnAqWsB5JrOojQ</td>\n",
       "      <td>4.0</td>\n",
       "      <td>Like walking back in time, every Saturday morn...</td>\n",
       "    </tr>\n",
       "  </tbody>\n",
       "</table>\n",
       "</div>"
      ],
      "text/plain": [
       "                review_id                 user_id             business_id  \\\n",
       "0  yi0R0Ugj_xUx_Nek0-_Qig  dacAIZ6fTM6mqwW5uxkskg  ikCg8xy5JIg_NGPx-MSIDA   \n",
       "1  fdiNeiN_hoCxCMy2wTRW9g  w31MKYsNFMrjhWxxAb5wIw  eU_713ec6fTGNO4BegRaww   \n",
       "2  G7XHMxG0bx9oBJNECG4IFg  jlu4CztcSxrKx56ba1a5AQ  3fw2X5bZYeW9xCz_zGhOHg   \n",
       "3  8e9HxxLjjqc9ez5ezzN7iQ  d6xvYpyzcfbF_AZ8vMB7QA  zvO-PJCpNk4fgAVUnExYAA   \n",
       "4  kbtscdyz6lvrtGjD1quQTg  FIk4lQQu1eTe2EpzQ4xhBA  8mIrX_LrOnAqWsB5JrOojQ   \n",
       "\n",
       "   stars                                               text  \n",
       "0    5.0  Went in for a lunch. Steak sandwich was delici...  \n",
       "1    4.0  I'll be the first to admit that I was not exci...  \n",
       "2    3.0  Tracy dessert had a big name in Hong Kong and ...  \n",
       "3    1.0  This place has gone down hill.  Clearly they h...  \n",
       "4    4.0  Like walking back in time, every Saturday morn...  "
      ]
     },
     "execution_count": 185,
     "metadata": {},
     "output_type": "execute_result"
    }
   ],
   "source": [
    "# Rename column containing the old indices\n",
    "rest_review_csvTOpd.rename(columns={\"Unnamed: 0\": \"Index_From_review.JSON\"}).head()"
   ]
  },
  {
   "cell_type": "markdown",
   "metadata": {},
   "source": [
    "## Exploratory Data Analysis"
   ]
  },
  {
   "cell_type": "code",
   "execution_count": 186,
   "metadata": {
    "scrolled": false
   },
   "outputs": [
    {
     "data": {
      "image/png": "[encoded data removed]",
      "text/plain": [
       "<Figure size 504x504 with 1 Axes>"
      ]
     },
     "metadata": {
      "needs_background": "light"
     },
     "output_type": "display_data"
    }
   ],
   "source": [
    "plt.figure(figsize=(7,7))\n",
    "plt.hist(rest_review_csvTOpd.stars, range = (0.2,5.5), bins = 10)\n",
    "plt.show()"
   ]
  },
  {
   "cell_type": "code",
   "execution_count": 187,
   "metadata": {},
   "outputs": [
    {
     "name": "stdout",
     "output_type": "stream",
     "text": [
      "There are 4201685 restaurant reviews.\n"
     ]
    },
    {
     "data": {
      "text/html": [
       "<div>\n",
       "<style scoped>\n",
       "    .dataframe tbody tr th:only-of-type {\n",
       "        vertical-align: middle;\n",
       "    }\n",
       "\n",
       "    .dataframe tbody tr th {\n",
       "        vertical-align: top;\n",
       "    }\n",
       "\n",
       "    .dataframe thead th {\n",
       "        text-align: right;\n",
       "    }\n",
       "</style>\n",
       "<table border=\"1\" class=\"dataframe\">\n",
       "  <thead>\n",
       "    <tr style=\"text-align: right;\">\n",
       "      <th></th>\n",
       "      <th>review_id</th>\n",
       "      <th>user_id</th>\n",
       "      <th>business_id</th>\n",
       "      <th>stars</th>\n",
       "      <th>text</th>\n",
       "    </tr>\n",
       "  </thead>\n",
       "  <tbody>\n",
       "    <tr>\n",
       "      <th>0</th>\n",
       "      <td>yi0R0Ugj_xUx_Nek0-_Qig</td>\n",
       "      <td>dacAIZ6fTM6mqwW5uxkskg</td>\n",
       "      <td>ikCg8xy5JIg_NGPx-MSIDA</td>\n",
       "      <td>5.0</td>\n",
       "      <td>Went in for a lunch. Steak sandwich was delici...</td>\n",
       "    </tr>\n",
       "    <tr>\n",
       "      <th>1</th>\n",
       "      <td>fdiNeiN_hoCxCMy2wTRW9g</td>\n",
       "      <td>w31MKYsNFMrjhWxxAb5wIw</td>\n",
       "      <td>eU_713ec6fTGNO4BegRaww</td>\n",
       "      <td>4.0</td>\n",
       "      <td>I'll be the first to admit that I was not exci...</td>\n",
       "    </tr>\n",
       "    <tr>\n",
       "      <th>2</th>\n",
       "      <td>G7XHMxG0bx9oBJNECG4IFg</td>\n",
       "      <td>jlu4CztcSxrKx56ba1a5AQ</td>\n",
       "      <td>3fw2X5bZYeW9xCz_zGhOHg</td>\n",
       "      <td>3.0</td>\n",
       "      <td>Tracy dessert had a big name in Hong Kong and ...</td>\n",
       "    </tr>\n",
       "    <tr>\n",
       "      <th>3</th>\n",
       "      <td>8e9HxxLjjqc9ez5ezzN7iQ</td>\n",
       "      <td>d6xvYpyzcfbF_AZ8vMB7QA</td>\n",
       "      <td>zvO-PJCpNk4fgAVUnExYAA</td>\n",
       "      <td>1.0</td>\n",
       "      <td>This place has gone down hill.  Clearly they h...</td>\n",
       "    </tr>\n",
       "    <tr>\n",
       "      <th>4</th>\n",
       "      <td>kbtscdyz6lvrtGjD1quQTg</td>\n",
       "      <td>FIk4lQQu1eTe2EpzQ4xhBA</td>\n",
       "      <td>8mIrX_LrOnAqWsB5JrOojQ</td>\n",
       "      <td>4.0</td>\n",
       "      <td>Like walking back in time, every Saturday morn...</td>\n",
       "    </tr>\n",
       "  </tbody>\n",
       "</table>\n",
       "</div>"
      ],
      "text/plain": [
       "                review_id                 user_id             business_id  \\\n",
       "0  yi0R0Ugj_xUx_Nek0-_Qig  dacAIZ6fTM6mqwW5uxkskg  ikCg8xy5JIg_NGPx-MSIDA   \n",
       "1  fdiNeiN_hoCxCMy2wTRW9g  w31MKYsNFMrjhWxxAb5wIw  eU_713ec6fTGNO4BegRaww   \n",
       "2  G7XHMxG0bx9oBJNECG4IFg  jlu4CztcSxrKx56ba1a5AQ  3fw2X5bZYeW9xCz_zGhOHg   \n",
       "3  8e9HxxLjjqc9ez5ezzN7iQ  d6xvYpyzcfbF_AZ8vMB7QA  zvO-PJCpNk4fgAVUnExYAA   \n",
       "4  kbtscdyz6lvrtGjD1quQTg  FIk4lQQu1eTe2EpzQ4xhBA  8mIrX_LrOnAqWsB5JrOojQ   \n",
       "\n",
       "   stars                                               text  \n",
       "0    5.0  Went in for a lunch. Steak sandwich was delici...  \n",
       "1    4.0  I'll be the first to admit that I was not exci...  \n",
       "2    3.0  Tracy dessert had a big name in Hong Kong and ...  \n",
       "3    1.0  This place has gone down hill.  Clearly they h...  \n",
       "4    4.0  Like walking back in time, every Saturday morn...  "
      ]
     },
     "execution_count": 187,
     "metadata": {},
     "output_type": "execute_result"
    }
   ],
   "source": [
    "rest_review_length = len(rest_review_csvTOpd)\n",
    "print(\"There are {} restaurant reviews.\".format(rest_review_length))\n",
    "testset = rest_review_csvTOpd[:1000]\n",
    "category = testset.stars\n",
    "testset.head()"
   ]
  },
  {
   "cell_type": "code",
   "execution_count": 188,
   "metadata": {},
   "outputs": [
    {
     "data": {
      "text/html": [
       "<div>\n",
       "<style scoped>\n",
       "    .dataframe tbody tr th:only-of-type {\n",
       "        vertical-align: middle;\n",
       "    }\n",
       "\n",
       "    .dataframe tbody tr th {\n",
       "        vertical-align: top;\n",
       "    }\n",
       "\n",
       "    .dataframe thead th {\n",
       "        text-align: right;\n",
       "    }\n",
       "</style>\n",
       "<table border=\"1\" class=\"dataframe\">\n",
       "  <thead>\n",
       "    <tr style=\"text-align: right;\">\n",
       "      <th></th>\n",
       "      <th>business_id</th>\n",
       "      <th>name</th>\n",
       "      <th>address</th>\n",
       "      <th>city</th>\n",
       "      <th>state</th>\n",
       "      <th>stars</th>\n",
       "      <th>review_count</th>\n",
       "      <th>is_open</th>\n",
       "      <th>attributes</th>\n",
       "      <th>categories</th>\n",
       "      <th>hours</th>\n",
       "    </tr>\n",
       "  </thead>\n",
       "  <tbody>\n",
       "    <tr>\n",
       "      <th>0</th>\n",
       "      <td>QXAEGFB4oINsVuTFxEYKFQ</td>\n",
       "      <td>Emerald Chinese Restaurant</td>\n",
       "      <td>30 Eglinton Avenue W</td>\n",
       "      <td>Mississauga</td>\n",
       "      <td>ON</td>\n",
       "      <td>2.5</td>\n",
       "      <td>128</td>\n",
       "      <td>1</td>\n",
       "      <td>{'RestaurantsReservations': 'True', 'GoodForMe...</td>\n",
       "      <td>Specialty Food, Restaurants, Dim Sum, Imported...</td>\n",
       "      <td>{'Monday': '9:0-0:0', 'Tuesday': '9:0-0:0', 'W...</td>\n",
       "    </tr>\n",
       "    <tr>\n",
       "      <th>1</th>\n",
       "      <td>gnKjwL_1w79qoiV3IC_xQQ</td>\n",
       "      <td>Musashi Japanese Restaurant</td>\n",
       "      <td>10110 Johnston Rd, Ste 15</td>\n",
       "      <td>Charlotte</td>\n",
       "      <td>NC</td>\n",
       "      <td>4.0</td>\n",
       "      <td>170</td>\n",
       "      <td>1</td>\n",
       "      <td>{'GoodForKids': 'True', 'NoiseLevel': \"u'avera...</td>\n",
       "      <td>Sushi Bars, Restaurants, Japanese</td>\n",
       "      <td>{'Monday': '17:30-21:30', 'Wednesday': '17:30-...</td>\n",
       "    </tr>\n",
       "    <tr>\n",
       "      <th>2</th>\n",
       "      <td>1Dfx3zM-rW4n-31KeC8sJg</td>\n",
       "      <td>Taco Bell</td>\n",
       "      <td>2450 E Indian School Rd</td>\n",
       "      <td>Phoenix</td>\n",
       "      <td>AZ</td>\n",
       "      <td>3.0</td>\n",
       "      <td>18</td>\n",
       "      <td>1</td>\n",
       "      <td>{'RestaurantsTakeOut': 'True', 'BusinessParkin...</td>\n",
       "      <td>Restaurants, Breakfast &amp; Brunch, Mexican, Taco...</td>\n",
       "      <td>{'Monday': '7:0-0:0', 'Tuesday': '7:0-0:0', 'W...</td>\n",
       "    </tr>\n",
       "    <tr>\n",
       "      <th>3</th>\n",
       "      <td>fweCYi8FmbJXHCqLnwuk8w</td>\n",
       "      <td>Marco's Pizza</td>\n",
       "      <td>5981 Andrews Rd</td>\n",
       "      <td>Mentor-on-the-Lake</td>\n",
       "      <td>OH</td>\n",
       "      <td>4.0</td>\n",
       "      <td>16</td>\n",
       "      <td>1</td>\n",
       "      <td>{'RestaurantsPriceRange2': '2', 'BusinessAccep...</td>\n",
       "      <td>Italian, Restaurants, Pizza, Chicken Wings</td>\n",
       "      <td>{'Monday': '10:0-0:0', 'Tuesday': '10:0-0:0', ...</td>\n",
       "    </tr>\n",
       "    <tr>\n",
       "      <th>4</th>\n",
       "      <td>PZ-LZzSlhSe9utkQYU8pFg</td>\n",
       "      <td>Carluccio's Tivoli Gardens</td>\n",
       "      <td>1775 E Tropicana Ave, Ste 29</td>\n",
       "      <td>Las Vegas</td>\n",
       "      <td>NV</td>\n",
       "      <td>4.0</td>\n",
       "      <td>40</td>\n",
       "      <td>0</td>\n",
       "      <td>{'OutdoorSeating': 'False', 'BusinessAcceptsCr...</td>\n",
       "      <td>Restaurants, Italian</td>\n",
       "      <td>NaN</td>\n",
       "    </tr>\n",
       "  </tbody>\n",
       "</table>\n",
       "</div>"
      ],
      "text/plain": [
       "              business_id                         name  \\\n",
       "0  QXAEGFB4oINsVuTFxEYKFQ   Emerald Chinese Restaurant   \n",
       "1  gnKjwL_1w79qoiV3IC_xQQ  Musashi Japanese Restaurant   \n",
       "2  1Dfx3zM-rW4n-31KeC8sJg                    Taco Bell   \n",
       "3  fweCYi8FmbJXHCqLnwuk8w                Marco's Pizza   \n",
       "4  PZ-LZzSlhSe9utkQYU8pFg   Carluccio's Tivoli Gardens   \n",
       "\n",
       "                        address                city state  stars  \\\n",
       "0          30 Eglinton Avenue W         Mississauga    ON    2.5   \n",
       "1     10110 Johnston Rd, Ste 15           Charlotte    NC    4.0   \n",
       "2       2450 E Indian School Rd             Phoenix    AZ    3.0   \n",
       "3               5981 Andrews Rd  Mentor-on-the-Lake    OH    4.0   \n",
       "4  1775 E Tropicana Ave, Ste 29           Las Vegas    NV    4.0   \n",
       "\n",
       "   review_count  is_open                                         attributes  \\\n",
       "0           128        1  {'RestaurantsReservations': 'True', 'GoodForMe...   \n",
       "1           170        1  {'GoodForKids': 'True', 'NoiseLevel': \"u'avera...   \n",
       "2            18        1  {'RestaurantsTakeOut': 'True', 'BusinessParkin...   \n",
       "3            16        1  {'RestaurantsPriceRange2': '2', 'BusinessAccep...   \n",
       "4            40        0  {'OutdoorSeating': 'False', 'BusinessAcceptsCr...   \n",
       "\n",
       "                                          categories  \\\n",
       "0  Specialty Food, Restaurants, Dim Sum, Imported...   \n",
       "1                  Sushi Bars, Restaurants, Japanese   \n",
       "2  Restaurants, Breakfast & Brunch, Mexican, Taco...   \n",
       "3         Italian, Restaurants, Pizza, Chicken Wings   \n",
       "4                               Restaurants, Italian   \n",
       "\n",
       "                                               hours  \n",
       "0  {'Monday': '9:0-0:0', 'Tuesday': '9:0-0:0', 'W...  \n",
       "1  {'Monday': '17:30-21:30', 'Wednesday': '17:30-...  \n",
       "2  {'Monday': '7:0-0:0', 'Tuesday': '7:0-0:0', 'W...  \n",
       "3  {'Monday': '10:0-0:0', 'Tuesday': '10:0-0:0', ...  \n",
       "4                                                NaN  "
      ]
     },
     "execution_count": 188,
     "metadata": {},
     "output_type": "execute_result"
    }
   ],
   "source": [
    "# restaurant business dataset\n",
    "\n",
    "rest_biz_csvTOpd.head()"
   ]
  },
  {
   "cell_type": "code",
   "execution_count": 189,
   "metadata": {},
   "outputs": [
    {
     "data": {
      "text/html": [
       "<div>\n",
       "<style scoped>\n",
       "    .dataframe tbody tr th:only-of-type {\n",
       "        vertical-align: middle;\n",
       "    }\n",
       "\n",
       "    .dataframe tbody tr th {\n",
       "        vertical-align: top;\n",
       "    }\n",
       "\n",
       "    .dataframe thead th {\n",
       "        text-align: right;\n",
       "    }\n",
       "</style>\n",
       "<table border=\"1\" class=\"dataframe\">\n",
       "  <thead>\n",
       "    <tr style=\"text-align: right;\">\n",
       "      <th></th>\n",
       "      <th>review_id</th>\n",
       "      <th>user_id</th>\n",
       "      <th>business_id</th>\n",
       "      <th>stars</th>\n",
       "      <th>text</th>\n",
       "    </tr>\n",
       "  </thead>\n",
       "  <tbody>\n",
       "    <tr>\n",
       "      <th>0</th>\n",
       "      <td>yi0R0Ugj_xUx_Nek0-_Qig</td>\n",
       "      <td>dacAIZ6fTM6mqwW5uxkskg</td>\n",
       "      <td>ikCg8xy5JIg_NGPx-MSIDA</td>\n",
       "      <td>5.0</td>\n",
       "      <td>Went in for a lunch. Steak sandwich was delici...</td>\n",
       "    </tr>\n",
       "    <tr>\n",
       "      <th>1</th>\n",
       "      <td>fdiNeiN_hoCxCMy2wTRW9g</td>\n",
       "      <td>w31MKYsNFMrjhWxxAb5wIw</td>\n",
       "      <td>eU_713ec6fTGNO4BegRaww</td>\n",
       "      <td>4.0</td>\n",
       "      <td>I'll be the first to admit that I was not exci...</td>\n",
       "    </tr>\n",
       "    <tr>\n",
       "      <th>2</th>\n",
       "      <td>G7XHMxG0bx9oBJNECG4IFg</td>\n",
       "      <td>jlu4CztcSxrKx56ba1a5AQ</td>\n",
       "      <td>3fw2X5bZYeW9xCz_zGhOHg</td>\n",
       "      <td>3.0</td>\n",
       "      <td>Tracy dessert had a big name in Hong Kong and ...</td>\n",
       "    </tr>\n",
       "    <tr>\n",
       "      <th>3</th>\n",
       "      <td>8e9HxxLjjqc9ez5ezzN7iQ</td>\n",
       "      <td>d6xvYpyzcfbF_AZ8vMB7QA</td>\n",
       "      <td>zvO-PJCpNk4fgAVUnExYAA</td>\n",
       "      <td>1.0</td>\n",
       "      <td>This place has gone down hill.  Clearly they h...</td>\n",
       "    </tr>\n",
       "    <tr>\n",
       "      <th>4</th>\n",
       "      <td>kbtscdyz6lvrtGjD1quQTg</td>\n",
       "      <td>FIk4lQQu1eTe2EpzQ4xhBA</td>\n",
       "      <td>8mIrX_LrOnAqWsB5JrOojQ</td>\n",
       "      <td>4.0</td>\n",
       "      <td>Like walking back in time, every Saturday morn...</td>\n",
       "    </tr>\n",
       "  </tbody>\n",
       "</table>\n",
       "</div>"
      ],
      "text/plain": [
       "                review_id                 user_id             business_id  \\\n",
       "0  yi0R0Ugj_xUx_Nek0-_Qig  dacAIZ6fTM6mqwW5uxkskg  ikCg8xy5JIg_NGPx-MSIDA   \n",
       "1  fdiNeiN_hoCxCMy2wTRW9g  w31MKYsNFMrjhWxxAb5wIw  eU_713ec6fTGNO4BegRaww   \n",
       "2  G7XHMxG0bx9oBJNECG4IFg  jlu4CztcSxrKx56ba1a5AQ  3fw2X5bZYeW9xCz_zGhOHg   \n",
       "3  8e9HxxLjjqc9ez5ezzN7iQ  d6xvYpyzcfbF_AZ8vMB7QA  zvO-PJCpNk4fgAVUnExYAA   \n",
       "4  kbtscdyz6lvrtGjD1quQTg  FIk4lQQu1eTe2EpzQ4xhBA  8mIrX_LrOnAqWsB5JrOojQ   \n",
       "\n",
       "   stars                                               text  \n",
       "0    5.0  Went in for a lunch. Steak sandwich was delici...  \n",
       "1    4.0  I'll be the first to admit that I was not exci...  \n",
       "2    3.0  Tracy dessert had a big name in Hong Kong and ...  \n",
       "3    1.0  This place has gone down hill.  Clearly they h...  \n",
       "4    4.0  Like walking back in time, every Saturday morn...  "
      ]
     },
     "execution_count": 189,
     "metadata": {},
     "output_type": "execute_result"
    }
   ],
   "source": [
    "# restaurant reviews dataset\n",
    "\n",
    "rest_review_csvTOpd.head()"
   ]
  },
  {
   "cell_type": "code",
   "execution_count": 190,
   "metadata": {},
   "outputs": [
    {
     "name": "stdout",
     "output_type": "stream",
     "text": [
      "number of unique users: 1148099\n",
      "number of unique restaurants: 59372\n"
     ]
    }
   ],
   "source": [
    "num_users = len(rest_review_csvTOpd['user_id'].unique())\n",
    "print(\"number of unique users:\", num_users)\n",
    "\n",
    "num_rest_review = len(rest_review_csvTOpd['business_id'].unique())\n",
    "print(\"number of unique restaurants:\", num_rest_review)"
   ]
  },
  {
   "cell_type": "markdown",
   "metadata": {},
   "source": [
    "For the KNN Model for item-based filtering, we will need to set up a matrix with restaurants for rows and users by columns, so we would getting a 11480909 x 59371 matrix. Pandas throws an error because this matrix is too large to process, so we will decide to focus the model on recommending restaurants by location, specifically by state. It makes sense too. No use in providing recommendations that are in another state and too far away. \n",
    "\n",
    "Where are most of the restaurants in the dataset located? "
   ]
  },
  {
   "cell_type": "code",
   "execution_count": 191,
   "metadata": {
    "scrolled": false
   },
   "outputs": [
    {
     "data": {
      "text/plain": [
       "Text(0.5, 1.0, 'No. of unique restaurants by state')"
      ]
     },
     "execution_count": 191,
     "metadata": {},
     "output_type": "execute_result"
    },
    {
     "data": {
      "image/png": "[encoded data removed]",
      "text/plain": [
       "<Figure size 720x504 with 1 Axes>"
      ]
     },
     "metadata": {
      "needs_background": "light"
     },
     "output_type": "display_data"
    }
   ],
   "source": [
    "state_count = pd.DataFrame(rest_biz_csvTOpd.groupby('state').count()['business_id'])\n",
    "state_count = state_count[state_count['business_id'] > 5].sort_values(by='business_id', ascending = True)\n",
    "state_count.plot.barh(figsize = (10, 7))\n",
    "plt.title('No. of unique restaurants by state')"
   ]
  },
  {
   "cell_type": "markdown",
   "metadata": {},
   "source": [
    "We will be processing Yelp's data and split it by state."
   ]
  },
  {
   "cell_type": "code",
   "execution_count": 192,
   "metadata": {},
   "outputs": [],
   "source": [
    "# Getting restaurants id per state\n",
    "on_rest_id = rest_biz_csvTOpd.loc[(rest_biz_csvTOpd['state'] == 'ON') & (rest_biz_csvTOpd['is_open'] == 1)]['business_id']\n",
    "az_rest_id = rest_biz_csvTOpd.loc[(rest_biz_csvTOpd['state'] == 'AZ') & (rest_biz_csvTOpd['is_open'] == 1)]['business_id']\n",
    "nv_rest_id = rest_biz_csvTOpd.loc[(rest_biz_csvTOpd['state'] == 'NV') & (rest_biz_csvTOpd['is_open'] == 1)]['business_id']\n",
    "qc_rest_id = rest_biz_csvTOpd.loc[(rest_biz_csvTOpd['state'] == 'QC') & (rest_biz_csvTOpd['is_open'] == 1)]['business_id']\n",
    "oh_rest_id = rest_biz_csvTOpd.loc[(rest_biz_csvTOpd['state'] == 'OH') & (rest_biz_csvTOpd['is_open'] == 1)]['business_id']\n",
    "nc_rest_id = rest_biz_csvTOpd.loc[(rest_biz_csvTOpd['state'] == 'NC') & (rest_biz_csvTOpd['is_open'] == 1)]['business_id']\n",
    "pa_rest_id = rest_biz_csvTOpd.loc[(rest_biz_csvTOpd['state'] == 'PA') & (rest_biz_csvTOpd['is_open'] == 1)]['business_id']\n",
    "ab_rest_id = rest_biz_csvTOpd.loc[(rest_biz_csvTOpd['state'] == 'AB') & (rest_biz_csvTOpd['is_open'] == 1)]['business_id']\n",
    "\n",
    "# Getting data per state\n",
    "on_reviews = rest_review_csvTOpd[rest_review_csvTOpd['business_id'].isin(on_rest_id)]\n",
    "az_reviews = rest_review_csvTOpd[rest_review_csvTOpd['business_id'].isin(az_rest_id)]\n",
    "nv_reviews = rest_review_csvTOpd[rest_review_csvTOpd['business_id'].isin(nv_rest_id)]\n",
    "qc_reviews = rest_review_csvTOpd[rest_review_csvTOpd['business_id'].isin(qc_rest_id)]\n",
    "oh_reviews = rest_review_csvTOpd[rest_review_csvTOpd['business_id'].isin(oh_rest_id)]\n",
    "nc_reviews = rest_review_csvTOpd[rest_review_csvTOpd['business_id'].isin(nc_rest_id)]\n",
    "pa_reviews = rest_review_csvTOpd[rest_review_csvTOpd['business_id'].isin(pa_rest_id)]\n",
    "ab_reviews = rest_review_csvTOpd[rest_review_csvTOpd['business_id'].isin(ab_rest_id)]\n"
   ]
  },
  {
   "cell_type": "markdown",
   "metadata": {},
   "source": [
    "How many restaurants do we have per state in our data?"
   ]
  },
  {
   "cell_type": "code",
   "execution_count": 193,
   "metadata": {},
   "outputs": [
    {
     "name": "stdout",
     "output_type": "stream",
     "text": [
      "474983\n",
      "1013354\n",
      "1175316\n",
      "121365\n",
      "198821\n",
      "236604\n",
      "176969\n",
      "54216\n"
     ]
    }
   ],
   "source": [
    "print(on_reviews.shape[0])\n",
    "print(az_reviews.shape[0])\n",
    "print(nv_reviews.shape[0])\n",
    "print(qc_reviews.shape[0])\n",
    "print(oh_reviews.shape[0])\n",
    "print(nc_reviews.shape[0])\n",
    "print(pa_reviews.shape[0])\n",
    "print(ab_reviews.shape[0])"
   ]
  },
  {
   "cell_type": "markdown",
   "metadata": {},
   "source": [
    "## Model Building (with Pennsylvania data)"
   ]
  },
  {
   "cell_type": "markdown",
   "metadata": {},
   "source": [
    "Now that we know what kind of data we are working with, we need to process the data so that it can be put into the KNN model for recommendation. Like mentioned above, we need to convert each state's restaurant data into a no. of restaurants x no. of users sized matrix. KNN algorithm will take the matrix and determines a restaurant's neighbors based off of distance between to other restaurants. "
   ]
  },
  {
   "cell_type": "code",
   "execution_count": 194,
   "metadata": {
    "scrolled": false
   },
   "outputs": [],
   "source": [
    "def KNN_matrix(data):\n",
    "    \"\"\"takes in [state]_reviews dataframe and returns a sparse matrix and a list for business_id\n",
    "    to prepare for KNN model. Beware of long run time\"\"\"\n",
    "    \n",
    "    matrix = data.pivot_table(index='business_id', columns='user_id', values = 'stars', aggfunc = 'mean').fillna(0)\n",
    "    sparse_matrix = csr_matrix(matrix)\n",
    "    \n",
    "    business_id = list(matrix.index)\n",
    "    business_names = []\n",
    "    for i in business_id:\n",
    "        business_names.append(list(rest_biz_csvTOpd[rest_biz_csvTOpd['business_id'] == i]['name'])[0])\n",
    "        \n",
    "    return (sparse_matrix, business_id, business_names)\n",
    "\n",
    "# using pennsylvania data for now\n",
    "pa_sparse = KNN_matrix(pa_reviews)\n"
   ]
  },
  {
   "cell_type": "markdown",
   "metadata": {},
   "source": [
    "Now that we have the sparse matrix ready, lets fit a KNN model. We decided to use cosine similiarity as opposed to other distance metrics like Euclidean distance, because cosine similarities looks at the angle between two vectors. In our case, it means that though in aggregate, two restaurants may have very different people visit and hence the euclidean distance would be long, the angle between the vectors might be small, hence they can be more similar. Image below shows that while \"d\" which is euclidean distance can increase as one vector is longer than another, the angle between both vectors reamin constant. That's the similarity we care about.\n"
   ]
  },
  {
   "cell_type": "markdown",
   "metadata": {},
   "source": [
    "<img src='cosine_vs_euclidean.png' width = 700>"
   ]
  },
  {
   "cell_type": "code",
   "execution_count": 195,
   "metadata": {},
   "outputs": [
    {
     "data": {
      "text/plain": [
       "NearestNeighbors(algorithm='auto', leaf_size=30, metric='cosine',\n",
       "                 metric_params=None, n_jobs=None, n_neighbors=5, p=2,\n",
       "                 radius=1.0)"
      ]
     },
     "execution_count": 195,
     "metadata": {},
     "output_type": "execute_result"
    }
   ],
   "source": [
    "knn_model_pa = NearestNeighbors(metric='cosine')\n",
    "knn_model_pa.fit(pa_sparse[0])"
   ]
  },
  {
   "cell_type": "code",
   "execution_count": 196,
   "metadata": {},
   "outputs": [],
   "source": [
    "def restaurant_recommender(model, sparse_matrix, n_recommendations = 5, fav_restaurant = ''):\n",
    "    \"\"\"takes in knn_model, a sparse matrix processed by KNN_matrix, and fav_restaurant which is restaurant on \n",
    "    which model makes recommendation. fav_restaurant does a fuzzy match(based on Levenshtein Distance) \n",
    "    in case restaurants are not typed in perfectly\"\"\"\n",
    "    \n",
    "    # unwraps sparse_matrix into its components\n",
    "    matrix, business_id, business_names = sparse_matrix[0], sparse_matrix[1], sparse_matrix[2]\n",
    "    \n",
    "    if fav_restaurant == '':\n",
    "        fav_restaurant = random.choice(business_names)\n",
    "    \n",
    "    # if fav_restaurant is not spelled perfectly, need to do a fuzzy match\n",
    "    possible_matches = []\n",
    "    match_scores = []\n",
    "    for business in business_names:\n",
    "        ratio = fuzz.ratio(business.lower(), fav_restaurant.lower())\n",
    "        if ratio >= 50:\n",
    "            possible_matches.append(business)\n",
    "            match_scores.append(ratio)\n",
    "    \n",
    "    # now that we have a fav_restaurant that matches our database, lets recommend some restaurants.\n",
    "    try:\n",
    "        fav_restaurant = possible_matches[match_scores.index(max(match_scores))]\n",
    "        fav_restaurant_index = business_names.index(fav_restaurant)\n",
    "        distances, indices = model.kneighbors(matrix[fav_restaurant_index], n_neighbors = n_recommendations+1)\n",
    "        \n",
    "        for i, rest_id in enumerate(indices[0]):\n",
    "            if i == 0:\n",
    "                print(fav_restaurant, '\\n')\n",
    "                print('Here are some other restaurants that people visited that you might like: \\n')\n",
    "            else:\n",
    "                rest_recommend = business_names[rest_id]\n",
    "                print(i,'. ', rest_recommend)\n",
    "    except:\n",
    "        return \"Oops, restaurant not in database\"\n"
   ]
  },
  {
   "cell_type": "markdown",
   "metadata": {},
   "source": [
    "Model building is complete! Enter a restaurant below and get some recommendations for restaurants in Pennsylvania! If you don't put in a restaurant, model will select a restaurant at random. "
   ]
  },
  {
   "cell_type": "code",
   "execution_count": 197,
   "metadata": {},
   "outputs": [
    {
     "name": "stdout",
     "output_type": "stream",
     "text": [
      "Enter a restaurant: \n",
      "The Baltimore House \n",
      "\n",
      "Here are some other restaurants that people visited that you might like: \n",
      "\n",
      "1 .  Tavern In The Hills\n",
      "2 .  Eggheads\n",
      "3 .  Steak ’n Shake\n",
      "4 .  Arby's\n",
      "5 .  Classic Chinese Cuisine\n"
     ]
    }
   ],
   "source": [
    "# run this cell to input a restaurant and get some recommendations\n",
    "# just hit enter if you don't have a favorite restaurant and just want to see recommendations\n",
    "\n",
    "fav_restaurant=input(\"Enter a restaurant: \")\n",
    "restaurant_recommender(knn_model_pa, pa_sparse, 5, fav_restaurant)"
   ]
  },
  {
   "cell_type": "markdown",
   "metadata": {},
   "source": [
    "Great! Our recommendation system makes solid recommendations for the most part. Recommendation was based on what other restaurants people visited who also visited this particular restaurant. There are many limitations to this algorithm, as I will later discuss, but lets look at recommendations for other states."
   ]
  },
  {
   "cell_type": "markdown",
   "metadata": {},
   "source": [
    "## Alabama Recommendations"
   ]
  },
  {
   "cell_type": "code",
   "execution_count": 198,
   "metadata": {},
   "outputs": [
    {
     "data": {
      "text/plain": [
       "NearestNeighbors(algorithm='auto', leaf_size=30, metric='cosine',\n",
       "                 metric_params=None, n_jobs=None, n_neighbors=5, p=2,\n",
       "                 radius=1.0)"
      ]
     },
     "execution_count": 198,
     "metadata": {},
     "output_type": "execute_result"
    }
   ],
   "source": [
    "# processing data for model\n",
    "ab_sparse = KNN_matrix(ab_reviews)\n",
    "\n",
    "# fitting model\n",
    "knn_model_ab = NearestNeighbors(metric='cosine')\n",
    "knn_model_ab.fit(ab_sparse[0])"
   ]
  },
  {
   "cell_type": "code",
   "execution_count": 199,
   "metadata": {},
   "outputs": [
    {
     "name": "stdout",
     "output_type": "stream",
     "text": [
      "Enter a restaurant: \n",
      "Italian Kitchen \n",
      "\n",
      "Here are some other restaurants that people visited that you might like: \n",
      "\n",
      "1 .  Simple Simon Pies\n",
      "2 .  Little Caesars Pizza\n",
      "3 .  Roxy's Burger Bar\n",
      "4 .  Safeway Food & Drug\n",
      "5 .  The Chopped Leaf\n"
     ]
    }
   ],
   "source": [
    "# recommendations for Alabama\n",
    "fav_restaurant=input(\"Enter a restaurant: \")\n",
    "restaurant_recommender(knn_model_ab, ab_sparse)"
   ]
  },
  {
   "cell_type": "markdown",
   "metadata": {},
   "source": [
    "## Quebec Recommendations\n"
   ]
  },
  {
   "cell_type": "code",
   "execution_count": 200,
   "metadata": {},
   "outputs": [
    {
     "data": {
      "text/plain": [
       "NearestNeighbors(algorithm='auto', leaf_size=30, metric='cosine',\n",
       "                 metric_params=None, n_jobs=None, n_neighbors=5, p=2,\n",
       "                 radius=1.0)"
      ]
     },
     "execution_count": 200,
     "metadata": {},
     "output_type": "execute_result"
    }
   ],
   "source": [
    "# processing data for model\n",
    "qc_sparse = KNN_matrix(qc_reviews)\n",
    "\n",
    "# fitting model\n",
    "knn_model_qc = NearestNeighbors(metric='cosine')\n",
    "knn_model_qc.fit(qc_sparse[0])"
   ]
  },
  {
   "cell_type": "code",
   "execution_count": 201,
   "metadata": {},
   "outputs": [
    {
     "name": "stdout",
     "output_type": "stream",
     "text": [
      "Enter a restaurant: \n",
      "Casa Vinho \n",
      "\n",
      "Here are some other restaurants that people visited that you might like: \n",
      "\n",
      "1 .  Le Bordelais\n",
      "2 .  Aldea\n",
      "3 .  Skippers\n",
      "4 .  Zoe's Food Truck\n",
      "5 .  Amici\n"
     ]
    }
   ],
   "source": [
    "# recommendations for Quebec\n",
    "fav_restaurant=input(\"Enter a restaurant: \")\n",
    "restaurant_recommender(knn_model_qc, qc_sparse)"
   ]
  },
  {
   "cell_type": "markdown",
   "metadata": {},
   "source": [
    "## Limitations of the Model\n",
    "\n",
    "\n",
    "### Scalability\n",
    "Unfortunately, larger data sets such as Arizona's dataset throws an error that the dataframe is too big. We need to find out a way to partition the large datasets in a way that makes sense for the recommendation. Some possible options:\n",
    "\n",
    "- partition data by location (zip_code, latitude/longitude)\n",
    "- partition data by restaurant type\n",
    "- partition data by clusters from K-means algorithm\n",
    "- partition data randomly\n",
    "\n",
    "Out of these options, partitioning further by location would be ideal, either by groups defined by latitude and longitude or by zip code. Can further explore into using Google Maps API to get this data, but regardless of how we partition the data we will still be applying the model built above. \n",
    "\n",
    "### Limited Features\n",
    "The only thing that KNN model makes recommendations on is what other people who also visited the same restaurant went to. With the KNN model, we're unable to add more features such as location, restaurant type, price range of restaurants, etc, and assign weights to them. That means that we cannot personalize recommendations based on those features at all. The neighbors algorithm takes some of those features into consideration, but only by the nature of recommending other restaurants that people liked, not because we programmed the model to include those features. \n",
    "\n",
    "Some examples of problems that limited features propose:\n",
    "- if people go to a restaurant and go to dessert place after, model will recommend the dessert place, even if user is looking for a restaurant that is similar.\n",
    "- if people love a restaurant chain such as Mcdonalds, model will recommend other mcdonalds, but not what user might be looking for. \n",
    "- though the neighbors algorithm accounts for this, model could recommend a restaurant far away, simply because others went there as well. \n",
    "\n",
    "### Only popular restaurants\n",
    "Model doesn't know how to recommend restaurants that are less popular, because by design of model it only recommends restaurants that others go to (definition of popular) who also visited input restaurant. While you can't go wrong with recommending popular restaurants, really great recommendation systems can reveal hidden gems and fit your unique interests. \n",
    "\n",
    "## Conclusion\n",
    "\n",
    "Despite limitations of the model, we can see that the KNN algorithm can still make some solid predictions by using collaborative filtering! \n",
    "\n"
   ]
  }
 ],
 "metadata": {
  "kernelspec": {
   "display_name": "Python 3",
   "language": "python",
   "name": "python3"
  },
  "language_info": {
   "codemirror_mode": {
    "name": "ipython",
    "version": 3
   },
   "file_extension": ".py",
   "mimetype": "text/x-python",
   "name": "python",
   "nbconvert_exporter": "python",
   "pygments_lexer": "ipython3",
   "version": "3.7.3"
  }
 },
 "nbformat": 4,
 "nbformat_minor": 2
}
