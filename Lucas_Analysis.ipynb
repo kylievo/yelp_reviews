{
 "cells": [
  {
   "cell_type": "code",
   "execution_count": 1,
   "metadata": {},
   "outputs": [],
   "source": [
    "import pandas as pd\n",
    "from tqdm import tqdm\n",
    "import json\n",
    "import numpy as np\n",
    "import matplotlib.pyplot as plt"
   ]
  },
  {
   "cell_type": "code",
   "execution_count": 49,
   "metadata": {},
   "outputs": [],
   "source": [
    "from sklearn.feature_extraction.text import CountVectorizer\n",
    "from sklearn.linear_model import LogisticRegression\n",
    "from sklearn.neighbors import NearestNeighbors\n",
    "from sklearn import metrics\n",
    "from scipy.sparse import csr_matrix\n",
    "from fuzzywuzzy import fuzz\n",
    "import re"
   ]
  },
  {
   "cell_type": "code",
   "execution_count": 3,
   "metadata": {},
   "outputs": [],
   "source": [
    "import warnings\n",
    "warnings.filterwarnings('ignore')"
   ]
  },
  {
   "cell_type": "markdown",
   "metadata": {},
   "source": [
    "# user.json"
   ]
  },
  {
   "cell_type": "markdown",
   "metadata": {},
   "source": [
    "See older versions of the file to retrieve the code!"
   ]
  },
  {
   "cell_type": "markdown",
   "metadata": {},
   "source": [
    "# CSV file from 'business.json'"
   ]
  },
  {
   "cell_type": "code",
   "execution_count": 4,
   "metadata": {
    "scrolled": true
   },
   "outputs": [],
   "source": [
    "# Reading in 'extacted_restaurants_from_business.csv'\n",
    "rest_biz_csvTOpd = pd.read_csv('extracted_restaurants_from_business.csv')"
   ]
  },
  {
   "cell_type": "code",
   "execution_count": 5,
   "metadata": {},
   "outputs": [
    {
     "data": {
      "text/plain": [
       "['QXAEGFB4oINsVuTFxEYKFQ',\n",
       " 'gnKjwL_1w79qoiV3IC_xQQ',\n",
       " '1Dfx3zM-rW4n-31KeC8sJg',\n",
       " 'fweCYi8FmbJXHCqLnwuk8w',\n",
       " 'PZ-LZzSlhSe9utkQYU8pFg']"
      ]
     },
     "execution_count": 5,
     "metadata": {},
     "output_type": "execute_result"
    }
   ],
   "source": [
    "# Business IDs for the restaurants\n",
    "restaurant_id_list = rest_biz_csvTOpd.business_id.tolist()\n",
    "restaurant_id_list[:5]"
   ]
  },
  {
   "cell_type": "code",
   "execution_count": 6,
   "metadata": {},
   "outputs": [
    {
     "name": "stdout",
     "output_type": "stream",
     "text": [
      "Number of restaurants in the original dataset: 59371\n"
     ]
    }
   ],
   "source": [
    "print('Number of restaurants in the original dataset:',len(restaurant_id_list))"
   ]
  },
  {
   "cell_type": "markdown",
   "metadata": {},
   "source": [
    "# CSV file from 'review.json'"
   ]
  },
  {
   "cell_type": "code",
   "execution_count": 7,
   "metadata": {},
   "outputs": [],
   "source": [
    "# Reading in 'extracted_restaurants_from_review.csv'\n",
    "rest_review_csvTOpd = pd.read_csv('extracted_restaurants_from_review.csv')"
   ]
  },
  {
   "cell_type": "code",
   "execution_count": 8,
   "metadata": {
    "scrolled": false
   },
   "outputs": [
    {
     "data": {
      "text/html": [
       "<div>\n",
       "<style scoped>\n",
       "    .dataframe tbody tr th:only-of-type {\n",
       "        vertical-align: middle;\n",
       "    }\n",
       "\n",
       "    .dataframe tbody tr th {\n",
       "        vertical-align: top;\n",
       "    }\n",
       "\n",
       "    .dataframe thead th {\n",
       "        text-align: right;\n",
       "    }\n",
       "</style>\n",
       "<table border=\"1\" class=\"dataframe\">\n",
       "  <thead>\n",
       "    <tr style=\"text-align: right;\">\n",
       "      <th></th>\n",
       "      <th>review_id</th>\n",
       "      <th>user_id</th>\n",
       "      <th>business_id</th>\n",
       "      <th>stars</th>\n",
       "      <th>text</th>\n",
       "    </tr>\n",
       "  </thead>\n",
       "  <tbody>\n",
       "    <tr>\n",
       "      <th>0</th>\n",
       "      <td>yi0R0Ugj_xUx_Nek0-_Qig</td>\n",
       "      <td>dacAIZ6fTM6mqwW5uxkskg</td>\n",
       "      <td>ikCg8xy5JIg_NGPx-MSIDA</td>\n",
       "      <td>5.0</td>\n",
       "      <td>Went in for a lunch. Steak sandwich was delici...</td>\n",
       "    </tr>\n",
       "    <tr>\n",
       "      <th>1</th>\n",
       "      <td>fdiNeiN_hoCxCMy2wTRW9g</td>\n",
       "      <td>w31MKYsNFMrjhWxxAb5wIw</td>\n",
       "      <td>eU_713ec6fTGNO4BegRaww</td>\n",
       "      <td>4.0</td>\n",
       "      <td>I'll be the first to admit that I was not exci...</td>\n",
       "    </tr>\n",
       "    <tr>\n",
       "      <th>2</th>\n",
       "      <td>G7XHMxG0bx9oBJNECG4IFg</td>\n",
       "      <td>jlu4CztcSxrKx56ba1a5AQ</td>\n",
       "      <td>3fw2X5bZYeW9xCz_zGhOHg</td>\n",
       "      <td>3.0</td>\n",
       "      <td>Tracy dessert had a big name in Hong Kong and ...</td>\n",
       "    </tr>\n",
       "    <tr>\n",
       "      <th>3</th>\n",
       "      <td>8e9HxxLjjqc9ez5ezzN7iQ</td>\n",
       "      <td>d6xvYpyzcfbF_AZ8vMB7QA</td>\n",
       "      <td>zvO-PJCpNk4fgAVUnExYAA</td>\n",
       "      <td>1.0</td>\n",
       "      <td>This place has gone down hill.  Clearly they h...</td>\n",
       "    </tr>\n",
       "    <tr>\n",
       "      <th>4</th>\n",
       "      <td>kbtscdyz6lvrtGjD1quQTg</td>\n",
       "      <td>FIk4lQQu1eTe2EpzQ4xhBA</td>\n",
       "      <td>8mIrX_LrOnAqWsB5JrOojQ</td>\n",
       "      <td>4.0</td>\n",
       "      <td>Like walking back in time, every Saturday morn...</td>\n",
       "    </tr>\n",
       "  </tbody>\n",
       "</table>\n",
       "</div>"
      ],
      "text/plain": [
       "                review_id                 user_id             business_id  \\\n",
       "0  yi0R0Ugj_xUx_Nek0-_Qig  dacAIZ6fTM6mqwW5uxkskg  ikCg8xy5JIg_NGPx-MSIDA   \n",
       "1  fdiNeiN_hoCxCMy2wTRW9g  w31MKYsNFMrjhWxxAb5wIw  eU_713ec6fTGNO4BegRaww   \n",
       "2  G7XHMxG0bx9oBJNECG4IFg  jlu4CztcSxrKx56ba1a5AQ  3fw2X5bZYeW9xCz_zGhOHg   \n",
       "3  8e9HxxLjjqc9ez5ezzN7iQ  d6xvYpyzcfbF_AZ8vMB7QA  zvO-PJCpNk4fgAVUnExYAA   \n",
       "4  kbtscdyz6lvrtGjD1quQTg  FIk4lQQu1eTe2EpzQ4xhBA  8mIrX_LrOnAqWsB5JrOojQ   \n",
       "\n",
       "   stars                                               text  \n",
       "0    5.0  Went in for a lunch. Steak sandwich was delici...  \n",
       "1    4.0  I'll be the first to admit that I was not exci...  \n",
       "2    3.0  Tracy dessert had a big name in Hong Kong and ...  \n",
       "3    1.0  This place has gone down hill.  Clearly they h...  \n",
       "4    4.0  Like walking back in time, every Saturday morn...  "
      ]
     },
     "execution_count": 8,
     "metadata": {},
     "output_type": "execute_result"
    }
   ],
   "source": [
    "# Rename column containing the old indices\n",
    "rest_review_csvTOpd.rename(columns={\"Unnamed: 0\": \"Index_From_review.JSON\"}).head()"
   ]
  },
  {
   "cell_type": "markdown",
   "metadata": {},
   "source": [
    "# Modeling"
   ]
  },
  {
   "cell_type": "code",
   "execution_count": 9,
   "metadata": {
    "scrolled": false
   },
   "outputs": [
    {
     "data": {
      "image/png": "[encoded data removed]",
      "text/plain": [
       "<Figure size 504x504 with 1 Axes>"
      ]
     },
     "metadata": {
      "needs_background": "light"
     },
     "output_type": "display_data"
    }
   ],
   "source": [
    "plt.figure(figsize=(7,7))\n",
    "plt.hist(rest_review_csvTOpd.stars, range = (0.2,5.5), bins = 10)\n",
    "plt.show()"
   ]
  },
  {
   "cell_type": "code",
   "execution_count": 11,
   "metadata": {},
   "outputs": [
    {
     "name": "stdout",
     "output_type": "stream",
     "text": [
      "There are 4201685 restaurant reviews.\n"
     ]
    },
    {
     "data": {
      "text/html": [
       "<div>\n",
       "<style scoped>\n",
       "    .dataframe tbody tr th:only-of-type {\n",
       "        vertical-align: middle;\n",
       "    }\n",
       "\n",
       "    .dataframe tbody tr th {\n",
       "        vertical-align: top;\n",
       "    }\n",
       "\n",
       "    .dataframe thead th {\n",
       "        text-align: right;\n",
       "    }\n",
       "</style>\n",
       "<table border=\"1\" class=\"dataframe\">\n",
       "  <thead>\n",
       "    <tr style=\"text-align: right;\">\n",
       "      <th></th>\n",
       "      <th>review_id</th>\n",
       "      <th>user_id</th>\n",
       "      <th>business_id</th>\n",
       "      <th>stars</th>\n",
       "      <th>text</th>\n",
       "    </tr>\n",
       "  </thead>\n",
       "  <tbody>\n",
       "    <tr>\n",
       "      <th>0</th>\n",
       "      <td>yi0R0Ugj_xUx_Nek0-_Qig</td>\n",
       "      <td>dacAIZ6fTM6mqwW5uxkskg</td>\n",
       "      <td>ikCg8xy5JIg_NGPx-MSIDA</td>\n",
       "      <td>5.0</td>\n",
       "      <td>Went in for a lunch. Steak sandwich was delici...</td>\n",
       "    </tr>\n",
       "    <tr>\n",
       "      <th>1</th>\n",
       "      <td>fdiNeiN_hoCxCMy2wTRW9g</td>\n",
       "      <td>w31MKYsNFMrjhWxxAb5wIw</td>\n",
       "      <td>eU_713ec6fTGNO4BegRaww</td>\n",
       "      <td>4.0</td>\n",
       "      <td>I'll be the first to admit that I was not exci...</td>\n",
       "    </tr>\n",
       "    <tr>\n",
       "      <th>2</th>\n",
       "      <td>G7XHMxG0bx9oBJNECG4IFg</td>\n",
       "      <td>jlu4CztcSxrKx56ba1a5AQ</td>\n",
       "      <td>3fw2X5bZYeW9xCz_zGhOHg</td>\n",
       "      <td>3.0</td>\n",
       "      <td>Tracy dessert had a big name in Hong Kong and ...</td>\n",
       "    </tr>\n",
       "    <tr>\n",
       "      <th>3</th>\n",
       "      <td>8e9HxxLjjqc9ez5ezzN7iQ</td>\n",
       "      <td>d6xvYpyzcfbF_AZ8vMB7QA</td>\n",
       "      <td>zvO-PJCpNk4fgAVUnExYAA</td>\n",
       "      <td>1.0</td>\n",
       "      <td>This place has gone down hill.  Clearly they h...</td>\n",
       "    </tr>\n",
       "    <tr>\n",
       "      <th>4</th>\n",
       "      <td>kbtscdyz6lvrtGjD1quQTg</td>\n",
       "      <td>FIk4lQQu1eTe2EpzQ4xhBA</td>\n",
       "      <td>8mIrX_LrOnAqWsB5JrOojQ</td>\n",
       "      <td>4.0</td>\n",
       "      <td>Like walking back in time, every Saturday morn...</td>\n",
       "    </tr>\n",
       "  </tbody>\n",
       "</table>\n",
       "</div>"
      ],
      "text/plain": [
       "                review_id                 user_id             business_id  \\\n",
       "0  yi0R0Ugj_xUx_Nek0-_Qig  dacAIZ6fTM6mqwW5uxkskg  ikCg8xy5JIg_NGPx-MSIDA   \n",
       "1  fdiNeiN_hoCxCMy2wTRW9g  w31MKYsNFMrjhWxxAb5wIw  eU_713ec6fTGNO4BegRaww   \n",
       "2  G7XHMxG0bx9oBJNECG4IFg  jlu4CztcSxrKx56ba1a5AQ  3fw2X5bZYeW9xCz_zGhOHg   \n",
       "3  8e9HxxLjjqc9ez5ezzN7iQ  d6xvYpyzcfbF_AZ8vMB7QA  zvO-PJCpNk4fgAVUnExYAA   \n",
       "4  kbtscdyz6lvrtGjD1quQTg  FIk4lQQu1eTe2EpzQ4xhBA  8mIrX_LrOnAqWsB5JrOojQ   \n",
       "\n",
       "   stars                                               text  \n",
       "0    5.0  Went in for a lunch. Steak sandwich was delici...  \n",
       "1    4.0  I'll be the first to admit that I was not exci...  \n",
       "2    3.0  Tracy dessert had a big name in Hong Kong and ...  \n",
       "3    1.0  This place has gone down hill.  Clearly they h...  \n",
       "4    4.0  Like walking back in time, every Saturday morn...  "
      ]
     },
     "execution_count": 11,
     "metadata": {},
     "output_type": "execute_result"
    }
   ],
   "source": [
    "# Random EDA\n",
    "rest_review_length = len(rest_review_csvTOpd)\n",
    "print(\"There are {} restaurant reviews.\".format(rest_review_length))\n",
    "testset = rest_review_csvTOpd[:1000]\n",
    "category = testset.stars\n",
    "testset.head()"
   ]
  },
  {
   "cell_type": "code",
   "execution_count": 12,
   "metadata": {},
   "outputs": [],
   "source": [
    "one_star = rest_review_csvTOpd.loc[rest_review_csvTOpd['stars'] == 1.0]\n",
    "two_star = rest_review_csvTOpd.loc[rest_review_csvTOpd['stars'] == 2.0]\n",
    "three_star = rest_review_csvTOpd.loc[rest_review_csvTOpd['stars'] == 3.0]\n",
    "four_star = rest_review_csvTOpd.loc[rest_review_csvTOpd['stars'] == 4.0]\n",
    "five_star = rest_review_csvTOpd.loc[rest_review_csvTOpd['stars'] == 5.0]"
   ]
  },
  {
   "cell_type": "code",
   "execution_count": 13,
   "metadata": {},
   "outputs": [
    {
     "name": "stdout",
     "output_type": "stream",
     "text": [
      "For 80% of the data, there should be 3361348 reviews.\n"
     ]
    }
   ],
   "source": [
    "# Figuring out what percentage of the \"rest_review_csvTOpd\" should be training data, and what percentage should be test data.\n",
    "num_train_data = int(rest_review_length * 0.8)\n",
    "print(\"For 80% of the data, there should be {} reviews.\".format(num_train_data))"
   ]
  },
  {
   "cell_type": "code",
   "execution_count": 14,
   "metadata": {},
   "outputs": [],
   "source": [
    "# Train data has equal amounts of each rating.\n",
    "train_data = pd.concat([one_star.text[:1600], two_star.text[:1600], three_star.text[:1600], four_star.text[:1600], five_star.text[:1600]])\n",
    "train_labels = pd.concat([one_star.stars[:1600], one_star.stars[:1600], three_star.stars[:1600], five_star.stars[:1600], five_star.stars[:1600]])\n",
    "\n",
    "test_data = pd.concat([one_star.text[1600:1700], two_star.text[1600:1700], three_star.text[1600:1700], four_star.text[1600:1700], five_star.text[1600:1700]])\n",
    "test_labels = pd.concat([one_star.stars[1600:1700], one_star.stars[1600:1700], three_star.stars[1600:1700], five_star.stars[1600:1700], five_star.stars[1600:1700]])"
   ]
  },
  {
   "cell_type": "code",
   "execution_count": 15,
   "metadata": {},
   "outputs": [
    {
     "data": {
      "image/png": "[encoded data removed]",
      "text/plain": [
       "<Figure size 504x504 with 1 Axes>"
      ]
     },
     "metadata": {
      "needs_background": "light"
     },
     "output_type": "display_data"
    }
   ],
   "source": [
    "plt.figure(figsize=(7,7))\n",
    "plt.hist(train_labels, range = (1,5), bins = 10)\n",
    "plt.show()"
   ]
  },
  {
   "cell_type": "code",
   "execution_count": 16,
   "metadata": {},
   "outputs": [],
   "source": [
    "# Fit CountVectorizer with your text data\n",
    "vectorizer = CountVectorizer()\n",
    "# train_data = testset.text.tolist()\n",
    "vtrain = vectorizer.fit_transform(train_data)\n",
    "vdev = vectorizer.transform(test_data)"
   ]
  },
  {
   "cell_type": "code",
   "execution_count": 17,
   "metadata": {},
   "outputs": [
    {
     "name": "stdout",
     "output_type": "stream",
     "text": [
      "0.7645667436311591\n"
     ]
    }
   ],
   "source": [
    "# Train LogisticRegression Classifier\n",
    "lr_classifier = LogisticRegression(C=0.09)\n",
    "lr_classifier.fit(vtrain, train_labels)\n",
    "train_predicted_labels = lr_classifier.predict(vdev)\n",
    "f1_score = metrics.f1_score(test_labels, train_predicted_labels, average = 'weighted')\n",
    "print(f1_score)"
   ]
  },
  {
   "cell_type": "code",
   "execution_count": 18,
   "metadata": {},
   "outputs": [
    {
     "data": {
      "text/plain": [
       "array([[0.95321591, 0.01361652, 0.03316756],\n",
       "       [0.72909956, 0.15708661, 0.11381383],\n",
       "       [0.8697856 , 0.06072605, 0.06948835],\n",
       "       ...,\n",
       "       [0.13702692, 0.11199388, 0.7509792 ],\n",
       "       [0.07445364, 0.02312043, 0.90242593],\n",
       "       [0.10455203, 0.11123606, 0.78421191]])"
      ]
     },
     "execution_count": 18,
     "metadata": {},
     "output_type": "execute_result"
    }
   ],
   "source": [
    "lr_classifier.predict_proba(vdev)"
   ]
  },
  {
   "cell_type": "markdown",
   "metadata": {},
   "source": [
    "# Sample Prediction"
   ]
  },
  {
   "cell_type": "code",
   "execution_count": 19,
   "metadata": {},
   "outputs": [],
   "source": [
    "# Predict new sentence\n",
    "test_sentence = \"I hate this place\"\n",
    "test_sentence = [test_sentence]"
   ]
  },
  {
   "cell_type": "code",
   "execution_count": 20,
   "metadata": {},
   "outputs": [
    {
     "data": {
      "text/plain": [
       "array([[0.47168233, 0.172166  , 0.35615168]])"
      ]
     },
     "execution_count": 20,
     "metadata": {},
     "output_type": "execute_result"
    }
   ],
   "source": [
    "new_test = vectorizer.transform(test_sentence)\n",
    "lr_classifier.predict(new_test)\n",
    "lr_classifier.predict_proba(new_test)"
   ]
  },
  {
   "cell_type": "markdown",
   "metadata": {},
   "source": [
    "# Predictions without the neutral data"
   ]
  },
  {
   "cell_type": "code",
   "execution_count": 21,
   "metadata": {},
   "outputs": [],
   "source": [
    "# Throwing away the neutral data\n",
    "NO3_train_data = pd.concat([one_star.text[:1600], two_star.text[:1600], four_star.text[:1600], five_star.text[:1600]])\n",
    "NO3_train_labels = pd.concat([one_star.stars[:1600], one_star.stars[:1600], five_star.stars[:1600], five_star.stars[:1600]])\n",
    "\n",
    "NO3_test_data = pd.concat([one_star.text[1600:1700], two_star.text[1600:1700], four_star.text[1600:1700], five_star.text[1600:1700]])\n",
    "NO3_test_labels = pd.concat([one_star.stars[1600:1700], one_star.stars[1600:1700], five_star.stars[1600:1700], five_star.stars[1600:1700]])"
   ]
  },
  {
   "cell_type": "code",
   "execution_count": 22,
   "metadata": {},
   "outputs": [],
   "source": [
    "# Fit CountVectorizer with your text data\n",
    "vectorizer = CountVectorizer()\n",
    "# train_data = testset.text.tolist()\n",
    "v_NO3_train = vectorizer.fit_transform(NO3_train_data)\n",
    "v_NO3_dev = vectorizer.transform(NO3_test_data)"
   ]
  },
  {
   "cell_type": "code",
   "execution_count": 23,
   "metadata": {},
   "outputs": [
    {
     "name": "stdout",
     "output_type": "stream",
     "text": [
      "0.917474726635032\n"
     ]
    }
   ],
   "source": [
    "# Train LogisticRegression Classifier\n",
    "lr_classifier = LogisticRegression(C=0.08)\n",
    "lr_classifier.fit(v_NO3_train, NO3_train_labels)\n",
    "train_predicted_labels = lr_classifier.predict(v_NO3_dev)\n",
    "f1_score = metrics.f1_score(NO3_test_labels, train_predicted_labels, average = 'weighted')\n",
    "print(f1_score)"
   ]
  },
  {
   "cell_type": "markdown",
   "metadata": {},
   "source": [
    "* So if we throw out the moderate data (the 3-star reviews), it is clear that there is a difference between positive and negative reviews."
   ]
  },
  {
   "cell_type": "markdown",
   "metadata": {},
   "source": [
    "# Restaurant Recommender"
   ]
  },
  {
   "cell_type": "markdown",
   "metadata": {},
   "source": [
    "We wanted to apply K-NN algorithm to implement our own recommender system for restaurants. We will be using an intem-based collaborative filtering system, where we use patterns of useres who went to the same restaurant to make recommendations. \n",
    "\n",
    "For our K-NN Algorithm, we are trying to find our nearest neighbors based off of other users' behavior. If a lot of people visit both Restaurant A and Restaurant B, then the two restaurants are likely to be close neighbors, and we will recommend it to them. \n",
    "\n",
    "Can try both user-based and item-based collaborative filtering. "
   ]
  },
  {
   "cell_type": "code",
   "execution_count": 10,
   "metadata": {},
   "outputs": [
    {
     "data": {
      "text/html": [
       "<div>\n",
       "<style scoped>\n",
       "    .dataframe tbody tr th:only-of-type {\n",
       "        vertical-align: middle;\n",
       "    }\n",
       "\n",
       "    .dataframe tbody tr th {\n",
       "        vertical-align: top;\n",
       "    }\n",
       "\n",
       "    .dataframe thead th {\n",
       "        text-align: right;\n",
       "    }\n",
       "</style>\n",
       "<table border=\"1\" class=\"dataframe\">\n",
       "  <thead>\n",
       "    <tr style=\"text-align: right;\">\n",
       "      <th></th>\n",
       "      <th>business_id</th>\n",
       "      <th>name</th>\n",
       "      <th>address</th>\n",
       "      <th>city</th>\n",
       "      <th>state</th>\n",
       "      <th>stars</th>\n",
       "      <th>review_count</th>\n",
       "      <th>is_open</th>\n",
       "      <th>attributes</th>\n",
       "      <th>categories</th>\n",
       "      <th>hours</th>\n",
       "    </tr>\n",
       "  </thead>\n",
       "  <tbody>\n",
       "    <tr>\n",
       "      <th>0</th>\n",
       "      <td>QXAEGFB4oINsVuTFxEYKFQ</td>\n",
       "      <td>Emerald Chinese Restaurant</td>\n",
       "      <td>30 Eglinton Avenue W</td>\n",
       "      <td>Mississauga</td>\n",
       "      <td>ON</td>\n",
       "      <td>2.5</td>\n",
       "      <td>128</td>\n",
       "      <td>1</td>\n",
       "      <td>{'RestaurantsReservations': 'True', 'GoodForMe...</td>\n",
       "      <td>Specialty Food, Restaurants, Dim Sum, Imported...</td>\n",
       "      <td>{'Monday': '9:0-0:0', 'Tuesday': '9:0-0:0', 'W...</td>\n",
       "    </tr>\n",
       "    <tr>\n",
       "      <th>1</th>\n",
       "      <td>gnKjwL_1w79qoiV3IC_xQQ</td>\n",
       "      <td>Musashi Japanese Restaurant</td>\n",
       "      <td>10110 Johnston Rd, Ste 15</td>\n",
       "      <td>Charlotte</td>\n",
       "      <td>NC</td>\n",
       "      <td>4.0</td>\n",
       "      <td>170</td>\n",
       "      <td>1</td>\n",
       "      <td>{'GoodForKids': 'True', 'NoiseLevel': \"u'avera...</td>\n",
       "      <td>Sushi Bars, Restaurants, Japanese</td>\n",
       "      <td>{'Monday': '17:30-21:30', 'Wednesday': '17:30-...</td>\n",
       "    </tr>\n",
       "    <tr>\n",
       "      <th>2</th>\n",
       "      <td>1Dfx3zM-rW4n-31KeC8sJg</td>\n",
       "      <td>Taco Bell</td>\n",
       "      <td>2450 E Indian School Rd</td>\n",
       "      <td>Phoenix</td>\n",
       "      <td>AZ</td>\n",
       "      <td>3.0</td>\n",
       "      <td>18</td>\n",
       "      <td>1</td>\n",
       "      <td>{'RestaurantsTakeOut': 'True', 'BusinessParkin...</td>\n",
       "      <td>Restaurants, Breakfast &amp; Brunch, Mexican, Taco...</td>\n",
       "      <td>{'Monday': '7:0-0:0', 'Tuesday': '7:0-0:0', 'W...</td>\n",
       "    </tr>\n",
       "    <tr>\n",
       "      <th>3</th>\n",
       "      <td>fweCYi8FmbJXHCqLnwuk8w</td>\n",
       "      <td>Marco's Pizza</td>\n",
       "      <td>5981 Andrews Rd</td>\n",
       "      <td>Mentor-on-the-Lake</td>\n",
       "      <td>OH</td>\n",
       "      <td>4.0</td>\n",
       "      <td>16</td>\n",
       "      <td>1</td>\n",
       "      <td>{'RestaurantsPriceRange2': '2', 'BusinessAccep...</td>\n",
       "      <td>Italian, Restaurants, Pizza, Chicken Wings</td>\n",
       "      <td>{'Monday': '10:0-0:0', 'Tuesday': '10:0-0:0', ...</td>\n",
       "    </tr>\n",
       "    <tr>\n",
       "      <th>4</th>\n",
       "      <td>PZ-LZzSlhSe9utkQYU8pFg</td>\n",
       "      <td>Carluccio's Tivoli Gardens</td>\n",
       "      <td>1775 E Tropicana Ave, Ste 29</td>\n",
       "      <td>Las Vegas</td>\n",
       "      <td>NV</td>\n",
       "      <td>4.0</td>\n",
       "      <td>40</td>\n",
       "      <td>0</td>\n",
       "      <td>{'OutdoorSeating': 'False', 'BusinessAcceptsCr...</td>\n",
       "      <td>Restaurants, Italian</td>\n",
       "      <td>NaN</td>\n",
       "    </tr>\n",
       "  </tbody>\n",
       "</table>\n",
       "</div>"
      ],
      "text/plain": [
       "              business_id                         name  \\\n",
       "0  QXAEGFB4oINsVuTFxEYKFQ   Emerald Chinese Restaurant   \n",
       "1  gnKjwL_1w79qoiV3IC_xQQ  Musashi Japanese Restaurant   \n",
       "2  1Dfx3zM-rW4n-31KeC8sJg                    Taco Bell   \n",
       "3  fweCYi8FmbJXHCqLnwuk8w                Marco's Pizza   \n",
       "4  PZ-LZzSlhSe9utkQYU8pFg   Carluccio's Tivoli Gardens   \n",
       "\n",
       "                        address                city state  stars  \\\n",
       "0          30 Eglinton Avenue W         Mississauga    ON    2.5   \n",
       "1     10110 Johnston Rd, Ste 15           Charlotte    NC    4.0   \n",
       "2       2450 E Indian School Rd             Phoenix    AZ    3.0   \n",
       "3               5981 Andrews Rd  Mentor-on-the-Lake    OH    4.0   \n",
       "4  1775 E Tropicana Ave, Ste 29           Las Vegas    NV    4.0   \n",
       "\n",
       "   review_count  is_open                                         attributes  \\\n",
       "0           128        1  {'RestaurantsReservations': 'True', 'GoodForMe...   \n",
       "1           170        1  {'GoodForKids': 'True', 'NoiseLevel': \"u'avera...   \n",
       "2            18        1  {'RestaurantsTakeOut': 'True', 'BusinessParkin...   \n",
       "3            16        1  {'RestaurantsPriceRange2': '2', 'BusinessAccep...   \n",
       "4            40        0  {'OutdoorSeating': 'False', 'BusinessAcceptsCr...   \n",
       "\n",
       "                                          categories  \\\n",
       "0  Specialty Food, Restaurants, Dim Sum, Imported...   \n",
       "1                  Sushi Bars, Restaurants, Japanese   \n",
       "2  Restaurants, Breakfast & Brunch, Mexican, Taco...   \n",
       "3         Italian, Restaurants, Pizza, Chicken Wings   \n",
       "4                               Restaurants, Italian   \n",
       "\n",
       "                                               hours  \n",
       "0  {'Monday': '9:0-0:0', 'Tuesday': '9:0-0:0', 'W...  \n",
       "1  {'Monday': '17:30-21:30', 'Wednesday': '17:30-...  \n",
       "2  {'Monday': '7:0-0:0', 'Tuesday': '7:0-0:0', 'W...  \n",
       "3  {'Monday': '10:0-0:0', 'Tuesday': '10:0-0:0', ...  \n",
       "4                                                NaN  "
      ]
     },
     "execution_count": 10,
     "metadata": {},
     "output_type": "execute_result"
    }
   ],
   "source": [
    "# restaurant dataset\n",
    "\n",
    "rest_biz_csvTOpd.head()"
   ]
  },
  {
   "cell_type": "code",
   "execution_count": 11,
   "metadata": {},
   "outputs": [
    {
     "data": {
      "text/html": [
       "<div>\n",
       "<style scoped>\n",
       "    .dataframe tbody tr th:only-of-type {\n",
       "        vertical-align: middle;\n",
       "    }\n",
       "\n",
       "    .dataframe tbody tr th {\n",
       "        vertical-align: top;\n",
       "    }\n",
       "\n",
       "    .dataframe thead th {\n",
       "        text-align: right;\n",
       "    }\n",
       "</style>\n",
       "<table border=\"1\" class=\"dataframe\">\n",
       "  <thead>\n",
       "    <tr style=\"text-align: right;\">\n",
       "      <th></th>\n",
       "      <th>review_id</th>\n",
       "      <th>user_id</th>\n",
       "      <th>business_id</th>\n",
       "      <th>stars</th>\n",
       "      <th>text</th>\n",
       "    </tr>\n",
       "  </thead>\n",
       "  <tbody>\n",
       "    <tr>\n",
       "      <th>0</th>\n",
       "      <td>yi0R0Ugj_xUx_Nek0-_Qig</td>\n",
       "      <td>dacAIZ6fTM6mqwW5uxkskg</td>\n",
       "      <td>ikCg8xy5JIg_NGPx-MSIDA</td>\n",
       "      <td>5.0</td>\n",
       "      <td>Went in for a lunch. Steak sandwich was delici...</td>\n",
       "    </tr>\n",
       "    <tr>\n",
       "      <th>1</th>\n",
       "      <td>fdiNeiN_hoCxCMy2wTRW9g</td>\n",
       "      <td>w31MKYsNFMrjhWxxAb5wIw</td>\n",
       "      <td>eU_713ec6fTGNO4BegRaww</td>\n",
       "      <td>4.0</td>\n",
       "      <td>I'll be the first to admit that I was not exci...</td>\n",
       "    </tr>\n",
       "    <tr>\n",
       "      <th>2</th>\n",
       "      <td>G7XHMxG0bx9oBJNECG4IFg</td>\n",
       "      <td>jlu4CztcSxrKx56ba1a5AQ</td>\n",
       "      <td>3fw2X5bZYeW9xCz_zGhOHg</td>\n",
       "      <td>3.0</td>\n",
       "      <td>Tracy dessert had a big name in Hong Kong and ...</td>\n",
       "    </tr>\n",
       "    <tr>\n",
       "      <th>3</th>\n",
       "      <td>8e9HxxLjjqc9ez5ezzN7iQ</td>\n",
       "      <td>d6xvYpyzcfbF_AZ8vMB7QA</td>\n",
       "      <td>zvO-PJCpNk4fgAVUnExYAA</td>\n",
       "      <td>1.0</td>\n",
       "      <td>This place has gone down hill.  Clearly they h...</td>\n",
       "    </tr>\n",
       "    <tr>\n",
       "      <th>4</th>\n",
       "      <td>kbtscdyz6lvrtGjD1quQTg</td>\n",
       "      <td>FIk4lQQu1eTe2EpzQ4xhBA</td>\n",
       "      <td>8mIrX_LrOnAqWsB5JrOojQ</td>\n",
       "      <td>4.0</td>\n",
       "      <td>Like walking back in time, every Saturday morn...</td>\n",
       "    </tr>\n",
       "  </tbody>\n",
       "</table>\n",
       "</div>"
      ],
      "text/plain": [
       "                review_id                 user_id             business_id  \\\n",
       "0  yi0R0Ugj_xUx_Nek0-_Qig  dacAIZ6fTM6mqwW5uxkskg  ikCg8xy5JIg_NGPx-MSIDA   \n",
       "1  fdiNeiN_hoCxCMy2wTRW9g  w31MKYsNFMrjhWxxAb5wIw  eU_713ec6fTGNO4BegRaww   \n",
       "2  G7XHMxG0bx9oBJNECG4IFg  jlu4CztcSxrKx56ba1a5AQ  3fw2X5bZYeW9xCz_zGhOHg   \n",
       "3  8e9HxxLjjqc9ez5ezzN7iQ  d6xvYpyzcfbF_AZ8vMB7QA  zvO-PJCpNk4fgAVUnExYAA   \n",
       "4  kbtscdyz6lvrtGjD1quQTg  FIk4lQQu1eTe2EpzQ4xhBA  8mIrX_LrOnAqWsB5JrOojQ   \n",
       "\n",
       "   stars                                               text  \n",
       "0    5.0  Went in for a lunch. Steak sandwich was delici...  \n",
       "1    4.0  I'll be the first to admit that I was not exci...  \n",
       "2    3.0  Tracy dessert had a big name in Hong Kong and ...  \n",
       "3    1.0  This place has gone down hill.  Clearly they h...  \n",
       "4    4.0  Like walking back in time, every Saturday morn...  "
      ]
     },
     "execution_count": 11,
     "metadata": {},
     "output_type": "execute_result"
    }
   ],
   "source": [
    "# restaurant reviews dataset\n",
    "\n",
    "rest_review_csvTOpd.head()"
   ]
  },
  {
   "cell_type": "code",
   "execution_count": 12,
   "metadata": {},
   "outputs": [
    {
     "name": "stdout",
     "output_type": "stream",
     "text": [
      "number of unique users: 1148099\n",
      "number of unique restaurants: 59372\n"
     ]
    }
   ],
   "source": [
    "num_users = len(rest_review_csvTOpd['user_id'].unique())\n",
    "print(\"number of unique users:\", num_users)\n",
    "\n",
    "num_rest_review = len(rest_review_csvTOpd['business_id'].unique())\n",
    "print(\"number of unique restaurants:\", num_rest_review)"
   ]
  },
  {
   "cell_type": "markdown",
   "metadata": {},
   "source": [
    "For the KNN Model for item-based filtering, we will need to set up a matrix with restaurants for rows and users by columns, so we would getting a 11480909 x 59371 matrix. Pandas throws an error because this matrix is too large to process, so we will decide to focus the model on recommending restaurants by location, specifically by state. It makes sense too. No use in providing recommendations that are in another state and too far away. \n",
    "\n",
    "Where are most of the restaurants in the dataset located? "
   ]
  },
  {
   "cell_type": "code",
   "execution_count": 13,
   "metadata": {},
   "outputs": [
    {
     "data": {
      "text/plain": [
       "<matplotlib.axes._subplots.AxesSubplot at 0x1a28cdc5c0>"
      ]
     },
     "execution_count": 13,
     "metadata": {},
     "output_type": "execute_result"
    },
    {
     "data": {
      "image/png": "[encoded data removed]",
      "text/plain": [
       "<Figure size 720x504 with 1 Axes>"
      ]
     },
     "metadata": {
      "needs_background": "light"
     },
     "output_type": "display_data"
    }
   ],
   "source": [
    "state_count = pd.DataFrame(rest_biz_csvTOpd.groupby('state').count()['business_id']).sort_values(by='business_id', ascending = True)\n",
    "state_count.plot.barh(figsize = (10, 7))\n"
   ]
  },
  {
   "cell_type": "markdown",
   "metadata": {},
   "source": [
    "We also will remove all states below Wisconson(WI) because they don't have enough restaurants for us to do recommendations. "
   ]
  },
  {
   "cell_type": "code",
   "execution_count": 14,
   "metadata": {},
   "outputs": [],
   "source": [
    "# Getting restaurants id per state\n",
    "on_rest_id = rest_biz_csvTOpd[rest_biz_csvTOpd['state'] == 'ON']['business_id']\n",
    "az_rest_id = rest_biz_csvTOpd[rest_biz_csvTOpd['state'] == 'AZ']['business_id']\n",
    "nv_rest_id = rest_biz_csvTOpd[rest_biz_csvTOpd['state'] == 'NV']['business_id']\n",
    "qc_rest_id = rest_biz_csvTOpd[rest_biz_csvTOpd['state'] == 'QC']['business_id']\n",
    "oh_rest_id = rest_biz_csvTOpd[rest_biz_csvTOpd['state'] == 'OH']['business_id']\n",
    "nc_rest_id = rest_biz_csvTOpd[rest_biz_csvTOpd['state'] == 'NC']['business_id']\n",
    "pa_rest_id = rest_biz_csvTOpd[rest_biz_csvTOpd['state'] == 'PA']['business_id']\n",
    "ab_rest_id = rest_biz_csvTOpd[rest_biz_csvTOpd['state'] == 'AB']['business_id']\n",
    "\n",
    "# Getting data per state\n",
    "on_reviews = rest_review_csvTOpd[rest_review_csvTOpd['business_id'].isin(on_rest_id)]\n",
    "az_reviews = rest_review_csvTOpd[rest_review_csvTOpd['business_id'].isin(az_rest_id)]\n",
    "nv_reviews = rest_review_csvTOpd[rest_review_csvTOpd['business_id'].isin(nv_rest_id)]\n",
    "qc_reviews = rest_review_csvTOpd[rest_review_csvTOpd['business_id'].isin(qc_rest_id)]\n",
    "oh_reviews = rest_review_csvTOpd[rest_review_csvTOpd['business_id'].isin(oh_rest_id)]\n",
    "nc_reviews = rest_review_csvTOpd[rest_review_csvTOpd['business_id'].isin(nc_rest_id)]\n",
    "pa_reviews = rest_review_csvTOpd[rest_review_csvTOpd['business_id'].isin(pa_rest_id)]\n",
    "ab_reviews = rest_review_csvTOpd[rest_review_csvTOpd['business_id'].isin(ab_rest_id)]\n"
   ]
  },
  {
   "cell_type": "markdown",
   "metadata": {},
   "source": [
    "Now that we know what kind of data we are working with, we need to process the data so that it can be put into the KNN model for recommendation. Like mentioned above, we need to convert each state's restaurant data into a no. of restaurants x no. of users sized matrix. KNN algorithm will take the matrix and determines a restaurant's neighbors based off of distance between to other restaurants. "
   ]
  },
  {
   "cell_type": "code",
   "execution_count": 55,
   "metadata": {
    "scrolled": false
   },
   "outputs": [],
   "source": [
    "def KNN_matrix(data):\n",
    "    \"\"\"takes in [state]_reviews dataframe and returns a sparse matrix and a list for business_id\n",
    "    to prepare for KNN model zipped up into one object. Beware of long run time\"\"\"\n",
    "    \n",
    "    matrix = data.pivot_table(index='business_id', columns='user_id', values = 'stars', aggfunc = 'mean').fillna(0)\n",
    "    sparse_matrix = csr_matrix(matrix)\n",
    "    \n",
    "    business_id = list(matrix.index)\n",
    "    business_names = []\n",
    "    for i in business_id:\n",
    "        business_names.append(list(rest_biz_csvTOpd[rest_biz_csvTOpd['business_id'] == i]['name'])[0])\n",
    "        \n",
    "    return zip(sparse_matrix, business_id, business_names)\n",
    "                    \n",
    "pa_sparse = KNN_matrix(pa_reviews)\n",
    "\n",
    "# print(pa_sparse)\n",
    "\n",
    "\n",
    "# pa_reviews.shape\n",
    "# print(az_reviews.shape)\n",
    "# print(len(az_reviews['business_id'].unique()))\n",
    "# print(len(az_reviews['user_id'].unique()))\n",
    "# print(on_reviews.shape)\n",
    "# print(len(on_reviews['business_id'].unique()))\n",
    "# print(len(on_reviews['user_id'].unique()))"
   ]
  },
  {
   "cell_type": "markdown",
   "metadata": {},
   "source": [
    "Now that we have the sparse matrix ready, lets fit a KNN model.\n"
   ]
  },
  {
   "cell_type": "code",
   "execution_count": 16,
   "metadata": {},
   "outputs": [
    {
     "data": {
      "text/plain": [
       "NearestNeighbors(algorithm='auto', leaf_size=30, metric='cosine',\n",
       "                 metric_params=None, n_jobs=None, n_neighbors=10, p=2,\n",
       "                 radius=1.0)"
      ]
     },
     "execution_count": 16,
     "metadata": {},
     "output_type": "execute_result"
    }
   ],
   "source": [
    "knn_model = NearestNeighbors(metric='cosine', n_neighbors = 10)\n",
    "knn_model.fit(pa_sparse)"
   ]
  },
  {
   "cell_type": "code",
   "execution_count": 52,
   "metadata": {},
   "outputs": [
    {
     "name": "stdout",
     "output_type": "stream",
     "text": [
      "['--GM_ORV2cYS-h38DSaCLw', '--ujyvoQlwVoBgMYtADiLA', '-1xCh7Cocn6IwFzhELyohA', '-2dlgoN1ass-zmrE5rqHGw', '-382X_bWhJKPJKP1VfXOmw', '-3rvpkYkYD_N1IP4hSvD0A', '-40RDS4F54qiGiEQUsZaXA', '-7H-oXvCxJzuT42ky6Db0g', '-7PX_FOoCwktlunImRyZdg', '-7teXSpi9nqy58WUd-8yfw', '-8F04F54iDT6VgWPCgybug', '-8ILwSisSrTzcyy_Z0o9oA', '-AtzcXIwEP6yO7rM9CM9ww', '-BuZrOMqgO4OU_UKYSddAg', '-CfqFIH6rxUxJL9gR-k_XA', '-DUQQsE2QvFIuqO5EiChQA', '-Enu_Cc8lJ-yVcRvatf0hw', '-Ewxv_Wc1uQzJQQBeQJWyA', '-FcuxZqsQ0FO35GEXExwjw', '-HLGtKB3XtyawZAuvNoQjQ', '-HgbBv9Yjqv735F9fwCZNg', '-IFq5ULEK4Fl8ZzrArtB5g', '-InU2nAbC9AuS-Um2Cowgw', '-Is6Ney1wmsJAjvDdkaaaQ', '-JjKeyuY8h2gbV1FcpiYcQ', '-Js0NjBhIXdH343IDLeKpA', '-Kw6QNbBBgextJZlhtIq9w', '-LiVt5oFhC-AA4nCH77DjQ', '-Lovf0jkQtvb6Y_WjDn-sw', '-N94ldMGlQw_SHdfm2pi_A', '-O7uy8mcz1UEO-D604dRPw', '-OHcd6mJL90wiQYE1e3gGg', '-ORqiS4L-8pq3dLsUazXTg', '-R2kwt0qMnzwEdAfXPvkXg', '-RQCdTsH5rkG702auLcEqA', '-Rsv3qjpn46VK3pBiJxPxg', '-RxzvvyKBOPOzeTvagqEfg', '-SChP5zffbKeXWsJ6Rz5ig', '-SX8276QNjtSMu3ZIIcpLA', '-SYMuJ9jfIMkXUMYl_RFfw', '-S_Ln95liXJAccWi7ItUGw', '-Seesl064xCp_FRlG35dbQ', '-U_0rpIpGpOi-tokc91HUQ', '-UjCvAsvBOr19y8lqPueiQ', '-WCGJuDoq4yAm58DQpl14Q', '-WVF5DKZeEWlMK8Cucto-A', '-Z83meSvAH4vJ6dfO8hjUw', '-ZaQKvtRGQA-4FoUE_1s4w', '-_xSWL2yxziy9aDHH6swBw', '-cKjQJsU73tLKFA4unJbww', '-d8gt_XhhUQh2CxlWJe-xw', '-fTO9qRo70bblJmbNxOnag', '-gP02HuP8GyZHa4R3omLAg', '-httBl6DSZiUtDX4SQWtag', '-i3pCgQi_Y9NiSSWs6G7bw', '-igpUhnA1b5iUK6rfAtuPw', '-j0CbYvlwuJ3Tfx__X38gA', '-k80VNg0yqYQakKZILwViQ', '-kmPZ1i8fJBCAlVcTWqAeA', '-m3VtLuy5sEzpJoOU5zYUg', '-nHkhiuerqmfBG3v2v9O-g', '-qSmAF1bILHpcuqsQMDTgg', '-s3nJbZRXLMSpwud22iIPA', '-sCaUNqEfFOYwtu8WCw5Wg', '-syU1HD-Iw_GEH8P5l03_A', '-vEiA-QfE100luUOaJb00Q', '-wXyBph4d0IQlQrS8H1rDw', '-wn8LcDQGOuMzU4RAC4VxQ', '-x2NjuDTiphKwCixSrv_SQ', '-zu_7iWh5CnV9kEQyCDAQQ', '0-kqF27U3eBsSDtlm986Ww', '00pYR20Rbt8c1r86UNlBJg', '01I5pFCvJrrGuY3A-KoNIA', '04kZ5CSh6oKhI5huU5bLdg', '09E4gjiUN_nSqaTprCLD9A', '09pf_DnQV5Y5y2reoIPXlw', '0AoLth4u_V4mOx8Az_AIYQ', '0DnaXWgViDVmll2w1g3Kig', '0EcCWB9_VxTOoAh_1Wr_RQ', '0EyRe-VkW8gYxxZ7NCQXeQ', '0FPlueS5F6l5xIf8Zw8iEQ', '0FSH-6mRF7DKjeI98snxrA', '0GYM_KIMzwH_CeL6S279Pw', '0Ge4hEQ8HYnrkfm8UHj2BQ', '0HaSwss_agyMiGTT9kIX6g', '0IfrcGbFzQvn9w8bl9GKDg', '0IhSOm9Vm1JkvRO6XyElGg', '0It4d0eFPJ5UnQqe6g2Z3w', '0MR1J0U8uOXtvZlHV-johQ', '0NoHJtug9xefI2OnsANaMA', '0OkfU0vDBprsIEd5hWuhAQ', '0PCBt3JKD6IooicImKNBzA', '0PJQ-WR-S286xH6m2RWeQw', '0PVxodALQu-soL5J8bjerQ', '0PtNw7RgF4JFcPyP-LqZ_Q', '0Q0v-eDzWtaySg7cbVi0yg', '0QThBvFYadl5_t4P_rKd8Q', '0SySGK7xWEHSo4ZLvD1C0A', '0VDcJitRHh5uJnkjymu_6A', '0VUbtKyg-_2Y4T1ct2KUNQ', '0Wy4gw8krao9nGq-sHWFSQ', '0YA3RpY5KXcezPXcjdfOGQ', '0Z4__YJxeGnYcbx05Mfw_w', '0aC1_rN0scdHkAy_dDSMWA', '0aT7sqTIIv5zMApt4p4VWQ', '0ajTatYvxoFd7-C22r6L4w', '0bjFYstj8USMzEV4ZQldjA', '0dRqzEG9-2QNnvJtdpdDZw', '0fkjHTNaMCT4FjZqaa4euA', '0h4RFNScYBmtNhXAdz_UBA', '0iWPGjWRBrLasX55aJRdOg', '0pi1DQ3N8gC6jhdHfDWEMA', '0r1Ow0HYAAjU7oM_2ePN6g', '0tn7GWwao_BhZJeTWkwcQA', '0tsl6aGhI-4nJgeVRfC3HQ', '0u2xwNy07-z3gv0tpuJX2Q', '0v7DIprUj2KASqg5PwqhUg', '0vAHRd4Xlsdx3fHV8JCRBQ', '0vwquUvc7JupcCMjYEiKWQ', '0xeS1Vpz4bQPlLQxeGGUSQ', '0xxW5PmeFV1MWkvDwU7XaQ', '0yFe_kQiynisvahzVuq6Mw', '10NSeX03xC2th8-HGFq3sw', '15RvAvPxUBl3HmnGMJdtTQ', '165GRJEJ-Jfrzesw7l5oFA', '17DImn_vPnuwU9hhRFXlUA', '1Bc4KYox4Fux-aLV4OfFnA', '1FDhJNAuPXRGbMi9x0muGA', '1FodVSAxoKqEKYQc3QHgvg', '1FqQ0L--8sviAKNR97K5UA', '1GaooxqCWHzulI2Ub3CXEw', '1HfkEkNhI6XJXkgrCTBKpw', '1HtxtLaFgTeerAuF9Q5jRQ', '1JbrO_ZoY6a8R3llJHVzUQ', '1Kg2YIYlNjzYb8EEgvYUtA', '1LUaZFVMEjodl1tbAGF3sQ', '1M6tA3TqxcpptHW0_hP9Kw', '1MQQZ2kTiBbN3_hpmGdavw', '1MrJJ9tyNyfFrxaNZ67xFg', '1OrJ5VR2qYarPQfSRi4kOw', '1QflFDnReuQW7CoXGL9oUA', '1R0SfOQnSknw4wzrZGaFVw', '1RECFIhw6tdiP4l3smu6Kw', '1RHY4K3BD22FK7Cfftn8Mg', '1RKD5kqYzFcJGor2g6dBMw', '1SJk2iDxDNLaCWXC-S-GPA', '1TGti2jN5PstqlHelBBfNw', '1UrXBPneHKLgmr-OYZUHmA', '1V3fj_J0242-2PZJA6NYSg', '1VABify4KTXMvGZ4qcUt_g', '1VUQPwwWU_i9PATyM8jrtg', '1Vbt1GsmtQm2dkC4A2L_-g', '1XEFVSf5zdBFHRScvmU_zQ', '1XdWZTPXPRRaE0SsEbHcQQ', '1YC7AbQMlNb5mLUlwwaa3w', '1_Dg-GguWatioW4mvFQKQA', '1cEtxHqi2aYNmu949sK6Gg', '1cGyzWtfOoDiE8V0OR85yA', '1dYpffQi3qdh-dkXF4LZBw', '1dhPgc7E7IzzpxjHM2LphQ', '1eJ7yIzSAjwC145fnHD5Xw', '1fMXFNFwZEtTy9p8sEmiNw', '1flOAXtu0-0YEvgJg1r3VQ', '1h8aXynUKXUJM6Q4ZXcwyQ', '1hCKJqPC9uLIXavNKVudAg', '1hDSdypYCwmZbmKY6MECxA', '1hqOjPxgH8IXE4bNq6DFiw', '1m4zUU1cioq1tKLiLvlDgA', '1mOL0ZVy622lo7hc0f1vXQ', '1n-HH6BG913cKQ1tX3wQEg', '1n8bvxpBoUOAJsC5csuV3Q', '1nlWzyHiSXXFVC0ISKjryw', '1o3N4PiPI-fHnJnh-U85iw', '1ofeAP5vdjnOSeO5S2pzSg', '1pSulg40hoGWWTMivqoaew', '1qYCUtw6_ehv7u_FxiE8IA', '1qmDaCGJTam1--pEIuvkbg', '1qxmO1zpYegBxV8XDLE8ZA', '1rZrU5iXF7W-Mq7vPpyY2A', '1sZRrH4lZwUzeCJabZEBQQ', '1tTC8S4d1gbs9HLGbSmDww', '1uH4zHOUSzaWFzWqsVsQlQ', '1wLqGlSCzkBCmgKSVX9EwQ', '1xEFOt8ArF0k4cpqWUk9gg', '1yQvJ-By1zO7HzSYhSlz1w', '1yjkuM180FSUxo__fR8WAw', '1zl7-8t8jQ4NX29qRp8soA', '2-Y-kNEbrP_m1U9Hc2xH7A', '2-_UPP_gKEsx2F8BXZf-PA', '21HC9HeDaWy3vBHb9AaGGA', '22lLsW2-h6enhfaJBknCMg', '23gakZ_NlN3K0SqOBybwug', '24ZF_CY04CplqUaOu7U_aQ', '24hc1g8a7besgI0tMb3v7w', '25CzbDgm1MsT31NhA6KYog', '26gv3c-XzkuC6oKW7YNpdg', '2706goA6nyUtHbOrPoATCw', '27m3lsK3LpZm5XeGM4oVNw', '28UWP-8hZ_-6klybRdzqEQ', '2A9gJkmWbBVoh6kK0jDlxA', '2CNCcHA9txth664ALX1wvA', '2ERnU_ihjdwusbdlXSf3gg', '2EhBiUnUTl_H2s4DXdKCTg', '2Ezp_HYCIVE-h7hpBBvtxw', '2GDZzcl2Jdn8186EEOTrCg', '2GtsN4VziQDzDK5YGToSqg', '2JYszoQKgJj6pPbaN7cLwQ', '2KrRu2odf_53L90UQLKVvA', '2LVuwl-eH-8PYikyFmqcTQ', '2N6rQXypsq9P8Aiw62YzJQ', '2NLyAZne2fH5zTHSBin92A', '2PBPh8LTwt_mXP0GUYa9NQ', '2RUfgq0oH5QOYENT6xzO4A', '2To5KDQepjSUpdA5oPPRog', '2UCXCbv7qaO3d8FfQd4Ing', '2VRVAhzefxIqjzbQ21LdHg', '2Vf1iEMIzHH5NPqOlrDkpw', '2VnPnlU4pH-3TyFf436Wzg', '2X3gsHAStlvhAQDOvOxEoQ', '2XZ4g_ps_H55CmxFs4Pu8A', '2Xbu_vMtwx9yvSlMKJB8yQ', '2YA_V5NMOQ3vBwyMKtQ95Q', '2YOVVgyI_Ysnjuzo6gOXBw', '2Z6-egGY-_W_-GLy3df7-w', '2_7lYF6P2cYKnSiPhhVyPQ', '2_fqvnKSHvP_taWGlDynIQ', '2aWEAcLZyKJPvpGAOCnVaA', '2anxB5OiLo_-eFh_o2j-rw', '2bWvHWLHRnMgEufaRuggeg', '2cF-sCqhCGzVMJULhNqjBQ', '2cfzQGANxuIGcCUrlwnV7w', '2d9ABtvEBcGCcN6B13Fy1w', '2d9yZ11uVa83OEQWxe4vlQ', '2dNjePYVp2AVei4ZoSDaaA', '2hOU75OoYSid_aMUEvjhVQ', '2ijUbDLJRuVtELXdFFzzyw', '2ipAUIW4kVsE6nl4aREgag', '2jqUYcKMYZXnpxNTkORJgQ', '2jwpM5qhFCf8rpW1LeG7lA', '2kE_CUc6tUR8FU5bjAO_Ag', '2ktZ89dpmOAhBcECa6Ml2g', '2p_xWNAGm_5sVvr_Vs6mlw', '2rcH1VUK3_aAA-tT82vWmg', '2s5M8rzI7fGSRbtgRc-erA', '2v3uI97JPebCDaTNy8jdwg', '2wCzZUwcqRRBrAtBBYxnog', '2wGkiIpZ_ho3AchbotRQfw', '2wU2cdWiKegJujTliMJx0w', '2xBIQyPr3Bp5YPgLScMSgg', '2xQexEwq1WQoNeSTyrUTEw', '309erhwcN5ZkrbRD8CzktA', '30Bvo-tEfvh2KOTLQg6FZw', '30ibZa6RLsrdhmCUeoS7tQ', '30uxz3C85N_QnpDoyz0ytw', '35JjuQ6nsSNshtt5hyLUCQ', '37PlKoT60Qfo_G8V2NRfCQ', '384vp5K1dC8Ten-1GBKOug', '38aN0fB_zHtkw1kb3lSj8g', '3Cbl3_Lm1ahwxbBvq--rFg', '3D6Uck9QSdxZKFstf5DGlg', '3DQKaQN2wjWTWUN0EBwkzw', '3F3At4YBSHEnG7uMinQPnQ', '3GuqcEYaF1d1WXcwOX5xPw', '3H1I31BQeHO017Sg92Cbow', '3JyqPFOCUHFczVSfiw518w', '3Kcq4_6RAhltAO6ZVgVygQ', '3LuQTKKb4DgS4nqL3UFyig', '3NMrUGyQ9tTaDNDS2H2CZQ', '3OmXBXH5pQ0esfccEqZP-A', '3PDQyGDyNitVsFj6_dYtcA', '3R28YY7Jw_EJs0-X8qDArw', '3RWJGTSIRvGmIbwvMqAOuw', '3Sm8GncbpIwnCE2M55TIbA', '3TrY8CpsnvnTTYigx2R4yg', '3YWxVDgKctiVBCSXFEuWcg', '3ZcxnR9YkDVRqqkDJMRWBg', '3ZmGpETmJpUvEa7lVLn2kA', '3_tWe-D5if9y8RrmMrN7AQ', '3b2R0n1lyUSBB-itvB8Caw', '3cbsPfoUUrysf-M8FI_0IA', '3cwgVNwiVX3gVw2tsgIaWw', '3dyO9LrC9x-qJ2ZpbL9FZA', '3eVnehvy3QO7z8ANwawZ5w', '3ed7T7HvUJUnPf6jDmys9A', '3eexaenBq8HvkTiYjVl3Pg', '3eivq15AzsACPuA5AyZUTA', '3fRRzgNdmGS4F7FiSBtRKw', '3frFidAcPVYAFB2RxxkIdA', '3fx50m708Tl3xJmSoDpRWQ', '3gkqdLgL1Ca0hy1YRsA2Gw', '3gnQUW3pzKE32RenMfuf9A', '3kBa6YUwQP4A8CSt_EApIQ', '3mbexLtpZcopAsgWmrJjVg', '3nDxqHvf7L5AdEAAeMaQAg', '3nR6JE3hD-D-Fhzr10_k7g', '3n_s_8CndMK7jfZsPK2INg', '3nmHVtQbqFccjr-nBholOA', '3qrfY-XCUKVyrO5T6GskqA', '3rMAVqvhL8xxaWbquAzYLQ', '3rf5VUEu1jlU2-EdiRmIBw', '3sIEwr4LPEruEt2q8ImypQ', '3s_Imio3mrin_Y8RtIwMxQ', '3uP7K1VgnSdEieDoH00A4g', '3ukqpcOyqv-KYLULRtEYEw', '3v8vcGGeJRZXTGxpeyq0gA', '3xqwfJoPtvk7zioX82L5iA', '3yOAOV1ZlrhSWgANFWDWDA', '3ybsKWA03f16v4OPC0jApg', '3zPlIl3EtYAAV1EG0kPg4g', '3zR3Uj23aXY1V3L2qt1t6w', '3zk3cCB58m122cQI_LnvIA', '4-QlcyLqRc8To15oOHUjkg', '41LxL4cESUpvenFmcdwm0w', '41f1utKc483Fw4mP4AFfJA', '43BhNqFWiJmBs8KkPgJ_KQ', '44cJ95tT0rr08d0e5_wyMg', '45wDLpgW2BFrCRqlf19Efg', '462vn0tiPlmWRcP71yYOTQ', '48jrpdXh98gzP5CxPwQyvw', '48nQpsNiVcnTR0nXxsg7yA', '497iuIdzSZqEVZ_iTnp-Jg', '49sbCG7F2jvqJsfG6-N8Rw', '49taxSIx7Gwdjnr10QrnUw', '4AxW2xYpZker9biX6Bg38Q', '4C2anQCXmR88Kz0Y3FO7Ww', '4CE_jyoNwSYkorer13G5OQ', '4CXnWcTTgwBkkcQT6_6ppA', '4DQ4lTgPz1oaaPLxRtkFQQ', '4GUXkFjJL5SEZK-qtDZSKA', '4HmMIJHY8lCdINvrxyyvrQ', '4HpR1N0-wo61NbRVxvFeXQ', '4JkIFC5MC7LPzu4v3Pay6w', '4KBLVr3PYilTUUWj3DWwVw', '4LLNNwkveVoH1m6z_9jLGQ', '4LiieRb-_r9pUCM0mKS9XA', '4NkEWTs76FplOihc-qyBZQ', '4OlIwqXEEXr6YvE3Nz2tTw', '4Oqq6x7TA5TDvwwnckvCGg', '4OzzW_Zw9g_rjvPlji466Q', '4QC-P82ydY2x2HlXzVVJ0g', '4R5P-H4bfPjkocOY1W5SZA', '4RJ1TwPI9rHp0Vcc_eZCiQ', '4VIAadQ0yZGss1vNHWUk9g', '4_43zqNDdn7icwxlgHgL8g', '4c19YWOjPmbFUK4-V2GEvg', '4cHJ1PfvCOsXRHuhzOlnLw', '4f1zK0LmCcpB-qad0KdlxQ', '4ggOHxvlxnF0a00hDDVbnQ', '4hJHSMKyKJRl50k9EM6jkA', '4hxptOMsA-c4XAlFBwl2Ww', '4jNjYtxZ9tPOx6cl9SUIOA', '4jswtizEiT3-ZMauIzWXxg', '4kSPF50JzRQRfOxTViuiCg', '4l56EXyCWwPlPXcX9qq-jw', '4m7JeLnlv69jgC2nenPiPQ', '4mYS-4UOjTKgsf0tX1_IkQ', '4mpSNvmyG89Uqy2ahP4JMQ', '4o2DEgSgY2sDZ16g6U03-w', '4revUiH2pE65iffL13LNMQ', '4sRJvmKh43AqMRrjdwEdwA', '4svZRamnXS5aFatqggQezA', '4t8o25f4-fCt3cVzzNM1-w', '4tJiL2mHKO-erM6xoZji9Q', '5-RN8e3qsBfYSFh08nqvbQ', '5-wiVRTpKwhz2wKxNS-JzA', '50KEvLtQl9Vv4YE1vs681Q', '50UjA4nDdqypN-hBUOAPmQ', '50pVtN734QXvtRh6IDiapw', '53-Y3Jw20QV6TeDkRjSyJQ', '55LdBLn7CXbWwhD06Zn_0Q', '56WBXPORRBFrQVopB0WSsQ', '56worzbzO-fnU-0WDuabQg', '575BoZY8tDPcfSRcdsUNLw', '58Io3pVWsT-RQxGgcYb-vQ', '58oVEzvF6EnOmvVkXYFkTg', '59h0SyMyfMoQ988sEsjfEQ', '5CjdVHY504ccwZ2n3uyPOA', '5E37qENVklkwAMHmIwc_IA', '5G-ulG_g_MpcIYlNzaCMmA', '5G9aIrRiCD4TZCC5j2D39A', '5H1gvB-TB_sHWasXdS64Uw', '5HjmnWOtBYAYW-jjdZ3aKA', '5It12biyGxe2Dz6kkf7wGQ', '5JpT-YazYAR1V8wRk4tV6g', '5MXNeLctex2NmVZHnSvIvg', '5OV1bavavdsYyfeBRNiOeA', '5Oh4E8lTlAHzs4hrjsLFOA', '5Pj-V2zrhMCapQ1NeP8j8g', '5REYrZfsX3m4E3FTwovp5Q', '5RVbdMA1oVz7GCOIwn1Z3Q', '5Rga-U1cPfKHCFAPRg7FOw', '5S8KaaAIjqo2bJcVlMNW5w', '5TlkaYNie2xjv7nXW12Svg', '5U6eSspKyHyaT7jAYpgWTw', '5VA4XYx2lbA2RTe9xuLZUw', '5VCc2OFaSiogGBfEn35GGg', '5VLwQAIheQwmpusFa-tC6w', '5WMIvoMx3l1vn1uJ3HZB6Q', '5X1stJTur_paJFZ9TTuNIw', '5Y18eps2VRmnXaBgzoKW_A', '5ajN6YAEDyrX52UU2AKvbQ', '5b8x_kMnx_r_1_UOyD_poQ', '5bF1zC3aEqiwYEkkdcWxKQ', '5cWPgytHCuPq0poBz7r5sw', '5crOt_2vpHfFeGOrEeROQA', '5dFz332M4vPK9k5gbx90aQ', '5eKk8dA1QtKaQr_5i_SCRw', '5fCrdm9cVd8AphdRQcZLeg', '5fmhGouEy_7WLloRyXRyUg', '5fyROfD0I6Xd0pTqoOcL2A', '5g0owkWApl_rgDl7D98Xow', '5gXk0hdWrnJ-4hwTL5cIcg', '5ggluCpQ25P0Ma_w2cBDEA', '5h7ra0kJKswSZEzbFSIpaw', '5idHlOd78PQH93RWIM6KYA', '5jSwodZ2cLIgD0SLGXYbeg', '5k7HbIAamo1PG0uIYALuRQ', '5kA4hmzNNWGGrwvoiGnIrg', '5kUA_k-ua1wO68jZ1Yo74Q', '5kYvHKRLEyYXqLkiY9OrOw', '5lMgsMFb1hAmP6YTCzBAcw', '5mMcFcZGdktTF8Qfh1u02A', '5miOOTlAtDJQtTwuQXgYxw', '5nMvlKW5n2-O0tT44DYnDQ', '5oA6zlmJ4jQREDH6dNCq6w', '5oc3Jva4wWS4O44a-0Jd8Q', '5p38fkiNeNeCmunt6HlX-A', '5p60nXyjQruKvEZix6ahVQ', '5prbSoTRV-rhVzNdcUbNRg', '5q_zOkd2X8lU775IoUnxBQ', '5qtc1s-TKdgzPccKwY4SRw', '5wr_UtUUdF8L2UlaD1DhNQ', '5xv0xjcRUzP-Zb6CKBOceQ', '5z_9_D5a-tgkmPUps7Utow', '5zegjfIWCR83scbyd_VT5w', '60z9ITTVJn1QnLnb8tyTQw', '62b0uHo9uaSsoOMQFG55jg', '63iOXcDVSr8Jm0C8mjzo6g', '64Pj9JV8jPOizCKpFI7Y2g', '653_WP4afW32ihnprQmSjQ', '66D9bO-p8FG01OfmfX14LA', '66Y5ExfpgdEFIDqXSQeyiQ', '68s6PZRs6bQ9Nqtppdzpuw', '69RyJsThRTlyuyVbMexYDw', '69TTOqH18qztsroIii4e6A', '6AV2oHINgc7LGNlJlqAXUA', '6C6GRESqx2bDxgMHN7LUXg', '6CjVFTO7F-q8BP7oQKB_9g', '6EzE_0QykzrUHHSMcCL7vQ', '6HQDB-FQlloN7p8MHqSveQ', '6IZuuJdMqjNVTvOVRxoJ-Q', '6LTV9xxwSlrUzFGWx1A8EQ', '6MAxxiW4ypEG4XtCyp9U7A', '6OLwyulRuqgghzYBa2TabQ', '6OV-xbmgjdXUZ80BdjXfJQ', '6ObhHav156dwof2qHvUj3g', '6PaLW1K478xyePOxUI56vg', '6RbCJLiwNYwS6ab9vzD_zg', '6RmdqLK1H5aodAA8t7Yl2A', '6U5QlK84UmPUgoJAwAcL9Q', '6Uv15dNmIxtPMB_1O2O1vA', '6V8D6uCQ-ChFap59Fc-ZoA', '6VFWCI_JmkATlXCP8uZ26A', '6VWmXeUDmMvVhb8zqWti-w', '6VsoOWTeIWmOxMp2Mect3A', '6WU_JVpPPnbAfBvMcRoPuw', '6_2fCtQLEVXJgbKLnTZaXg', '6_I6OKHIGpLuBdvnqtDuog', '6a4-SPP4QJbJuHoMhPKnVQ', '6b5RLz7szHcSTGKjvKWR_w', '6bR_7l9IduBaglZJbqLFWg', '6dDItJbFIwYCmoLZF3iTcg', '6eBYh0NQ80cCAmC4ajlKuQ', '6fQXFkkw2BUARDa0EzsGnA', '6hKY8sj-ikAQdzrkrBcvuQ', '6hLFmFmDKO39b9qsyeVx-A', '6ijZO9TWdl6lTLqe5G5XWA', '6jt3D5qCzlcGSdHZAeczxA', '6nY8KnhX75RM9mppJryu5Q', '6pKR-h3KN7AwgGOOYBbE2A', '6qAChWfCZVDvXNtcyhze-g', '6sqfAMlX68kusvE_FsIr-w', '6urPcMO1PMEMhaC0ToNj1A', '6wE8dDtLMrtEa3Pz7MWQMw', '6yGSXuQdqsLiOZkOmd1Jsg', '6yOvfTHmxFJtQQKLjJ4WqA', '6zm33qiJAMtjMSXGlfIFKA', '7-Wlpm30PGCBIZtH2rOlew', '71ONxJtmDNDiJAtYHK-0RA', '729grSa1Wsn-hfv7D5uOxg', '72Q-Gu4rye0kEMWuw7P2oQ', '72s7cTvPgI_meydNhX-JMA', '749lGtWM9PsrWonlVY4W2w', '74O-ZufCco3hBcMQc3Vf8Q', '74gDxr6rs_8tUTcS1vkr0Q', '74wRr6PP6lbaL1YzUcYGAA', '75azemjvdMXjzzWp-fZDTA', '766an49Zcv1u6IR2jCx2SA', '77N3luh2YzfJFJGFIfqqbw', '78g3rIFPysoo2SockVvi6A', '78jHxNL8wHMSq_j8KF9exA', '78zibwl7zb6sekh4bG8g8g', '795wIi2-x9RfndhVo0byaA', '79QqVtTRgP1t5IwpLlwiQg', '7A6mfqSfG3AG3WZcr45m-Q', '7ADjU1ZmRfUeMebjbYU3kw', '7Av7uSgowKNGQtnxWxcKxg', '7B-xM_3t9NKebmkEodw3CQ', '7CJfrkVqwq9mJqC5RRT3Bw', '7FNxzsZp3cUnxbxXFmZslQ', '7FxdbDj8smpkpmmgyojIWw', '7GvOhqdl1EeSnvWQ0NH9mQ', '7HE4yPFbyimzEtVnB_nvzA', '7I_xWHdCaH-CtZLQGkhsjg', '7Ihurc3XdgxuZU47L2t-zg', '7KB_fvSCGJQfq0rFl4_ecg', '7KUbrldK58sIV1K43p5a2w', '7Lgle1Ue5f8TT64w3drPag', '7LkgfuhLVeQZ4qHHq86JKQ', '7LlND5b0bjWylNBNQ-oZMA', '7M1E9DZ4dL-x1AjiumdXgA', '7MltaA4C_wYJ72JHCOS4zQ', '7NhLscBs-Cj2DfPyVdGrqg', '7Ny6x4wX1JJLqdVeKQ1JYg', '7Nz_04fXn8L-u5L6hyLGvQ', '7OmKrIbaIn_Dt9C1HInnVw', '7PRse3yCQbEprAj1DWrEQQ', '7QA9AjMvylQLMButvmoqnA', '7Q_s1O2Zu9N2DqQ1CL8LUg', '7Qpn2DvgIUpOJQdI4DXETQ', '7RkcQem9jJFxvVU5TSJMdw', '7SLdPD6ve1hhrrN_sMH7Fw', '7Sr941ps7tw1Do5Eks7w-g', '7TDAgfGK5duI3FoEFNTStg', '7TMcUzNqnUV5Bfwni800HQ', '7U73RqIg6JA0WThxWUV3uA', '7ULRdJfVo2-Og5ZoGOECFg', '7WAeeunp2p8sSq44_TMxtA', '7WHwaWg5uW3oWsEXLzQ25w', '7YLvFqyFkIZkj5l6tnbqrw', '7_h1D46AgX2YqZ9aKmx-Ag', '7_vGbkiXM_eyVtIxmc0rFQ', '7aZf5c1UNotq4MabBXMZLA', '7bSE9GOvftLyvwvyz9XJoA', '7cbi8zbO9vguU131QO90rg', '7dD33tgzQ4S1vfd21dv5Eg', '7ddnq3YQSKguGK15etqGLQ', '7ds1oR4-B1o7YduD_gfkZw', '7g-r_uS61rNomPlOKSUkAA', '7hDLmP8WRdIpb5Bqzv1nwQ', '7hiJOyqQ14u6IkYQ40SQUg', '7hlICFMky5fPFxeYRgg__w', '7j4JCwpULz9oYb2eQb2dNg', '7jAkIb39KKKvbAo5dc6ZgA', '7l-CCyNnvT86GMR5EtYjog', '7l5t7Iw3qauVoSSrM6jm9g', '7lzVV1MgcDb_gIndt0Oryg', '7mOWMhlibS62hedb1m5A3Q', '7mU3l5VjH1IxsXcxBxUblg', '7ndalFukYiEalNeN4eL9vQ', '7odNqxZDSR6ZVgxjp2r39A', '7pgmsGEqV7yawGM4b4fRrw', '7pyBqVHSq9uE3aODO_hhTA', '7rLoG6F6kJYE_gPppl8_5A', '7rO0ET3aQLT_NtFutyZC1w', '7rqpu7hwyFTEBZOZoNv7iA', '7svK0DI4BOP0cqjSww7cZQ', '7ummB6k1hmUgljgrzevM2w', '7wMB3wMbOp0gq3l6nHfOaA', '7wQXbUU2Mwvivg9wmBlrkg', '7waMQSqPcbSSAInazaQPxg', '7xHbnGo4MXFkBm6gYSu_xg', '7xRbOtZUuw7DxOWrHeaanw', '7y2cywuUnroLBFep2wINeQ', '7yZyfWTmhd5_OmZfM3wjEg', '7yjfcioE9qMhrk-zlKu0RQ', '7z2x16M7IuG8KPfMsyVrKA', '7zWoldq0uQV73BjoTM3G5w', '80544c9_y63PfEi9DgjtoA', '80zlpfsStM8emhxzHi2kXA', '815I4_qtNd9Whd5joLZhAQ', '85iB_0J9lCRI7jRtmsAlQA', '85nvKTJSN8byoeGRxzGkug', '87iG_3WiNP_2WLxYm53WeA', '88Mq2edCXyXRtjmY_Vkarg', '88RpvqqXf6TYnkcBHIXlUw', '88wGoNiuZlUxpyeUhwb5hQ', '8995N0iamENbaMr6lKcqUw', '8B1Hi9253IICz8-5Aw5qrw', '8B7A5KqrrbxOlCX66hqfOg', '8CjI8nebSDB5aINJc3dLwA', '8DFecBZD_b4CAVhFLBp9hw', '8FD2hj952ehzFskvnQ9AJw', '8FuzQ8WN5WKpBbyT2wBlYA', '8IetU93EqoUGRVNOt0Q2iA', '8Jub_J2ILU0xYYnsgcd7UQ', '8L8QlR4XJeAblTKCqoDP0A', '8LUKD_9rkJoUIIuT9uiDbA', '8LUM4M_OzTDg_XWn5fiR8A', '8LtLZER8PiJsD8itophWgA', '8MSzI-4KJHpGBLiILkrtVg', '8OfsvJM-TXtybas25dcGUw', '8RJYiN6asLcEWWysZKEyVA', '8RSfnwNKjaGz1VsALAGRrw', '8SCLMB-jS-avkTRDeVKeqg', '8UPbuIL9jVSWkGvC47b2Zw', '8VFjKdMN1pJR7Ze3joXIHA', '8Vjpc7qYmNhc_S-g9bDozw', '8aykSzSqGPYUpMQbO2DPdA', '8c2ObImjXJ9pW0hUccL35A', '8cyyRk-cqecyB1ctnRsR1A', '8dAmtiVtZjiRTmDq9QAW5w', '8edTRAKWTzd0B_sfb8ekeQ', '8fKTbPc5OTcahMAuJD9E1A', '8iAazveHq14cpQBZQPZGwQ', '8iVd6gMWKGGU9SL55B4vjg', '8j_EeEC9dJgiG_2odE2zUA', '8kL_Z36p2HtSe6-lh0naEQ', '8mbKCukydyekK0d4ZHVI0A', '8mcg3eCoh69WqaKKZZF98w', '8mpIro7yAzGIlFZ4oVowBA', '8mx_TpMhpFLdQi_K5aPdOg', '8n13xwvvcuZUylr-y3eNMg', '8n6rB_miqJnUx6fMrweY_Q', '8nLxiZc7vr_GI6GcFhWc0g', '8ovwNH9wXDzaCuHG9TyOOw', '8ptBNZne8pV6X01pQBnpkQ', '8qNOI6Q1-rJrvWWD5Btz6w', '8t8pZI5SAlYhd6UEIkAcSg', '8vzMRsSIjkdjwq3u190ohw', '8xrwjD-Udv7cm_emVcVo3A', '8zK23kKaEjM2NgGmAcmMsA', '9-S67d5VyVbYN1bWcZFb6g', '9-Z4rNkQr_j5w-AOkdJQ4Q', '9-lFwrePtcGd6tnRSPI9bA', '90DT5MO2X-C2F_5c66DNag', '912l61txSxlAnzQLamabYg', '91Up53KfAbduhQcaN7JBUQ', '92KZBnzEki_70Dh_IB_Vkg', '93otbGHE0s0m-lU1osvg9w', '94kQ2TM8Wn85jbmTeG2fbQ', '96a54JDbOU6YKFWzur98sA', '96puuUqlMC8INO36uLi0ag', '96trsoEBDzmH-FDiVw4clg', '995cDn3wIwi4pw4N_uLSqw', '99SN6hku1PToQ2E3-4h8CA', '9CcUyTF8NAkl1bd_eWX7gA', '9DnHnAbd5sciiBHrQs7DJA', '9DxJTxiTJQdWI85MahuWPg', '9GA2gmLV4NX2oJkuz6fdcA', '9GWfMAuAOlkt4MAZ4eZjlA', '9HD224rVyahrfg9SNe5SVg', '9Lu2VvdAPswV-RRiQFfXXQ', '9M13M8YhFrKeLEG86xfWMw', '9MPLntyNzhdUXpGT-h0HUw', '9OHPCG0epevEpj-H7COfUQ', '9OgQv2RAF9X1-uEnR78ZAA', '9R5HJYxWadtirp3Lv9Di9g', '9RiC03-rBMtulA3tS5HUZg', '9Rl0amGdwWlqERmscG04wg', '9ScF7Bl_XXKBMjawtuBvNQ', '9TO5Tl9SeFV-yldR2eZeBg', '9VU91bqavqmmi3gstjemzA', '9WTeG-SK2-_Ets4NtRkqMw', '9X3XAKb51B4meUDC_NFnsA', '9YhEuxUPnqadrG58ewa2Dg', '9Yo5Fl8wstZlxBnD0G-uHg', '9ZG39nbjc4qmK5Zn64Ocig', '9ZdDRjkgD8OZGBDFgtZong', '9_1N2SoNoS3DGV9V-4kndw', '9_B3nY3KlHW1WDvOeMk9GA', '9_LwnUarlbKkTbVvP9FRdw', '9cQ5nhSJJJ9tWDn119QAEA', '9cgrssqswYBSpvBAKc1-nQ', '9coZa838egYONxSdTe-wUg', '9cuklQaqN2d3WA0Ef6jECg', '9d2wp4ddmkFSnUWjLv0mTQ', '9dnFUsbz_wAI3sz4Gb50JQ', '9eeOPBfiQ7ThdauEcivYkw', '9eqZNBLnNycOWQ2wQEwulQ', '9gNko6cFCMZbvy1zhJ7-Xg', '9h8ufGEG_kUf_H3Lq81veQ', '9hLtBpykEKo008PqE7S2dg', '9j3Lcsbng3Zx3f069S3d1A', '9mYjIQ-9DKMuR8kM5M2gtw', '9nTF596jDvBBia2EXXiOOg', '9p4oekUddRG-ZDxUzYCEGw', '9q2pK0s1-3xUZKbTzVcGGw', '9qPEpiKhl0V_RIbYziwJ_g', '9qxOJ8fMEFMXR0ihA1xd8A', '9rqcx3TaIo6Tkacr81JlYw', '9sUIgzBxFuGEAObwEEwlHw', '9tK5ibv58TxxpndehLXjDg', '9tp082Mk5-Ux3x3YYjlyKg', '9vaCqmQ56EtUyj6PV8_D8A', '9wm8Q1W_0_7Ka_AWBK5c7Q', '9x1bWbbSgFCMLJlJR8mezQ', '9xjAQ9VlK6e46xy_iLzXqg', '9xweM3L_Wva9wOctUeABeA', '9yRS-SNzkfmThx2JJoilwA', 'A-FEhlzyCp0E7Ryxqq97fA', 'A-IqLvBfU5Gr_b9HVLETTw', 'A0b7qkj-69ikXtcmaVqIMQ', 'A21FJqt8jIE6w0hdzmvnmg', 'A4F6iwYVuyKbvlroDEA47A', 'A4kCvILTgfr_2cG0_yGNiw', 'A5Xd85djipsW546Bq6qIYA', 'A5yVFUy0FxwJwVup93tXZA', 'A73Dp0lo9s_Ci9NFDqbhqw', 'A96UMn--KouLcMO6DUi8Ng', 'AB6xAAxRRVS8tJgbW1aphw', 'ABiwctEu-OZ8YsVc5lnLZQ', 'ACv-E8CeuStwaRamy3cCrQ', 'AD9b2W2gPZlD8AQHkBIl7w', 'AFaUDCTQ8LC33Nfmb_KWhg', 'AIbCGVTv_oPE3S957E47Lg', 'AKQbrvRBZvU5kB9Ut4gVkg', 'AKThbDjd3WRUBOYOLOjb8A', 'AMGe9WK6bxiEkTYNj_cx0w', 'AMWMEXmwrODR1X2G3V9Q0A', 'AR9Lf9MIsBqc52qlyKIpcg', 'AThUjgEmgHgVdD242hjsAg', 'ATnRWnNk5iwwIbwS8VmuKg', 'AUes4OUyO4moaB6WPi88cA', 'AUmfp8JRMubNrPqSGY1bgQ', 'AV_o0cVmufE1xq8DUlX14g', 'AX64Yw-0pTjKP-33hU-JPw', 'AY3Cxky3L3aNbRo_o4YRgg', 'AYr2URtjoQ8Toh8_Jr4G6A', 'AZ_iSVHQdBiCTnMolLTg3Q', 'AanIRR6tCCgIO7OibuvE5A', 'Ac-DbrST8bF9Cpge5D9_Cg', 'Ac3JAxptiN4wfPg-zNNCNw', 'Aes4MuZLnFqglFJNMZxRbw', 'AgIGsyUA0aKhUGFWOsI4AQ', 'AhK5rkcrnSNh8LCSZkqXnQ', 'AhmCLltQ3lLzS7kotgiVOg', 'AhySqKdERmUocQ_LGPd_Og', 'AidPnJXRWRgIG-Bt95rGdQ', 'AjmnVZbP86tHHPZobuyJ2Q', 'AmzQP_w8CvL36HSz7T_LRA', 'AnXCOnAFU69mQ6xzdgBleQ', 'Apn6Qly16cIUxgB1dYUvjg', 'AspFf1d9sRaUloPJAHMqAg', 'AtMx_q5Uok82I5HtQNDd0Q', 'AtWI6XjqFrPEV7M5WvmwHw', 'Atk1wlFBAjbxczwL0uwQVg', 'Au4pX3CnaWDbwrAyYOukig', 'AuOkeVkc38UaZeq-u14dCg', 'AxvkpFF3mi8yhDXjqxYTIg', 'AyH8VVj9CvGRCoCVsk-N5g', 'AyamCmzsGAVluH8MDQsJbA', 'B-eT-dKm_CkXD3BuMBGFrA', 'B-myMqxqAYvU1G0DA-O7SQ', 'B-n5YjebVdvt3vl70OGsRw', 'B0JdEQoQjr9oka-_YyGZ8g', 'B10A-q2fskHqLx5miQpmOw', 'B18WL-5NBor3W0v-n6Ziug', 'B1dCyA21u1mG1bcrq9TTYg', 'B5hl4fV8ZmwN2bLDgdr0Fw', 'B7pcNWBNTXl4WZ22Y-2x6A', 'BATsNgvvNVbw7_Re1qoq4w', 'BBkQ99cFPNJ5op-7IVqWNA', 'BC5MXeRMkw4jheSb-GVQBA', 'BCo64KS3O_gDXBEWohpI-A', 'BFYVjjBOWkIttKdSk6P6pg', 'BGEaHwnfv2g_KWIqYma0og', 'BGGR5ekPK6YqMRHgYNJGsw', 'BHWIl_wI7P58JrODocBjkg', 'BHmWj2gagqO0_UHMvgOydw', 'BIqsItY0vyOshMpJ0I4cPg', 'BJz2p9TJ6t9Po4TT0GeHFw', 'BKK6BdsJLPQufoC1T-iu1g', 'BKmKEdTZOdrOA0yHPcvjHw', 'BMR_AsSBzTQHqW-SQabI4w', 'BNeS_hZfmdQWsqewj-LuDA', 'BPWZRoeUQaKg5jAqLGkbMw', 'BRntjnHS-Xak_mGY6eokhQ', 'BV9R4SI7Ng2JV4nQk0WMwg', 'BY1_pf7FHUycHOwYEenDlQ', 'BY6sk5uACmes9rU7vpdzWw', 'BYc5IFQPq-PLVXnYjDp6vw', 'BaIRfAJzaqL0VKizwlTciw', 'BaQCd0LXvVk1xvUjxZJ9nA', 'BcLFIr4wtd3GQ3fnz15yDQ', 'Bf-yMQiSmDZyqfGyFKQ0bA', 'BfIcrMq0Me0D7BBSYij7Fg', 'Bg8xZT4-NsYLYd-WPIhgXw', 'Bh6M_VzX9RH1BS8W-uoUwQ', 'Bj8SEo-9tkOjXIYSub3Wag', 'Bj8SZok_fBDxzHYE4Z_0kA', 'Bl7P1_vtiTfq6fLsEX5Z5Q', 'Blw30ULdFKSOgCmf9lfGLg', 'Bn6lJFwiA2sqf7byYPil3w', 'BnDqHWovCd6Xwp3KzoL0hg', 'BnMnAotMjCw7mYlYFZgCvQ', 'BnXUUv_s12eMbYWds5wjPQ', 'BoTb3FqOsJaFe_koVfyGbw', 'Bp2pM6YLjcKjiKbVecwIMQ', 'BpJDI4Fj92lLNALQQeLvLg', 'BpU9-wcOWyKcVtkvnfRazA', 'BrORoLCE5zVY6ekUb6omNA', 'BsLyCu_lkEdkG42qmvZlnQ', 'BskUTTscZ1XGa9ev7TlfeQ', 'BtcxknU-6axQwOhXvv9xkQ', 'Bty8KcQAJb2v8ZP0m9rLbg', 'Buk9ike3OWSfdWh841-poA', 'But8zrzUE3-VGr5P6PLgxQ', 'BvJD3TvjGFVuJMuZ5D6FUA', 'BxHB59eoHU586fkffRv3Hg', 'BxWRVYVepLmhTf3TAlRUlw', 'ByNk-TOnPjoAKrk8NjCW9g', 'C-C6LzR6xJ4w5pu6pNg9DA', 'C-DGZG8ClR_dOMwYB19vMA', 'C-Dp_7OeGQZDAIDfqs4q5w', 'C0c3ahJp1U4Jg_kgGoyXKw', 'C1gj-EqhSZ1BcCejDyV-fQ', 'C1ufbUim6sLOn7rKAz8kBQ', 'C2mqIEnUWeo1UOcW00nWtA', 'C2uQIDpzEJu39JmGd_Cw3Q', 'C3D5ww46iTU6LCWgSwM0vA', 'C3Z5nHWtpalpMJDWWqurcw', 'C4HVXYYyiBeSUnrpnEZz5g', 'C5zOHpwyA-snVGppkbUpQg', 'C6P4wUTuDOQNwCL_QrYapw', 'C6jKwYmzHztO7OCex9j-YQ', 'C710slX9bTgw6cG1SgDbVw', 'CERdu01pl1cGUyjjJcIFPQ', 'CFBDAdWVxOhFFRTa5Fp30Q', 'CFtZH4Skp9z3o4ToSywI4w', 'CG6L_c3xsN4L7JzKhgCdiQ', 'CJu3t6lqoJATXIZaH9sJug', 'CK-Gv3vqIlWOrKP4fhT8_g', 'CLSRz9E-HmQRDwV2_smoDA', 'CMwGiGNCMyrgSoUjO9FNmA', 'CNklj3fFmwXL13AyvjfV5w', 'CP7TRCpeBr1sTtWqcfRHxQ', 'CPMughTfh7nuKZzXCZJdHA', 'CPgyfcsyPegLha1ajaSRoA', 'CQbxcD7b6SjBwk7EOA0PcQ', 'CS3ykvbERsTrVxL9HPoCOw', 'CS7DuVN2YkWDU7aoeFj-og', 'CUUcLheYIxjO643azprFxA', 'CUqlihRjC98JKvR8YWkGFw', 'CVfiajCyFamUrvN0eKE_XA', 'CZ8LgVpvieYAYXhUUZ-iHA', 'CZKkoMlqu0N0zCFK-3T_Fg', 'CZMubW8II3eoXjTao-1aqg', 'CZNeNfo_6C8d3lFbkL_8vA', 'C_-8AEMAJG6MvE3b6ou-ow', 'C_z3dMXpKdxhwCmaJhhqNQ', 'CaETzvd1cA5mYaCReGAHjA', 'CaMwTEn92eJ1T2Zfr1xcnA', 'CbwyXSyieSM3kO7brRlyHg', 'CdRgZ-4KECfnaD8-UsYHrg', 'CdrIw6JSvzXkGpEcjG1sKA', 'Cg5hUSWUwFImqO4beH1Zyg', 'Cgdzp6-2ehmMAks-ZrI3Lg', 'Ch5uSE0lWuXlRGV9bDVyXg', 'Chr3YCuvt2mD-BHgqeo-OA', 'Ci8mH1OTVhH-kl2Cq8-QNQ', 'CipRVpM7YzsE-9U9wf2YNQ', 'CjCVFZurydHXPAM2Zu8NzA', 'CkVeYI6HpUmuZ87D6K-i3A', 'CkVmV4r5t1T_kJTBDqXNZw', 'Co1cnSA3o3sSNdsGbItXSw', 'CqNRlHAz0LIVobHR4tYqnw', 'CqU7SXYRo9EbMwlxrSvErA', 'CsDOXAZzy63chLjT3F-pJA', 'CsbNmQqu9dKFrgcIItevYA', 'CvXyhwQTxonPR77NjOh5yg', 'CwGRFM0Y9ca8MBxg2lVqbQ', 'CwfeDdtVKcUEg_thGOlWAg', 'CwmLVUtZ6p1O7QYikSU7TQ', 'Cx5j8-4ZtK9teAcIAOmvzA', 'CxxAzUN3J38UTZB6MyGB3Q', 'CzqGem5OaPAk10bQK4bzbg', 'D2AKQk8X-SjSRHc1jzISIg', 'D2nfOrnJ2OBlX_428sKyMg', 'D3YLbIsh7vCx01DcPnnt0A', 'D44jdlGFwQ11JPL6j_XfqQ', 'D60IfSLfKA32Et3cvR-t3A', 'D6vRifMTw7hxUZCpNHknsw', 'D9xr-6Io3hPOh5ZHFRVPTA', 'DBcpa6D6S9Cf1JKvkXvnlg', 'DCnU_ehDedwPMJLKlOECuw', 'DEsBsSuyiNWYJyR0KEok2Q', 'DF173DJmYY6NqWa5SSiK4Q', 'DFeEJf8h04q3KwRVWUsoMQ', 'DGeupkmvo1X1oKn-sv9UQA', 'DHBDTikebcLpCzF2LF27uA', 'DId2r0a4C2ixCbuLApxx8g', 'DIdvV0HZUMZWiYg4OXyGJg', 'DNKb7_EJPGBULaUwL0mq8g', 'DNOXngMi7USPPY5-6BY2ZQ', 'DOnn1M-8V1_iegwmzQoflQ', 'DOpLVB7gtEnGg68dsua94g', 'DP2InfKc7gvw15s8lpVNBQ', 'DPT4j7kxjLt332YMwFLkww', 'DQmEQkOhR4AwifvRPKqz_g', 'DRIyvsa8LUaPNhAMmKdjOQ', 'DSyBqO8U8INz9cjduM6DzQ', 'DTTOMeTryTbegANpF4JPsA', 'DUuZjarJ7vOHJNEHNI0WUw', 'DVMdl4I80wfkitkemcD65g', 'DXP3MbE8srQITLlAuS45aQ', 'D_pwairtGGR0V_w2xx5XeA', 'DbVzSGQT1yxNPX_WTVAahg', 'DfHXyJEcUmeO9XUsdJpb5g', 'Dg0L3uU9BR1UgCaCG9Mo-Q', 'DiSARzaWBeNyB4oU047TcA', 'DkEOy5-hSds5Y9RvxMzCVg', 'DkLkQTDISbGdEZXlVBdLmA', 'DmgWQ9UiAEfovtDpa_-OKw', 'DnAVDeL9Iz0532YLYu04Tw', 'DnH2DJxJPAXf0RqmaPoyig', 'DpBYX9W8hQzYqVLXntFetw', 'Dq3AZ2f1BffwqRcP44Wh0w', 'DrbY96jCL1UqV0Eq2YkN6g', 'Dw7I9LJgp2tH1QScYCuhbw', 'DwSFTVUZX0xIE6T54yp2JQ', 'DwmAsemahJywywhuqv5J1Q', 'DzVv_g6xsLbMh66HtiZK3A', 'DzvNrAo1DJcqA_vZT6cF_g', 'DzviZnBOgPD3YTnBCDEM9Q', 'E0yFUTLVWvtkONagKYxagg', 'E2-h-zPbjdty2EivRoqIaw', 'E2KMVObgTKsgNurd7v09Nw', 'E3mP15gcpSBys8PGeJsuvQ', 'E4FNLrySCP1HwoZKHoAEIw', 'E4U8RCe42CpT3rtof7hEwQ', 'E768vU_Q4M1lCRDAYiN4iw', 'E7TOyAtKL06CJp8SSM9WXg', 'E7uNwsJLwcK7C3-5KPEhbQ', 'E8duZ9YKVLn_n75lYY3Hyw', 'E9Gnux898nomZK0fYErQVw', 'EB2dsz1v7px2C_dFXOV3ew', 'EBEpcviiUGlCmlB7duLrTw', 'EBwKRtjNeTjA5viMpc5lqQ', 'ECXHwaJW7Lc7qDlH89Syaw', 'ECtQU_nN7OX1xnz1gujGcQ', 'EDg6FM7MYcNMoqrSoWXUUw', 'EDjKoA9kv4bn9UXnocnFXA', 'EDyR9OIMV6reKmqdPTRJvw', 'EEAtafGPtPhwERoM3onXuw', 'EGC8np_WPMfp0ndWHDEwFA', 'EHGKrUgGpxYpfs4N3paJ1w', 'EHKzu5r2NEz5Zq2R84J4ow', 'EIFW8Cz9S7-jWWdnZrH3pg', 'EIJu1RpAf_mXTmFlf_G6Cg', 'EIh7YScoQ9oFT4aekeCS3A', 'EJFdWX908N8Yc2XG0Lky8A', 'EJMrzeE8fraZGiNvdPzsnQ', 'ELlk3Vol0lPKzwHxp-MoAw', 'ENcFskQBkRciPCULZrqTzg', 'EOo2My0Wt-h942RbNRzEFQ', 'EOwo0mutzGlbD1hAZcV3eQ', 'EP05pjuysVWn49yezbbusw', 'EQ-i1cvkycAQqAsMoQXduw', 'ESfy7oARQJaxweiARmP01Q', 'ESzO3Av0b1_TzKOiqzbQYQ', 'EUgHFeAvock2Ut3iWPlG8Q', 'EVjwTJ3boXTve0hTTFxPJw', 'EW90_lZ7E2RKT9Y-NGSVMw', 'EWJbWp3oOwDsv4Lo5eZWxw', 'EWpRPVSiPxWbdJBgNDNvGw', 'EWswCV97BBb0ezXRZhCoOQ', 'EXF-imcOSptiuzlirPjljA', 'EXt8OOwNE2CjoShPgLNdlg', 'EYXBIYovE44vg-3Fk9BCsA', 'EZ9Uf-lSRtj1fvdMQlrwAw', 'EZldFGSWB9L4syoY-b8-uA', 'E_IIblD1Vu9YSywrvs4vBw', 'EaJefde5yMAMKmQ_P3Kr9w', 'EbxaQO95C7PUNTmokE70XA', 'Een2yret0IwJUpHLwcxtRg', 'Ef0WLuzSbnSuIKu5i-Z2_g', 'Ef9crW61OYp2UJ0ysi3nEw', 'EfEa965NrYsNBTc6EFNSvA', 'Eg4FCWK8MEbqSGoPbWMuaQ', 'EgW-kEqxP83MlVl06Qn21g', 'Eg_M8eeu9SDEdbP7iUmVbQ', 'EhlOUjd2dh52SV_XfoORSA', 'Ei4voH2C7JgCyFmABY_CfA', 'EkrQy-HGatKn-2PTssaJ9g', 'EksV9mtXOQ7HGhPfyk5DMQ', 'El6Bum4I-0VWJRgzbtscJQ', 'EqDPh81h0giWRO4FxskP9A', 'ErGfEO3dZB37kxYjTZUXAA', 'Es0JayHVN_XPn1q5yFtn6g', 'Eu_zPTrNVAXkpdSxf7CJ2w', 'EwraUz9DLJcMVnBVMGkBpA', 'EzISn_Ke-SSqziUE6zPK4Q', 'EzcrB9DhKtezASq7fZ6ZyA', 'F-X6fPKAPSoMShHXznxJfw', 'F-lfG2IBiICdSxoHYmi-Vg', 'F0-xC1-8aVxF-VdAcdouhA', 'F11rn41dsHTz4vmv-xyzAg', 'F1PVqJKljZcpOZU7Otua6g', 'F1vdFYr7P4Xb3uAQ2AYgzQ', 'F2CdVtudYJlSgTAqWDX8gA', 'F2Sz8PJ5j1JSwFNsB4bb3w', 'F32TBGo4dVLYxsgllAUQ3w', 'F44RugAixD4yauHlTGXGug', 'F4k0RVMbEPfo5a372q-m8g', 'F4kjKxXXyn3e-BYVb1mWcg', 'F54qeTNrCm4gjUur48Dw4Q', 'F5xKTQB4lFfwtUNDeaqEgQ', 'F6Ujpp1Kh7L_3uUfoUsTlw', 'F6c3D1o9Z4Tl6cDorb3WgA', 'F8C6rgTCNcJNzXqKU6K9SA', 'F8ZdHw7rhyp3FRqQpqQNTg', 'F8_WdEVmUFTU1pTHBgikIg', 'F8p7jBnOJIcclFL8AEVt0g', 'F9IJ3EddoyW89O0DFikPTQ', 'FB33W3bwg3ADcIJOcLLz0w', 'FChZqoNWuLZr5Lj28Cq7yg', 'FE135tFrIhxrtAkf6-A1Rw', 'FFsG1lhnKz3_xyB2LyCXpg', 'FG8atOE15c8IoQH_hEb9zA', 'FGL0dGh9450_SEtDNlU3Cg', 'FI1JaVkuiZdb23Ds-mpBeg', 'FIIIQplC7gkEW2kyRGSFxg', 'FIxZW5OjfBotUouYzyYSjw', 'FJoXrkLaLh76MgHXKdJJFw', 'FKQUxOfW_W5R4OTut4G1Vw', 'FLQLCrRlMMsMXOM0sESGWA', 'FLmAxYnkZtWybuOmxVgyQA', 'FLy12rk1O6hpxuYzov9m-A', 'FNf9Q2FnB9sI9kOMAgj0AQ', 'FO2SNKF9I8mvTCAvbClJZQ', 'FOIQ49HJ6Y5fPl8QYr34XA', 'FQF7F9U-_TCNIwtsOlbV1A', 'FQXu06x5D5huxPbK04DItw', 'FRLsAoFLBd7qH4N5YAoh5w', 'FRdkSUgC_SUPPNUGmgBtow', 'FTVZYUvQtydyO6rQbOFPTw', 'FV5o9VV0yTU2Kt2bmjlHbA', 'FX5hsECTZF4n-vZPRVSXHg', 'FXSmA6oWEvylen1QnVZlAA', 'FZpyIiCAsr7Twkw4tQeqPA', 'Fa2gj48WwaEPuKW_Lj9MwQ', 'Fbudk6ffw8DlLwKwunilZA', 'Fbycyr3KEjDQ4wO9AStmvQ', 'FcXGZFrVPaKfe3wJZibfCw', 'Fd25lEnclIwyWlSRgkbRfg', 'FdAFfmeqaaY-1463SyTwGQ', 'FdRHqEdH5QIFdWGQ9CcFSw', 'FeYVr83ptxsLOAJJJri_Jg', 'FgNgBLayRFm6H6Qr66ecbQ', 'FgTzITgrmvrZqoHvkTSDzA', 'Fh-mO_bD6AuSnJab5r6i0A', 'FiP7mCGs-qelOSmapmbt1A', 'FmBKx7mv-jdh6KJ7Vq2v5w', 'FnZZzxaiW3j78AlAJ4OnFg', 'Fozo0B-y42EhRMomR0K5vQ', 'Fpm3WvqtrAg2ueh_4pz7iA', 'Fr5R5w74Xg7sKMlt4PPtHg', 'FsDogwXYckKUgs5VUoPbJw', 'FuT3Cp-uWLHzMTDi6vnwLQ', 'FvJtjO5nuIy5erGbkJpJXw', 'FxLfqxdYPA6Z85PFKaqLrg', 'FxdlM_hQbvawncbudVf99g', 'FzvN6d00RNmLSJy2UMKuvA', 'G-GcMq-iVEENhjG3z1lZhA', 'G-OMrmKRaSumc73LaSbhPA', 'G-zBjYkBAqNTHWqsvdq8Ew', 'G0tUd_gFsRMGY3HXQQ3FJQ', 'G2hXfdIKdhI6TVQrXpTnFA', 'G32N8Tr2LyvHl4FnUTt5pg', 'G4EBHnNSTWsnqTzxdiv5VQ', 'G4JLnk8TkeAhZ71V4Pof8A', 'G4tqFGRrwqQt7P_MTrhYBw', 'G5qOZI12XTSowKZzlq_5lw', 'G6WGIx0y85tCI8wCxTFGXQ', 'G6zYdHNPqSbw_Nom8ZxtVA', 'G7QZWVm-ytyKHpvUq3ggFA', 'G83Zm-rTz9MZqDk1n8QyuA', 'G9LyIc5LgBNM_zF8BJMhNg', 'GAmd3nHx5TInVN26PLZj7g', 'GD0XvS6HlCuDjtCDWiLkVQ', 'GDWZh4LMDiUXHcZV3XJRww', 'GDXftPS1_fTJUtZkaEUDhA', 'GDf1SI_SnW93_lJN__egrQ', 'GE4ayzlAHlTJEYnRAojZyA', 'GEpavUjzVf5ATsGYkPu0WA', 'GEs1MLY7IbEupJjytdKyqQ', 'GGEeGKUez_pGqYXtk-sKvQ', 'GGKesha1RQd21HyzRhj2bA', 'GGTts8DZKPebJwqsDQDBKg', 'GH_GGx54q-U_NZ_A3znakg', 'GI1WxFbY9tJ9-ChRrwnrzg', 'GK6oAgFonv2p3CiBKmMknQ', 'GN0LE1tKNoT0UeWrUU-cbA', 'GN1MQK04zcS32HbY5Y0Vlw', 'GNa1y5-b7u_5ary42o8-LQ', 'GQevJAnl6DWg80PJuOyX4g', 'GTx0p6R141T9poHVXOWVYw', 'GUriQoD_GHo6DNJlR1_CrA', 'GV5jI4xbBLNiqujLIFrcuw', 'GVPEk8fvR7_46_5lYch_4A', 'GVnaMB4Kgg6i04-HRkEa1w', 'GWWIyxmD-lynwmiiv2zQUA', 'GYuRMJZfWMg4SZD5RfOSzw', 'GZmpmQdY90Q4g-I5waNMGQ', 'GaErjWbIxxMIQzniXwI9dg', 'GaP5KfdlDuNasKgTNR8Saw', 'GbcFCQp9VmgMaW_jaMAq_Q', 'GdB7us2H1YKmLwThnHl7jg', 'Gepy89vtr6J2LFTb-dUPrQ', 'GghMYcxRa-idHDb6kqP4BA', 'GgjzC6Ki7i4i_RG8pPVZnw', 'Gh752sLvWvzl_n-CHWYwyA', 'GiKgsenJg25-2qBGxsg_hw', 'GjX2WgchvvS-JAWBmzkLyQ', 'GkYPYQC_H_gKWsalG7dk8A', 'Gl1jrbGS941SJ-UOxKYg6A', 'GlU3S2Dek9ITkpj9FZQ51g', 'Gm2JaFiMaNDP3RsYociz9w', 'GmvfPkjxhonLSaPgfNGhPw', 'GnFvPN1sCMbho2ItzuPemw', 'GnPXUkEvX5M0YR_PVGhWgg', 'Gp8_vPUZBncqy4Fwc8ga7A', 'Gpm--ooVaO8bA2OCKcMSEg', 'GpwuGxGPzB3NHq7bxZnGbA', 'GqBP4UM_z2BAJz_ZUzdecA', 'Gtc_AiDFXA4Hf2MXJXmsgQ', 'GtkxSYxyM6XqcChFuzMjxw', 'GvBGYrTb6HKMA50TuVQztA', 'GvCblda5MdYBqNFBUlHuyg', 'GvLgdEWhVWBahZsFiGYTgQ', 'GwcWB_uDN6ppuk_V8x7iww', 'Gz76BIuluMYH2Z7ZyZljMA', 'H-B_JoResY4PyXND1_DQfg', 'H4PWUUInSMs5i8uPpMCwSw', 'H4YK4AK3TimOFmv9GtqPGQ', 'H5PdoEWleg9uDU67ZAy6JA', 'H5vlbkJ_8mFI1wCGHO3apg', 'H6skMpg_g-sOrfTQf_Q5LQ', 'H9OjeHsGra2utILaHwJfGw', 'HDMoo6OIY4qIIKWfvbYK_A', 'HFr3uQI9h8sTTvGn3xk5Zg', 'HG3ROmv3FJZTMJPpThSXOw', 'HGBmtJ-eiLok7sVZUBbIYg', 'HGPZSKWtDYGmPaVzsgKceA', 'HGXAq1gGFBchML1PffQNnQ', 'HHGuAjkU9gQyxpwTZAJ_aQ', 'HI6af2H4gZyXszxfYsuloQ', 'HKExCPp1uxyQY1jlfYAhkA', 'HKzPwCmhz8sLDVCFQzmqUw', 'HNbX93hyrua2p6LO4IwdHA', 'HPX1pRtWInt_UVtfld-zsQ', 'HQhy9jCF-GBb9x-xhJ1rJQ', 'HRukh9pr1ZCNoSPrE6icRA', 'HThLR9ln5hLPL24-7TyWtA', 'HVCSprTj_USR9HxIeoffZA', 'HW84sYbDHRVGRUXFd3wseA', 'HWVCdxCYicHA7plfXr-vMg', 'HWmUHzxX3JvXkW3qh0SUng', 'HXBBI_M10pAtSVATIVATYQ', 'HXO83D4b_LzkDQEQIYB_XQ', 'HYwbHY-srAOoH-t337DpMw', 'HZRTSC7R0JWThNTCqVLnsQ', 'H_8tda1KzcDk0McgJ8_isw', 'Ha9J5J_IVc_LQabC3tPLQQ', 'Hb717wjzx1Q7cVXQo1-u2w', 'Hdnx6cZBo0JfZopnQDWVYg', 'Hf4pcInQdInE_Q0endImnw', 'HfOQdfvijWVWMFgMIhVuBA', 'Hg7A3RVz_J7PHGmEqPOsxA', 'HgSsIF4PpESGUMu-rNPg0g', 'HhPVzZYQI-akaXRK_A4dKQ', 'HiHUTSxpyKhQqLFti3Xnzw', 'HidSAIhDmpVf38qriIi4hQ', 'HjCCyjPiqg_cRMdwEzODUQ', 'HjrwseYzjupnpMdV4SaPWg', 'HkhmrEG8I3crc7pVVblyQw', 'HmI9nhgOkrXlUr6KZGZZew', 'HnYIhqta4432AsqGBcSlfg', 'HoyTNkO1GFNx-FXeK5tD5A', 'Hpb4Sayep_3Ccd-35ww1hw', 'Hqnb4hwfrreszzvlzNjadA', 'Hr0yeQeFUueoNrgTl2SrVQ', 'HtQmm4EyS8lYXPYNYSWXdg', 'HuJL373IQ-rrTPKMpa6iww', 'HyDn1Kvyzke3YNgFUBAvog', 'HyvavSam_sME5Q3O3aR2Bg', 'HzOYnyPrh24YONMUecuzlg', 'Hzp7oS3dhpFNNBd8yDmqeA', 'I-D4qEtJJ4okSLrLKxMMRw', 'I26PLVBABlTcUJ8pq08p_g', 'I4q_mNQTKVX_EKbVAh8pdQ', 'I5KYmFYPr9SEllG9L_qszA', 'I5TgzHGJI3jvJq6xdauLPA', 'I5kKpCDxdrV1Lxss2T681g', 'I5z8NAbY-fajI7YWvGU8jQ', 'I9X0wHeZF42h8M-kJjT0og', 'I9Xn958b-l07iPpDrdOWeQ', 'IBGrQ6YUywBp1Hqu9c1LZQ', 'IBSOhov5GLSZsGzz3ZsQjg', 'IJYqKCfeM4ePy7oqxSah7Q', 'IKA-wA459qPdRh7Bgl90ow', 'IKCVtAEzYNDENgGdb9WW5w', 'IL3qkg22Zb0s8B9aJYle9w', 'IMU524Ze7yHf8gc7R-SYUA', 'IPpz3dROk6PBhiYM-DEISw', 'IRRfbzBmmacXX8ScvLbpWA', 'IUywieKL-xOm3tFJEY8fOw', 'IYreMhkT6e02tsbw-Dex5Q', 'IZ611uJBaWPAf-q0R37Nmw', 'I_vzg2V92U7wdD61tvGtpg', 'IaL3NMcVUjwk29CnR7w4tw', 'Iabd_rGdOvdpySBeluFs5w', 'IakOnLeTFBvJvcxxBHQq_Q', 'Iam7tYWhssw_rscSBkeRIQ', 'IbbvDkXJIPBYhe7ZioYPCg', 'IcHVYlgNGR-Zz8fnceiJ6g', 'IcIqyNdDl4qz7BjSs0uRVQ', 'IcrFc5IwCcKyGbVmgWjVjg', 'Id4FhgQyoU5H7tb_qipP0w', 'IdHIcxCFq84evujUVNcB5w', 'IdTGHJKP-kDdFkRB509jKg', 'Idow0ymZ7ptpoeVPwzqOPQ', 'Ieaw3mw4GcPiF4PZkDYuFw', 'IgGRqEUqSdpq8l73a8dgSw', 'IgK6pMqEJ7vQS2-2qMl2vw', 'IhbvQcaLJh80JhJA-OPv1w', 'IhgJLOO3NMU1pzH6cyFKDg', 'IhjrIdQkNgXIobdKg6eFmg', 'IkDhIjEIzE0a_eP4xWNiZw', 'IkZhKseJMzTsFESMbLyF2g', 'IkkongyT51hv-f3wzIgf0g', 'Iko1Ic3XzHJb8UoZmpfmOw', 'IlkzevKMF1hGYEbrd04J5A', 'In8gjAPQ1eE2F2OMY0H9ow', 'InjZs7fCngPFValYpp5B7A', 'IrkBeajv3BQFYwJC9i0e1g', 'Is-_AVNBzjTWwB6uq0c5GA', 'Iv24A0J5eRxZt0G3wigLVQ', 'Iwoc2I0iWMhkmISUeDHYew', 'J0UG_QARO4bwYlxfosP2aw', 'J0xYZYdV1HvGn-wrOg757g', 'J1vEp4AZTPZvdxG9A-u1_w', 'J37k6bYs-ZSzncLYv6DugQ', 'J4rAOVQ9PCgm5NP7ZD9lMQ', 'J5JzAUd2wzyArZ-qHT0A4A', 'J6K-D7sD4QvqG1V4RwV0Bw', 'J71s0xScHVbOuFUfsAXtmQ', 'J7NwmxRazh6pw2K9FwxNLA', 'J9f-9Prw2YVM-fiZqv2fmQ', 'JALpYzMTlwiIcp1s9R4QIw', 'JBrwWVhNm8PFhTOVkuXk4Q', 'JDwlbJSSb68vS6VSySokPA', 'JEqM8xXhKumU5AfhmsiD8w', 'JFkY8zMcD_HLGcFTlxiV2Q', 'JGXkldESnG69YXlSNVAgJQ', 'JHZzncoaHhqSn1Y9q6u_Fw', 'JHrZlJBq8QNdugfmxug1rg', 'JIJz1wcUbFETJUrvm8HrlA', 'JJi7c7uiTzCqeWNTsldgXQ', 'JLbgvGM4FXh9zNP4O5ZWjQ', 'JMahS85NWAXQuyGLx3UlQQ', 'JMp6kPOrnBp9HC_4SRbarg', 'JNaun-m2tSwNjnr7EiFTLg', 'JOCmhCid7QH1478S8KboDA', 'JPW2qpwVg7vS3EvWkGS4rg', 'JQ6NlXQGXvQZ4P-b5HXd9A', 'JRuNDBOwKW0H73E5iD_uuw', 'JS8zqTShTYXHvpsWYTaQ6A', 'JTKzGJvIK9yuoUf-erV2qQ', 'JUiIEt5wW7ImwOdpEc-r0Q', 'JVJ9v-gFH68m6hA1NyQmbg', 'JW7-UF3cdQIo-HAiK29HUQ', 'JX4FbGhaV0EzAESPCQZGBA', 'JY8ZWHSaky409ORBUUyCXA', 'JYSghx6tAyMM6ArdnSxx0g', 'JZ4ZRdRSllhuAt94tFCH8w', 'JZEw18_OhSzFj0IfXF6v6Q', 'JZwPJyoJnqlfjCsrnSUmNw', 'J_NA-_WNLAJQg7eZwn1dWw', 'JacuuWTDI4EU5-t7G6OIFw', 'JePAAhbOLBDI74VeePOBKw', 'JeY7qm3p-K5ZhF0dPbSQwA', 'JgP4jfub4YWf1ErdaRAmTQ', 'Jk9rocVjl9UTK7uArNBgrA', 'JkWRqZ2gSYDdt8Dw1E8oyA', 'Jl-NFBNJ0PeIAfO_bDLojQ', 'Jl-lJisnmsy8BCV0Pif4xg', 'Jl9w5WVI9qdDtKIwZnHKGw', 'JmdgFq9sgXUIzeqalwrTRA', 'JnRZbZ7E4VpCh83U56CPMA', 'Jo-FI_CqvUgnupd1JSoStg', 'JrrY4v21k7_qYxIidhi-aw', 'Jw9mNU1ibHioRdyGFTafYg', 'JxSmlL_MckX0dvS5XBg0Cg', 'Jz4LZvTibMEzXx8nZX5Q7g', 'JzB7NITHQ7gVHGVZ1ntgIQ', 'JzITUte597nI4RXQK9nERQ', 'K-AvP-T--ZNRmyr0pU36Ng', 'K-KiGFq11yKJw6EJC9biaQ', 'K-SsrPH0nFExdpLrTo1X1w', 'K04Pbn_5-xNidh0-xkI9vw', 'K0dp91jd_vqW4uNgvW6oag', 'K204Wr1Ai89USllo7KjI7w', 'K2C8dSx9215LLcIzHL959Q', 'K2Kx4NNKLfR1BnXl0gUbOA', 'K2RRY67q6o1cDyDDCxtEVA', 'K3IiNY432fYyVi7NgkZBQQ', 'K3lYaKPdaBim-LCOcmi6Jg', 'K4kULMcPWitiKAwmk90dTA', 'K5jY2W5Q3eNnwssV5UZtow', 'K6-LBrSl_NopD2llTIKsUQ', 'K6AKMjAdCSe8xllsbyeL9Q', 'K7QRkS7HZDEDMkndYf0OSQ', 'K7j0BqmmN6ZEZ4BHIgUcng', 'KBBXaD0FXDTpFuTuSJ6yHA', 'KCxdy3cm7H0jXnDhhPvBYw', 'KDiUpLL46cgoiWIM_UyR6g', 'KE7Uq1iXOQVhsPIzE800Aw', 'KEaCHdsY7w7CBsZ6h2dLeQ', 'KF1ngA96RBiRM5h8V7IQ2g', 'KFbUQ-RR2UOV62Ep7WnXHw', 'KFcYZCURuIxTNhTzOiO4sQ', 'KISNjnQaKGzmGritl_5OoQ', 'KLEq6wOySURxlZtgl88Ztg', 'KLOE0WHdbTzF0VNs802fJw', 'KLPeYlAdnb-ECscyJEC1yw', 'KLfGPkaaL4fV0_Dk0ZWchQ', 'KLptkOv3OiNSTU4unZv9Sg', 'KNpcPGqDORDdvtekXd348w', 'KNvqTNhpCq7Sshqzykx9QQ', 'KPKQLzVKqLgEPKOWrSCRtg', 'KPvEo0QeT6b3x_UC6WbsvQ', 'KQn6QpYML27vEjwqqB2Z9w', 'KQrgpqBmIsBbdAn6CnfgCA', 'KR89_v-jKxf4_l8h8k4jyQ', 'KRtbDbqj-bSwLL4B22FcuA', 'KSw3FAh5d5Q3PdFO1Gevmw', 'KTPRYqiFdLowAUEAnN7e3g', 'KTuop99F-mrV5_1haXClbQ', 'KUZwPgq6IFYiMzwrEH5CLg', 'KUw3FH6WRpL7AEgQyPySbw', 'KVjK4ILOEPMaomV2DK8s1w', 'KW9xNNu14RcskVcnhZ-vVg', 'KXv9wm5W9LTNZec2AsmHgQ', 'KY8J9dIOKD2vL0jdzUiuhg', 'KbdyidaiA4l5IS0tJAM31w', 'KbjqY2ketAH-3xT8i_xgiw', 'KcFfciiA1lmui6r_h5OwTg', 'Kg00kM0jvMYKKZYrh7Yvrg', 'KiG6wzSo1P5vFJ_YZjM7UA', 'KlmsNi7qiQgC6yznyA0M0g', 'KowfRkKCR1qYzIM3-M6FBA', 'KpfCj839-MPcxM8FKkW7GA', 'KqZRO_ZdCQ40fGrMsUow7Q', 'Ku4iZZ9hvKHd2u2yzoFj0A', 'KvlaL5wejWOaZayBxP_vUQ', 'KwfKAnIRcLFXotqVsR-6Xw', 'Ky0X7OLqSeBpvNNf0NjVcg', 'KzLjbXEDH1e1WrfzrrzZKw', 'KzNG3-kfGCC01USMS2BZvA', 'L0DJ7-GUDMLIlIR-7vykvQ', 'L0d7r2zvjIaGCaj8fxJFRA', 'L1KkmY4vTgCrS1J5aUFMtA', 'L3ysePkSGjp11VIcmA3A-Q', 'L4v7-i9PIOXr7hSyNIAzcg', 'L5OapgBUzqueHjuBhEQwsw', 'L5wNKBuK6-tj7cfFMmgv1A', 'L8IxNYtrSkItLbsH7giFIQ', 'L8Yy7EJJ0HiBYhKitlmG-A', 'L95ppCbcWAt4LUWrCiEvPg', 'LAXvmv02hGy1TuSVCo3Www', 'LBcCkRqkqJGthuqLE0t7zw', 'LCNc4r6LvVs-JBmfQYAqbw', 'LDAOmVcTQH8-tRYO8oV0ZQ', 'LDIl863KlzNr8hmBXupkdg', 'LEDaU-rvNk9oBLH6oUcoqg', 'LGZXQsXEw5AS0P_fYXZc0A', 'LGlgphMiiSDNlwJAyl1QCw', 'LH9YFarEKe_ByAl6xeeegQ', 'LLGCa1g8owtW7xa0BbKDug', 'LLGGe9k7NTVy1Z2wH1_Uew', 'LNAI2hGXzAFq_9KFwpdshg', 'LOJwU4lmWm4gJe2XsIfgaw', 'LPdyvyMuL1YFr6wC258krQ', 'LQFmktF43j2NPncKdNd9mg', 'LQm8wLJ8VZV2ns4S1yUc0A', 'LRHlcXcNERVsekrngMLphA', 'LS4qdaBXNj7Q79nuMNaZ9w', 'LSxHsjO_CNbH-NE3lvwKaw', 'LTF14u6dfIyJQ41P-FooiA', 'LTPcaw-_IqOfTSDxe8811A', 'LTUVUkEmPBT1sDG19O_1NQ', 'LTpv1IAniQ8QICHrIEwntQ', 'LWAMSzhYHe2fkA_QJOw1PQ', 'LWaNpHYagTPy1rs2GBN7ew', 'LX2tNHlYsxHNdNo5j0ZF7A', 'LXlKLpKEIQt5thh_pBdbIA', 'LZY382ncwmmYLVKUjB1SFg', 'L_1xRIo-knpK9AdZ3GwSIw', 'L_ibZRB6OAQCnQuA3jluyQ', 'Ladt7CobMcCFZ8-iC5v0cw', 'Lb17BCffIA3kLXMjA9UlgQ', 'LbeJgPgKKHw5qH0f02NHEQ', 'LdJljAqDu3UcIZldHcvJSQ', 'LdYP5VXGBB4l_gypkLuzhQ', 'Leif5a7FHom7sfCx2lrzAw', 'Lfauu60pCWaQ2nuGCgW_eQ', 'LgvarcLVy6h7WiPKMRzz3Q', 'LhHBcNVQwHIqcm7LDJ0E1Q', 'LhfKAGpQ12pgvQRqg-2wmw', 'Lk0nHB0ufrY3Vx_L39dL4A', 'LkPQmCF3k6iDqBLY7bsE5Q', 'LkcGDfznt-QzjL22fO3F4Q', 'LmNKCVuSK-asJZLfwCuZXw', 'LmYBebTFfft94uYljKptgA', 'LotwXDcHQmt4usltEvw_PQ', 'LpKloJ5DFU1rjEENALnGZg', 'LqEZNMIsJOWUWSxdHHCBig', 'LqT5jDt-_qkW5-Pwg-VUhA', 'LrEjsBYlqXdig7x5DFz0ow', 'LrSzTJm9xsub2h-It9DY9w', 'LsPfl6MSRkHwbr6LuKx87A', 'LtPnsCPkCb41VG5fQr18IQ', 'Ltf3TUXESd0V9emwx8NXWA', 'Lw2vlPixPe72lDp9Cx6GoA', 'Lxffru6JZP-jbpkOV8x5pA', 'LyWqncqxFvMF3xSja22RCA', 'Lyn5sYu1rfxdmntbaOoZJg', 'LzJzVP0OkStDxFmXZLw2nQ', 'M-4dNFcnRJ0_hI357OLGhg', 'M-P129OlcSg_mxf8fK9ZWA', 'M-qtsg3fVoG6sWBrDz4-6w', 'M-uo9HTEJEx7cS0eCsQyUg', 'M1SUyz8KGdVnntu0wty4lw', 'M49CwslHLTt9verCZhWxrg', 'M4BZ2okdWuc7MqeBjtnDRQ', 'M4j1x7jKQZ6Mf3Bj-j-6yg', 'M5Dc39uXDsFzcAGl_ijDzw', 'M5rnBQaFtjYTn3T9NIZwcA', 'M6MiFQqy9f2a1EI3x05pmg', 'M70Jr9yUWCDfoTsZS3uq7A', 'M833lIp7o8sSfbmY6V-StQ', 'M8UHKKHpJHd7AUiMTHGrOw', 'M9JpXoyxm_ZFY1zVmHgwTA', 'MA465c4XL7_m9p_6_ztRsw', 'MBK1Ew_P30AD6hFpKHqX6w', 'MBirSnTW4pt2k7Ny6KC72w', 'MEyguHG-U-Fy1qkK_Yf_FQ', 'MKYcOZSpMwJK7uwacK13EA', 'MKd_EUD0PG__cOfIbeqYAg', 'MKmxhIHTdJduU0FFMRdfqA', 'MLO4wBnTU0UoOZufxZfERQ', 'MLVnaAgR3FD2O9mBTKDqoQ', 'MLi1IBqDaVQuONeuXMMSLw', 'MNmQ1s-zdjEgm3bdRs7iEw', 'MPLhOV-JbmntkbcXMyCODg', 'MPbzeBX4f98CgK0ih1rLVw', 'MPjwZL8DHKCEbFw8LYiAIA', 'MSX-vRTxCmKLNITfdGEiOw', 'MU8xA_S8gqobnDq8d2nsQg', 'MV4MCTQ4EbhoZ-JseM1x-Q', 'MWWOPM-o6lCEQ_SyD9AoaA', 'MYyJ9orpiRq0prjVq4ku7w', 'MaiEFfOd1btsTt2vBTMfZQ', 'MdR6htOIm-LF051qUCKmGg', 'MeCn3G6ZOl40FPCJ70kplg', 'Mem13A3C202RzT53npn4NA', 'MfgewgMdqCx_JWk--6PgfA', 'Mge4KiFP09sWeKpbM6J65w', 'MgrooJRP0xTRnndoSbvvfQ', 'Mh7C6p0KsuZLCB0vjrPgbQ', 'MiqI3DMf48AJQbfoG6fTRA', 'MjD_bzVtkAIviFsNFGy7Zg', 'MjOFnVxoKeOikgBGTZ-UcA', 'MkLlb2944GtK07wy9u_wbA', 'MkYtJK1b5Nlb9ooGA9VFEQ', 'MkoiuqUFOnX8riewi6d2sQ', 'MnveklSsns2LyYj4Mrx84g', 'MoFGxMGtYiofRi_iVIyApQ', 'MothxPy-ZoFcCdoVGw2hDQ', 'MpxcquEP9071fZqd6O19IQ', 'MqBn0tb5rELHo6d9-8l-eA', 'Mrh6EoDcsDWmvWBPmK7ncw', 'MrlNl43mM8Y259tKzMj4Mw', 'MsFj3NTvmhYNYS8Ef8HwFA', 'MsJIYsIc_2kVf9xrfasrgQ', 'Msq2CBPFaY7Fe7h7R20fOA', 'MtViLqobs9m4Ia07Sdux0Q', 'MtjOk7u7sp3yWyzscAIG4Q', 'Mv7N0bU56dhtoDP-m2JOow', 'MwjZPmEoWlHy1rp7qrmBsw', 'MwsGayIlUkXQ46mkmV3jlA', 'MxXo4qc5lXAbis-umS_2pw', 'MyITm7hhBUqRmz2PqlfhOw', 'N-COeLWbWoWNlDkFt0EeGw', 'N0L1C5K9ViBD58vig5sahw', 'N1AzHZsgdLUKpcc1FMEEQQ', 'N42CouuodYv-yGpmuUZyew', 'N56-LiN3xp3xEQbl0oRHjg', 'N60yOH1GpH8wE9kln7m3XQ', 'N6Fr3vPKY5gN3RBBmkZ7gw', 'N7Gg7XElIaB45CJbkhDuDA', 'N7iOez1IbRc8wErxJLt5CQ', 'N7j_rJ0Vlwb-Gf-6cy4uiw', 'N8FdrKl0y_E_mUOj8VSFuA', 'N92Pbr2ygKDLkjmr-4BAPw', 'N9JASBwB9kWtK0_EjTa1nw', 'N9Q2HlpqeG2NKbvqJI-REw', 'N9n4bj5nnuvVgt8iyT5YVg', 'NAeUcNL3Uk73Cp5iC25TMg', 'NBeX33C2lB6KMqpbSueHjw', 'NC4_GCUAB9fuvhWgl8bu5Q', 'NF0ONd9LRcwZL-VWixRO5Q', 'NFcFwC5fvdPBaR4yBKGsGQ', 'NG5qynmV0kzxQMFJG7mhEw', 'NGLm1rYYnq88wt2UMd9v9Q', 'NIFrjfEot4GFR-tqiqrsHw', 'NJK_B8dLl1EGgPiOg9_a8g', 'NL8BwmaeyYD0ZTR8D7Z7Pw', 'NLH1_yRHvmvmt5ywhmfNww', 'NN0d_nZ7dX9pS67q4pHbFg', 'NPfvR6JSz62ZeFPFai2dYw', 'NQ7d9DIzP4Uip8yP9hgwPA', 'NQN-ERs976mbnP6rkMwKtQ', 'NR190YuOBx0W9fUWx6OlMQ', 'NSBiCz9CRowb6uwpC3vZrQ', 'NV9ftiLhePO0bNE1z8y6qw', 'NVX_BF_LcDy3fNshXMuz7w', 'NW4mtw2cS1PeJQDK2J_wfQ', 'NWY04fnx_9bySycRrF4APQ', 'NWfiyKZS8f_x7To-hwLd6Q', 'NYMUlUYYEb3H0nKsauj-yw', 'N_k0rBm3OcJlAexLlhGRiw', 'Na4PriVltR13E48ZdVRl6A', 'NaqR4ptSaeqm33-rAtBz0w', 'NbEI-3hWnOcRNRJ6qIktTQ', 'NbkDsQhfK13ATV79TI4OQg', 'NcCl0Awt7dF6PZmFHXWGNw', 'NcNzTKVatkbRkD_G8A891A', 'Ncvd4l3zo72FUK5kovQhYQ', 'NdQzxU4hHk25mUoltnw4wg', 'NdqDt4c2ZWpGTUWvcDDKkw', 'Nf9s7ULgb0Shnc5Mr7JweQ', 'NgYQvMLzs2lbvQGX4cMWIg', 'NiHToxa8Fzx5yM1NYAEgaw', 'Nj3DwfsDAwogVyFrGKxgnA', 'No51A5QJGOQ-8iRXDhHmCw', 'No7l4LinY1tu-bCL97qi1A', 'NoF90rswXBHESSyDaWeKKA', 'NrokuoWJAy_VbMprivfAIA', 'NuFfgfXL_0OXFZ93oABgUA', 'NvHGOIIukJ4y3iFswY-k8g', 'NwWd3HpXXMRYFdyDFG8jkA', 'Nx5RAT-7gDz2C5Kh2WwJPQ', 'Ny3fbYH-tFnSX9bvTQRvfw', 'O1ird5yRyuDFnOmYu90OoA', 'O2IPbv7l5frXpdwnSZIicQ', 'O2OYKd7YYq9tPHDzKpI4SA', 'O3BVb5A0djGMi8jAfr0-Lg', 'O4-yHHUYMYaiOVsgg8ImUw', 'O40nlfiMpWAKgMx7bH9h6Q', 'O4eH0Hlu7lr_uuE2-Ymydw', 'O5MzWfMWDeEwkzNVeKdCfg', 'O8LGIntnNi4tgMyPQT2myg', 'O8mIioAmiOyk-DHQ-Buggw', 'OAsYaD7nLC2kDuqO4uaoIQ', 'OCkD2DMtbdzUCfzvLLbM_w', 'ODTI9W7fHMKNWZ3g8VcFUg', 'OEMTOWaemuov7TFD1sW3lw', 'OFW2HD4_0T2pExMsmFKx-w', 'OFdMlXxtkU_nUh8jJ4W6GA', 'OGVHlFHSXjHuioOvm1wVqg', 'OHuo-yqHdtJMAnkNLyp34g', 'OMzoxV0d1-4THKbHKTtIlQ', 'OOThzIpIiCRok8zaN0NPwQ', 'OPcGFLP_mRt9yvgP3ALXOQ', 'OPdjBa5toeaVsDlegk0-fQ', 'OQQs8AGEQrOlAAm400XFFw', 'OQ_2_JzEqJrjG5z93cEqmQ', 'OQvChaBImI8X5B3aai8btg', 'OR5zHbM31BGqxbZhIT1oYw', 'OSLNYVnB69k6zO9jYzRPuA', 'OU-Zbl4jPyKNxDI6FI3vUA', 'OUUVI57dNL-1UJEgbTM2rQ', 'OXcnwnZj50WnFkHM1tk9pQ', 'OXrFWgoz533T8tMRemkiww', 'OY1G_vhUYJJ3HdHfOZ2wrQ', 'OY1MdIc0J3BB7ZUJ7__Bbg', 'O_EC0gFko7gzNqgppmyLEA', 'OaDijC3QRwxw9uTadyWIsw', 'Oft6C2yq-1AmcqmutODGIQ', 'OhTsSYXoD4Poc14JrjIhBw', 'OjXXfBcsaGMcXJ5In6pJcQ', 'Oj_74Fa-VtFHXYTOWHMlsA', 'On54MnSknSLMDSNnvUV4Ag', 'OnAzbTDn79W6CFZIriqLrA', 'Oo3X0pVhRe93-eky6MvM4w', 'OohsWZ3A0bo8y6N6vi6ePA', 'OpNrObgtHgYijZYOU0yF-Q', 'OsgTFouPbcrCDnt-byTdAw', 'Ou1eo0K1F3AReNg2Z3kjYQ', 'OvDy9zJLGmfPgiKRUsIb4Q', 'OwGCYIwyIHPMfLVOT_7-1g', 'Oy228reHc1KcnY7qiyW9Rg', 'Oy9xDxD-JtUzSurhOhboLg', 'OyGwvqB3iVPX5CavwuC4tA', 'P034NqfS_1sf-pC51170Kg', 'P1a2WApEoMb65s14RmqV2g', 'P2uPCEBP2VZsApnvEHCgag', 'P3-aqSPZqir35Rgs-0P94g', 'P3Dy7GF1Sw8RrW1Dd9ZVjA', 'P3dBcZh_Hmr1wVWFZn2b-g', 'P4lfCI0WSaVoA2VFdsZRiQ', 'P4uQXhzxjKFBtnqfx_O4tA', 'P4w7kxvrr4odvXdyQzXIvw', 'P53xtdG0DA1QQM1OItDd7w', 'P6N8qIUlu2IEKr1_pdg00Q', 'P7IaC5I7nJf7OTupZzHeng', 'P7Vk5j_XzWl-9kS5qZd9aQ', 'P8nY22PirIp-d1GpDn7qnA', 'P9LAh1yahQqntqTlXIVPnw', 'PA0UJYogQTd5MIuKMs3tfA', 'PAE8xfgJgaiqSpw-1DJX1g', 'PBmMvDows5HWIqrEVvNfQQ', 'PF8HqToO6An0mH6odFoCEw', 'PFQU2koM2WymKJh8O6UcoA', 'PFt0wew2GqfPpesuUC9-cg', 'PGCmPHJdeAREQKYbhBMA5w', 'PHnlbOQx9-fsIO6t4UByYA', 'PIfqmSxZyjr9AGMuAbNBbw', 'PIiVJJ4mgiltU-u6Byn2_w', 'PJ-l-Le8_I4nPomX18M2AQ', 'PJ2NaQ3AP5XW568kt7BEHQ', 'PKYNB-KDGCqiHtMO6vEOKg', 'PMMp2rBcs58y5kLP96HUaw', 'PN6YCsAdFHcHST9vPaxIuw', 'PNl8R1SmXXgGU2ThG0qVbg', 'PQKzcvaLfkeKSvIWFDk_-A', 'PRsiM1hkoAIb-e7ov8SMkA', 'PSXuK4EBNINy_6X8hcTvlg', 'PW9CkqF9dPK2S0a6zMBciQ', 'PWvPIzCrWNYGSiFxOF_Zfg', 'PXKjfPxjJSykV3vN8GAoBQ', 'PY3lJxwLx5FzdjzDj6WTGA', 'PYIwY8EqOyMLQG567xwVEw', 'P_Sv7-nv4FhrfS8Byldnfg', 'PaU0Z2Zho5dK6BlSz4XjiA', 'PbOQlLSloU5Zkpth5I3cjA', 'Pccg1shSg7RQAXedGHft1Q', 'PdDpIGwBZoTYzOVasT-WuA', 'PeATTp15Y_ExaN6mR1dmKw', 'Pe_IZOnYLchr8LCVvamyVA', 'Perap0eAyCbUx4r4rQTSnA', 'PgdQrTSOX132EgNj8VPNlg', 'PjpkK-BEMOuAxrmqFVxg5A', 'Pn1f4xiZoynF0nDb-vtY0A', 'Pp0YIu7dLU-xfPAOKS6qlQ', 'PqBZ88vOqctCc0fRm2sXQg', 'Prd8JRVvPvL2d32GgtNCwQ', 'PuMpFTKS6gY_e31UP5YVnw', 'PuytdMfre748Xfby1Hx9Wg', 'PvZoaoIOvIX-32ur3l_jww', 'PvtAsnMf-oeNmkvdwRmEpw', 'Px6FNVLlN9wZQ-uadZiIcw', 'PxZBTBvhKcTQ0pXhCdy4Ng', 'PyTHy9VPOhBCiGLsi-PA2Q', 'PyrUtoxrsVDcIw6HbLQTMw', 'PzQS2vMnpTsryOtf8WK17A', 'Pz_qQdmstSxmyFw1r0enDw', 'Q-OwNX5j6xDvX5QRFEB9wg', 'Q1WoqmmvoyWC3b6esLNyCQ', 'Q3zZTpHQBSbiPq2lLaTtgw', 'Q4WmBfRD6rcTSXVZqjKC5Q', 'Q4k9QMbhZoyzwN7zFx0fMw', 'Q5bysqWbnrahbf4R0OTSKg', 'Q5wxMC9AB9rjaAu1tROpOA', 'Q8b36PEPL61nxeQDcLBV7g', 'Q9OW5SmEvK3CisK5vlMVpg', 'Q9veWOu7mFj881o3nqB4bQ', 'QCZwZLYHkTyYQDr6jdjKjA', 'QEJgZqn_jYMvmkHaY8NKVg', 'QF8hmN_g6n0BTlLJ0tT9Hg', 'QGPQp5VsRcP5Ma0ekCgj2Q', 'QI0PGXbGkIdInOOBeq6ieQ', 'QI7XeQ11U4D-A5uRcah5Iw', 'QID6lFz37QHS2ocwM9kOGA', 'QIELh9m9aefbDtIL_mOsMw', 'QIPFRBEtL9KwgJxbGRDQCw', 'QIXz6e0SZ4okLBFBsO79_Q', 'QIahrchu9mUW8DGZla8c7w', 'QIy5y_CnXcCGuvwxo79VWw', 'QJS8r7COJYqVSzMGO8Us5g', 'QLRn67HoGCqi4Dqo2YaJvA', 'QMIw7yNXbREJUD_tiMWmNQ', 'QN-Jwhwvv3ZGTg8bXZXAyg', 'QNn3lvwCBwNcQFPbjAtgdQ', 'QNzX-iaiG2uIWQ2vOMq13A', 'QQ4763IteaX73s6-1d68dw', 'QQDguhxy2warZR69VI3M_g', 'QQIwwU1tyOyKwr_sgqfYmw', 'QQMHSov0KBlBSfb7PXOcXg', 'QQSlx-l_cfwkVrNwjV_HgQ', 'QT4ax7JkGZma8oMy5j8t2w', 'QVboXOy_hrsDqg3XOJK3Pg', 'QWA-sRNX-9npPFCkTIkxng', 'QXR-YnHgV0qDyuUTckYeGw', 'QYlhQ9ivxXFSD7dE_1cy5A', 'QYt6hKIEkwaBtIaemaZAsQ', 'Q_0eGl-aElqHKukHvmLdwA', 'Q_1jSgM9PQyoSmo7yyyoHA', 'Q_2DxyQ9nHLRdYciJaNLHg', 'Q_M5lLkREB3rb6EAYJoD_w', 'QaFhHwtJf64AZIzqAujFxw', 'QbLCALa347d6D09WJ37HXQ', 'QbuWKli8fme4O84t99UfSg', 'QbwJTaWoQjwABemmtGk9xg', 'QcFZRiYVLFGTJhjJzPIJGA', 'QcxB4grIr-bLSqqydTV6Ag', 'QeCkX3JI0dZiC6UK4tWl6A', 'QeShrs6cUNBjJoTCkJiB0g', 'Qf83EYNJAXjnM2V-BnZHrQ', 'Qi1qgOK08Coi6gtQiiNlWA', 'Qi2vOSs7AIeen_zrWt6WDA', 'QiZCMGZEwVtg1ybOKybLhQ', 'QlSpPzc4Oy05ic-PsoYH4g', 'QmNrHxN7UahtdliH_kAuUg', 'QnTguWLRKRK_reQ__8k7yw', 'Qnspfy4Id5Vyd64FDQ9nxw', 'QofXroW2R5FzOzY4TdLTGQ', 'QqGMtc24VdCzYAajw1g4bA', 'QqbZA4r5g1vCbOxOAKJgWg', 'QqpzPFFHeHqyWSPZI-DkvQ', 'QrbS4LF0Iu5vApGAJLNzCA', 'Qs5fQqmc_yWmgZjHcadU7g', 'Qs_5WTpjfXI-BPO8F1s1OA', 'QtiW05WWmBv8MSpGymhcsQ', 'QtyvwZi6JiloDNEEH_ZxLQ', 'Quh8Fjutyw15B6ZGZEf2gA', 'QweyhrhpOkvsEsuMRk9JtA', 'Qwo5XmriFv2KAcNUwxl6_A', 'QxRKQ_Lzu4lMOejwVgcdAg', 'QzDYO-lJhX-wh74z6ajI4g', 'QzJRy39dMq844mPzj9Mlfw', 'QzoHxxiHH1HDOATbMK4odw', 'R-GbmmHHfAyPo1qs4jo0TA', 'R06MTQpLNdsnr5wrCkMXfQ', 'R0DxkEWJfJYBxkeEds9v6w', 'R0X7ohGqCtU1TTDK6bERjA', 'R139CFGp8mrBI-bYt14F2Q', 'R19oiRejCcgRzbeYz2UQig', 'R2hVz1386VvoPFLdUbJyDQ', 'R4i5FshghtTnTZC8EEbjHQ', 'R5SvHm0lJf3hlI9R-TTyAQ', 'R7eLlAdeIYsxux_Vm0l5sg', 'RA_Q__KAdk9rJqtAByUFjA', 'RBDZJkVqB1PrdlyTzfhyqQ', 'RBiJRcNC7NoDf-XYMFrCBg', 'RBiTzpD2em9zKwKTMNFoZQ', 'RBwAfKwvWcZ8NY7zKbzYHg', 'RC8NJlX3X2Eo240PU5zJWA', 'REfM-TpPnDSpgAMB_puQbw', 'RFCtxMNwO_8ONYnWNDxYqg', 'RHxhM0GLk2iTUsOINNzkqg', 'RKVYQ00LvK0_FO6Ll7lvOg', 'RMekqD2-hGWHCjXYvp7CSg', 'RMiE7_RB0yreZqTrPEgBMQ', 'RMn2euwrbfu6fpomjf31qw', 'RMnmALvhP_hzu-7iHz0EXA', 'ROeCBwuy5lfHUo8v0SMwSg', 'RPe_cSOxq_qkG-LbxBlOyw', 'RSAeqTx82wSZXF6ptK5fYA', 'RSndNUTD8MpDQiotoTS29A', 'RThuRlhMdowhtY8vITEIzQ', 'RUnq8jOzySCpRa5X64FgJQ', 'RUxAdd3mmNkejoTAX2YIDw', 'RXyBD1euUHNxhU3_LE7z6Q', 'RYBGhnFtyZGjlREEfcRFrg', 'Rc0uocoxDpd4TefcHw_X2g', 'Rcc2zK76CsRhQSAXCQusDQ', 'RcpBuH5LHNj1v9MT1JK22w', 'RcsfZ7IrWSNvM1AYcLmWNw', 'RdEb3U0CDIXElVJe3w5n6g', 'Rdj85mwep92VrZioUqiFlw', 'RhXKTksPWch75Bo1lpoLqQ', 'RhnBoOv61mYYtNKatNYgEQ', 'RiScY8vqr0jVInlHZNLPig', 'RoSo1r-ATvtgxd6sNJvzpg', 'Rp8D7pO3iTcd7zYV8G93yQ', 'RttisSZQkaRtR7vNZTTnXw', 'Rux4-v3zqD5lxCqrSa9Ewg', 'RvjO2u53pbFv7uCufPvNDg', 'RvwZqjdkZ_pER0moPXLZAQ', 'RwVfX993kWTTZ3XPC9Fi2g', 'Rwahe1zbFpw6VIjb5ngZeg', 'Rwg1NJ5r2bywahYq44bB9A', 'RyZ3dMJWuFMs2S7zw2C0Zg', 'S-WbBty-kGOO3Fmwx3Jmlw', 'S16YsO21x0MOHWWhN5HxAw', 'S1mm3JFYmuewmKfUK8M8iw', 'S2icYFHPsV_OSCvbI3YiTg', 'S4oe6TlWNqfMSBEL30Ej3Q', 'S6dARuOrrOXd4xSiTHti8g', 'S74fSVSCPSdWtEkROcVYtw', 'S7ECG2HNltSWFo1FcFTwFQ', 'S7FgGl3c4hkRFQKMjLt-Og', 'S7g7QxNIYwkhgZRRymzAUg', 'S8VRQCBrbZI04zjCOc1RAA', 'S8urdN6ACnRQUm-7o9An8w', 'SBnuECuWw7ucRrs0csIDiw', 'SDjbz2bE_5QosSaEIlmScA', 'SGapZBbSgSYY3fziaskULQ', 'SHHnB7GsNyA3y5dg-P-LMw', 'SHiJlYdxQmJur3i-gLf9MQ', 'SHlfx41Mo4dk2WR1VyT2_Q', 'SJjSUTQGn9e0b-RMQfE_Gg', 'SK3Med3bCnzwN3xm8vQo9w', 'SLc54id9GKnHXaT_07WbFg', 'SLjVCw1XCU9mLgD7yNeHqA', 'SLlQSsSHukMz4-3-eaOgUA', 'SOxdLaL1Hni_lZ5Ph6Bdtg', 'STWeDYptg4-GOce1lW9W5Q', 'SV8y4bp5HmgURzvUC2Rs9w', 'SWHp9td0gbD6bik51oh1cA', 'SXR6JtrHX518bEWLcqWkXA', 'SY7ZyPxidnToTEFbJBleOg', 'SYRHkzfM3E2Pa9fq3T0WTQ', 'SYkUrHf0AIcLyYBGBDM8FA', 'SZ8wQ0u11V3gCkOI8JEVCQ', 'S_1VtaSWcMsWHSLN1gIk6Q', 'S_VE4sLb8Tu59VYIgwc5Sw', 'S_VoH2qPxjm5l3MeuCgunw', 'ScXWzVisOI4P-g-LoDTaiA', 'SeQlCrKvyM2j8m_75gtouQ', 'Sg3qj0mhSEYX4Co3fVHHwQ', 'SgEeVAVCVpDKvGem7g8fEQ', 'SgsC2QjARdDAtt3gUzFBBw', 'Sh7ok5ymVZhFZ7GJXb6Ybg', 'SlXPlhPcmptknTcGg2dTGA', 'SmkYLXEYhzwUZdS6TAevHg', 'Sn09Z4N9FpfoBbLBSJlB_A', 'SpDSWxO4rLUCRAa3K6wC1Q', 'Sq7BouKjTovLesy6qewv5A', 'SqoscicPMzL5mJC5JNaD0w', 'Srl3TFbOAfa-9_1m_wK6xQ', 'SrmRT2kc3v5VUWKS3_IFBQ', 'Sry_u4nONZmLLcGOc2t2uQ', 'SrzJZMB_WXFAAzBdipKOWw', 'SsBi4mjcfsQJUMkyQlgg1Q', 'SuMi4hxed5qk-M8IklFg8Q', 'SvCjBtbN1cKElDKPTw9dOA', 'SvkZohb7zezIqef6oE14rA', 'SxS_XL_yi9c004nXvBuSjA', 'Szl3MsKnwryJGYuPRPMaIg', 'T-4MZRvKlF3VLDcjCqqFEg', 'T-OuUSSzWgrMCv9TUX3epg', 'T0dN9-NfwF_YD2fSQRu9AQ', 'T1EKhweXQnRP3niBrBL7Ug', 'T1J9PQXqfeG_skaaDV6O0Q', 'T1NLZkP0cJw2mWNYXhyvgw', 'T2jCFJO6DjtWIXkI1lcaOw', 'T3DcIhsOy74mmmtLmi-X3w', 'T45qonnG40PTVex3Ua2Q9w', 'T4648Rp4gRKqKHVzQgQ3fA', 'T4PmlxuoVDYekaqsFEG9RA', 'T5CdfrZWw-uW9Y5L_sddqQ', 'T6E-tJICIbne91FORVYA5A', 'T6qjr_kZSH8GECSoMbx8sQ', 'T8-13dD8mV2qUI53wsUL6g', 'T94qlaU0F25I44GuQsxJew', 'T96EG2iK3ZSv9ACiSFw4cw', 'T9uRUpoontO6YX-GoM4UvA', 'T9va11v5HvQDnEXO9k838A', 'TAB_NFD7pjjouJUlCjCvKQ', 'TASZnrQGjcZXIgx-cL8R-Q', 'TByvxX_5DZlLmf9Zs_j3xg', 'TCL-2Mi_mZyHjEO9haiD2A', 'TFdLM8R_7Pf1xVeBNKl0hg', 'TKDL0wiztnEr_rMkX8ZomQ', 'TLr_AFOnq4TK_qNGRQzloQ', 'TMirWwTikHCn5H82K9QMXQ', 'TMsq0zE6AXioad988gnMFQ', 'TNx0JxH4iQg5trqIUxS0_A', 'TOx5fU8QDEOVx5HpMjwpcw', 'TPGHJuQ3LBPNZMzhSCEq1A', 'TQTvBU0APcN7QMCZX3qA0Q', 'TQm3wSTX84_g4-BzdQ1jmQ', 'TRRmgX8mySv_y-DOkTZTFQ', 'TTnUoYDCQoTfldLs3AuTDg', 'TU2oECyx4VhCnzRzGzOlTg', 'TWk7hL6yCx5mYcs0Ys-usQ', 'TYZIMuHwhZo_Hizenmf8Pg', 'TY_kMmCM_3JSs14NFUvO_g', 'TZpTyyGvQkKPnt59PVUGhg', 'T_ogWFxPzlUsrqER_Na2mQ', 'TabGgpRrdIis5LDC70TIqg', 'TbDd4tvXevqZt_9cwgw9sQ', 'Tc-u6Gfbe78r6cUqWi0AzQ', 'TcCWYYL6FxBTT6KrxabwRg', 'TdTl_T42gbewHCMQVqZ_xA', 'Tdc2v9DBRRYeG2P_h9OvRw', 'TeaOjHwZmKYlD9ce1l-8Ug', 'Tim6t8Z6q5wrOeEdu3FEtw', 'TjJdpI5XX2zwHmXQbnEWeQ', 'TkJasaS8KVqPdcQRZdrdMw', 'Tl_jT2a0bRMac5_YW65GPg', 'TmR-n_tZxOnawWe6VH2Lvw', 'Tn4PV88E9jlC2xhvqN8zAA', 'Tnzc_72OVCdCc7KmfPOnHA', 'Toux3q1WwY2vNV5AhbR6wQ', 'Tp2jd64iH0v-vjEu2OWjyw', 'TpLbrBsHSej6Snb6LXDYxg', 'TpZO3sokGBg8mDYyTRiGiQ', 'TqL0ytKAucWdW2mR7EbayA', 'TqUFwP0mQJBPFHql0tLVsQ', 'Tr8TJnMoSgBvfZvmCx9-eQ', 'TrCiLMGy_bxbeAQcuSSUeQ', 'TsCq0UqOrKJ_ZJx7KKwKkA', 'TtbMUjZMMloSZR9l2TrcAQ', 'Tuj_q3-gFRsRzR1xxQqNeA', 'Tv2Hut47uZ-gg8ui6e66FQ', 'TvL29lvPQU5GtPEN-J0wIA', 'TwPSiv5n_yprOKhXm8ho5A', 'TwZL8gjnAJ3DXXnyu-McHw', 'TxO7OsgRi-JLM0D0RM3vtw', 'Tz4fdGixKO3_HvOh8i81Iw', 'Tz5a_AzxWx0gtIAlinr1Ww', 'U-2-_MrmHPawNcGRYRoDqw', 'U3_446QN2gdF87stGCfu1Q', 'U7LDMV0FXTuCPPBRnECuGw', 'U7W7OqdxF87uS_TB-obtvg', 'U8FC3Z_L_tHEUIvkwSSAXw', 'U8L8Xso7cMpNmbFMXm2V0g', 'U8s4-JWjZ7bNSlVEX9JEYw', 'U94MrQjZ3OVq7lPw4UQ70g', 'U9T07y8_j7PLk6fHSPGfOA', 'U9vCFCDQMQ8GFr5z48h8tQ', 'UBLPiSqVisiksxWg1wplTg', 'UCJpL9VFk3g1B2gjRlLy_g', 'UCwBfHy7YpYJdzoeYDCSqw', 'UDF-ISFu8lIZDyWvoR7nLg', 'UDqYqhDaW96-y7l79VMODw', 'UEY70uNV3BxMbxjNmg0apg', 'UOhDVL_aIimyHAFGOa1QGA', 'UPKWR2kaOne5d4AmdqdZlg', 'UPjwhZ3ywrkkhcZH1gbwHA', 'UQi4riVGsPKCW04I-BiRQA', 'UQlMO6GxFxpoIOWVnZUAkA', 'URmpCBod57A07npzwCp4bA', 'URpAp76v2SVBbDJr3Obasg', 'URrpT6jipHmoiJ6ITOPEeQ', 'USOUJ8IyZlBo7uF-2Spy-g', 'USninqjSauwQQ2T_FlkIMw', 'UTodxk-Mjmvf_Zc7f5pdTw', 'UTtXuA_bPa0w24G89SKM6g', 'UUo3yws6zY3OAEVZbirn4g', 'UVRCa_4ZjdPNoDubKRT04Q', 'UWi2CNiSSHrgsKfiI6qQDw', 'Uaa7D8zrRUQRhMZjhGXM5g', 'UayCOOGeeEi9GLz9v4rFBA', 'Uc2PqdAPWPMxe6_YHB4wHQ', 'UdE2E77qVQRLNxwSy9SJ3Q', 'Uda-CqNfow8Gh4rgtdhJZg', 'Uh6EhbFKgQlhVpfvnqsfHA', 'UkhsEU89RsOvEjYWrA_dcg', 'UkylJaNbvMENvL61dgwdLg', 'UkzDGNbsXBeSbyqtrX_rYA', 'Ul6JwluSTm12PVDIqnNaTg', 'UlAUTA0hVi48_k73HSeyzw', 'UmFty_GxdqVe35apYnmGbw', 'UmuyuqYraoB5WOZiev42IQ', 'UoiCvv12IfweIieRewC9pA', 'UqbnR83EtBOWK6unSZkeLg', 'UslSiDSUTCaq62FMpWK6Lw', 'Uv7dO93lwpq0MqGsu6-_XQ', 'UvfBeHic40rwnxFBvfAP5A', 'UyEJouFTFxcmYaHouhSGFA', 'Uz5BTOmRr9Za2btfFq9JWg', 'UzCZyYj511zKERJEpEk7-w', 'V0DJ2gDXlKl11VJ75ZN0-A', 'V1i0RczFgQHZZtY4a6AONA', 'V29Yw_j2j6VLXRUUZ3uWng', 'V2KKEJ9GF5D-4ykRJMnSaA', 'V2TaLceKiGwy-y7bAGzPuQ', 'V4NwBv9O6DWTl36ZKZrfpw', 'V9ALGxjWDwxD93Sklth1YA', 'V9cuDVUS1NCSfPmmabUkvw', 'VBhPgceaKWOXT71d3Jp38w', 'VC3Lel2PizMo9vqgDruBYw', 'VCncaRjqC6ZqUG7jAnODJQ', 'VDcfkHSR_Asv3onUsfBTqA', 'VEusQnnMJW6e8wuiW2_H0Q', 'VFv7NcPW9ajUTLleJ8wOQA', 'VGxJbglGlx-a7Gdc55Q6jQ', 'VI_8Wsx9ox4KeIrERgQyrA', 'VK4HFYuo86PqBK1XY6NJhg', 'VMmGHyGj7nuj16voJkfuJg', 'VN8mtUnFhroAbdUx2j20Rg', 'VNOosvcE6HN_dqSTqRicXQ', 'VNyrLWOqd8o6RdKs0I6Fwg', 'VOvcCzgnhyJ63r3Xk5gvpQ', 'VPaEJyi2hZJ6Bc2nBlhqEw', 'VR01T1Y7GN_swCkY9TmD9A', 'VRMNW1GXYihRxEnr1UI8hA', 'VRslgKF7uDpjLjdR_TD-LQ', 'VSNUFYBQ_wOFmRXZ8SeQ4w', 'VSZfpOFWhK4RcFvn_Ay1ZQ', 'VT8vUd-2s5IdvSNwhNHkpg', 'VTdnlbOkEKWSsu_pzhInTA', 'VUDwlypqw1-DTK_lfEP4jg', 'VUrhzdgDpFi1K6zl9VuizQ', 'VVTrM-J-3qSQv0mGJF5fbQ', 'VVbp-2Bs5_MGrjboTwpSRA', 'VVitum45kCla5xkyclh4uA', 'VWb8gk_DKUCDKw3Xsdq8Jg', 'VXKIx4WUGw3jNad0BOcFYQ', 'VXUQk-aRtFh1IExLqwtMrA', 'VaQhUU3P4Z5A3oYPsEMbkw', 'VcDKdOCeqAQNBONbl93sHg', 'VcSn9QkXjo6lFuT6PIL2dA', 'Ve6bA_jf9A7EWKXeyWf7PA', 'VgWvHMs5TJ2lr0ec2DaMtQ', 'Vgh-CjwAl4tFleP39OdzaA', 'VhEWjWUrcHFFNAyZN-TzyQ', 'VieHNwB0lXAHYYlT0r2x6Q', 'Vj7wI_yuB2QhECoriinI7g', 'VkeVbH5zcm0MBKuKtytGKw', 'VnQFNN_3wJZhd_EtMsOL7Q', 'VobZRj98tDH7AaojYJD8Jg', 'Voeq7aGDmCGMjE_SQiHwRA', 'VpsXhgaBA7-65Gt2zg8Nkg', 'VvMdpGdwnUCSmWYkNeMDJQ', 'VveJgvCshJios_o-zwKJIw', 'VwCtpOYiCKA5VXbKZhCSVA', 'Vx-MY3w0uGCgxeguw9F6Tw', 'VxRlBe2wjtycFWSZm1orTA', 'W-oHC268qtnU6qUrpKW41A', 'W0wraOfAWQj46ehDjCTeHw', 'W2cxJaoiztWg--sxvjWnKg', 'W4k4E2dbDN6bwtPPgNm-XA', 'W5LqZikASAOuLFeFveWpPw', 'W6TH029-LDmCRwuDqV0TYQ', 'W8N-jHFE-scka656EU3btA', 'WAagBTVAylf-LXc3PNoRZQ', 'WB1albu5FvNP16BAtTIIVg', 'WB8BmFMORvshjb7tBw0e0Q', 'WBqeV--xN0OjCPzeky4CcQ', 'WBwB_ydYDNHwwd5U2U8UvQ', 'WC6y30BJZ8CLjJXDL_jaKg', 'WE7UsbkilPeI8nw9ODnD-g', 'WFM2FE0THduTbnjgGdGDLQ', 'WGRpmHGkPxBnQ8HOZM7QLQ', 'WIlzuoVUtf_7qGmobv9SRA', 'WKlMFUCGI7dCysGkFLWvaQ', 'WL5n6c5FZWTdsLCE2GoGoQ', 'WLixYfXWO1Q0b_L4PsQ-5w', 'WMTo7sdKEQKsfrbRNUHChw', 'WPlanDoQbwZGEB2CmjAU8A', 'WQAQ6IrxRMz4U22Y79-CuA', 'WQtacDLMzqmWC4Ks6cMyFQ', 'WSAN2er3DhaZ8ybNStxCbw', 'WWYFK5rTkQZMOBaRFP51Xg', 'WXXHPnQ5ADn3mSbFmASHug', 'WXd7r6Yvjxhyo1L6R3lQMA', 'WZDQqw960DaMWDyPbtRFtA', 'W_0UsXpT_cES-_hAp_63BA', 'W_hc8EBepLQNbo-OpOW4Og', 'WcemqOjIhZYnHP7p3l0FLQ', 'WdjZK2Zti8mXSXXLYt-aoQ', 'WeoNqKlbRXB5UREWL8eAaA', 'Wfbk7jzfcVanr7KKyQp8zQ', 'WguIXq0dl03dUOaAkwEewQ', 'WhXlv34bw0-112MqSPmCHw', 'Wj-73Uu3U79CGK_H_kyAsg', 'WjkjrsOzMAQ2wgY9tVyS0Q', 'WkUTBoFgS-8jg9eV-DUkqQ', 'WkrHBKeT_01S0cCYjSwZrA', 'WnuRPyTEvILZKCAPk2UwYQ', 'WoiOpMEcbAfOqNYXqDwm3Q', 'WqV7zB_AbmUm9ww4f5W0kA', 'Wqdws1zeQYTzV_7jq1a0hw', 'WtO8eoYmrc2_8kuXanug2Q', 'WthUXmfVevQPMZ_LB2-q-A', 'WuDmJ54TYaQCtwpOfWmRqg', 'WuTdb365xF8kY2KAu6gm9A', 'WxHgUs1JDtubttO3MkQR_Q', 'Wy22f6GIK_L00NmTv2LpWg', 'WymLKyWx3t9V3VfI7itMtA', 'WynSwONQjN7heBpTtP2Csw', 'WzWNhdIzNW_BRGXk74WQeg', 'X-ITPkx_mvK1Tu6Eq_hfZQ', 'X-aqEYlXcWQj0fp6aGDP8A', 'X0JIra66e1kLDraXKa2Ajg', 'X2X3n0PutSNonQQj2cjsCw', 'X2f2s37_cFKo4xpzGFqk1w', 'X2lgI8CuVEsH5UDs14rMhw', 'X2wlWnV3GhJcs-Dnlxr2mQ', 'X3-ZauIT8o2tcoBHjYUKFw', 'X47pt6a4ID4aM2ONYdSW8Q', 'X4CRPHvv-33kjxVJISZpUg', 'X4QbkHl7pOTVsgLa7XuUBg', 'X4YG1pu1MDVSi07S3i4YCA', 'X6Ld6HChDrQN_4X6V_7VQQ', 'X7BA_EijhAWYCNuMiyNgHw', 'X88w0XrUSIKue9Vuwtqs_g', 'X8AGCsJHw-GuTqkzy2J3cg', 'X8KLsPEgLe4FuJwRU0tPag', 'X8c8Fp6d90S0CAs1X_6Cnw', 'X9Bql7RrPU5Mab5-hJsI8A', 'X9WJuPwL1-k1VzExlGXdTg', 'XBVp2d7UVJRxc70QcjvKIA', 'XHVwfpAR4cna4zboZ5rPtA', 'XItYW5ul3OW_AqpT2nDbBQ', 'XIvOboURyF-hE3truQjdqQ', 'XJfvPt-8f-6d5Foaz_HYLQ', 'XKOAi4J47i-YEhhHfKkPRQ', 'XMCNABugc_Pw3g4LohYZww', 'XMJpOti7qAamQFfHJwFBSQ', 'XMNdO9lFw3lSPO4gCH_qvQ', 'XNWXyFgCGaAwvg9QML2Ypw', 'XO8oVmObhdsGT1Blrby2-w', 'XOvQUSHUjE0KkUuwDUR5OA', 'XQ1xXz3VKk5FQXNbkxbO7A', 'XQjigVIJSnsXXUP1igIeEw', 'XQszdAN4UqqN7OiO_qilxg', 'XRgmzlUmapUGjs6uIWHgnQ', 'XRgzduso-c2IcF2wndeEHw', 'XSKvC2PfnTAXCAxGQDhOJQ', 'XT16NlJ97M6pFKtN_SOQKQ', 'XT3dn-9UsGhiEy-_ZU_M_Q', 'XUDOc980cjB0PZvVS-T6Eg', 'XWRhaOGnRwHk-FICdbcCfA', 'XY5r7aptxnh-Q-OdVNk1mw', 'X_3O5pHSI-w-F5yMJOldlw', 'X_XFv1Ct6cznxQy9u8Yzxw', 'X__mjN8mTACUdp0Sy806hQ', 'XaTts7L8g57_odPEFuwkOw', 'XaeCGHZzsMwvFcHYq3q9sA', 'Xdoqt46KMRBiaWWMa41m1A', 'XfgHILSTiFuoK69Z4KOcJg', 'XgkTmVrlHHO5g96AfOAfpw', 'Xi94a3ODU40lSQPd54Dh8w', 'XjAb0mxgCtq96pWWJjUBAg', 'XjwgMrBeBeOKQTYiXfRYLQ', 'XoXMsSRtZVMiDVcDIO5RiQ', 'XqNDr54eLDLRfZwo4l4dVA', 'XrpWb4vB7-1z26OreeCD2w', 'XsYLY9LLaFB45MW88AyUHg', 'Xt6xo-UmJhYtHiscwRnw0A', 'XvyC03LtX2KPF1Thoa1HQA', 'XxVG5P24H6-qkB-QD4n5yQ', 'XxmziAeRqMKwsDjyyjVgeg', 'XxnJZbFBJ8BKPg0_4eJdAA', 'Xz0HTTnKuf1BW26CmKA8CQ', 'Xz5tTSD3X3gACOiVn101tQ', 'Y-bFPmf15jvrE8ZP9OCTgA', 'Y-c1m8-0Sa0xnYpm_bRxWw', 'Y-vxPbvPKcaLiYa9ZBXoDg', 'Y4UKJsGR5Xu-WHSxqdtflQ', 'Y4UYb1fgs7bLbSp08amiBw', 'Y6Tu9r3AaEaX41BRATQLaQ', 'Y6ujotEhfTZd2JPZmsQ-Ow', 'Y9iuqd6YoGmeJYh16BlLXw', 'YAci8e4YFgaVYyI1mDpp7Q', 'YBddInm3xP6k9iOowm1EHw', 'YCzmI2PNDO3Dk6mr3cEwMg', 'YDJGN_WXkXBAp2LTXvjyaA', 'YEPMbsrZrp_Y_d0zh1Roow', 'YF3MsPifKWOMZ75TBFE13A', 'YH6hDo64_CfCcSBuCAivlg', 'YJ_d4gjHPFv8Pjcoq5vZwg', 'YJiTSFne6mpbKTNF1hP9vA', 'YKOKwx7RgJ9SwDC5MdI2gw', 'YKvRkkluFUMCsFwUyp3SVw', 'YLBW5aDryoXP3Haqc_2FLw', 'YLnrLMUGa6PJZFaOs8etEQ', 'YO0wmR-mgb_2dNCSyZFoaQ', 'YO8sWa0wYChH6DQWnE6NFg', 'YOCF_ZKz5BBPrsvjBGET-g', 'YPrFKB9D9bvhVd9LeDiJqg', 'YROFdvPCaZhSRzYg9u922Q', 'YS1XX9AONq2hdBbU3T-uGw', 'YTyAiyMYjJrsLqf8ErsRzg', 'YU7KZJP0LsLcvU4eIHhtfw', 'YV2-i3g657ZP-vDER2dv7w', 'YV2UPfovJZVKSEQjgTdbpA', 'YVYHX7RCPjCBqEth2CS91Q', 'YVlNo_aIX0CNp4R7ZAKbFg', 'YVrGlYTCU0ET2n_efLb78g', 'YWLkcMOx6YmCxDlLjBG8eA', 'YYEm5MR6HMCQYI0k1wVnXA', 'YZItTPlVWeq13bfAJtT2-g', 'Y_SKyssv8ClQ_p25lCsbAQ', 'YajT7NNbaexIbXpUuQ8a9A', 'Yajo9-m23_0axIinbB8ygQ', 'YbsnQgu_3OmNYsCMXegeHw', 'YcXp3IMt3qgmCH5-oyXuOg', 'Yej9s79KJG5r8_aDjJcVlQ', 'Yf0rRaOWWGrqvTQ2B3dE0Q', 'Yf74t_bR1mhRXY03IU6OhA', 'Yf9ehzxrEWiymvUME6pm1A', 'YfKZh6Op-PmuKyzZu_DMGQ', 'YgO2v1VNtbPA7zgp0szJXA', 'Yh-3IjAFCgq1Ubtdo9TDcw', 'YhBigRwAFdRPIQxWDjZOrQ', 'YhHi-4bZfhjbS505OYi6iw', 'YhSQVIUT0vwmVsd08BwVsQ', 'YjJnGaqvCpxspBLxXrOA9w', 'YjmbCvygeMj9dfJp6neQ_A', 'YlgtEY-SRQZZkPT54Tdbzw', 'Ypsh993XXes9DZ8Cpyq5Fw', 'Ypv1D8bYndEMGvZDBjIAgQ', 'Yq0LCrGLjJtKcwBu1Nta6w', 'YqcgdLRoTwS74fPv-ZCRsg', 'YrFYBMWnRWkRpy9XyMfMRw', 'YrqtAT2__95zzkuBlZQTBQ', 'YsQ4Abm2E7lozSvP3ZfVWw', 'YuEkAjS57Jv8C_NCMCLDUw', 'YufWhkZQPC6As55MuXTU8g', 'YvCSy44tck2FebK5ScZA3g', 'YwXqGKiD9axunX1VlJMIsA', 'Yx7nuv4EVV-99PT1oR2AKw', 'YxauC1iB9ZU4eLjbEcYpxw', 'YzqV61exMv__mjobBV2g7g', 'Z-6QSR2lC-opp9l6HLYG_w', 'Z1ZVUWKxPd1r2sZ_XBa5eQ', 'Z1etKi_kBsMr3oGolRrGaA', 'Z2NIEKTVVP2nEmOF4jNxqQ', 'Z5DCk0Mg4eIUsKO9F8DdVg', 'Z5LyFZUazPQ1x_i6HsS3vw', 'Z5NhdlLCu--leud_OLcvIA', 'Z5T-muBHTERxj3jFqhiLHw', 'Z6_gRH_m8FQlKgsNkZKmTg', 'Z6pNPcfT9Apkk-DE0Ent5Q', 'Z72HJNd2OwCOHa9XMD_REg', 'Z7kHDygKJ4kGxdkJc-Nanw', 'Z86jtdt1HViqw-32A4qs0Q', 'Z9FR2A7RzBf1nxwRdlccJQ', 'Z9sj68sa1c-v1y4oKoOH5Q', 'ZARPISrzPW6PrMSwexHnxw', 'ZBow_7ssh7tWEAyLIrKGtg', 'ZC2em4oa1xTsGr5wnu7Z1A', 'ZF6gioeymIcLA927GvCZiQ', 'ZHYSz-c2GEbCfQmxTIZ7gg', 'ZH_QCa8_ryVdIb6sSsyCeg', 'ZJdOOIubTizd1eqECkeK-Q', 'ZJjcyXWPg_d-jx7obAtitA', 'ZJngxOwJDdz1Y_wGv0Wl3w', 'ZKBUoCqTpwMtmImz64DGyQ', 'ZKOfflWm-dNwuFUuFNOUnw', 'ZL6BK8wweb-8ncJ7kFIG-A', 'ZLNa4ehr3fXdXfnlT7YVMQ', 'ZLrDrRo1Vy03HJka4KVb9w', 'ZMH9VRSRdGsECRjxFYpLqA', 'ZMvs7F5pGh-A4X2j9_W6kQ', 'ZMx9_sQydPUj5KGvcm73Sw', 'ZNdV9ytExuxPTXSN8i2xhw', 'ZP39Z9C9l47QaiiXlRSrNA', 'ZPAnqqAKLjg9uCN6Rk1lfg', 'ZPVhjltJcQ-YnaoV-h-FeA', 'ZU6pUJNBGXQZrWD9zEHtuQ', 'ZWbJlxV7sdxBBgyw_-4vVg', 'ZXqiETQpe--0ufUW9B1xCA', 'ZYL14FvffzTKU9BpXQt79Q', 'ZYcBEhCSfbLOUM9JbHB9FA', 'ZYof0WYlilJ3pgWNSgmYKQ', 'ZZ8sAXHb0gX-c81Ea1M3OQ', 'ZZaWT8wUtkdBW00MiXru2g', 'ZcYBeh-_ubSsZLJA97PSLA', 'Zd9VJFJjfaadaJmCMFv-RQ', 'ZfARN3QejrWsDJu3OtRdkg', 'ZfCzpZNYSWeA3Ouku2eqlA', 'ZfKNMCmcE1Hr_iFgvZa7Vg', 'ZfiU0tULRlH_DasCpi9Sgg', 'ZiEn3McAAbapzyAV0c6qWg', 'ZiOvvKr0gwp3qH7Bu3YyTg', 'Zja7ykq3icDzkN20XX6j1w', 'ZkzutF0P_u0C0yTulwaHkA', 'ZlJOw8MATVLyQoRcLKKwrg', 'Zo3fwmOUaDpKvUhLNp9erA', 'ZoFnfG7yrQWpvGR-etdGTw', 'Zp2vJfHciG9IiXfmtH5Wdw', 'ZpymIplQK7xrgb9VTa6O2w', 'ZqP_j4ZTFSN5dkHYF0Lobw', 'Zs-Gk02SPk_CU7NgMAVTJw', 'ZsXooo1ndVmHWb9KZfvkaQ', 'Zt2cMfrgRaSbYdC0OSh4jA', 'ZvEJiX8HBIForfbHOfqpmQ', 'Zvlj-r49ftG7FNCpxKoUiA', 'ZwuHsufvw1x5rd2c-qyw2w', 'Zz2AwpjN3HA1-L_XUC5R9g', '_-W_hRQRDEqVdO1WKGa-DQ', '_-Z2zPiuhw3V2RixPZ89Cw', '_0W9-Gkjkcct8vcStBU7iQ', '_29kWahGAxn1QzMmxOCRlA', '_3-gItHIdBvQ9XrDrIQLXg', '_4l36Tgbmoroh3udeXU-JA', '_6C-yZCmIyOmPESJbwyaSQ', '_7nELtYw3n2DzMN8252lhQ', '_82041xhXs6-_WWT82BA8Q', '_89bhQB_KjkJxTBn1A6iPA', '_9DqfW3Nv8Brb-1fz5XyOQ', '_AAzQeNJ4E2HIxM50qdwBA', '_AKdBFzkl7GY-daxUCCbVA', '_Ahg3MfDXfKrh36NUadNbA', '_AqONUa91mBuuxS4bgSRBA', '_BVsHMWSF83bxakE9eTmhw', '_C-KsbyON91RH6cWKUfT5g', '_CRy902e981MZOCngYf8Jw', '_EGWxiD27k3ahcFpmbSjQg', '_EVOLAjWYEfSOO_smbBxaA', '_FH3osvpPRnMv-K2u6ZM3w', '_I-z8EJ8rpXMmjTuCr5oqQ', '_IAxXD30S4ODGh92m8tLJw', '_Kp1IPTi17wBywYOd30raA', '_KuufwYUWh0dha08LoCVnA', '_Oe8NDjmeYkkHFs7f8CekA', '_PKa6Dj06Q2AHKGkpJ7GnA', '_P_Hznxd1vF-agFXTS8KGw', '_QJW4P0zzCrhKz4nZ3nd4A', '_QkGfsQaQbuyUf-hy_2muw', '_Qund-w4OI9StNm8P-rk1w', '_R1jBQQieKpNGMBqmrLRyA', '_Sx9XCDistFkOTq4ZHm09A', '_T2Aa3Vf5t68PqqxvzoX0Q', '_Tn9xzE06-7kDH2CzRg9YA', '_VHU9KZUHRLp2Hc2JOKlYg', '_VYUU5HPLYasd-xdKLimNA', '_WsGlZnbXBdPcs0qM2Qm7w', '_X8Hh_lBn11s2rhEUyhrUg', '_XAoV-292ygR5Wb4qssyDQ', '_XlO-uEB3ZMA19Q8Ljbipw', '__sXvAzVGUsK6AyzT19v6g', '_adbswq_0E8MoJ9eoVf6vw', '_d69ooWJ_7AXYQRvVNSjmQ', '_dqtEOTelXt9tfmP_9Ar6w', '_iUlt5rm-15QoLw0MEEg5A', '_in6pQUIS1Ec57MXTPn7KQ', '_jdEeATPzBYYBM0Y9W31Bg', '_laY6Ba-VWXCR6xg7LVtuQ', '_rKz-rQPzUAIZWlUHCKgow', '_toz5ca6UeEMm-ScLakofg', '_ucDskZqK5w1QHkoA_nlRw', '_v-ohI2mMcUg8-3p3b12Ow', '_vzNvnj8ob0hAk2QXEv3Mw', '_xynpPYhVYDQRtt69sw3sQ', '_zFva1D3lgJPvT-8vGQQJQ', '_zrquX9OooU6OmYH0rr07w', 'a-YTE0oKRdIq8GdQ97X-_Q', 'a-iENHYNgMdY65p9tZUj6w', 'a2ACZqoFUxxd-rXsAac2MQ', 'a2qlFwIy9vUvfUb4EnQNmA', 'a3ZqjElMgAe924sbXZVcvA', 'a5WXT59CESSn5KI04AyKTQ', 'a5mpYojV1dX7XCkAa1qq1A', 'a5xUI7TvsNhM5gZr6KowDg', 'a6iD1btU3fo6P6UV-YFLsw', 'a7xD9CEepfivEZAKrCEPbw', 'a9BXaz5Dqzm2qXVYAEbKlg', 'aAezZJlhii3kDhtxBTXNuw', 'aAkoJKozYZEyBx58wQ-UrQ', 'aDHD7nASfqiQBB6YXy2aGA', 'aEH2WZFMzLcbJmTiu1urMg', 'aG6AXBnvk1NrTKCbon63mw', 'aHVhlCvmlNnnPf-LgclNNA', 'aHuGV6FS0j8_1_p9vFeNuA', 'aJwVO17rF28WPCWes9qCkA', 'aJy5lNyUJjAbdsMrJz3YCg', 'aKMpYHAW_949EKIa8Xu6nw', 'aMaTfq-8li4OFvX4kAQLhw', 'aNFEAh4xClhLYK8K4ZDpCA', 'aNmMmHPZnD_8WiPdAd5WqA', 'aOZYec5EnkEMidIQJI0h7w', 'aOgZsFAm9_-uWIwD8iP6aA', 'aPOjdQgYk5gS9YbhOGwpwA', 'aQKix0iMREiJsFGr7mH1mA', 'aRk3GxpInAoTWShzpKxcdw', 'aSDQk0wjskLdQRFg2TBt_A', 'aSb4vkaMh7K2lHhnV2UIag', 'aTysOdHgV9ghIR48l0nyOA', 'aVtsHIXy-Q-Swf3LtYGNXQ', 'aXWN4oH8W-MVDchWia084g', 'aXr_1TUkow7ef7ddrd7kYA', 'aY8xiGLpTjIkz6FAJbCy7A', 'aYEuMDcx4Ct45TOK4YrOuA', 'aZdHskuurZJXQ6C7oiqP_g', 'a_J54DOnr3lv6rWRLYGj4Q', 'aaPncz0ICB85up3HUl2TEg', 'aal0SiXVRmUoM20A1m7xDw', 'adJc9AzAa-kM7PJFulokQQ', 'aeomionBr_VTsIg119vtSw', 'afKXfZ1OioxbW2Ep7L8edg', 'afXMX5llxcMFzbaPaBBm6A', 'afdthOntL8hfhomIFX-NWg', 'ag14nKgG6m3qhvEWvqaikA', 'agINEgy0jHy5bkg4u2HOCQ', 'ajDnwze3tMd8c_xydIkD1A', 'ajYmOIDZUd2SZjuju3lXzw', 'akM4t6P-ssqsRevleyY_Fw', 'alfg8YykqggAUbeyd2nzmw', 'anMopnoKLimdtD4miKInBw', 'anfgvbiobw4M0Wnvx_os3Q', 'anz96Ltm0hcw_wvlFM1Ihg', 'ap0GRotcSZ32qL6UZrZTrA', 'arGo97Zk7YoHbFGKDFUFKg', 'atE68d1gSZf3849yIGLBJw', 'atu9bo2flyoM3CzihE-OlQ', 'av_-ePHJwSSqMtTQbNoL7g', 'ax8kuBZVtC0_eCn_rN_-6A', 'ay8R8W91B7Mm-dv4O6apEg', 'azE1DNVQFBU8boVbaJhj7w', 'b11JJ7UdR-XxMFYNTnLUaQ', 'b2ZukyGCS7xDlv0ZAlXdYg', 'b4Atbd4V8UKEoXzhbL-o5g', 'b50wGo03MpqkcrJWu9tqxQ', 'b6DAp8hLHpSHMi2fGOB7Lw', 'b6WRBVDieqwei4wC1rOsnA', 'b6vi3Ub0tbGzGtG-pVgJfQ', 'b8ublvizuqIw3Ib8pK4fDw', 'bAOWxEeLaQre59MKZiFEIg', 'bAWQmZgMggH4HTJnVcpLPw', 'bCVRNEKQyrQqMRxvsiztyg', 'bCa0CY4F74N5lCEVOquKkg', 'bD_vqSSU_abcCT0oCzN1xA', 'bF1BnDBMLDeoJw7ani315A', 'bFBV-rYwr6qKT7u0ovZhQg', 'bFJ7deZsWKgFF1oyPIDP6A', 'bFlP7uApDamdiVHwX8OwfA', 'bGgHgOU_3l9-wdCrpX0Sng', 'bHO7WE9WgMT9USSr7ZI9JQ', 'bITJXsOT4hCqahJc1dHMDQ', 'bJGtHxejEJboO2o_DtaPEQ', 'bKj_nnb2wyXduNoFXDeR9w', 'bLva9YGmDcnar3YKHE2XzA', 'bO3VN1ct-6zD8Pd0AS38rg', 'bOwvJUb8A9MekXsK_SrftQ', 'bPIjpjmRE_eEOLBxXcHc0g', 'bPgTfiz471yWJmt_rHElkg', 'bQ-sXUqPSr4-iJfB764Nzw', 'bSdLGMzfyNa5PcwH_00_CQ', 'bUDT4MNe0Gapt6pq4w5wlA', 'bWfwTLWvrGd1LPwDKzq1WQ', 'bXCWON2Me0o86qvAb-XZPQ', 'bZpVmhdKkNCDpdRO-bFMfw', 'b_9JwE1v_F2ITOmDE9R-0A', 'b_XIKJ2nNzksuWhfMTEehQ', 'b_xFN9mtFWHUbny-GoiErQ', 'baedk40VCeup34ltsDsAHA', 'bbovSsUMkTXQSIVNBa9moQ', 'bdNyoXY4yJ99derJRqhP3Q', 'beIMwKKAzii12mS6MY4XgQ', 'beb_QLcQySKwYFPyVu6eJw', 'bftSQN9eaE5EQBe3ZztN8Q', 'bgxRrIG-lMfptXUcgl9UsQ', 'bhVReN50h-lLfgIWA5Ovgg', 'bissv52dx3lT7kAgEmIDEQ', 'bjI3a8pqjEgz6AUfI3JHLA', 'bjr8Uyi-r6xDeXVAhSX-cA', 'blq-6xx8vKcm1Va4LFSORg', 'bm8-Kriygv-R8DVCmKzoOw', 'bmL6FRO9VimRygNsMHDBnQ', 'bqCRq4gUpBk0mmMC_Dnq4A', 'bqW0f0RigwpYyz1lbxhHlw', 'brMkNXBaa2aZWMTjDV-9ag', 'br_d4kDitXax4QOb6IaXPw', 'bsXRu6wXmn_pRAGToCEPjQ', 'bsXdGEeHJPDkyIzAk0XnCg', 'bud7jZeGsrzv_3un3ov-mw', 'buzXlOCvxtohdMD8g3EWsw', 'by7BOr074_BKz7hkRIi9WQ', 'by_MaktiYQc5oDPd1E9uug', 'bywPKk3pvRBxwMWrFVD7Lw', 'bzy0JfNunYNyH8CYDUFpOA', 'c0yPNU-BqS65u0vIKP7P0w', 'c2YDEpYQ-2IqB57tN0HKbQ', 'c4zgJxmqz9nbBHF69EskSA', 'c98EjK4wKpKrGrdZibPq2g', 'c9UmJiX2G7hKMpivZ3h1oQ', 'cAX-srNrvlifjfov_jpQ1w', 'cChJhpiljARaINk-dyXGiQ', 'cCxedEjAHQO6h9eJ4KOobQ', 'cDIVM9ho73XXpVFzRNcLIw', 'cEtvNfDOSjvT7k_-fe8ISQ', 'cF94J7DhVdKWGMkDYmgyxQ', 'cGGVtODSGDMhj1G8UylfWQ', 'cGQKUOAZm_VHcQOJWbatog', 'cGTex3CbWSS70YiDT97bVA', 'cGtl3aOeXXSZ4xhWiDlV4A', 'cHEwqPrYvYGuES-dBwt3Kw', 'cHTQwW-xsBVfuat5IL3dsg', 'cHcYk5bJn3Nh9ARJjQVq8Q', 'cJF_93-5f5IflEFTlN4Viw', 'cJREFoHP-dAYmwDzfWOHbA', 'cK1HL-8VreiF4K6ZcponLQ', 'cKM7-GGHYgXwTG4qjZ8xAg', 'cKRGB46UJp3z3TgVlzk4tw', 'cKbPGglAjIGG6MeVy7n8XQ', 'cNCXUYQd3kFR_AyfjTejQQ', 'cNz2tTTAPmdeAq6HnGeo8w', 'cPYdwElCHVU794t-Cs0ToQ', 'cPZ5ugSrVrqnqD5ZsJhnpA', 'cPcUqzaNRtTLIq0E6LRqfg', 'cTYEiHz8AEOpiwzDY9ngWQ', 'cUfSGsjKP7ma8FbFqTmZLA', 'cWPk6POuAaK8eYrwZVt5TQ', 'cWsgD-u_TvTohsx6LSi9aQ', 'caGXS6ubNTlv91ZZyoirjQ', 'cbddL2q8uRA38RwycB0FJg', 'ccdcyzc1oSucd-qRlnYR0w', 'cdX8lf5BsJjpC82dzgtBZA', 'cduxK7fng02Xw9Y9uA4DGg', 'cdwJYqlp_NjS1w5Tz4J5dw', 'cfjkP0icF3wdaOJQJUy9sw', 'cjKplU8iMakS8Q7ZorzYVA', 'cjZfgcQwA6KmQ_ANWKN2aw', 'ckZg3KVwR9FrAR1KtTavEQ', 'ckbDWYPT8TP7etP0WHU2Yg', 'cmXobI_mF8TFVQNeyZRGhQ', 'coCyzypaxobGlLksfpHzZA', 'cozegmdHNzyxNqUp3KVKUA', 'cpRiIxqubDa4JV58ZR7-cg', 'cpxobfqM8IuF78WUfrj9_Q', 'cqPrr2uDMLP9_cPbIiOSrA', 'cs-bfjBie4uwCW99yZmlqw', 'cvELVLQ4jbS5Qqbm79IxVA', 'cvLS5XdoeNluAiwBBm6opA', 'cxCxWI097kFvORVhCLd6kw', 'cxVp-a28Cp7lavjaPMvK5w', 'czJKX4DmZR_1JeRmPcnmbQ', 'czeihVQNDXMlAq_H5_T4sA', 'd0GmiP5cai20VZr0a_bNnQ', 'd0aLkD3VQ3sijckod-oSDg', 'd0ekT3vqs5MbAJdjJWpGSA', 'd1-X_lnO4e00Xso0LF9Zgw', 'd2ZQRjuizstCTnicysmpMQ', 'd6Skwa65ZxoO0NCBbzKlhA', 'd6zooCvFxThM1SGye7JJfQ', 'd8EV5R3pO3Dk5mJ5Rni8UA', 'dAa0hB2yrnHzVmsCkN4YvQ', 'dAcaMSkrpYUZocqrLvOzRQ', 'dAgImz1R-BKwR3sYhbPqRw', 'dBCDRobULrxeSDvQyudcKQ', 'dBtoic8Pr2isipH0O4Nx1w', 'dCBAubKHRb2hVuAoRhEQMQ', 'dCPyV8XCEyE7pyUgzOCDKA', 'dDLRhywKVjnSIFe4H5tu_w', 'dDW4Ou_cT1aBMA5JcRuCSQ', 'dFIeUXVsZuOsNCPPjPAdxw', 'dFKc6f1RZ1AetOuXk6kWEw', 'dFO-m5EkCYXr3kztC1d1aA', 'dG-N36uSMeoqCrU27At-Qw', 'dHgbL5EAEawIcqk6aXe2Ow', 'dHiq1JliKgh_3z-KnTpCaA', 'dJfLjGPxHdgJKGkCe0qgtA', 'dJhfW7ZqZ5_klqA_8ypHVw', 'dLAxjXghBijV6krvKt1RHQ', 'dLc1d1zwd1Teu2QED5TmlA', 'dLwj3_1dolUn6HwVQEw5uQ', 'dMKrQ13oZHtrkHMSx4EpEQ', 'dMLGSQlmo6MhLD18grRENA', 'dMnAXZ3XPMNgAQ9BwXCFBA', 'dNY2PBLM_iuCxM-zMkte6A', 'dOLmP6JyOQH8H4cTKwZ9Tg', 'dP8_X1zpSo3rGarHMyzQ1A', 'dQj5DLZjeDK3KFysh1SYOQ', 'dQo2dPQyJE4avsILYYDCTA', 'dRJgJylofavL0i3xq1wEbw', 'dSwOo43YKAIvp0PjNXdW2g', 'dU2a2KtObGhcqzEqBL0Mig', 'dUeEAGxEwMv1Tafj6yr1BA', 'dUpQASSr7YfrfW1sB9Y-UA', 'dUqWP5lD4ubaNahijWJ_YQ', 'dW79jPJVpzlTKGF-1JAsaw', 'dWB0HT1nXQ2N8n3bvPKJuQ', 'dX9KSdyqBRNYbWzDT2PTkQ', 'dYlBcBLp3KY5Tc78d8k0ow', 'd_xS_AZ1uqO1XHY3V51qtA', 'da62X2tpj9tF0olWTigjBg', 'dd88S7tQtZeDce61KqcVyA', 'ddgdt0ab4xY6iIqI5eX8Zw', 'ddouZi236BpT15DzXjRHiA', 'dej4yx6kLGKkOmP91-fBkA', 'dfAWV-VltqFxkhlYu3PekA', 'dfVmClBit5Hd7u9_lFY1Lg', 'dgKjGMbcJF5WvOlyKcw1yA', 'di_tqAB6F8AsTnBFtvqs-w', 'dil7Fajn07B9e_msePW0nQ', 'djVSTqO5Kn3LT6s6tWVeSw', 'djrCgIR7zrSrNfMzIGHdOw', 'dlcGwaX1F88eFbAP_YYE5A', 'dmXqQTEQ9P6muWLRvO3o5w', 'dmiSOfKvwfjNHMQddKGG_Q', 'dnhjXPmP5QDovnBfVmx7YA', 'dog6sPiEuJfG7DNl6WwcxQ', 'drquCq18pgKu1lv1UzJJAQ', 'dsN2yntj3IGJ46U0x6DvwQ', 'dtwgOhP498xDsXv2vmdo7g', 'du3ByDOljqO31wgRkvX5Nw', 'dulPV3NFShqR-lla6NHkvA', 'dvw21oJvQ4cZCaK9aferpA', 'dw0y95zD-ODAavckvGPP9A', 'dyM6G7y6Sis61FW1tAYEPQ', 'dyaSQBKagPYylOJxsU8CMA', 'e-ZkvfbMZi628OKVcoFOAw', 'e-tVn_DJs_t8ZIeM0Sq36w', 'e0Vvrs1M-oMhNBg_8uc6ZQ', 'e1UamnCdP9DdJRF6kOk80g', 'e2IqS9_G0Hpulw5ItU-Y9Q', 'e2ng0CQ69anIawqIKzhtlg', 'e2zO5THDYoDOcyXcWnQv5w', 'e6abKOxJ2CyEwXLq2tI-yQ', 'e7M2GgkCfDYTxdPN1LL1sQ', 'e7oOEdxosDy5NG_XxdXVAg', 'e80gyXsUZ7__eAuW7JEj_A', 'e8kK01COAK614-RuKlXHug', 'e99Za0djJGKUFGkoFAogdg', 'e9KXojla4OuVP7qcC5LNsg', 'eAMS3aG-3SDEazg9vJTwtA', 'eC-duRpbiVsCD14oGYiDOA', 'eC0iLr5RxpZPmJ6NGSqijA', 'eCBHpk_jwbaxf1Q6uH3moA', 'eDuQMHorChFKUu1Au-xhjg', 'eE13PjPNjRdIcOwIQzqjnw', 'eEeKRTNSHfbpG6E9VDnJDw', 'eF2jf-E5ktRQIh_4_-Jxsg', 'eFos_qY9NM_zRdtKmN8fKA', 'eHRdn24LZYeRDSOQeCQtHw', 'eLp6aAgRL-tWM2wjRdPQMw', 'eMIX3ldCrPJymVenND0sDg', 'eMM-RgsmMGDxs353XpC3fw', 'eNsM5ezjhPQWI6XlUGrUhw', 'eQAp73ks6V6VmsAbZX4RJA', 'eROPfqFhqHh2wDvz-5O9QQ', 'eR_iL_uA5vgL0zTbg7JR6Q', 'eRoOfy-lQso6N3GiUY_c3w', 'eU_713ec6fTGNO4BegRaww', 'eV2T4KE_sOxNhtyor3t7Bw', 'eVCaX_hbNVFjM-XXahovYA', 'eVfiw0hygDAz0wwrD9f_zQ', 'eVyEkAUx0BIFf_c1MVeUhw', 'eW6HLU-M3xJOpGyKLrWxUg', 'eWer42jEQGG1o8mNQUk4Kg', 'e_wiw1wi4MKm2Wnk08xiGw', 'ebDtlHODMCNmV1PrdNXKnA', 'edksZ0oSamGu9_TRhdgerw', 'efK5mjVPxdmqFZT06S4dzA', 'egxK8E9T6MWLxJyD_iCIVQ', 'ehX704h8SSm8hFaYVyBuAA', 'ehaoreB8IzKY8KvRGqxcUA', 'ehtDfDwcOBghAKAjgWlg4Q', 'ejaUQ1hYo7Q7xCL1HdPINw', 'eog-ECRuj1O1II13t--36A', 'eq361K11v9zhH459lomlWw', 'erR6AGn1YcQrnEzivMjlUg', 'err0FvoRGGSqORd8WRtppA', 'erx8tQ0Wdc5YM0FddaKqKA', 'erxmOSNUvDCmglakNyWfKw', 'esF6vzW_Owwxj3s5I6nlvg', 'etO9sOm3q_Od3NT-B7EXDA', 'eulL-ktjA-YlcF3vWeW7vA', 'ev4frBEgYDHiNZPcdYAIbA', 'evWjIBX1XbGHVfs6x3dr0Q', 'eva56motCJcevOwKzyQO1g', 'evakMk_jHxl2vQ5gvI43aA', 'eyuwonjRYH6ZtCHhORWyFQ', 'ezRUyWOqbEYa0CecFqIQiA', 'f1K6hzQecl-sJFYRUHvDDQ', 'f2FfutZhb4F-m1Ob0EdYaw', 'f4Fwv8ClqR35p5chZWKSLQ', 'f6H9bMJGTcqRsm9t3_yTSQ', 'f7M0QRKGW4jh6_zYDqFUxA', 'f7_AkJ3TJHfxXJdbK4bNAA', 'f84Wh7dq6ex1rryPgmvPiA', 'f9Jspd8aJ7GMMMH1Oianaw', 'f9R4pZ7BNWnYIAX3bK84pw', 'fAyRPDQnvG7_PIo3GFAgzA', 'fC9g9BIyb0GTQFqnE38beA', 'fCkvpPqOziXHHu-f8tbeZw', 'fE9qwymLDKUvTXiF99jNNQ', 'fHH836GXPlnwnJL14ZpGRw', 'fHMDa3RhQMkTek4NJRssvg', 'fIB2hpMHSJEj8iCE5qbDuw', 'fKNUmyXf8iH1c2VbupIyyw', 'fMdnlYyN5EMhafyE3dGTFQ', 'fOiEnLJk4qnp8j7onjvm4A', 'fPivHoeKNFhPKZEKFeoIHg', 'fPrWKd45pWhHCkojHRb_cw', 'fPu37BiMMM8CctEzQIUHOA', 'fRqO2UFdERD4In_9_zO-dg', 'fTNhNmjkNzdaPy3LFAnwvQ', 'fUB_aqie86DKI2tTAkG72w', 'fVFUFPELfVp0j2sS85BA9Q', 'fVLjkKl1vP-jQEG9GBEOog', 'fVo4uithMrIbNYom48b_fg', 'fY79hLjygu4zMtzE67Y4Xw', 'fYUS9YkYPccCx9eaYc9t5g', 'fYqr99HXATERIGXQmjSgmw', 'fZGTgKUNKKuOKC2tg4pQFw', 'fZadRslL_7WwgZfVD6DYnw', 'f_3iYyGZCd8BMznQ4O8_2Q', 'faTB5Lg-blm8MG-y6KUOrg', 'fcdPeNgNxcgYpz--01inLg', 'fciQLaIjeiRXAtQLbCFKBw', 'ff-gd07sG0Y_4i67LqORSA', 'ffKC05KiJWMB1ppjOYs9Hg', 'fg4tWjjvxUxBaMdKa0YAEw', 'fiRbomFAAtfTYOTTtnDUcA', 'finErFzbJa_sn1gBnz8G6Q', 'fjE-jiwnTQysz-rLl6YMQg', 'fjtmOAoiJdMCFFzrkEJESg', 'fmv6aWk3IJE-gyEr6ZfpTg', 'fnyVBTHEhi3cN1H8FM9UcA', 'fo9maH0LHJ5lNtpcfDcpXQ', 'ftkUQCPM-wFu55Ou-BzFgw', 'fxZOOJtT6Zau7Asmppigkg', 'fykyDLOPBKphKy9fmZ4Kgw', 'fzL7sTgCYhoSIUpcQ7mrBA', 'fzPp9ZdDhOovfqH_-Ksk-A', 'g-9ioGyD740qSJ1vSN-VrA', 'g0vVEWvHbKBTvFYGyvhiSg', 'g18vsCul22IqIIe_YhGZZQ', 'g2CMpjM8bBNQOQPIi4DKIw', 'g3yEgUCb6IIM1eVCKP5dWw', 'g4MOiCPPNBSuTm3BrYRtbg', 'g6OnbXvrky8HTtRFWVL_bQ', 'g7OwoWQ_haDYnfmhCYMvSg', 'g93ECYDp2JB85zSVLWgK_Q', 'g9FvjJMMrxtxBkLk8VrWlQ', 'g9XTduxnleLxATh6wBT1xA', 'g9otJ_FZ3D0BxqTEJetuUw', 'gAe_dOlcAd6tEXDUXNiwOA', 'gB7X5o33o6W_rAGgHunSCA', 'gCZAYkIcRjNYYRHQ9htpJQ', 'gDQlaDRAjsCx2p_p6oJLjw', 'gFAM3DwY0snYGujBmR-xHQ', 'gFsiHkTKeQ3Vt0o3Bs7oXw', 'gFyntTks-Qd5CjDU8_2Kog', 'gGeC3-QX-ZH1kxnpmUwQ9A', 'gHngt6zpP683GKe1i23LUg', 'gITBefKO65DKNcCFQp424A', 'gKCQMUVa31kLInYxaAkiLA', 'gMPtAFyWjE_uama1OyDblw', 'gNMkHi3V_YZLZihhwYFPCg', 'gOtY-I9lvbyOUShbBhCChQ', 'gQ37eH1H-lobmfkEJArq9g', 'gRPDzmMU_0pQo7LyxrZ2Lg', 'gRTEQPvX3s1WzFhOPNbVeg', 'gTRTzLhbl2uDd_JvB4PsyQ', 'gURBE4EKkytlOMuIqJHG8Q', 'gVr5mL60az3_rxjJwRDN9w', 'gXpGMGBAv1lfQEcPOzahag', 'gXzQb8auHnhNxJ9EF2F-tA', 'gYY9U9CXRS12O-oUFoO0cg', 'gZCpY4tmSctmHkvPipp3wg', 'gaDAgdozCoSRN23WU4PolA', 'gae9LAyt7Qvf_OgAkWASxA', 'gauRTVjB0ocZp3YARH0SOg', 'gb0rMm9AxTz0aiERkj2VEg', 'gbDZhohLAOL1ufdVWHMTxQ', 'gbLMIGbBx5aGmV6F7Yp9-w', 'gc4IkXZ3l7Lcmswcht-_ig', 'gcYwWmzzzC4raKZ5FoTsNw', 'gczGHQG2cNIRzQpc9YCl6Q', 'geVM8YqBzb_8kXR2Z0YsCA', 'gecqbUz6uQ8PckqF-J8tFQ', 'geytMDcETB3AwhATBbq6gQ', 'gfIVwp0RkM5yMa1u3mbB4Q', 'gfoz8396be8brUupIPEHvw', 'gh5MqW8s3aEyRVn-Es1geg', 'gjSOLX7d8EmbMi86Me7s1g', 'gkR_X3INE6Rr-TuM4ynhzQ', 'gkeGCryFC7z2vlFSDdKH0g', 'glKJGrTjFFky9USreDxUaA', 'gldPX9ANF5Nic0N7igu2og', 'gn8cZOxQIZNUeiHcJ0WxMQ', 'gndb2XMDHYI5OEDvwEKwaQ', 'go623pgRx2nfIpsV4ePHXg', 'goar7zF4G0LdsQ1Y4KS3Iw', 'gomzC2CMt6MD_ykOSGwdDA', 'gpaJYV8IT-oT9wOt16BlSw', 'gpwq15g8M3xMSpy2RL2HRg', 'gq4_ZraLQToBmUUEewwO0A', 'grZ6FnfZoj1pQWElAQve3g', 'grtRbOhjogmnTXToPwFoNQ', 'grx1z5XwkWstfeyXsOPyNw', 'gsgiyjbBs6hWfxQ4rFeEYA', 'guGPP-3ZsXdLNjtZDnR7tw', 'guQww9yGHP7rRTea6zTnDg', 'gu_yLQWygwzkwBOCpSj-Kg', 'gv9Qi4vgna2UuE7q4qK3vA', 'gvL5fxzdrRxkS1xnis5RPA', 'gvmhnxxuS6BrPoIuBYd6dw', 'gvp4HXkcdlqkLZd83qxZpg', 'gxi-tnX_ze-VTYAVSyvEpA', 'gypeQSuD8-09CtzkZSWfxw', 'gz87Wa7QUZ3gNlgE9NVPAA', 'gzglb8NszrEtF1pWSrvjtg', 'h14GmWZ8rXum9fXF__wt3w', 'h1fOnj8ofEmKM7U9JdCcGw', 'h5PKBY4jvOwuyYb5Dtr6jA', 'h5XqYtEmRuQ6yI0IyG6oNQ', 'h6JacIFzb9jxFpKpgsGuuQ', 'h6QDKfzOcjLAw08AzRWvEw', 'h9jF_8nSI8uYU7aTIkaW5Q', 'hBJ0SZwpCX5fvJPyxFy83Q', 'hD77eYBzX0yQfpAUMY8dEw', 'hDD6-yk1yuuRIvfdtHsISg', 'hDi7cCBMKKIJq5gI9UvYTQ', 'hEjEtzQ8wnDvldIfBCuy0Q', 'hF1-dtY_oXfngC8h2mY4qg', 'hG-DApl-ua15fbIqav7-IA', 'hHgSUnDB9yIrxUEMSmsdoQ', 'hMTzciZhfmugG2EVAPANcg', 'hNCKIrMJSacjMiWVwRb_YQ', 'hNmSL-HfN_IdPlWXP1ILEw', 'hODnmsq1kK6eA0VLbFQOVw', 'hOYHvwMm2Y-6iKvpaDZrJw', 'hOv0yRX4Km89-7vJuzPteg', 'hQ551hmTLbxTuMRXYGRJJg', 'hQMx2ZbGAa_oxJNpnTZf8Q', 'hT4S-jtRapUap_kzygb_Hw', 'hTZGMEKTtaY0wwB-czFxxA', 'hUCujBvgttk5jNh_uQwi2Q', 'hUHIahAcew5i39D_6ZqEmQ', 'hV8LFG_UleDQFHvqzBPqPQ', 'hXJOnDvOvtBjB5WQ6fuzmQ', 'hXmwjL2LeWlsZCAGRUrP2w', 'hZ14E6vezwusSZaF83WlxQ', 'hZ79bbzGuiU0ThbasNEALQ', 'hZj2HCiLae5-AxIp0im6lQ', 'hZjmoHvx4cgHrauNWBgaqw', 'hZvyXM5wy8O_zC3HiLWI9A', 'hZzwkAJG92KkszWO8PoOQA', 'hbXM32Np33qJYmx8HUtXXw', 'hbYY29onGCq0yux6rFhb9w', 'hbipF-PtqC2RI70Aqx4mlA', 'hcFSc0OHgZJybnjQBrL_8Q', 'hcryG9RkmK9oCELYLHukiQ', 'heTUR_TGWJ9iYiiEWnikXg', 'heYShXdxU_RVoDcGGGkn5Q', 'hfSlIJ8FSLV85MzwsVE3Hw', 'hfuLh_1ZFZZ6kDKD6Fs-nQ', 'hjhAG9x482VE2Yc5Z4lkKA', 'hkazOWo9uqGemkRww7YGyw', 'hmSRCzL7OHm-TKR4jHzdBg', 'hnDQ_L_1IjCUVUA_G19sew', 'hnWO0q9Mob9NNPXGeYyi5A', 'hpX2k1MvzRAF8naLfaUYWA', 'hpzqGatuwaVra2ayw7WWrQ', 'hqAmmu4_vMGFSZwGauMAUg', 'hqineK2tQMxcZ9iQVMPlQA', 'hs5xdulRJqHZyITnEHpJhQ', 'hsDkxhc-_YYsVqAeQBJJjg', 'hsRjct8UiUHU54B983GmcA', 'hsVjfLehMqpXk7DBmOUJJw', 'hwe7f0QthkND-H4Ekg37qw', 'hyJboRkFYvJ8kaMY9ZvUGg', 'hyc5Cg9CJS_ZBuN5OBnC7Q', 'hz8mFMIQxQNLKE5rYmg6zQ', 'hzumXofKoqICLsHETI1LAA', 'hzyvL2v97xLzLbLXcdi1uw', 'i-2OzvZUDtvKCMq1vcRSZg', 'i-fdgshW3xovHeMZosDerw', 'i0fAxbw4h4hMQYcitrAijA', 'i17-RGooGWIad0y5YtaBtQ', 'i1QGBziAXxEWlofIe4gv1Q', 'i1t1vBPEWkjPVEW9OoDH2A', 'i23WPOXuEq9iInAlOiNkIw', 'i39--wZD6L9hm9Lg90Uziw', 'i4CF-bIEfNeYoQ87klS78Q', 'i68lkBrGgUVwOk-LSvMj_A', 'i6x-Wf2uvx4YydJpPmaXmg', 'i7CzT5ncBc7Pgt1R6quOqg', 'i851zomQeoY7gbrkFcvM7Q', 'i8RjMsoLoi8kJwWKhFeOIQ', 'i8lL-Jnwl7VjliuLakx0JA', 'iCpFAHTHWuV7LCBYFtWSig', 'iDHWqYdaTd5cHjppBdg5Rw', 'iDuwJjTE5Sw_bb3aFSTBCg', 'iHr3m4M3nuDEkMP5_XcmEg', 'iJkKi-5NqRN1PhdI4KqjAQ', 'iKU6-AJM5fIROvEeb1tBPg', 'iK_3WktnHa_YlbWdA0Axkw', 'iKbtAQz2rUu99PgJvcx2Jg', 'iKz28QQI73mji28XNJFMUw', 'iMkmThdmq4pgUu3MQNeOkA', 'iNQQ0DkYQdRm0AtCwvoQxA', 'iR6kEMdNRFc9QZUNTQo5Zg', 'iR7KBgAHgt1O2acHhfIviw', 'iRhB506lbc0kU5289zyHzg', 'iShOjmJxkLO-z9Y2HU8evg', 'iT9KMTR8NqYwSCW-zMUOxw', 'iTNsT5xYHhQWTYDTROZCRw', 'iWfyCpUY2EwcElD8DaFKeQ', 'iXnHrmTw-r6LNzC2MjjrWQ', 'iY35AnV-Rf4nY81qkiMLag', 'iZ8kxuXQbRS2d_HedRk55g', 'i_1ORltzRXvf9H2rvfS-Ag', 'ia2QAAxIyjpyr99926QrFQ', 'iattM1CQ8JfFm2L7-lDifQ', 'ibfZYjtpz6gsIvHkp0VepQ', 'icco2swWSWYyItdI_ktyvg', 'icreAcMdHeI7_PUQXdywmQ', 'id0K2DhGNocMRMoBcvCsyg', 'idM0hDe_Pp2IeYgH0DIIBw', 'id_4VpPvd3zR0q_qhasUNQ', 'ihWw0eSKMQfO5cXLFS5itQ', 'ih_bb1SaYvsMYfdykhYh2g', 'ihfRQ2MMIrsj9a5fwXp5hw', 'iiUu1e8FNkfoSBA9JomqdQ', 'ijNQXC2cBhbkf6iB6D8OJw', 'ijRCz1YX5Ws2UW_2G0Bz7w', 'ik5eS5kHpz7KVNLJCpJkXA', 'ilUhKIqr1rsALh-6BM7_RQ', 'illl9cvvlgloor7GrIvwug', 'in39cUCMBRjpwxw7qNSOfg', 'inLDlmy0p2ZthCYQzGZVnw', 'inRKr1zy12CoZmnK-0IRBQ', 'iofGoeP8tLB7Ny4GNfjxvg', 'irsqHZvvMdwK5iM3mFZ5Pg', 'iuIkzvQRb4DVWOMhE4GI3g', 'iuOK9_SBaJ5y0xzu4Fy4IQ', 'ivugOYd-QcXVEfnm1OyqZA', 'ix8EZnEGi7pLJCf-KhKecQ', 'izJvc_MNAo7yngMEC03Mwg', 'izOvku5li7kyzY76UzLP2g', 'j-5O-Ehd2eaCHYgmTSfoRw', 'j-EGxXe3ErGtAlmE1XjYJg', 'j1CRQHz60LoLBgfoS0loqg', 'j2do6crDCVPK7QHKa-XjZw', 'j2kjfjODIZyNPxAu1Dow6A', 'j37Z4LIXTH9j6KOq9aX8DQ', 'j3IBjxYKwh__BhA25KDeZw', 'j3IEZP4nQAt7fkxmerLMbA', 'j4Tp1IwpiprXvLWlx8qUaA', 'j4jsgp-e315s11ehJfRzAA', 'j4s9X08gDTZH3MwcByfCHQ', 'j54J0Ky4ruVbN_NTJ3daFg', 'j5Edlj6AHEdKgJdheivYag', 'j5TMmDVFNkoq629hS_78Gw', 'j65Mnw8aFJkYgkt_UR5BOw', 'j6BfGByroCB585NPUnIHBg', 'j86uUIR-sDU7KfXDZeUDzQ', 'j87Y1hyifp-XHN5HuVtpPA', 'j8INaXpsUvQVzU0nkTZF2g', 'j9mBYdR7z61X6A3K3VmKDg', 'jALlIr27pjGBK75DHZHMKg', 'jAQwIRxZNj2zndM5V9UOpw', 'jBKJMUcMuBmHqe5_U7GQ0Q', 'jBhRphJtQahNTWwFt7wlrQ', 'jCf84-Amxm91rbNAOJtAcg', 'jDZJsIyc3jXjcTtJk_p8ZA', 'jDehhKtVZa62k32WHbnc2A', 'jDqaz1jKdeWk_fTVCzc1Pg', 'jFs8pmCWB6n0LWzddOwI1g', 'jHMQDeI-DwVl3Rth9ycxdw', 'jIl0TVodrPeG3euu2proAw', 'jItwkDeMBFquEb7mAvW-Dw', 'jNL2MoJI0Ps8hYVktQ4lkQ', 'jO9gbncmBCExL_FvFKU5Ew', 'jPqrHW9lXfdtQDmm2wzyrw', 'jTFq_9_eOTwLxI0h6qEtFQ', 'jTlcLfsSDGnHcbjL1aD9Zw', 'jUatA3vF7cOA45mVxDIuWA', 'jUrHQG6vBpbozdbLcUwTRg', 'jUxLgiiYKnsM238eUZUqlA', 'jVaDrytDdOmkQX9moPWHTA', 'jW4-bGuymLGlB9OBsTq3TA', 'jWdktu5MTTynhKVWqPfo7g', 'jWlErd3TOkO4C0MgP8eDvw', 'jY3wLSOmKcQTB3AjMHLpzQ', 'jYCa8lItfdPGcaFS0gg6tQ', 'jZARZjPedelwxgCmVRgBQg', 'jalA5zHW8ZfY3RSPG7oDxQ', 'jd1rD7jr-_zI46Oxh5lDLA', 'je5h9jV38Wpist76omY_Pw', 'jei_nG0uhrvTSXEFL2K9bw', 'jf_N8zWp30usaMLXdJs9Jg', 'jhGbILmSQ2TQvpJWug49Ew', 'jhP9rUsV-KvgHu1n--7Q3w', 'jkJuwGa227qpQjT34TrECQ', 'jlyuxZtZ5M6TlAlR0_c7kw', 'jnxt9D-rkZ3j2Qg4Afux3w', 'jo-KUnLZs0M2RYIvi8-DPQ', 'jpOT1ctnCzl-zWXR4Uyu1A', 'jpn329BeGpfAa9n1uPYOrA', 'jppxrDQLXr4Nk8cV7IGlcw', 'jqBUVAWJRJ6QIGXVuhdVvw', 'jrlkSj1TR6HWBaOJ4AzwKw', 'jsn6GnjXtAhu9rrbf1MkLg', 'jur5JyCaELZrYu2_EwCDhg', 'juu7S1nP5eirbeJ8-rfguw', 'jvSgUe3g6LrNQGucBLBvCw', 'jwoEWuiXruWHUSB8DeesKA', 'jxNdYI9sQmTkqfpTsmhGtg', 'jz-LsE7pZd10iYbCYmGQeA', 'jz4jg_OTw32IMr_sXFwj9Q', 'k-zdOw1KYrwEMoud1MhFSQ', 'k0wkhJXCW-AOotS_hRunUg', 'k2TobcM3RzZGgytyuYDhjQ', 'k2wKGAnlSb4n5WT694GcTA', 'k3WyM7vM-4nKxJQaFBdwJA', 'k3xTJmkojT4ArjuMV0jITQ', 'k4Vhhh4h4cNCQmnxWiy79Q', 'k6EQholZjA03b-O6foAPCA', 'k6zl_3rFNH5OVare5n9Qgg', 'k7VQD0pbdFN0Ju0yNVrtZQ', 'k7WRPbDd7rztjHcGGkEjlw', 'k9pQa-48qARibpa-Yf0xYQ', 'kBd3_wYt0BX-RfS8ymUTfQ', 'kDqgPRL75KG4lBxJsYUJlw', 'kE7_pIsUavOAQ9LSRcKCWg', 'kGDzJFasIHxrH0EAa_oSWQ', 'kGGsHP9mfcxtofiswy7ItQ', 'kHVXISoSMdgKySGiUVhhtw', 'kIaqY45GaVX136dXomREcg', 'kJQbc861Qvm_HsNofAahDA', 'kKFUNcLklJ54zZNUk-7yjQ', 'kL5LI_GYZJkkP73wl0Qtlw', 'kOwqaU2yyIY67c1I4k6TPQ', 'kPwYdRKp1-W1-tUR8iylxw', 'kT9SuRVTapbDgFGMcg1Rqg', 'kUuMZR8fPZjiCVcwPoNKlg', 'kVODXr00qMBklPZTP3X-lQ', 'kWcAfYg-60hpIUEUSzWjHQ', 'kWwm_fHthKL-xIykOrR93A', 'kYXnTyi3ucyxoswK9bvzCQ', 'kbBULFfiYks8WekyZBfqLg', 'kbq9QlIprqKpIWXZEXtGSA', 'keJGpYownJ-j2zQJ5huvqg', 'keJOgdHUWFm2d08qFk3QsA', 'keOzwoc28Iac5mA8FD93uA', 'kgHs-woMf_rHH4fBZx6JXg', 'khSsfe3MUunPsJowDEuFvg', 'kiz4xELBxC8tQtr4uBtM3A', 'kk9nsQoZmqiZemDlGU3S1Q', 'kkD0tv_e5E6a8kRpLYEcaA', 'klls1rEfABAUtO8J0YXSGQ', 'kmq0Y15icHK36kpJyho_Zw', 'knTWF9RTyOruCC1TT0PDMQ', 'kolFb44M7k9c0-tZL2D_Cg', 'koqazXBW7wAZVry72u5vEw', 'kpC2FfWvH9UsIR6PWPkffA', 'ks2q-AWMx_xD0FpVIBXRzQ', 'kt5WJ7JdB9xxuXnMoABQfQ', 'kuJSCQ-bAySEYI3nfu3C7g', 'kwMJ4KfhEcrk9jiMe-S6wQ', 'kxAQGy2ZpguB7zn8Nqgb_g', 'kxXuthvJvKZ_mS5UA3JrLQ', 'kzCG-KC3YVrQs7l-0d0b1w', 'kzbH1_l7VTSfFFcwTqY6vA', 'l0pf71mxpV1f_po1W5w1Lw', 'l1JDX-o0wCLykuh78R8Kng', 'l1hqzJAIYEs3NQYqjH_kxA', 'l41wGszBMiKliQ8F6syUKw', 'l5Jkkp-5EF07RrxrqiF6bA', 'l6ZrDTwUHZebCG3C9Va3Dw', 'l8IqBeFXK3dqFEs7YL3ukg', 'lBNPDcSvmUbq7W69HvmRTA', 'lFSF5XRwn-ibJLj5efDIjg', 'lGshF26IzmWtvrCN3bfsew', 'lJbxQFXqbgKBdHPKKxROMQ', 'lJc5WljtIAI6hBqzKbn_HQ', 'lK7gnWVs81PI1XxeJ7DEPA', 'lK_iVjCur58if_XcbENGqg', 'lKom12WnYEjH5FFemK3M1Q', 'lMx29wnA8FxJMcDoME_VoQ', 'lNVg4jtfTEIAtOkA_0aEPQ', 'lNh_U1fEfxtcLRpT1RpX8g', 'lNuedAMNPFROMiI0YRTCAw', 'lPQGg0x8UOAWD_08wZmfgA', 'lPcKVCwnnx54lJR5BXFbKQ', 'lPljcKGwLlcwkLT5cl0yDg', 'lQ6sdPvGsmGJHZNx1LGbdw', 'lRB4EvPM0L88f4meH9KcYQ', 'lROJiqgLEKjYcI07lVNqwA', 'lRfteK8D_8pfoFTk4ZuOqw', 'lSxAQR1FeSljX9zeVJTEWA', 'lTG46zyVkZOk6RAR17kqQQ', 'lTxZFiWEd2NNF4Eh7_mlRg', 'lU5SyqwRlKS7cNj2DrCpGA', 'lWk3vNrOIFTbUwEZBkY2wg', 'lXYU0X8_lYMjdwtOIE2ftQ', 'lYMBCn3zvn_zsCmCBAUZxQ', 'lYSV7xI8lhO76kZs-z2MOw', 'l_Zevl6jj_gn_xVkYpB_QQ', 'l_pR3x7v2mvE3luVdmGuoQ', 'laAnd3e8T_8WG-weL2zikA', 'ldGnkfXjRNAxRP9cizgr0Q', 'leG7stzwTdc37b8Ma1TEeA', 'lh3wksdskWTwVVWA8_xkRw', 'lhI9JnI3mhtNkntegi9jDg', 'liLtjZzKc0sv9ZJDMHQesA', 'lk02Yf1xJ-8Fg2b-2fTZow', 'llgLD3ZpFF6qy4JE5mLdcw', 'lloXa4skoSO6m7T6yQf2MA', 'lnd23oqCb7v8lt9zd4K8sg', 'lo-GEcfXVGrDSDLtR5gI5w', 'lpxj6LFir23Ds6swW8a6fg', 'lqHk6vmnSoTaZwMLSfq1MA', 'lqwx4u_BFK8bgd91O-L1hg', 'lvZOJWiwNymeBhOAgoy11w', 'lzjnPNA1ALVpWCo_ygRatw', 'lzlwUXzYMbobhrA3tgVmtA', 'm-_3sNY0eLsPp__2C647oA', 'm1IqfCdWw0Yd1euC8cZgSA', 'm59upQj5qUn-termmtxTYQ', 'm5MaRXA1rNX1n1Kbr8-Sog', 'm6AvIcsMjTnoMqWywpEBqQ', 'mCy_GCe5bviiqmUZ7TXwdQ', 'mDmvPyRrqS1VAzYULxG3Bw', 'mEOVr6mU6RSGqYtLzqf6RQ', 'mEnJaayTlrP1WYPBWNhkUg', 'mG5gV8OWUTp21vLQqmoFFQ', 'mGbcBNERCYYCqOsr_RPb8g', 'mHvPsn0FMc_lg7rH4wvTfA', 'mIVfDS47YwXjDjXVxAoZVg', 'mJ24zWo_FdE3_9v24sqFiw', 'mJ3KbEz2fEMTGXc30cz9Aw', 'mJAqx7wK33gFt4MjN_1aDg', 'mJ_ucQ2_3hfTsmCcKb-hgw', 'mKR4tR1tb5ATFZdp1RPgpw', 'mKcCsAUf0lDtL8qWfQCDqg', 'mKoi3QV2d45Qm3iWt1aa3w', 'mLP-jIIRdoaYM7fJqqFurw', 'mMzag04MJ2yH5d_SySdoBQ', 'mNAfMA0jhJmOXI4AMaNy0Q', 'mNMVqHsgJq6YErFPfaUlig', 'mPautiUsJGa4EsyY4ZCAqQ', 'mPoRkgDfkap_cwigLmRwxg', 'mQIYGEhJEoj6MxZYqxoCmw', 'mQ_aMzTnkHSpbgdnOryeDA', 'mRWNt7hxoFzo5XZaoSC7aA', 'mRZCTkOgDc28VWYMvo3nVQ', 'mTPC_emDlTlfwr5o8A9APw', 'mUONuCWBKukMO2uyVxLY5Q', 'mV6lTLYdIjPcyFKugQq1Zw', 'mVbGnu5VsAG79b0fMoKItA', 'mX9wWpoz1x6-snTvxlIOOg', 'mXS1oNaLd2mHJ9lsReOF_A', 'mYjIWd7hQ-Fp9XQRWVSk6Q', 'mZYKqiK-9fzifbFbeEbP1w', 'm_zeXzkj3btfvRJiPVw8Ug', 'mc5Ha4QyQZvU7fzr-ubhhw', 'mchIGapc-1lRQKcsZhD93A', 'mdKSq2mfp1M8tfbjmbyv4Q', 'mdpETdI-PdPbMtiAnf8m8g', 'mfhTOzsHShrvfa7DzTIDPA', 'minFxQJgD6lyHndwU-_IUw', 'mjDsDnoSghhIiht5cSjF4g', 'mjLu2vhkeKKnchtqkylCbQ', 'mmPzI2wqydgfh7_hjORBMQ', 'mmvVocwFHyzNbCtYd1EH4w', 'mnI_n7A8sxgOSmtgI3wzQQ', 'mpu9vXwm57D3IKuLn13zjA', 'mqDh5Nr01wNP-1sPcwxAcQ', 'mqiHZYNXnMLaEK87JZOzmA', 'mr9AlGXvTGSIOkjMyLZ6Fg', 'mseBBgYcqyv6T1sfrXI-XQ', 'mt9mrG8wALTzD3YYGim3mQ', 'mtIQi2repqcSioMnO0fymw', 'mtUscPpaEpOpdBWDGXuNcA', 'muFJIZKZwbAfy_pEFKF_pw', 'mw7sClb-8JOHCuM2s6yspw', 'mweMYUxCsIZUtHVJa_4Z5w', 'mxZQQwT8VkoPGH0-1pbXZQ', 'myJKusJSWeNT6XGm9nBO8A', 'n1Y3fGa5uYbY6ABBqhcffQ', 'n6_ah26nj9V6eo7PZNUQzg', 'n9PgccTPsLxgYL6ZCkxDMQ', 'nAS-0Tdn_TFdlMfNQfldYA', 'nAdghiInFhvkq9dycI0Psw', 'nAtU9E0KNvH5w9-LpawBzA', 'nCvRJKvJnjzrSpkK79E-5Q', 'nF5TXLMmC6IJgQxE9CEZPw', 'nGCkc0Pr0TK11QAlXmofAw', 'nJYCyUpjms2E7SHgKwte9A', 'nMUSAPBxlvR8PBPDEsV52g', 'nMV7Sn15I87tDlHJiSE92A', 'nRtpxSRqlSUbhKU8RLa8SA', 'nVqOTTfDiu12xsQtFTO7_w', 'nWO956JzoKr1uKD3VIkp5A', 'nXlKHnArL3_vugmnytsEYQ', 'nXp959oMWksKrYMP_kaGZg', 'nXr2CBXYxdXYm-tWn91KCg', 'nYFhYM9JQbWnxI3zEd-gug', 'nZDIrGshkfLZf6ImQtAasQ', 'n_knxbqwchwrpp1cZ8AZSw', 'navSR7K1GFBKqDr8YJgb0g', 'nb3v4cQdZAYfbcw6eAD4Dg', 'nbKdzlGl5Rl6lB8F5g97ag', 'nbsjdiUunohQX1JAxsqpMw', 'nc5uuDeM3EA9WJycGDeg1w', 'ndE42tcNzqjSEW_Ciz2BOw', 'ndT140pWrEvBnMDb5k4ljg', 'ndq4rJcFLMbMGU_gK5u79Q', 'ndzT1maiVwpz-7VFFzAb5Q', 'nekpzd-Nsg7ZsCAIHUkhmw', 'nfJHNu_AQXptaTQIHjpAoQ', 'ngARCEpI58h0XMhD1nVQjg', 'njdz0sOFfsawcBi6jpKNhA', 'njmcKc7_7evWjUcrutdRkg', 'nk7BE6tOEdhNcbQcaEtGCw', 'nkDSE-yhvLX4ij5fSzvb5Q', 'nkM9exy9vHB65VZH8k4FKw', 'nkS11S4W9c6MR-dexoJhig', 'nlEw8XVhQ5CTEr60xaE4Pg', 'nlVjdQq9FzdQ3bfy-8y80g', 'nlwEqj2BwPATfrX_4kkd3g', 'nm5yx8yvJNJYVjaRPwjnsw', 'nmBU1vK_3pkF08guLEoUjA', 'noCKeynzdlWBQsVsAFZMpA', 'noZqYxiElPe7I1f5nlNxew', 'nocIPLY3BenFmoR3Ri_QTw', 'np9mgfShV3mgLmg2KqTF3Q', 'nqcpabHusqPmCoel5U6SPg', 'ntxi-hG9qbJwC24EbhT5jA', 'nuMmehPFS5kI1_C9bBlK5A', 'nvWb376MYChKSA-To1wyGQ', 'nwN2iLdDDEYU5-qkLEsPNw', 'nwNdRUbU0_JnISxvdDfWtQ', 'nwjIvTxJt2GpMoKzuKWIBQ', 'nxAo0oDgsNlduzUuuUL4Fg', 'nxeeZnumQkrEFORtFpwSvA', 'nzaEIvPWOL9UQhpGWy2fqA', 'o1fTwfqN0sDFNpV1CkOPPg', 'o2UAUbXSNRrqleXtSMLniA', 'o47aY911-1rK9tHeXOWxFg', 'o5EYswyzjGLLVLkMzpHv5Q', 'o5TT8SLFHtuZPJgfGhgROg', 'o5rtJcyJ6xje1PFj_rhRTA', 'o5yYfL5EPfyCMeKWnKPk3A', 'o6UJLrSQGZzUSsfCxVQryA', 'o75ipeJO4E0Pfvq39jwcQg', 'o7aBPJhTR-R4TccTSfu-Ng', 'o7tBcNfv-zMXSTePBLIrvw', 'o8TpuB5PmdXXYQhG_SxmhQ', 'o962sVMOZl1IqRG7QJJ1iw', 'o9eVtV66qMtY0VmWyY2N9Q', 'o9pydbXW9aT7Hry_z8wbeQ', 'oBABBuVRfIump4jHKlJmHg', 'oCvxJBOs-Mbg-4oanPO7lQ', 'oCxmsvKbLr2Ggj31XjR-2A', 'oF6fQH8H85jo7Uv-NXzaYQ', 'oITu5Qwnmv0hsEMc21XjXw', 'oJ2ubid01aI4n1cdIwteYw', 'oJsfjG1uh6jopK6Kc-3pdQ', 'oNLRIASnaEPoazzMuyIT-A', 'oNbHWBPd4O8unJqBi_MNDQ', 'oOo7b2D2uHCOsy9Xczf0uw', 'oP0GoJcjFmxNAmf2y6VilQ', 'oP0eUhf44jU71-I8DwKU5A', 'oPjE2T66w_YgnyjhQdJINA', 'oPvYovnl06fy5W0e51zjMQ', 'oQDUqkRer00JcB6DDRNH5A', 'oQKOijnFplXhmobb9Qf2gQ', 'oRBHoK2gnLTzcc71oQeQsg', 'oRKyGtUsN5IcRReN7ScUwQ', 'oS96aJIHFWcFAlGHKKXjaw', 'oUk9yi2Pcu0isDYGgb7Hgg', 'oV70qMi0YsuSKcByW4VefQ', 'oVuZtlCFg_zF090Nhtp0Ow', 'oXFRaSgcT9GwCWfC9lf8dg', 'oYZwQvcoM2_C5gXbaVPCWw', 'o_HnpcNAXstV8v-VN3CoRg', 'o_V0HU7HGfmUZ4PD57CN1A', 'oaTbZh8B-IVFEwbzJcIOBg', 'obIyz_tSFHyLWCwINk8_3w', 'ocZv9DHZaf9tkJyzxL5tbg', 'odfX0wO7fOyqa8oobxh96w', 'oeW0vIYd3rUnAPgmD4fEFg', 'of-a3UqUN5iz-ttBf0knig', 'ofXtrtsaKzPpVXFa8fHgiw', 'og3pzv_PuT9cSYbiYzoB2w', 'ohHDnTYRjHfp8yCjqT88UQ', 'oi4dg_m1NBpXRDQN3qkN9Q', 'oiTq668GwyXo5hMHjdW0kA', 'oia3V-RDZepljWUGCRVdaw', 'oiv2xp6xWX8ZLgrKDsKdrA', 'okReFvKqgMr_lVK3WDSmEQ', 'onXIcU_eoe-9tO0K9Ocwow', 'ooinhDB9ORWrG82UFdEO4w', 'oopfFjmzxgkDB0tt160nkg', 'opjEyudWKz_AJreQs959Aw', 'oq8qksFNfHVyQwcZsQIN8A', 'oqLPpDP4TIaHSRyxR4Rqdw', 'oqVcCVbwjcA1LXzGfR2z9w', 'orR36ClncK344iL2vcSqCA', 'osjWmpvboG2FxcFbZyglEA', 'otYQC14mx2XGcPKyVuvyMA', 'oteTUg7lVM1CEFrq2Z8nLQ', 'ovuL7n30fogNHrIc51uSgQ', 'owO2UkNKk9qrWWd_PTYLDA', 'oxZmj2rq9U9smW7a6S2nJA', 'oxb73l504iA68bWdHqymHQ', 'oxig-TT9V2QttAvRqa5WNA', 'oxxcmHKPb7jqVP15zC0j5w', 'p0hfV1YC5KB3Np5mek3TbQ', 'p1CagWItb9RwQd1WL-ilwQ', 'p2Nr4d7-MS82opzRCNkbNA', 'p2X4WdGMsi26t_6hN3Hz4w', 'p3DmeeCNz-BdijenlxGI2A', 'p4jRa3qzDJtV-hSjcuNUag', 'p4t_COtriqckF35I52958g', 'p5HLsmZpzqsZpOng04I8eQ', 'p5W1XIMcwYbVlLYyjwMs0Q', 'p747aVZiQL7H3Q0z-sMGcw', 'p7JJ9fCP8QP3jN7SyOTtnQ', 'p7v-DfJEtZI2WUvLP-UO-g', 'p9aNuvYCBS6ieqAQyufD0Q', 'p9rvoRXzEf7Y2nTaqnotxw', 'p9sxVs0JlOf1K_R08ylzbA', 'p9y8sbVHi-0vrsFoMU0jJg', 'pAqgiVcOY5mPouuEW96R0g', 'pCLcxHIpJpTGONOJlQnI3A', 'pCwOCE-cycl6cMEa9O6bZQ', 'pEjXieTk_BuogUhuBTIn6w', 'pF8eI3VIN8J4vroeywv5tg', 'pFUFVB0cPY2wL0Gr4vL3GA', 'pFmuMpPANaAFQ1PGVv1FeQ', 'pGwfOqNEL8FbMUFspJdAMA', 'pHDLRIG2Xu1_1mkGAbyEmw', 'pHSHm72bwR09Mt022CVvrw', 'pHpOuNf02eMyhdCnvMQGhg', 'pJsJBzOeBIV9pOWMuq-vMw', 'pJxbs4qsbd9lVYiLLc6Eig', 'pKC_Nxvc2gk_ovj9MJ8cSQ', 'pL-Tr6y5hvWG_Ngbzg47DA', 'pO-mDwu-vkU79Mp-DmI0Tw', 'pPyg8s0O8JB7bDCaCj398w', 'pRfIJ6zurjEsWmJheDOP6A', 'pSAoDrxX7Q5VRe-7gpDpOw', 'pTNatiVBoVnx2w2kwaD66g', 'pTicp-twG6F1t8jzaoagAA', 'pU7HJcOFaZHhaJBfl5zxRw', 'pV-HcFpaRa7MpmFPKjG9JA', 'pVZdH35B95NKyXNA9rnW0w', 'pVx6DHah5GgEPNOioUZlKQ', 'pWJoOfYUWSkro0WNxHspFg', 'pYeQ80rPttM6KzMQ3MXE8g', 'pZLOwjgfDmoOcZJAta7aFA', 'p_2Q6ebOtBOHCpBrvb78lg', 'p_o19-gYFD1ewixxIV_HAw', 'pajvV_6xebKIE7GBh4Z1xA', 'pcnyZVQKC8_SIqVhhscOxQ', 'pctgz0-aQh6fdUF-vKaChA', 'pdn3iFRubS5SzkFL8J-32w', 'pgK0mBQLth1C3DubvmWH3w', 'php_sWMWyXs7Qi5UyTUrLg', 'plHKBwA18aWeP-TG8DC96Q', 'pmePpiiObQzWZfgWV2POoQ', 'pns5NH--mhuCC1vK-xbYsA', 'pqsNkM5pgbio1x-2HQoefw', 'prZHC3I8JUI98n9iJVvDbw', 'pr_A8tTVZyWmwWwNU91iwQ', 'ptkUSiYeU9O-jVdxnpLxIA', 'pv-bAsIJc6s31dYHxjKpvQ', 'pvKp4m3eFeHv15kYZaq1Bw', 'pv__91LMXAbNX50NgeO55g', 'pvcavm_yprIRBAT24JiTRQ', 'pvoJj_qlDAS-mcHj-SUWTw', 'pxlTuangM_lHmQqx44RsaA', 'q0n4I-zqiI47xispOqc1lA', 'q1XzmZ2afZQ8S7Ka34-xyQ', 'q2y2K9RwT954oQGgeNAu1w', 'q3KkavNYpcsgbdfeImYzKw', 'q4P3WHwC0lFafwvTlkKMIw', 'q5MtvIuYlyndGb6e3em1xw', 'q6BzQz426uH6rB7bmZvexQ', 'q7jC-6uH7IieKu8PcT2gBA', 'qAVoausNrMEByp2cFt8EaA', 'qAzOcHnWerREl678su-p0A', 'qCq3JGKYMFq4dqFjtuF7DQ', 'qELIf4gzE_vlteu7pO7TZg', 'qFJ_kdfLdNODKFUY4t0qVg', 'qFcK6gv_3kF9Cnhw_cuePA', 'qHfJERhZCrksyHfAj19OjQ', 'qHseX2NHeUUedIgs_VasZA', 'qIPQBPurlqbi07MmJ1kXTg', 'qIyj7PNUSA1B6_rOkc8nIQ', 'qJ-V22xGzV6IKNWA8c_Nnw', 'qLy2F9EzCsFYIKd40OJvZA', 'qME1CvFxSrhqE6-YGcp3Rw', 'qNRyP8ItRICZOnKS4jf5ig', 'qNSZpcyoF7OM6g49sAFUcQ', 'qNyp4GMPiRqbY3kbbPju8w', 'qQ3De9cI835Vw5la2CL-Bw', 'qQvHYQ1uocuEnFcUdhxV_g', 'qThJY-H6Fo8HvfdIvwrjiw', 'qTwlLOpdGo9pQBbPJY2iRw', 'qUZvcHJ6YDNHVmPLe02mYg', 'qUqyi82OLmG3VMNMAxf9kw', 'qV193bfO-X4ysTviA2iUAA', 'qV3z3lBATCdLgV7VslQ-hA', 'qVhFe0aIoNSBxfLReS3-PQ', 'qVr2m3R3VsMmgkrFT3bPuw', 'qWMGMCPQoyRq7NpQ78ntmg', 'qWcaGio9JsqrvgmQiIRtIQ', 'qWnEshFu8L6TkERGKhm0qw', 'qX9dJb-xCLZBCS-IlXv8Ng', 'qXGKYRwCR9SLgLl0g_9o5g', 'qYdpN-NsF3pEioxGGjbKMQ', 'qYiVyZrgbzxcBxuUgfPyHg', 'qa6aqyXmFsOMLt___P6wLQ', 'qb8TiKsNTUqq4P-u6zQLDg', 'qbIiJ7JU1AH3RYMm0Okmkw', 'qddBAMIQ40y-RqgP2XFd2g', 'qfBp53c7Z2DpqUrGhV80zg', 'qfcdMhm1Ff28JHVpHca20g', 'qgeoNhlcNPiJ0Aw4RShdGw', 'qh1GCWP_2TKxevp3ZeMxag', 'qhuuWs1eshxEHhTSfGV2rg', 'qibYmQhLQ6E6HEwCcegl7w', 'qihqxBCgXOPf2c-QxaFibA', 'qjWiqyYCiEUnmb16TlDIyQ', 'ql0AaBp68ckekxvWOF8xLA', 'qpTOf3P3lN4HXqbRuTrh7Q', 'qpa8Y4VAMQKh8P5zqC5Y4g', 'qpjEu9iBBzIrBGCD-6ENMg', 'qpm0gm7SdsY2LnvXzQb_uw', 'qqop0eM9UQcI8uRRIWOOKQ', 'qrADQd0m9EenJmxMjcFtZg', 'qrcAGkBi0Qhg0HIfUJBDhg', 'qryLVEytUXVcNX8A6JLzsA', 'qtsrM6Xxh1LqxG0X6K6tuQ', 'qxcZa0Y-6k_Kwc_2xjXEYQ', 'r1bQO_ChWm3amIfTsRbO-g', 'r2UzW3YrmpxxkpTOuqOdJA', 'r35uf3EWEfpMo2ET98SPnA', 'r3PPgxuhSh2rwxPqJ2waDQ', 'r3aaLFas48VMm2FbYgzwqA', 'r58TFLKek34K6wpbxFyyaA', 'r6JuhqakByGOXdwii3Sa-w', 'r6YlsmM53fDwbRNlNl-OUQ', 'r78AHYzmDKDffJAwrB5aIg', 'rBko32y5vK13SD_sW3AG_g', 'rBnpbR-cfCD9CKy_ahCmsg', 'rDSw_6HEAsF6wmcUF6ZZkA', 'rEuSmPPblKIcOzazlBwTcw', 'rGdaD3j8leOCI0zz3g5Beg', 'rHSOhNuRXJypsHKoe1ZjCg', 'rIj7fC2wwRr_2iVSIAtbQw', 'rJHMVTCjCHXfZ7AboUL5Qg', 'rKh_Nl5edIB9AevqnDmO6g', 'rLNIlmJ71srkLoMFfGMvyQ', 'rLZDtOjCPhXZx1ldZKFzJA', 'rMlzrm64xAGZZOk9Rp6MlQ', 'rOHLBGBcWzlxdvNI6squgQ', 'rOyJdbHFLn21KKRh7RlGRw', 'rQ6C54q1N2iq9iDKSA3QGA', 'rSO5PpuSbrSTonAeGcgoYA', 'rUy2MtHyFv8pI7FOW1DE8w', 'rVCK-fdFm1zPppMO9iMn6g', 'rVGXORnTyIjB4xyt99VLFA', 'rVqw2DVJwZnZ1FV-ZYa-Mw', 'rWBCnU-LM3IZq_xdm18PvQ', 'rXKzE4Iraz7vGWovWW-aBA', 'rXULENMtBohv3485zqG0XA', 'rXrXkZMTH--ez4E8oHhJIA', 'rYJfzt9edY5WVA2Gt9x--g', 'r_8ZJXfVrdh5P4SPt9WYKA', 'rbZ4AHL1LV8KGW9NDGbI9w', 'rc9SfYli96cnlPDMyJ7hyA', 'rcRIL23Tf3G6g1ptFcsD-Q', 'rdHO0LkiNe6s3716hPuQXQ', 'rfxlZSBllLwnhFsDBzpPMQ', 'rgohunOzrrrgdZcxkQzCgQ', 'rhEV5HowwKBXTopJIxsQEA', 'rhwKe5TjDoXDCHRyxhxZQQ', 'rjKMTKPsjYw4RtiMpHquJA', 'rk12aZmkYJGv-N6kFLey6Q', 'rkGuqKxFOvxhAKaDeFVd4g', 'rlFEKTaUgQqN4O9ow3LO9w', 'rloarAwOAiQWss9kdl41nQ', 'rmOhzOwrMVpUj2rn70xrEQ', 'rmmIC5szAimxRnqQx3RUQg', 'rmzOeemTM-1jiJprpHec0A', 'rn0GU0mB6LYakXiky7JqLA', 'rn7oMLg6JJpDAJ_okzt67w', 'rqKnO5RtXm4dYPIkAL815A', 'rqLksDzegxNXMWwZk3eZnQ', 'rreIYrzI9U052p7nN_qogA', 'rrysQBMgpCqhDZuM34vvwg', 'rtj550X5w4tDWcTE8oAgew', 'ruD4E_OMlfEXTdMV0lDFIg', 'ruEXmCPwoZBTVOv6RCEZCg', 'rwDJu_c584TV4CqPAwu3ZQ', 'rwKqYbWkseELVVSAZ3ogpA', 'rwilTeu5jtWKesNi1KZ5nw', 'ry9MaSq_tpNODhYoIyA42Q', 'ryy9UyS6tV9qp1l6Zw3kaw', 'rzByiKaj-bLeLz-zKNBQdg', 'rzjn_B6bxPwyFqUcpu98gQ', 's-KLvUupHmeIKI8y9Nlwpw', 's1rOAKJV-cXD6hQJBQep9w', 's2s7K5_x-W6gbCvuhtI6lw', 's36Rk0jd78z75LaqifnU3Q', 's4M4QcJvxJ5IY0DQJo-sCA', 's5XqvAOIepm0Pw8mAf27lw', 's8T0bveR5719u33z1XTvSw', 's9D5aHnOTebfzcBLIPr-Zw', 'sA98YP3aHiz9Jw1ZeIzsFQ', 'sAU0FbmsQwcwk3uvvvtIgw', 'sC2R8zbTG7UpFN6EyStUWg', 'sC5KVDDvSt2ZbMYVL3excQ', 'sCODuHnzNW_s4BuxtqTCBA', 'sCyER_dSEpznCAkkMWa8GA', 'sEWmZeYpzVSvZ8GPDcpFiw', 'sFNKot2aT67HFOxA9fZwdA', 'sGLFQ4xLg9gJADTwkCI0mQ', 'sGLdSwi3zKNM3c3f5Ep8jw', 'sH3zUEyNXNYzuaU9UomKqA', 'sK679EVs3EUgmXR56bqMGw', 'sKWPbBAEM-XP9U5N5E4fHQ', 'sMJAUZNU6u4iNvpmaLgx_g', 'sMzNLdhJZGzYirIWt-fMAg', 'sOz_dQwODw3DAu96QTUTCw', 'sReFrTIJ92iDprWD8dKAuw', 'sTmHeHv-4uZRRne5jBDzvA', 'sZnBCxEZ7kDVf2MwKSNUjw', 's_CFR6l-ecfGZ3tw16PJDQ', 'sbFf2Z6YJOiGvRasNzTGuw', 'scIbMKZIigMz4w5Q2SltTg', 'sc__kdcFV4IcNTfBx1707w', 'sdh27i5q0EcAKagBDNQw3A', 'sf5jTm__NNqZ3J5rbcrueA', 'sfuf1picFc7sVm2-AXYkog', 'sgeH1aWYynK1BQiouCTMtw', 'sgmzN_YnOPtHAAfGlhc9yA', 'sgnqFImVFaWEJDjYz71m0w', 'sh-Wp7RrePOaU6W9NKj7LQ', 'shYOW9wwuA6sNRcnPBirlg', 'siHpyAfAnoBMPpl9d_ib3A', 'sid1Wu5Z4v6yiHacGZdUeQ', 'slMjKmGTnufGx6ZWR6Mg3A', 'slaDx1ywy45wF7GgEp6e8g', 'sm5Sl7z9Kx1yXExrdGuZ7g', 'soPUpwqle3vkM1gl8Fel6w', 'soPVIcC8dVfRhj2RObE8QQ', 'sro9D0YFB-FJyRVLQls1QA', 'st94oDmGS6qTMyt52tKSpg', 'stD-LTFFwlmBdzU-0aBntw', 'sw0nkPQvtxLtTyRnr-dt7A', 'swfdlAMXwV8OjYD5nkA6nQ', 'sxQrSzv4SS4b6o3tgmWS7A', 'sxqn8ZC_sRTmnhFmrNgGrg', 'syJDAay5Huu3QWL51El2cA', 'sz6_gKcHjtcpWKIZLXV85w', 'szGbmw_vq3kVU4SfK1x6Sw', 'szlIcLQE7K-1JuKeJIRKsQ', 't-6tdxRaz7s9a0sf94Tguw', 't1rJePjoY-sADCZZVS7KBA', 't28N3EEswYeTtOu27lnYtQ', 't3uYS5ClpvjS-7ItPEflUQ', 't4qEsqfsL26p6s2Q42OydA', 't5DQeB3dORfNwx9otGUrSA', 't5brsnbGm3STdN4zrhZtFA', 't6LKeb5gNSeqri1JqOPZow', 't6OSEZiX-w68k2f3gR47qw', 't7zt6AgybRzdPtj7fh_aJg', 't9BPvhkUakhvr3TWDw-mXA', 'tA94-mTcySKBBsaTm5yDKA', 'tAtIQGO0JbJFBuM_zcQ_0w', 'tB_SvIaU0KmMgrM4kLPW8Q', 'tBecXDdDmboDVwUu4kmOiA', 'tCSEEGChTViEZWuGL9UIHw', 'tE4H7SuEBCdF8O-BMAAB6g', 'tFXtHPDJ9hVJEb266mpnqA', 'tFlQiwIH0MyYeajld8BheQ', 'tFuWPheGlUElFlWUTLSUjA', 'tHLJ1pDaaHptb-EbFM2q_A', 'tIjoGxi2r6QvREucvQwZpA', 'tJhj8Mk9qpAr1sVcOVurEQ', 'tLCDdztam3QQ0xdET2u5Yw', 'tPAchZUpNWeWCpghn8qjzA', 'tPyKZPLJ-Wrm4CrEJbxFuA', 'tQRcO-C-5gZxxUo9lHbexg', 'tQy-LmvLoyOXw8QtUcP5zw', 'tRrMljYqr48OjWoHDDkSoQ', 'tSiR_cl3GBrTZUbEvkZ2XA', 'tT4QuynwNXkXWCLUZx3wEA', 'tTDxa8OzmxUkpVifQ-cEWw', 'tUeYSmiIQn0WG9LN-qRLKg', 'tXZxc-3HcXvj1Z-Tzs4Mkw', 'tZB8K6RP7BPou0X2tZ-hDg', 't_EiW3FlMnFTHyoeVU79xg', 'tcnu9ivUsuQUNiz944bpOA', 'td4tiWnfeVoxIClWjZmYAA', 'tdFv4HMVEuqebqjHtkZVdw', 'tdLzywYXCOmskX95V53G5g', 'tetKWtLT0639lqnD9QJRKw', 'tj_fehXLxdGMjyLY-mTXRg', 'tmCLmE3yfILnCC1EwhJ8gA', 'toc31C-Qy2smSq0A7Q8FgA', 'tpJrlhn5QPI0ehDyYjN7qg', 'tpunY93tKQQs7f-PljcPSg', 'tqyhUt1OyImr8hT3wQ0a4A', 'trioKWMz0NsM9v4cqmUQkg', 'trpUpkB4lxReIhfr60hlww', 'ts4ZmG1Fde5UfQDDskR5eQ', 'ttKbmaIhQREGeT2esJnIMQ', 'ttgfifuRK6svfWcXoGG-mQ', 'tuB82m4oIlKLyWeQjEF16g', 'tv_p6iJGmaCmejW0L00JIw', 'txF4WKY3P2hF3i6VCRD8YA', 'tyCIs0pyyw36apAXdR26WQ', 'tyniJe6u80Z7QmWlX7Wmaw', 'tzUwZKhtDX7QixvXex-wZw', 'u-68bnb3ipPUrmp6b20cig', 'u-A9gv_Q8CwLgjK8nxFxbA', 'u-Xr6P0dHS5IF3HQEg5KoQ', 'u0F9WJbECpg5fEesAx94xA', 'u1Ipln5AKQPMZu2FO7e0iA', 'u1_a84WeHWa1YlreV6RZtg', 'u2Wvpa2pj2jfYcYSs_LETg', 'u2s_aIR9nBJnI4AiCpCyFQ', 'u4h4PzFlerkoVAGV7Pe8uA', 'u4sTiCzVeIHZY8OlaL346Q', 'u540gB8nSBDZez-Kb76G9w', 'u5Wuzp8uC79IuCglLHXpag', 'u6F-dfFQOVVnPTiHyZG02w', 'u6XxSPpzjlniCEbLxFpkyQ', 'u79pwk276SjCDTnv3mddlw', 'u7CxxEzx8hvjoJ8onN4zTg', 'u7fc6_zgJEnEq3rEkC1gBg', 'u8ndOBCi3qVK0QISbIzmuw', 'u9tuI33E_9gU7guwbOdJVg', 'uA9tzuzID3t5yZ8rhZ1bQw', 'uBroDHaLcXSE24c8EhPvmw', 'uBrszqceiTByo55osdyXwg', 'uDOVASe87LwFFl3Wau5AXg', 'uDTh-jplczxX9iv6flcrBA', 'uE6hI5_i4QVq12xU99xtqA', 'uEqkWCzfywBb8hCHhTquIA', 'uEzodpjckhsVQFfsXpFR0w', 'uG1Whgf-AtEML0pQQp00Dg', 'uH2dNi5nKj31_Xf5dTfXdw', 'uKesGTGs1o5KgazKq-0iMQ', 'uNBVnx12y-cRYSxukmTfnQ', 'uNMQV-r1nO5dfGSGnVTFUA', 'uNzg9P7p-7QBNp47U4koEg', 'uO_OX2DXmzo2c72YpbXe1A', 'uRNQ4z2QQPX7tqWpMjiuTw', 'uRybQLCYWkC6N19MhaHf_w', 'uS5BHjGpMDQMTzLfuMVmHw', 'uUAWbVSARYcuS34rOT-X7A', 'uV2HVSRXJMqGsF9Br2VnvQ', 'uXft-y53ujmlAt0SH-5KYg', 'uXjc2pnnhHXL-gXYYP0nWg', 'uYYXLcDNQhgUIQcfauaKrw', 'uYzaARioENSfB9Y9Gk2PDA', 'uarJTrBc8VsXlZm9qlQVAw', 'udl3Dd4UrUEEAxhuDwnmdw', 'ug3wKvNB2gRjzYGXD2whVQ', 'ugmQx75KCr8nc8E-d69K8g', 'uh5dMhIZygTzXEvn5K10jg', 'ui4fyPJ_HRm4HPkEmIHQOA', 'ujOrkYCsy3scxDylKRZ_cw', 'ukB1l0o0MfPtE5GoUzJnIg', 'ulLQMYF2gGIWZg9Yhybz0w', 'um9n7JDaPaO1kmgs0cLjqQ', 'umtNRvqAO3DvP4Qu4NI24A', 'uno5w5Zkhwn-yFkJgFuYOw', 'uqNCIsAUgH0YxIXq5BWYTA', 'uqxrc-R7h-MMMgBrcITycw', 'usCGyfoTxOYOqygtI9orUA', 'usFNFsaaHFxEbnBO4FaFHA', 'uu-1sfZZanZRdxhX4p_sDA', 'uvuSq1yl3lGspDToh4TTjQ', 'uxRBduJIbkY5FFfJCVVdVQ', 'v-scZMU6jhnmV955RSzGJw', 'v0KawuAO7clhXCDKobFs0g', 'v1G_bioP6POazUyQwHcz7Q', 'v2LLg08clPWKyNQFBVlZXg', 'v2R_QhaLPvxKbdpJp8lPdA', 'v2gPWZrBYvD6m78fu4mnCA', 'v3BLVPLRo2Egeak29B9lug', 'v3rXLmTCX6ZFR6kIYTY2fg', 'v43qggsvaezDlZSC_IGJIg', 'v50-nvBCZNf7nCNbyUlQLw', 'v61dL5IvtgMwYBDNopvPYw', 'v84O7YwkMuwIH8xReJ0xYg', 'v8jZKf_YN7ayVy6ksyoiKg', 'v8qw502wtQEGpQfMhCVW9w', 'vA2aKRFspZWyxSlk0jNgbA', 'vAyQDNs9lu_8hT20lleGqg', 'vB-nJqN61ZtJlL4RIXvI3g', 'vEtE2CTl3rrDpTC20RUisQ', 'vEwazCciremwBgkRJgfXtw', 'vG8Dx3_Vh_WlsZlUZiAa5A', 'vGCAzbPIcZNkqNkKBbh4Ow', 'vGPc_edPblKZBQgg_tAoBA', 'vGbzUluZ-vEPaIPPcUR8oQ', 'vH3U-nP1hg7Wr0A9_i201g', 'vHJiewL8K7QcDlm4qDR6Cw', 'vIHEp4EbzDs8CtA-Tf3Mkg', 'vIyxu2PK48X8GPJ7B-z9wg', 'vKGEEQzlgzBVI-JKxnBn1Q', 'vKYJ4zF6SQZohN_l-6JE9Q', 'vL3XjTg0ls_7vBTYpvaLVw', 'vLGYQ96AjKV5zpW0q3795g', 'vLxpEHKZFzv8LYY5eeGjTg', 'vMH7j7Hl36b0gmdFWyZXpQ', 'vNQkym5qZ-E-4AJ4IQ5JEg', 'vNlJsfKKp968CZWr8J5xDA', 'vSN3n35-3WPX3Ntf-X6jaA', 'vSXum5CZEgnouVyPo5BTWA', 'vV1AB2vk-7JqDGyS1v4vvA', 'vVz2o24e17PuQtHJOkHPfA', 'vWCQyLsW7BujxQUlljOpgQ', 'vWYK4XApgyT7mbtmNqIxxg', 'vXEZ-r6fah-5Fjt3a6c-Gw', 'vXhlnFw9k5ch1GVFOlddgQ', 'vXpB8lRDXaWwwbmT3CAQwQ', 'vYRxMRpdUES85ZEpiQwjgg', 'vZSgu1k5gWkTmoMwmmKc9Q', 'v_gCDktW0mMf7pf-jktKzw', 'vblct6rMen0wyOqGEy-pNQ', 'vbqZcwnXLdOFkZ4myfOTvw', 'vdZKNc93fYuCggWQ5afLfA', 'veU3mhOn8kF87VfE_JvKlg', 'vfdoTS7wDNjK0ZV2ngPp0w', 'vg55SAkrEmuHpWfIMtJjBQ', 'vm4XXJtH1NPQGQEm17kvHA', 'vmR1bRA2liNwwxsUKS1k3w', 'vn0wYNms_5PseeYZ6pfLmA', 'vpsc8vfnkaEd7-49_lz9Zg', 'vpwyL6NHm-pTWJ5IeJb9yw', 'vs5tgU7fn7V87awWwXQwhg', 'vu8N7IKK8HC0a0omYvtPpQ', 'vuDL_d3GYAtbvX9EJQqVog', 'vv769u0PvdQhO5IIBFAcwg', 'vx5CbYuuIq_CHxjov5kj1w', 'vxFrGfeQCtc5AzPKkMHHgA', 'vz9BbVWThEyK4O_JFtVo4A', 'w-C9LX2gMSCHZzmrsHWrsg', 'w-YZ755_a3SswPSeUwCdSg', 'w-qFEyBuVKyQ_b81jRig2w', 'w-zxCi0z3CokbN-GOiiUog', 'w1YYythIAHHUXR_HrbFtew', 'w1c_Uy60LSDiMsSjAsEqkw', 'w1s-nOkqgo__sPZAZO9fRQ', 'w2tr0PA0b3tg8pId0kjM-A', 'w4u0y6NEPtV98SGG4wOKnQ', 'w53w6IvO6EWZyh7VF12oJg', 'w67o_AhcSU_fjVOTlbquXg', 'w6WOclNdCBYgUQXGyNAYGw', 'w6bRFK2rsO4dRb6xhw_TtA', 'w9IDJZeQhTQuBSTEu4nheA', 'wA2xaBsT8d2opW_jYe1XLA', 'wAcmbZyRSwp3td-4Z6BvWQ', 'wBwXSItcxp2D5Kf8taZDNg', 'wDWKQR2psTIj4BZ0mf01Gg', 'wDbHi9749cEhJTT2sttHBw', 'wE8OljxUdpI8UbhGay2Xgw', 'wEm94T6y19kzp3YfilKL3Q', 'wFLt8DNjXITHusXlyBCAOQ', 'wHlLjTBWPEbxHw6ZysSKIg', 'wJ4lFz3o1HGJ4wNCCsQTQQ', 'wKlH90YB5RYFvJ8N3pstVw', 'wLV7MpP_uDc2OuzFcU0ZZA', 'wM3JYc548i7xpwNDETz7lQ', 'wMCKPvpwktDF8mTlwcr23g', 'wNnPxpAOCBk2N1KTJ2PDCw', 'wO1ofP9qM6JOoDQrRLqLHA', 'wOWZSn3xiSmouEhyJ1RSkA', 'wP81vT6eLWS1XRCKA3yENQ', 'wQt02A5yue6S0ujGZUQerw', 'wRKYaVXTks43GVSI2awTQA', 'wRl0dGVhZtFB33bZP9wl9w', 'wS93L5cWvM9qCaaW_2yIzw', 'wSwkjQXQsWLQHa6AvFr_RQ', 'wTjRn-n2wr6aLkNqFIuAGQ', 'wU_V--OY2HOE2qNcDtRP_g', 'wUr4HeEhhPeiFb7UmiYRzg', 'wUrnir4yQj4Lnta-jdqqxQ', 'wXNHLkDkh0HKGJeYVnpafQ', 'wXgBWbJiiyEypu-ROT9rOg', 'wXw4gfKADpCrZ7etddmsTA', 'wY3dlpLa0BHfDENYAPYuZA', 'wZEK7GmLJ3hmkYBiRCo4Qw', 'wZkNF2LevB8lB-NvdNPYlg', 'w_UCGMgok7N9p0XdYBx1VQ', 'wbKGU8Epr2jKX74jWpd4Aw', 'wbVRLmGpJITCxDD20ceHWw', 'wcA-pfNAmxRJC9N2IcJX3w', 'wdTcd7edB9g-zEP6YWBP2A', 'wddTf6T2PsrWJy2u35FaEw', 'wdwODzBChLIh_u8V8CPpyA', 'wjLgM9Ybe5shoUPRrGMmsQ', 'wjaOY12srS2OQYk04x8y1g', 'wjwtW0zepI-8JISDSYP9Gw', 'wjzCw6rBDwnfZVKkM02jXQ', 'wk3wGDfJb1V-ciZpyhoNAA', 'wkP_fSZ5w6S9ZQaAFSQ9rg', 'wmCBxE0PfLZD8sxIwAY59Q', 'wnasanv4cj7tN6U00VfzOQ', 'woXlprCuowrLJswWere3TQ', 'wp44-LcNJCUnle5JkVXkbw', 'wp5FAtCGMyU2RnQ-7kxKHQ', 'wpJcD0Qv-q4ShVJYH0hMLw', 'wtDLILBaj5BGEbYvWGfNUw', 'wtfWKqj6B_hFCb2AZhxGlA', 'wuEJ2XIM97g9iIhDRQYoYA', 'wunPCykUm8A9FXvsRt-IlQ', 'wuyJfCF5gWyz9yrFMaGczQ', 'wvDT67R5duF_hYx5iOXLaQ', 'wxcAGtkUYhC95MIOUK7gWQ', 'wymUX-o-ytt31yUo_FI4-w', 'x2wfT_y8TgCfEHD7DSyL5A', 'x4tKwQK09akHC7qONjVKcQ', 'x5G0GUkGnlWtM49Qe4nHog', 'x6ZvzAJRbj_anOuACYsiSQ', 'x8-MzrVwJCwzqoACL21AJw', 'x8lqSZH33vZ6WM1gtdJvog', 'x9ABq0u2quurwRYlVDydVg', 'x9DcUQTyx_yjJYLkHLcyBw', 'xA6L2w_TlbxHubb1xeBE8w', 'xCcg7KsIxRpYp0-Hxo0prw', 'xCmFGgpTkf77fNCrvkDBsA', 'xCyPB4N_JDd5IQi9DSjpBA', 'xDW6OxiMFJgKNmi1Ex5wOg', 'xE8Ss3wMazjA2aR5mtI5AQ', 'xEt6imdvYi-avmAp3norRw', 'xGXtoeQAggLP9646N4Iwnw', 'xH4EuOcHpOJdbHUoJNfyGg', 'xI7GN5nujGjlYF9lAMtC1A', 'xICll6c7ztmXoJwy1n6NwQ', 'xIhvXZPel8MZ4NFzoqGYxg', 'xJ1FlujuLnXYOzqWga66Tg', 'xJTu-eNbVET4evm-eBVDzA', 'xK4K5OwcYU0UjrWwEVHRCw', 'xKbcJNaFoLziKm2JyfzfpA', 'xLy3aWEbtpoUSVdjuHBS0A', 'xOG2NIFCsjBrVvWm69xkvw', 'xONNOYgT5BBJj_EVJBMghQ', 'xOYJ5-WqKdGy5l4nviDU-A', 'xQqCpVu52dCZlsoYoKRykA', 'xR4RLy-6LtX0cLOTchBDtg', 'xRRDXfZL4V2-I7i2JLnpIA', 'xTnAUBV7cT8dVLaCk2E6Xw', 'xULATz2siGXOPia614mg2A', 'xUsLyzWQId6nXwNDVq08qQ', 'xV-eHEpcBZzsO4FMvJd2zw', 'xVgBhNzlnSmNY5MwqgBrCQ', 'xVopquE2JKetpNJkor_jOA', 'xZfPdAYeimiruXuGR4nSUA', 'x_AmiOc8DPAyHe5VeoDYEw', 'x_c-KatYu_utcgl_n0LAbg', 'x_tbeIz3T1H91Lx6wnLC_w', 'xcVanoC1mm8Yc2967qOIlw', 'xceHqMqOh-DLhsFXRzDbDA', 'xcjEnqXQU4a6FfomtQR9tQ', 'xcmmTXhuMx2fZF2Bt69F4w', 'xeCqEmjQi0M0dlf4DXcugA', 'xePC2Iu32dgHzP892OHIUw', 'xhIFWOW9MfwWzW4tUK-jdQ', 'xhPdBbduivnHYTnoM0K1Bg', 'xjTZe_vgnlnsEUGHfQiOIw', 'xjViuMrrApPM6Rnz8ovOVw', 'xkbUCdXRQfKJ-mT3xmH8qQ', 'xkgX0lzCY-S62e4Q1mvgiA', 'xlcasiT7khpxFTvl_vfaoQ', 'xmFmwqaYA0hl-7ibEibuxw', 'xnmQ1-YwnQJiV4zrP2LDuw', 'xoA1_vsxC0xD_fPgDZ2mbg', 'xrqzMU3dibafnu2brHq93g', 'xu3cVLDeZ3RLJFh-IY5DGw', 'xw2mHGjTOs-VheN8707czQ', 'xwEYTGJ_82ScbpXcheqqQw', 'xwqsbc0rvThKGVEMjPFmVw', 'xzR3J-4vpt6K4ZHr8nQLCA', 'y-Qd83m1nmYR2CTxJZz3Ww', 'y19xFolCozaRA-gGmHwkQA', 'y2SaaWClzB6Pb360V-m98w', 'y4CE_4CHTWZ6oe3JCH-AoQ', 'y5TdoIb0kddMn99Ahp206A', 'y5drVdOn-r6OyEJnpH3fjQ', 'y5v2vmVlWZS-o9q-c1Wb-g', 'y6lu1-YjIQ9uOfClT7VAag', 'y6uOL03ph3NjTUGc76a4jg', 'y90JVPFQ_TWGQaBhHtSm3w', 'y9EJ_mD_gc6z5heohULU7A', 'y9n2sy0gsmnAE-yiemhbtg', 'yAQhluWOU-_f2IfkS24a_Q', 'yAWSOUNFcfobOT_FRg_7Gg', 'yBia51pdmhCmZdnwLa-uUg', 'yGdO0huBvnAhyEX7fZO7og', 'yGfmwUKrZG4O2eNXP2JS1g', 'yGwEJqqI9oLsRuliqDRAlg', 'yHplknOLkiM3vb3ozwZtwQ', 'yIMZ8XeGJePfYWr7BBNzww', 'yKJCTTGgUr8IHyQDk6NKfA', 'yMjBSQDldMVlR8E7wY0NUA', 'yOM-OLQExaKHdrHRIfcBKQ', 'yPcAdikNrXEsfbHNBQUjkQ', 'yREHrM0k3MlDxc0ZjwRoNQ', 'yRTwPIAjJ5u7Nqg8TeeE7A', 'yU7GLvB07AEGhsoCc9scQg', 'yU_z2d0TnLBBFEEYMYhKJA', 'yUioLsYsz-oXpFhtw6qQCw', 'yVInYuyaqIFqD5VyX7Vn0w', 'yYyAdIxKBvFbUa19Kymq_Q', 'yZDUuT1zNgtGkUjYBaHb6g', 'yZ_wpRr4Svw8YRZ9voCgIw', 'y_Oig8XBVyyOJ-r_m95ABg', 'yauL5BpUTGukejbJskXl_g', 'ybd0nXoNpGIlkL9bRChs3A', 'yc1IZG2BL4WCYBHk5noj5g', 'ydNQHa6kiJXQuRnjhULITg', 'yednPCeCKT2eQWtv5wd7Lg', 'ygb8qHro6-EHNWevravotQ', 'yhT2iTPtvQttZxYS9cNF0A', 'yhoCIkTwHihWejVqGYZ4rw', 'yiN4aDHeW0kBvZQE1bYTLQ', 'yiX5VCEFhO7MXlmbUPwr8Q', 'ykwGLizkYXRsYy79kDFAKg', 'ykzgSmJpXj5B5xcxPbBwUg', 'ym7uH6ZpCfKQ1Of7eaYGCA', 'ymbe8nqpYVCIpfgVl5MjYQ', 'ymsa3ReIbctz4IFmPUgWDA', 'ynKAUSYi3c8M-rkVJI1PcQ', 'ynl3TMy_g0ANEajPpdDVKQ', 'yo6Ewp9hobvoHbIPXlpRzg', 'yqFG1ANsAV6NBn_BC2LU4Q', 'yrQyg1Ap8EyxQ1ulu3QStg', 'ysJo5Jdo29XOBCnKrbUKWg', 'yt0IPg-CURvYFRcmXU1V3g', 'ytU-tGhd5ZW9ouWW6JHpMg', 'z0nVjbfDw8eb7N57HWNg8w', 'z15C-dJodOlPO8bMBl6F8g', 'z1nFepEOkn_Bp5aopscf9w', 'z2RiCl_iU-8bM4Lj1zNL8g', 'z2qV_1QoIoHaieMPs5wbXA', 'z2xI0svMY81LAgZaq7a1fA', 'z36agKJZm458stAJI0PPEA', 'z4CYPDxL_L74GnaD35a9Yw', 'z4EIzLJlGd7gyje1Q_hKtw', 'z4GLHQ2-o0p6Ia4q_4j4HA', 'z4KriCQPuPJnFr0NGgApbw', 'z52UIMVsYhfttfOP2H9VYg', 'z5IG12AAyVW_itRg3QPupg', 'z5IINIjYm2HfyvHXvGMLtg', 'z7ns1g4S82kaBdIAC_RMRw', 'z7qIqoGjbb-CoIG7Z8KtWA', 'zAzRDBl14oqhATB5KCMhXg', 'zBeUDwWx73QTZ34A1l0adQ', 'zDXVGSG41uIvgk3MghurDQ', 'zE7pCmT1P9-tFLHcoJ7jQw', 'zFI3KgNgBxVVZIjICzMMoA', 'zG9306XlgO9EyIhSpBBw0Q', 'zIY5QBp77eEiGHK8lAfWgg', 'zJ-V2GZ9q7UkwYFl3G116w', 'zJ9NdZoehzdURLEKUKcMIg', 'zJij4wM_hwJEjIaWPHpzYA', 'zKfTRI1_hGZoxk4ox8zW4A', 'zKwzMHiufpQ3bRAA7R7f8w', 'zLFxAncbXi4xADAvZV471A', 'zLzRiXSCYrUEpA2MuvZihw', 'zM2tnreDSBx__LMPwkst3A', 'zMPfZdODe82SL_zxnv7asg', 'zMfZLd5_h5W8ZVxTNoeJyQ', 'zR8n9zX3AMcksUI641DjfQ', 'zRN6HzfkPS1REtGiZ60Pvg', 'zSieFkjliA9tEJBI2JwRXQ', 'zUE7mWTE5Ee8adPD1eWbUg', 'zV-MIXhL1atiHTc1P1HRRA', 'zWFuGjtmzekVBTL0muNsXw', 'zWdO_P10pQlBKL95gYC_iw', 'zXJilaBN28oUdX7Owf0fRA', 'zXaW8C2qtFHGVTETEcUX9g', 'zZ7KDK3GAkBUZzsaqB1A4Q', 'z_DGwPyUPgCk5Q7-WunsbA', 'z_RTK0MaxaRHRQ99hDL2QA', 'z_vCijesFnp1zt9-sZkMmA', 'zaDZo74bWzds9MunE6XVxA', 'zc0I2evMOPKNuu1mlm_tsQ', 'zhUfGea59rCRvyObwdUGNg', 'zi6cB_bkswWPLD2k3IVtyg', 'ziJsGjXvidzZWC1I0-SOSg', 'zjOfUAyqyH_BPe7EkFBrEQ', 'zkW7OAv8Cnb-3SxEBOubTQ', 'zmoQ2eIDyeKlKVGA8p9esQ', 'zn5G8-rw3AWfe_oH0AX3zw', 'zo7qCbP8fw1F5zVUdy4Okw', 'zoGfGoGiw0plUKeD4I2-oA', 'zpIybGTZ0RqArG8BOX0ALQ', 'zpRSyrDdrhciCGtkL2hE-g', 'zqcSaENOBbjC5AfkLyfvvw', 'zrVScOF63r1LuZNbKr5qBg', 'zsdcQyNJRP553oHEItm1iQ', 'ztbLCSo15CMqt18D6f0x5A', 'zuCu5ff06l4Pe33qYe58MA', 'zuEJKjSkX-4qw8MlEcI0Xg', 'zuUWG7OdMv6awFRYhEYT5Q', 'zuu87Wx0Sv2KCUzY_wGSKQ', 'zvf4U6LJdNGOEogmmCOsLA', 'zxSfGIhK3hH3vVz_pS5eaA', 'zxfb_EWIjK2rzkSRIboTMA', 'zzZfgEpwrpi4Ywdaj3OIuQ', 'zzwhN7x37nyjP0ZM8oiHmw']\n",
      "['Mm Mm Pizza', 'Primanti Bros', \"Jose' and Tony's Mexican Restaurant\", 'Pizza Hut', 'Johnny Rockets', 'Sushi Three', \"Joey D's Bar & Grille\", 'Industry Public House', 'Pizza Taglio', 'Pittsburgh Pretzel Cafe', 'Ineffable Ca Phe', 'Pizza Cono', 'Mexico City', 'Zone 28', \"Dunkin' Donuts\", 'The Korner Pub', \"Dot's Family Restaurant\", \"McDonald's\", 'The Map Room Grill & Bar', 'Big Guys Pizza', 'Red Robin Gourmet Burgers', 'Desi Moorgi', 'Maple Restaurant', 'New Lucky', 'B&B Fired Up Goodness', \"Denny's\", 'Rangoli Cafe', 'Artisan Pizza Company', 'Sola Pizza', \"Kayla's Cafe\", \"Serafina's Pizza\", 'Get It Quick', 'Asian House', 'Udipi Cafe', \"Hoss's Steak & Sea House\", \"Rodney's Restaurant & Lounge\", \"McDonald's\", \"Bobby D's Burgers & Barbecue\", 'Man Beast BBQ', 'Bistro 9101', 'Vocelli Pizza', 'Pizza Fusion', 'Istanbul Grille', 'China Garden', \"Big Fella's Pizza Deli & Wings\", 'Savoy', \"Jimmy John's\", \"That's Amore\", 'Taco Bell', 'QDOBA Mexican Eats', \"Hal's Bar and Grill\", \"Giorgio's Place\", 'Mio Kitchen and Wine Bar', 'The Enrico Biscotti', 'YinzBurgh BBQ', 'Oakmont Bakery', 'Joseph Tambellini Restaurant', 'Subway', 'Grant Bar', \"McDonald's\", \"Bruegger's Bagels\", \"Manny's Rook Station Cafe\", 'Burger King', \"Anthony's Coal Fired Pizza\", 'Donut Connection', 'Kusuka Indonesian Cuisine', 'Senti Restaurant', \"Lobello's Restaurant\", 'El Milagro', 'The Tin Angel', 'Terrace Gardens Restaurant', 'Tin Front Cafe', 'Namaste India', 'Bistro Penn', \"Pizzutti's Restaurant\", 'Primanti Bros', 'Brighton Hot Dog Shoppe', 'Cool Springs Sports Complex', 'Blue Line Grille', \"Fox's Pizza Den\", 'La Palapa', 'Noodles & Company', \"Lapko's Bar & Grill\", 'My Big Fat Greek Gyro', 'Main Street Deli', 'North Hills Grill', 'Cafe At the Lofts', 'China Buffet King', 'Kickback Pinball Cafe', 'Juniper Grill - Peters Township', 'Simple Gourmet', \"Nicky's Thai Kitchen\", 'Starbucks', 'Ritters Diner', 'Joe & Pie Cafe Pizzeria', \"Eadie's Market and Catering\", 'Harris Grill', 'KFC', 'Fox & Hound English Pub & Grille', 'Wahlburgers', 'Brewstone', 'Pittsburgh Steak Company', 'Honey Moon Chinese Restaurant', \"Captian's Pizza & Subs\", 'Pizza Roma', 'Pizza Factory', 'Redhawk Coffee', 'Panera Bread', \"Original Milano's Pizza\", 'Chick-fil-A', 'Bea Taco Town', 'MR Bulgogi', 'Bull River Taco', \"Vincent's of Greentree\", 'Mr. Beaners Drive-Thru Weiners', 'Subway', 'Burrell Inn', \"Mineo's Pizza House\", 'Jailhouse Saloon', 'Royal Lounge Restaurant', 'Cafe On The Strip', 'Burger King', 'Chaya Japanese Cuisine', 'Osaka Sushi & Chinese Restaurant', 'The Great American Grill', 'Umami', 'Shelly Pie', \"Joe's Crab Shack\", \"Bellisario's Pizza Palace\", 'Cerasoli Pizzeria', 'Mad Mex - South Hills', 'The Urban Tap', 'Lone Star Steakhouse', 'Taco Bell', 'Bismillah', \"Andy's Sushi Bar\", 'Brillobox', \"Donatelli's Italian Food Center\", 'Silk Road Gourmet Chinese', 'Spring Garden Inn', \"Dunkin' Donuts\", 'Soul Food on Hamilton', 'The Yard', 'Marathon Diner', 'Crowne Plaza Hotel Pittsburgh-Intl Airport', 'Pizza & Gyro Express', 'Five Guys', 'MAC Diner', 'Cross Creek Inn', 'Dunkin Donuts', 'Iron City Grille', 'Subba', 'Juice Up 412', 'The Café Carnegie', 'Bites and Brews', 'Little Tokyo Bistro', 'House of 1000 Beers', 'Crepes Parisiennes', 'Burgatory', 'Mad Mex - Oakland', 'Starbucks', 'Taco Bell', 'Unblurred', 'China One', 'Cop Out Pierogies', \"Johnny's Place\", 'Wings Suds & Spuds', \"Rob's Pizza\", \"Sam's Pizza Shop\", 'Bayleaf Indian Cusine', \"DiCarlo's Original Pizza\", 'Saladtime', 'Panera Bread', 'Panda Express', 'North Park Lounge Lawrenceville', 'Iron Born Pizza', \"Lillen's Restaurant\", 'Giant Eagle', 'Table 22', \"Adrian's Pizza\", \"Sammy's Pin High Pub\", 'Imperia Pizza', \"Stack'd Burgers - Hampton\", \"McDonald's\", \"Pauline's Caribbean Soul Cuisine\", 'Melange', 'City Fresh Pasta', \"Sammy's Kebab House\", 'Charleys Grilled Subs', \"Shelby's Station Bar and Restaurant Bridgeville\", 'Fresh From The Farm Juices', 'Root 174', 'Cross Keys Inn', \"Moe's Southwest Grill\", 'Kasai', \"Atria's\", 'IHOP', \"Salvatore's Pizza House\", 'Subway', 'La Pizza Bella', 'Royal Caribbean', 'Chica Loca Taco', 'Bistro 19', 'The Naked Grape', 'The Lemon Grass Cafe', 'Andora', \"Asiago's\", 'Zoup!', 'Papa Da Vinci', \"Chili's\", 'Salonika Imports', \"Veltre's Pizza\", \"Franco's Trattoria\", \"Cestone's Pizza\", 'Pizza Bellino', 'The Foundry Table & Tap', 'Peters Place', 'LaNova Pizzaria', 'Broadway Pizza', \"Chili's\", 'Lula', 'The Dinner Detective', 'Home Cooked By Donna', \"Tommy G' s Pizzeria\", 'Orbit Inn', 'Roadside Restaurant', \"Luccia Shea's\", 'Chipotle Mexican Grill', 'Sinobi', \"Dunkin' Donuts\", 'Popeyes Louisiana Kitchen', 'Eighth & Hays', 'Conicella Pizza', 'The Goldmark', 'Benkovitz Seafoods', 'Noodles & Company', \"Cole's Pub\", 'Cafe Raymond', \"Jimmy John's\", \"R-Time At Rene's\", \"Dunkin' Donuts\", 'Trapuzzano Italian Chophouse', \"Bruegger's Bagels\", 'Boston Market', 'Pizza Sola', 'Frankstown Wood Fired Pizza', 'Barrel Junction', 'La Felice Pizza and Pasta', 'Golden Corral of Pittsburgh', 'Sonic Drive-In', 'Pittsburgh Smokehouse', 'Subway', 'Texas Roadhouse', 'Olive Garden Italian Restaurant', 'Yamato Hibachi & Sushi Bar', \"LaScola's Italian Ice & Custard\", 'GetGo', \"Michael's Pizza Bar & Restaurant\", \"Gianni's Pizza - Hankey Farms/Oakdale\", 'Blue Sparrow Food Truck', \"Della Sala's Pizza\", 'Vocelli Pizza', 'Square Cafe', 'Independent Brewing Company', 'Kings', 'Bigelow Grille', 'Subway', 'Crave Melt and Tap', 'Boardwalk Sandwich Shop', \"King's Hometown Grille\", \"Ardolino's Pizza\", 'Slate Bistro', \"Fox's Pizza Den\", \"Prantl's Bakery\", 'Colonial Grille', \"Simmie's Restaurant\", \"Hog Father's Old Fashioned BBQ\", 'Kiku Japanese Restaurant', 'Cafe Chocolade', 'E2', 'Cafe Vita', 'Soju', 'Walmart', 'Fun Asian Bistro', 'McKnight Kitchen', 'The Pittsburgh PO Boy', \"Ollie's Pizza\", 'Star of India', 'Cappys Pizza & Ribs', 'V3 Flatbread Pizza', 'First Watch', 'Walnut Grill - Robinson', \"Michelle's Diner\", \"Domino's Pizza\", \"Mitchell's Fish Market\", 'Carhops Sub Shop', 'Italian Oven', 'Noodles & Company', 'Giant Eagle', 'Garden Bar Lounge', 'Noodle Uchi', 'Golden Land Asian Cuisine', 'Timeout Pizza Pub & Grub', 'Pizza Bianca', 'Pizza Pronto', 'Hunting Lodge II', 'Sports Rock Cafe', 'Wings & a Prayer', 'Taco Bell', 'Our Little Secret Cafe & Catering', 'Whiskey Hollow Grill', 'The Breakaway Bar and Grill', \"Angelo's II\", \"Casey's Pizza\", 'Eighteen', \"Eat'n Park Restaurants\", \"Paisano's\", 'Tsuki Japanese', \"Scoglio's Green Tree\", 'Trolley Barn Eatery', 'Moonlite Cafe', 'Spice Affair', 'Zaiaka', \"Jersey Mike's Subs\", \"Paddy's Pour House\", 'El Toro Loco', \"Smokin' Joe's\", \"Ilario's Trattoria and Vino's Pub\", \"Piacquadio's Italian Restaurant & Lounge\", \"Gianni's Pizza of Cecil\", \"Bob's Sub\", 'Buffalo Wild Wings', 'Tandoor Indian Grill', 'Franktuary', 'Friendship Perk And Brew', \"Maisie's Pizza\", 'Noodles & Company', 'Floor 2', \"Honest John's Bar & Restaurant\", 'Homestead Capri Pizza', 'Thai Hana Restaurant', 'Subway', 'Roasted Barrelhouse & Eatery', 'Beer Nutz Bottle Shop', 'The Library', 'Genoa Pizza & Pasta', 'IVP Bar & Grill', \"Sunny Jim's Tavern\", \"Mantini's Woodfired\", 'Tavern In The Hills', 'Brass Rail', 'IHOP', \"Christine's Country Cookin\", 'Dannys Pizza', 'North Star Restaurant', 'Banh Mi & Ti', 'Tex-Mix Restaurant', 'Excuses Bar & Grill', 'The Bar 2132', 'Texas Roadhouse', 'Pizza Capri', \"Long John Silver's\", 'Cafe Milano', 'Giant Eagle', '51 Wings and Things', 'Thai Foon', 'Toast! Kitchen & Wine Bar', 'Chick-fil-A', \"Fox's Pizza Den\", 'Qdoba Mexican Grill', 'Produce Plus Market and Deli', 'Riggs Lounge & Restaurant', \"Eat'n Park\", 'Bob Evans', 'Thai Place Restaurant', 'Isis Cafe', \"McDonald's\", 'China Village', 'Davio', \"Dunkin' Donuts\", 'Prestogeorge Coffee & Tea', \"Gianna Via's Restaurant & Bar\", 'Oriental Express', 'Il Mercato', 'Mia Madre Trattoria', 'Osteria 2350', \"Stockmano's Pizza\", \"Cal's Cantina\", 'Seviche', \"Peppi's\", 'Bellissimos Pizza & Deli', 'Sichuan House Chinese Restaurant', \"Eazer's Restaurant & Deli\", \"Monte Cello's Downtown\", 'Plum Dairy Queen', 'Edo Japanese Thai Cuisine', 'Chipotle Mexican Grill', 'Subway', 'Vocelli Pizza', 'Olive Oil Pizzeria & More', 'Barcelona Rivers Edge', 'Crafton Pizzeria', 'Lock & Dam Dog Shop', \"Jb's Pizza Place\", 'Brunoise Restaurant', 'Pizza Shack', 'Las Velas', 'Tic Toc Restaurant', 'Pizza Milano', 'Subway', '4 Wood Grille', 'Spitfirez Catering', 'Hello Bistro', 'Beehive Coffee', 'Tipsy Cow', 'City Buffet & Hibachi Grill', 'TGI Fridays', 'Tango Cafe', 'Tamari', 'Bollywood Cafe', 'Jozsa Corner', 'Crafthouse Stage & Grill', 'Bar Louie', 'Gran Canal Caffe', 'The Alcove', 'Bread and Salt', 'Magoos Bar & Bistro', 'Vallozzis Pittsburgh', 'New York Italian Heroes & Italian Ice', 'Sweet Buzz Bean & Bistro', 'Silk Pagoda Restaurant', 'Rice King', 'KFC', \"Winner's Fast Food\", \"Maryanne's Breakfast & Lunch\", 'Jadens Catering', \"Sammy's Famous Corned Beef\", \"McDonald's\", 'El Lugar', \"Di's Kornerstone Diner\", \"Eat'n Park\", 'Smokey Bones Bar & Fire Grill', \"Charley's Phily Steaks\", \"Big Mama's House of Southern Cuisine\", \"Gator's Grille formerly JD's Pub\", \"Winghart's Burger & Whiskey Bar\", 'Kings', 'Ali Baba', 'Kings', \"Top O' The Mornin' Donut & Coffee Shop\", 'The Wooden Nickel', 'Salonika Gyros', 'Big Ross Hoagies', \"Stone Pepper's Grill Bar\", \"Ziggy's Tavern\", 'Subway', \"Becky's Place\", 'Pitaland', 'LongHorn Steakhouse', 'California Taco Shop', 'The Scoop', \"Coach's Bottleshop & Grille\", 'Pine Restaurant & Bar', \"Wendy's\", 'Freedom Square Diner', 'Bartram House Bakery & Cafe', 'Pasta Too', \"Pizza Al's\", 'Veracruz Mexican Restaurant', \"Buffalo Bill's Roadhouse\", 'Amani Coffee House & Cafe', 'Popeyes Louisiana Kitchen', 'BurghBurgers', \"Eat'n Park\", 'Cafe io', 'The Lexus Club', 'Vocelli Pizza', \"Dowe's on 9th\", \"Eat'n Park\", 'Tupelo Honey Teas', \"McDonald's\", \"Jimmy John's\", \"Tim's Corner Bar\", \"Mogie's Restaurant & Irish Pub\", 'Hot Shots South Park Saloon', \"Denny's\", 'Bella Donne Pizza', 'Miss Saigon88', \"Eat'n Park\", 'Pizza House', 'Cala Lily Cafe', \"Vincent's of Green Tree\", 'Bangkok Balcony', 'iNoodle', 'James Street Gastropub & Speakeasy', 'Golden Palace Buffet', \"Liam's Fish, Wings & Things\", 'La Felice', \"Duke's Upper Deck Cafe\", \"Adrian's Pizza\", 'Subway', 'The Underground', 'Steel City Steak House', \"Eat'n Park\", 'Dunkin Donuts', 'The Cheesecake Factory', 'Pizza Marsala', 'Mr Hoagie', \"Jersey Mike's Submarines & Salads\", 'Barking Shark Bar & Grill', 'Taco Bell', 'Dijlah Hookah Lounge', 'The Jaggerbush', 'Pear and the Pickle, Cafe & Market', 'La Barbe', \"Fox's Pizza Den-Moon Twp.\", \"Chuck E. Cheese's\", 'Cafe Supreme', 'Mesa', 'Green Garden', \"Bruegger's Bagels\", 'Cocothe', \"Domino's Pizza\", \"Mama C's\", \"Arby's\", \"Monte Cello's\", 'Dish Osteria and Bar', \"Philly's Pitt Stop\", \"Joey D's Cafe\", 'Panera Bread', 'Hanini Market', 'Pleasant Bar', \"Arby's\", \"McDonald's\", \"McDonald's\", 'Jade Grille', 'Mediterrano', \"Papa John's\", 'Groceria Merante', 'Anchor & Anvil Coffee Bar', 'Piccadilly Artisan Yogurt and Creamery', 'Living Juicy', 'Sichuan Gourmet', \"Applebee's Grill + Bar\", \"Bruegger's Bagels\", \"Papa John's Pizza\", \"Ditka's Restaurant - Wexford\", 'Off Street BBQ', 'The Roo Bar & Grill', 'TGI Fridays', 'AVA Cafe + Lounge', 'Goodfellas Deli & Drafthouse', 'Capri Pizzeria and Bar', 'San Lorenzo Ristorante', 'Shiloh Grill', \"McDonald's\", \"Rocky's II\", 'The Summit', \"Emilliano's Mexican Restaurant and Bar\", 'Texas Roadhouse', 'Mezzo', '5801 Video Lounge and Café', 'Souper Bowl', 'Dragon Chinese Restaurant', \"Selami's Turkish Kebab House\", \"Mr Willie's BBQ\", \"McDonald's\", 'El Campesino', 'Ramen Bar', 'Brown Bag Delis', 'Wise County Biscuits', \"Anthony's Coal Fired Pizza\", \"Annie Lee's Southern Kitchen\", \"Grumpy's\", 'Subway', \"Fox's Pizza Den\", 'Morcilla', 'Allegro Hearth Bakery', 'Pizza Hut', 'Indo: Asian Fusion', \"Gino's Pizza\", \"Bobby's Lounge\", 'First Watch', \"DB's American Cafe\", \"Rico's Restaurant\", 'Acropolis Gyro House & Grille', \"Luke and Mike's Frontporch\", \"Pasquale's Pizzeria\", 'Spork', \"McCormick & Schmick's Seafood & Steaks\", 'Quattro Pizza', 'The Rolling Kitchen', 'Molinaro Ristorante & Bar', 'The Elbow Room', \"Fernando's Cafe\", \"Silvi's Southside Kitchen\", 'Bull River Taco', 'Rice Inn', 'Moonlite Express', 'Little Caesars', 'Ichiban', 'KFC', 'Rivertowne Pour House', 'Taco Bell', \"Charley's Grilled Subs\", 'Sir Pizza', 'Rowdy BBQ', 'Bruceton Grill', 'Sukhothai Bistro', \"Arby's\", 'Lola Bistro', 'Kabob-G Grill', \"Aladdin's Eatery\", 'Sweet Basil and La Filipiniana', 'Spork Pit', 'Los Chiludos', \"Kazansky's Delicatessen\", \"Downey's House\", 'Toss', \"BnD'z Burgerz & Dogz\", \"Messina's Pizza & Restaurant\", \"Bruegger's Bagels\", 'Hook Fish and Chicken', 'E-Town Pizza', 'Buffalo Blues', 'Pittsburgerz Smokehouse', 'Cafe Ola Appetite!', \"Luciano's Italian Brick Oven\", \"Nadine's\", \"Sree's Foods\", \"Giovanni's Pizza & Pasta\", 'Cassis', \"StonePepper's Grill\", 'Belly Delicatessen', 'The Huddle', \"Piccolina's\", \"Bob's Inn\", 'Debbie Gates All American BBQ', \"Nicky's Thai Kitchen\", 'Rivertowne', \"Yesterday's Bar & Grill\", \"Di's Kornerstone Diner\", \"DeBlasio's Restaurant\", 'Monte Cellos Pizza', 'Starbucks', 'Jitters Cafe', 'Whole Foods Market', 'The Pizza Company', 'Lotus Food', 'Garage Door Saloon', 'Heavenly Espresso', 'Aprimo Pizza', 'Steak ’n Shake', 'Mojo Bistro', 'Acorn Pittsburgh', \"Q&M's Fish, Chik & Ribs\", 'Pizza Hut', 'Carhops Sub Shop', \"Corky Nolan's Miller's Seafood House\", 'Panther House Bar & Grill', 'Black Bean Cuban Cuisine', 'Parkway Tavern', 'Great China Buffet & Grill', 'Pizzeria', 'Golden Dragon Chinese Restaurant', 'Fish Nor Fowl', \"Arby's\", \"Maxwell's Pizza\", 'Wheelhouse', 'Craftwork Kitchen', 'The Other Place', 'Diyor Cafe and Lounge', \"Satalio's Inc\", 'Subway', 'Everest Ethnic Restaurant', 'Panera Bread', \"Folino's Ristorante\", 'PapaGallo Cucina', \"Raya's Pizzeria\", 'The Flats on Carson', 'Fukuda', \"Eat'n Park\", 'New York Subs', 'Subway', 'Chick-fil-A', 'I Tea Cafe', \"Bob's Diner\", 'KFC', 'KFC', \"Frenchi's Deli & Market\", 'The Slippery Mermaid', \"Wilson's Bar-B-Q\", 'Red Room Cafe', \"Houlihan's\", 'Rey Azteca', 'Casa Amigos', 'La Gondola Pizzeria & Restaurant', 'Kavsar Restaurant', 'Taco Bell', 'Dobra Tea', \"Najat's Cuisine Authentic Lebanese Food\", 'Pizza Parma', \"Ferrari's Pizza\", 'Cafe Zinho', 'Wexford Ale House', 'Green Pepper', 'Sesame Garden', 'Giant Eagle', 'Taco Bell', 'Family Restaurant', 'China Lobster', 'Champions Club', 'Sonic Drive-In', \"Vincent's Pizza Park\", \"Cc's Cafe\", 'Primanti Bros', 'Pizzaiolo Primo', \"Monte Cello's Hampton\", 'The Coffee Tree Roasters', \"Delgreco's Pizzeria\", 'Villa Fresh Italian Kitchen', \"Houlihan's Mt. Lebanon\", 'Taiwan Cafe', \"Atria's Restaurant\", 'Strange Roots Experimental Ales', 'Railyard Grill & Tap Room', \"Rockwell's Red Lion Restaurant\", 'De Fer Coffee & Tea', 'Rose Tea Cafe', 'China Buffet', 'Pittsburgh Sandwich Society', 'Pho Kim 88', 'Pizza Burgh', \"Lydiah's Coffee House\", \"Wendy's\", \"Lviv European Kitchen & Millie's Italian Deli\", \"T.G.I FRiDAY'S Pittsburgh International Airport\", 'Caliente Pizza & Drafthouse', \"Maxime's Mediterranean\", \"Hunner's Deli Pizza & Catering\", 'Angkor Restaurant', \"Nana's Hot Dog Shop\", \"Don's Diner\", 'Sushi Kim Restaurant', 'Suds & Subs', 'V&V Scratch Kitchen', \"David's Diner\", 'Recipes Remembered', 'Ladles of Springdale', 'Inferno Pizza', 'Ichiban Steakhouse & Sushi Bar', \"Big Shot Bob's House of Wings - South Side\", 'KFC', \"Angelina's Pizzeria\", 'Churchill Haus', 'Outback Steakhouse', 'WFH Oriental Food Market', 'Bar 48 & Grille', 'Hook Fish & Chicken', \"Bado's Pizza Grill & Ale House\", \"Coughlin's Law Kitchen and Ale House\", 'TGI Fridays', 'Elements Contemporary Cuisine', \"Leena's Food\", \"Rudy's Subs\", 'Mozart Room', 'Chill Frozen Desserts', 'Mexi-Casa', 'notion', 'Cuzamil', 'How Lee Chinese Food', 'Rennerdale Corner Store', 'Arlecchino Ristorante', 'Minerva Bakery', 'California Pizza Kitchen at Ross Park', \"Ting's Kitchen\", \"McDonald's\", 'Primanti Bros', 'Agave Mexican Grille', \"Hunan's Palace\", \"Joe's Rusty Nail\", \"Bob's Sub\", \"Feeney's Weenies\", 'Buffalo Wild Wings', \"DiAnoia's Eatery\", 'Blue Dust', \"Difiore's Ice Cream Delite\", 'Station Street Hot Dogs', 'Biergarten', 'Red Orchid', 'Thai Place Restaurant', 'Oakmont Deli', 'Sunset Pizza & Grille', 'Giant Eagle', 'Holy Trinity \"Taste of Greece\" Greek Festival', 'The Tuscan Inn', \"Pepperoni's\", 'Chipotle Mexican Grill', 'Thunderbird Cafe', 'Slice On Broadway', 'Wok & Grill', 'Mad Noodles', 'Plum Pan Asian Kitchen', 'The Commoner', 'The Park House', \"Parente's Ristorante\", 'The Coffee Tree Roasters', \"Bruegger's Bagels & Jamba Juice\", 'Crazy Mocha Coffee', \"Eat'n Park\", 'Subway', \"Wendy's\", 'Subway', 'Piatto Ristorante Italiano', 'Appian Way Cafe & Lounge', 'Primanti Bros', 'Sonic Drive-In', \"Seven Cee's\", 'Station Brake Cafe', 'Pittsburgh Deli Company', 'Madeleine Bakery And Bistro', \"Max & Erma's\", 'Fusion Bar And Grill', \"Eat'n Park Restaurant\", 'Cafe Lola', 'Mia Pizza', 'Capstone Grill', 'Thai Tamarind', 'The Diamond Pizza', 'BRGR', 'Subway', 'Arriviste Coffee Bar', \"D's Six Pax & Dogz\", 'Ichiban Hibachi Steakhouse', 'American Natural Wexford', \"Ann's Chophouse\", \"McDonald's\", 'Subway', 'Pasta Too', 'Extended Stay America - Pittsburgh - Airport', 'Chipotle Mexican Grill', 'Starbucks', 'El Paso Mexican Grill', \"Walker's Bar and Grill\", 'Bertrand', \"Atria's Restaurant & Tavern\", 'Spoon', 'KFC', \"McDonald's\", 'Texas Roadhouse', \"Cabrileo's Gourmet Coffee\", 'Claddagh Irish Pub', 'Mamma Lucia Pizza', 'Cousins Maine Lobster - Pittsburgh', \"Adrian's Pizza\", \"Al's Fish & Chicken\", \"Jamison's On West Liberty\", \"Moe's Southwest Grill\", \"Costanzo's\", 'Chicken Latino', 'Burger King', 'Redfin Blues', \"Domino's Pizza\", \"Duke's Station\", 'Open Bottle Bistro', \"McDonald's\", 'Brighton Hot Dog Shoppe', '1947 Tavern', \"Mulligan's Sports Bar and Grill\", 'Revel', 'Uptown', 'Andora', 'The Urban Tap', 'Pizza Hut', 'Down the Road Lounge', 'Dudt P J Bakery', \"DeLallo's Fort Couch Cafe\", \"Pasquale's Pizzeria\", 'Noodles & Company', 'Pizzeria Primos', 'Drew Menas Restaurant & Lounge', \"Bob's Diner\", 'Soul Food Connection', \"Gabriella's Gourmet On the Go\", \"McDonald's\", 'Panera Bread', 'Peanutz', \"Luigi's Pizzeria\", \"Dave & Buster's\", \"Kelly O's Diner\", \"Papa J's Centro\", 'Chopstix', \"Juliano's Restaurant & Pizzeria\", \"McDonald's\", 'Zen Juice', 'Molly Brannigans', 'Night Light', \"Don's II Pizza\", 'Benihana', 'Sushi & Rolls', 'Middle Road Inn', \"Wintzell's Oyster House\", 'Subway', \"Anthony Jr's Restaurant & Pizzeria\", \"Eat'n Park\", 'Hunan Bar', \"Alihan's Mediterranean Cuisine\", 'Coffee Etc.', 'Panera Bread', \"Rich's Parkside Den\", \"Bier's Pub\", \"Fox's Pizza Den\", \"Jimmy John's\", 'Open German Italian Flair', \"Chick's Grill\", 'Crabs R Us', 'Pizza Plaza', 'J & S Diner', \"Rockefeller's Grille\", 'Taco Loco', \"Patrick's Pub and Grille\", 'Sichuan Gourmet', 'Coal Hill Steakhouse at Grandview Saloon', 'Pizza Marsala', \"Armand's Bar\", 'Mac & Toz Alehouse', 'Z Pizza & Sushi', 'For All Seasons', 'Buon Cibo', 'Subway', \"Wendy's\", 'KFC', 'Burger King', 'Cocina Latina', 'Engine House 25', 'Everyday Cafe', 'The Oven Pizza Co.', \"Eat'n Park\", \"Lucci's Pizza and Pasta\", \"Arby's\", \"People's Indian Restaurant\", 'Baby Loves Tacos', 'Pizza Ranchini', 'Holiday Inn', 'Panda Chinese Kitchen', 'The Village Melt', 'Penn City Grill', 'Taipei Tokyo', 'Grand View Buffet', \"Fazio's Pizza & Italian Food\", 'UPMC Presbyterian Cafeteria', 'River Moon Cafe', 'Sewickley Speakeasy', 'Burger King', 'Donut Shack', 'The Pizza Company', 'R-Place Restaurant', 'Bruceton Grille', \"Nigro's Restaurant\", 'Subway', 'Rock Bottom Restaurant & Brewery', 'Taco Bell', 'Hot Box Pizza & Wings', 'Rosecliff Tavern', \"Drew's Family Restaurant\", 'Piada Italian Street Food', 'Café Phipps', 'Oya Sushi & Korean Grill', 'Paparazzi Pizzeria', 'Greek Stop', 'Thai Me Up', 'Fuddruckers', 'Pizza Milano', 'The Green Mango Thai Cafe', 'Bamboo Republic', 'Arancini House', 'Outback Steakhouse', 'Hunan Wok Chinese Takeout', 'Pizza Moena', \"Kimmie's Lounge & Restaurant\", 'Rochester Inn & Hardwood Grille', 'The Porch at Schenley', 'Sesame Inn Chinese Restaurant', \"Mahoney's Restaurant\", 'No Name Coffee Shop', 'Scoops & More', \"Jimmy John's\", \"Long John Silver's\", 'Red China', 'Pittsburgh Rare', 'K & N Restaurant', \"Wiggy's\", 'Philly Pretzel Factory', 'Oakland Bakery and Market', 'Chick-fil-A', 'Common Plea Restaurant', 'Hibachi Express', \"Big Mama's House of Soul\", 'Nakama', 'Empire Palace Asian Restaurant and Bar', 'Pizza Hut', 'Indian Spices', 'Speedies Pizza', 'Primanti Bros', 'Pizza Care', 'Tnt Dynamite Pizza & Hoagies', 'Subway', 'Hookah Bookah', \"Buster's Pizza & Cream of White Oak\", 'Hello Bistro', \"Mike & Tony's Gyros\", 'Shadow Lounge', 'First Watch', 'Five Guys', 'Sunseri Jimmy & Nino', 'Pittsburgh Sports Bar & Grill', 'Tartine', \"Hardee's\", 'Mugshots Cafe', 'Geppetto Cafe', 'Gino Bros Pizzeria', 'Fortunes Coffee Roastery', \"Madison's Bar and Grill\", 'Einstein Bros Bagels', \"Someone Else's Bar\", \"Peppi's\", 'Merlinos Pizza', 'Mezza 663 Grill', 'Subway', 'Golden Star', 'Pizza Palermo', 'Hunan Inn', \"DaBuzi's\", 'QDOBA Mexican Eats', 'Red Onion Hoagies & Pizza', 'KFC', 'Pizza Ephesus', 'Bona Terra Restaurant', 'Blue', \"Pamela's Upstreet Diner\", 'Olive Garden Italian Restaurant', 'Hook Fish & Chicken', 'Fox Chapel Yacht Club', 'Cafe Sam', 'Caffe Davio', 'Bridge Ten Brasserie', 'Cherries Diner', 'Giant Eagle', 'La Cucina Dolce', 'Red Robin Gourmet Burgers', \"Jerome Bettis' Grille 36\", 'Hurricane Alley', \"Fiori's Pizzaria\", 'Sweet Basil La Filipiniana', 'Allegheny Sandwich Shoppe', 'Waffallonia', 'Spice Island Tea House', 'Diamond Market Bar & Grill', \"Frisch's\", \"Pugliano's Italian Grill\", 'Villa Ballanca', 'Pazzo', \"Sparky's Spot\", 'Pazzo Ristorante', 'Wood Fired Flatbreads', 'China Wok', 'Sakari at Monterey Bay', \"Fox's Pizza Den\", 'Superior Motors', 'Ginza', \"Domino's Pizza\", 'Panda Express', 'Subway', 'Abruzzi Italian Cucina', \"Monte Cello's Pizza\", 'Mediterra Cafe', \"Sal's New York Pizzeria\", 'Nova Cafe', \"McDonald's\", 'Up Modern Kitchen', 'Kiva Han', 'The Groove Cheesesteak Co', 'Plate & Bowl', 'Kings', 'Keystone Cafe & Deli', 'Orbis Caffe', 'East Coast Sandwiches', \"Kelly O's Diner\", 'Pittsburgh Cafe', 'Pizza Station', \"Vincent's Pizza Park\", 'The Stuffed Pepper', \"McDonald's\", 'Local Craft Kitchen + Bar', 'Top This! On Brilliant', 'Istanbul Grille', 'Aspinwall Grille', \"King's Family Restaurants\", \"Nox's Tavern and Grille\", 'China House', \"Salim's Middle Eastern Food Store\", 'Cowtastic Frozen Yogurt', 'Pizza Palermo', 'Subway', 'Hunan King Chinese Restaurant', 'Olive Press Restaurant', \"Wendy's\", 'Spaghetti Warehouse', \"Michael's Restaurant & Lounge\", \"Burgh's Pizza & Wing Pub\", 'Pittsburgh Bottleshop Cafe', 'Popeyes', \"Milano's Pizza\", \"Hanni's Place\", 'Pho Van', 'Bridges Restaurant', 'Babylon Cuisine', 'Wexford Post Office Deli', 'BRGR Truck', \"Bob's Express & Catering\", \"Domino's Pizza\", 'Park Pizza & Cream', 'Go Pretzel', 'Da Vinci Pizzeria', 'Green Front Inn', 'Eastern Palace', \"Domino's Pizza\", 'Blue Elephant Cafe', \"Sorrento's Pizza\", \"Barb's Country Junction Cafe\", \"Lunardi's Ristorante\", \"Nicky's Grant Street\", 'Pizzaz Italian Restaurant', 'Mad Mex - North Hills', \"Billu's Indian Grill\", 'Mezbaan Indian Cuisine', 'Mixtape', 'Villa Italian Kitchen', 'Thai Hana', \"Cent Anni's\", \"Max & Erma's\", \"Uncle Sam's Submarines\", \"Luke Wholey's Wild Alaskan Grille\", 'Popeyes', 'Quiet Storm Vegetarian & Vegan Cafe', 'Bellisario Pizza Shop', 'China King', 'Saga Hibachi Steakhouse & Sushi Bar', 'The South Side BBQ Restaurant', \"Hart's Restaurant & Lounge\", 'Taco Bell', 'Chateau Café & Cakery', 'La Felice Pizza & Pasta', \"Dell's Sundae Grill\", 'Musa Caribbean / Cajun Fare', \"Zeke's Coffee\", 'Kotobuki Japanese Restaurant', \"Chili's\", 'Monterey Bay Fish Grotto', 'Loafers Bread', \"Domino's Pizza\", 'Tusca Restaurant', 'Cenacolo Restaurant', 'Palomino', 'Bite Bistro', 'BRGR', 'Teppanyaki Kyoto', 'Soergel Orchards & Garden Center', \"Tootie's Famous Italian Beef\", \"Mandy's Pizza\", 'Oakmont Tavern', \"Del's Bar and Ristorante DelPizzo\", 'The Commoner Corner', 'The Pizza Stop', 'Ugly Dog Saloon', \"Piazza Talarico and Papa Joe's Wine Cellar\", \"Sree's Foods\", \"Rocky's\", 'The Rib Crib', 'Flix sports bar', 'Jacksons Restaurant', 'Bellevue Diner', \"Jimmy John's\", 'Tokyo Japanese Steak House', 'Bruceton Station', 'Starbucks', 'Urban Hookah Lounge', \"Jimmy John's\", 'Italian Village Pizza', 'Burger King', 'Mullaneys Harp and Fiddle', \"Houlihan's\", 'Buffalo Wild Wings', 'Perfect Pastry', 'Bella Monte Pizza', 'Panera Bread', 'Frosted Mug', \"McDonald's\", 'Bocktown Beer and Grill', 'Boston Market', 'Pizza Hut', 'The Fire Side Public House', 'Panera Bread', \"Tootsie's Diner\", 'Panera Bread', 'The Wexford Pub', 'Pizza Hut', 'Market Square', 'Bruneaux', 'Perk Me Up Coffeehouse', 'The Tong Garden', 'Mama Pepinos', 'Cardello Pizza', 'Olio Trattoria', \"Fiori's Pizzaria\", 'Bethel Deli', 'The Monkey Bar', 'Mi Ranchito', 'Red Dragon', \"Bob's Sub\", 'Gateway Center Cafeteria', \"Shab's Mediterranean Food\", 'The Flame BBQ', 'Lucky Chinese Restaurant', 'AJ Bambino Pizzeria', 'Pizza Bistro', 'Qdoba Mexican Grill', 'KFC', \"Uncle Sam's Submarines\", 'Taco Bell', 'Kings', 'Olive Garden Italian Restaurant', 'Cannon Coffee', \"Silky's Pub\", 'UUBU 6', \"Bado's Cucina\", \"Wallace's Whiskey Room + Kitchen\", 'Five Guys', 'Bistro Sewickley', \"Bonnie & Clyde's\", \"Papa John's\", 'Steel Cactus', 'Boardwalk on Carson', \"Duran's Restaurant & Lounge\", 'Vocelli Pizza', 'Poros', 'Boston Diner', 'Uncle Chen', 'Saga Hibachi Steakhouse & Sushi Bar', 'Original Hot Dog Shop', \"Hanlon's Cafe\", \"Eat'n Park\", 'Coast & Main Seafood and Chophouse', 'Bean Curd Chinese Restaurant', \"Redbeard's Sports Bar & Grill\", 'Eggheads', 'Kanok', \"Emilia's Garden\", \"Jason's Deli\", 'Red Tea House', 'Meat & Potatoes', 'Inn Place Restaurant', \"Mama Meatball's Pizzeria\", \"Max & Erma's\", \"Lucci's Pizza and Pasta\", 'Bakn', 'Fredos Deli', 'Holiday Inn Hotel Pittsburgh-Intl Airport', 'Dive Bar & Grill', 'Bella Notte', \"Mandy's Pizza\", 'Original Fish Market', \"Palmieri's Restaurants\", 'Pizza Rio', \"Lorenzo's\", 'The Rose Bar & Grille', \"Anthony's Coal Fired Pizza\", \"Alex's Corner Pizza Shop\", \"Zuppa's Deli\", 'Sesame Inn', 'Emilia Romagna', 'Slice On Broadway', 'Sincerely Yogurt', 'Sewickley Cafe', 'City Grill', 'Sojourn Catering & Deli', 'Vivo Kitchen', 'Christos Mediterranean Grille', 'MixStirs Cafe', 'Dairy Queen', 'Chop Shop Salad Shop', \"Howard's Tavern\", \"Kelly's Bar & Lounge\", 'The Original Giovanni’s Pizza on 5th Ave', 'Olympos Gyros', 'Right By Nature Hometown Market', 'Primanti Bros', 'Yokoso Japanese Steakhouse', 'Popeyes Louisiana Kitchen', 'La Catrina', 'Burgatory', 'Five Guys', \"Valliant's Diner\", 'The Cafe', 'The Twisted Frenchman', 'Einstein Bros Bagels', 'Bob Evans', 'The Just 8 Deli', \"Burgh'ers Brewing\", 'Picasso Pizza & Pasta', 'Spirit Lodge', 'Liberty Avenue Deli', 'Asia Tea House', \"Frankie's Italian Kitchen\", 'GetGo from Giant Eagle', \"Applebee's Grill + Bar\", 'India on Wheels', 'Sushi Bomb', 'Au \"Grottens\" Cafe & Catering', 'The Green Mango Noodle Hut', 'Cool Ice Taipei Kitchen', 'Westwood Bar & Grill', \"Men's Wearhouse\", \"Bellisario's Restaurant\", 'Papa Rocks', 'Shenanigans Sports Bar & Grille', \"Aurelia's Coffee & Cafe\", \"Jac's Cafe\", 'Little Athens Catering', 'Carriage Inn Restaurant and Catering', 'Folino Brothers Pizzeria', \"DeNunzio's Italian Trattoria\", '4th Avenue Grille', 'Penn Cove Eatery', 'Tick Tock Bar & Cafe', 'Paddy Cake Bakery', 'Dunkin Donuts', 'Steel City Diner', 'Burgatory', 'Royal Place Restaurant', \"Nicco's Pizza\", 'Coppertops', 'Rhythm House Cafe', \"Ordinary Joe's\", 'Grand Central Pizza', \"Adolfo's Restaurant\", 'Chipotle Mexican Grill', 'Oasis Pasta House', \"Steve's Deli\", 'The South Park Clubhouse', 'Minitalia Deli', 'Panera Bread', \"Bubba's Gourmet Burghers and Beer\", 'Taco Bell', 'Linden Grove', 'Muscle Maker Grill', \"Dominic's\", 'UPtown Diner', 'Olive Garden Italian Restaurant', 'Mandarin Gourmet', \"Boonda's\", \"Merante's Gifts\", 'Loving Hut', \"Sam's Market\", \"Buford's Kitchen\", 'Wyndham Garden Hotel - University Place', \"Stack'd Burgers & Beer - Oakland\", 'Boston Market', 'Apsara Cafe', 'Steel City Rib House', 'The Capital Grille', 'Farm Fresh Deli', 'Pizza Hut', '1902 Tavern', 'Rivertowne Pub', 'From Italy', 'Pizza Hut', 'Grazie Restaurant & Event Center', 'Sushi House', \"Big Shot Bob's House of Wings - Avalon\", 'Mm! Mm! Pizza', \"Tong's Cuisine\", \"McFadden's Saloon\", 'Falkers Tavern', 'Bar on Brown', 'Fat Heads Saloon', 'Pita Pit', 'Pittzarella', \"Tazza D'oro\", 'Dairy Queen Brazier of Harrison City', 'China Cafe', \"Duke's Pub and Pizza\", \"Najat's Cuisine\", 'Somma Pizza Restaurant & Sports Bar', \"Rodney's 701 Diner\", 'Caputos Friendly Inn', 'Steak ’n Shake', 'Brik Room', 'The Pop Stop Snack Shop', \"Gibson's Take-Out\", 'Kous Kous Cafe', 'Gab & Eat', \"Poppy's Bistro and Pub\", 'Chinatown Inn', \"Emiliano's Restaurante & Cantina\", 'Franktuary Truck', \"Riley's Pour House\", 'Cozumel Mexican Restaurante', \"Giovanni's Pizza & Pasta\", \"Hank's Hotdogs Too\", \"Salem's Market & Grill\", \"McDade's Garden Cafe & Catering\", 'The Blind Pig', \"Stoke's Grill\", \"Luciano's Pizza & Six Pack To Go\", 'El Campesino', 'Bonefish Grill', 'Dal Forno', 'Birmingham Bridge Tavern', 'Fellinis Pizzeria', 'Tango Food Truck', 'El Gallo De Oro', 'Chick-Fil-A', 'Little Caesars', 'Dive Bar and Grille', \"Wang's Kitchen\", 'Primanti Bros', 'Kitchen 28', 'Rivers Casino', 'Asian Picnic', 'Golden Palace', 'York Buffet', 'Pizza Parma', 'The Inn on Negley', 'Lezzet', 'Storms Restaurant & Byob', 'Dairy Queen', 'Starbucks', 'GoodFellas Restaurant & Tavern', 'China Dragon', 'Potomac Bakery', 'Eden Bistro', 'Baskin Robbins', 'Walnut Grove', 'Au Bon Pain', 'Me Lyng Restaurant', 'China Buffet', 'Szechuan Express', \"Stuff'd Pierogi Bar\", 'Smallman Galley', 'Té Café', \"Bishop's Corner Café\", 'The Smokehouse Bar & Grill', 'Pasha Cafe Lounge', 'The Village Coffeehouse and Grille', 'The Green Mango', 'Twelve Whiskey Barbecue', 'Bulldog Pub', 'Subway', 'Pizza Bella', \"Damon's Grill & Sports Bar\", 'East End Café', 'Dairy Queen', 'Pizza Fiesta', 'Blvd Pub & Kitchen', 'Pittsburgh Chop House', 'Fellinis Pizzeria', 'Pierogies Plus', \"Kretzler's Tavern\", 'Little Shanghai', 'North Versailles Bowling Center', 'The Modern Cafe', 'QDOBA Mexican Eats', 'Dormont Dogs', \"Eat'n Park\", \"McDonald's\", 'Monterey Bay Fish Grotto', 'La Palapa', 'Finn McCools', 'Mediterranean Market', \"Applebee's Grill + Bar\", 'Asian Fusion Bowl', \"Frederick's Soul Food\", 'Pickles Pizza & Sandwich Emporium', 'Burger King', 'Shamrock Inn', 'Thai Suan Thip', 'Dragon Palace', 'Little Oasis', 'Salud', 'Sonoma Grille', 'Casellula', 'Wok In Heaven', 'Vocelli Pizza', 'Labella Bean', 'Yo Place', 'Little China', 'Penn Murry', 'Tana Ethiopian Cuisine', \"Nana's Place By Gibsons\", 'Cafe de Noir', 'VFW Post 764', 'Fifth Avenue Beanery', \"Tom's Diner Southside\", 'QDOBA Mexican Eats', \"Barb's Corner Kitchen\", 'Bridgetown Taphouse', 'Chan An Restaurant', 'Le Thai Café', \"Zorba's Gyros\", 'Taste of Dahntahn', 'Panera Bread', 'The Blue Goose Saloon', 'Down There Bar & Grill', 'KFC', 'Hong Kong Taste', 'Sonic Drive-In', \"McDonald's\", \"Harvey's\", 'Two and a Fry', 'Iron Creek Bar Grille', 'City Cafe', \"Houlihan's\", 'Local Brewhouse', 'Kaibur Coffee', \"Billu's Indian Grill On Wheels\", 'Hyatt Regency Pittsburgh International Airport', 'Love Yogurt', 'New Hofbrau', 'Tailgaters Bar & Grill', 'Giant Eagle', 'Sincerely Yogurt', 'Sushi Boat', 'Einstein Bros Bagels', \"McDonald's\", \"Wendy's\", \"Shooti's Bar & Grille\", 'Chipotle Mexican Grill', \"McDonald's\", 'Silk Elephant', 'Cafe des Amis', 'Vilka Bistro', \"Yen's Gourmet\", \"Eddie's Pizza Haus\", 'Yo Rita', \"MacKenzie's Pub\", \"Caffè D'Amore Catering\", 'Sinobi HQ', 'Palazzo Ristorante', 'Proper Brick Oven & Tap Room', \"Molly's Pizza\", 'Francos Italian Restaurant', 'Broadway Brunch', 'KFC', 'Red Lobster', \"Futules'harmar House\", 'Round Corner Cantina', 'Buon Giorno Cafe', \"Killian's Pub\", 'S Aiken Bar & Grille', \"Calabria's\", 'The Yard Gastropub', 'The Hop House - Greentree', 'China Taste', '61C Cafe', 'Smokey Bones Bar & Fire Grill', \"Badamo's Pizza\", \"Al's Cafe\", 'Mallorca Restaurant', 'Forgotten Taste Pierogies', 'Quiznos', \"Delanie's Coffee\", 'The Jackman Bar & Restaurant', 'Green Bamboo', \"It's Dogg'n It\", 'Subway', 'Totopo Mexican Kitchen and Bar', 'Authentic Pizzeria & Deli', 'Red Lobster', 'OTB At the Boathouse', 'Waffles Incaffeinated', 'Porked', 'Pizza DeCasa', \"Sieb's Pub\", 'Share Wine Lounge And Bistro', \"Cellone's Bakery, Inc.\", 'Il Pizzaiolo', 'The 509 Cafe', 'Burger King', \"Rocky's\", 'Mexico City', \"Jo Jo's Place\", 'Roma Italian Restaurant and Pizzeria', 'Thai Gourmet', 'Lucky Dragon Chinese Restaurant', 'Taverna 19', 'Panera Bread', 'Fanattics', \"Anthony's Pizza\", \"Joe Mama's Italian Deluxe\", \"Fortino's Pizza\", \"Ali's Marketplace by Gluten Free Zone\", 'Boulevard Deli', \"Sam's Sun Sandwich\", 'Slice on Broadway', 'Waffallonia', 'Hyeholde Restaurant', 'Bravo! Cucina Italiana', \"Buford's Kitchen\", 'All India', \"Bruegger's Bagels\", 'Center Avenue Slice', 'Hunan Chinese Restaurant', 'Six Penn Kitchen', 'Vocelli Pizza - Pleasant Hills', 'Maiku Sushi', \"Wolf's Pub\", \"Amili's Pizzeria\", 'Sewickley Hotel', \"Fat Angelo's Pizzeria\", 'Five Guys', 'Mamma Mia Pizzeria', \"It's Greek To Me\", 'Lions Den Cafe And Deli', 'Istanbul Sofra', 'South Philly Steak & Fries', \"Hoffstot's Cafe Monaco\", 'Sauce', 'Red Oak Cafe', 'Spinach Urban Bistro', 'Sawasdee Thai & Sushi', \"Wendy's\", 'Bravo! Cucina Italiana', \"Smokey City's 412 BBQ\", 'Affogato', \"Emil's Lounge\", \"Liang's Hunan Restaurant\", 'Georgetowne Inn', 'Table Lakeside', 'Sandpresso', 'Gandy Dancer Saloon', 'Enix Brewing', \"Grieco's Carefree Inn Restaurant\", 'China House', 'Watami Hibachi Steakhouse', \"Armstrong's Restaurant\", \"Fox's Pizza Den\", \"Erin's Fine Foods Deli\", 'Vocelli Pizza', 'Pizza Forever', 'Tokyo Sushi Buffet', 'Quaker Steak & Lube', 'Waffles, INCaffeinated', 'Pie Express', 'Mad Mex - Robinson', 'Puzzlers Restaurant & Lounge', 'Beermuda', \"Don Pablo's Mexican Kitchen\", '17th Street Cafe', \"Long John Silver's\", 'Fifth Avenue Place Food Court', 'Rumerz Sports Bar & Grill', 'Five Guys', \"Yoli's Pizza\", 'Burger King Restaurant', \"Wendy's\", 'India Garden', 'Grant Street Tavern', 'Burgatory', \"Jean's Southern Cuisine\", \"Wendy's\", \"Arby's\", 'Sichuan Palace', 'Mount Everest Sushi', 'The Pub at Tonidale', 'Carnivores Restaurant & Sports Bar', 'The Bridgeside Market', 'Scoops in Bloomfield', \"Defelice's Deli\", 'Top Shabu-Shabu & Lounge', \"Graziano's Pizzeria\", 'The Green Mango', 'Sarku Japan', 'NU Jewish Bistro', 'TJ Buffet Sushi and Grill', \"Bea's Taqueria\", \"Bishop's Pizza III\", \"Vicky's Mexican Restaurant\", \"Gibby's Good Eats N Treats\", 'ACE Hotel Pittsburgh', 'Schorr Bakery', 'Brasserie', 'Carve', \"Francesco's\", 'El Patron Mexican Grille', \"Domino's Pizza\", 'Fairway Grille', \"Wendy's\", 'Eliza Hot Metal Bistro', 'Cafe on the corner', 'Wild Sage', 'Sapporo Japanese Steakhouse', 'House of Lee Restaurant', 'DragonFire Steakhouse', 'Chick-fil-A', 'New York Original', 'Bakd Pizza', \"Big Shot Bob's House of Wings - Beechview\", 'The Coffee Tree Roasters', \"Nelia's Smokehouse\", 'GetMoMuffins', \"Jimmy John's\", 'Pittsburgh Restaurant Week', 'Joe & Pie Cafe Pizzeria', 'Real McCoy Sandwich Shop', 'The Mintt', 'La Cucina Flegrea', 'Little Caesars Pizza', 'Millvale Diner', 'Italian Village Pizza', 'Legends Eatery', 'Hooters', 'Boston Market', \"King's Family Restaurant\", 'Kanda House', 'Streets On Carson', 'Ka Mei', 'Do Wood Fired', 'Caribou Coffee', 'Morning Glory Coffeehouse', 'The Original Pancake House', \"Tessaro's\", 'The Hangar', 'Prairie', 'Rudy Martino Original House of Submarines', 'Swirlie Whirlie', 'Opa! Greek-American Cuisine', \"Bombay Gyro's and Lunch Box\", 'Mexico City', 'Regatta Bar & Grill', \"McDonald's\", 'North Park Lounge', 'Sanremos Pizza Restaurant & Bar', \"D'Amico's\", 'Giant Eagle', 'Il Tetto:  A Rooftop Beer Garden', \"Doubleday's\", 'Clark Bar & Grill', 'Hartwood Restaurant & Whispers Pub', 'Kleiner Deutschmann', 'City Oven', \"Mama Pepino's Pizza & Pub\", 'Freshii', 'Bella Sera Urban Trattoria', \"Carbonara's Restaurant\", 'Tavern 245', \"Zala's Cafe\", \"Jean-Marc Chatellier's French Bakery\", 'BRGR', \"Wendy's\", 'Pleasure Bar and Restaurant', \"Mitchell's Fish Market\", \"Skinny Pete's Kitchen\", 'All Star Sports Bar And Grill', 'Muddy Waters Oyster Bar', 'Perlé', 'Dari-Villa Restaurant', 'Subway', \"Domino's Pizza\", 'Stone Neapolitan Pizzeria', 'Hyde Park Prime Steakhouse', 'Taste of India', 'Steak N Shake', \"Mineo's Pizza House\", 'Club Cafe', 'Patron Mexican Grill', 'Maharaja Restaurant', \"Tram's Kitchen\", 'Wingstop', 'Mt. Lebanon Pub & Pizza', 'Quik-It Chicken', 'Steak ’n Shake', \"Stangl's Bakery\", 'Revival on Lincoln', 'Taco Bell', 'Katerbean', 'the pizza company', 'La Gourmandine Bakery', \"Tisha's Sunny Farms\", \"Bruegger's Bagels\", 'Royal Myanmar', 'Grecian Isles', 'Rose Tea Cafe', \"Gorman's Pub\", 'Sausalido', \"T&D's Pub & Grub\", 'Istanbul Grille', 'Pink Box Bakery Cafe', 'Daphne Cafe', \"Chai's Pittsburgh Fusion\", 'Fresh Corner', \"Harry's Pizza\", 'Chengdu Gourmet', \"Charley's Grilled Subs\", 'Outback Steakhouse', \"Mamma Lucia's Pizza\", 'The Isaly Company', 'Las Palmas', 'Altius', 'Secrets Bar & Grill', '52nd Street Market', 'India Palace Cuisine', \"Luca's Pizzeria\", 'The Red Ring Bar & Grille', 'Adda Coffee & Tea House', 'Vocelli Pizza', \"Fat Cat's Subs\", 'The Ultimate Pastry Shop', 'Red Robin Gourmet Burgers', 'Chick-fil-A', \"Linguini's Italian Grill\", 'Golden Corral', 'Pizza Palermo', \"Peter's Creek Pub\", \"Joe's Doghouse\", 'Starbucks', \"PD's Pub\", 'Perspolis Hookah Lounge', \"CoCo's Cupcake Cafe\", 'Eco Bistro', 'Don Jose Mexican Grill', 'Taco Bell', 'Subway', \"Totin's Diner\", \"McDonald's\", 'Renewal Coffee Shop', 'The 412 Bar & Grill', 'In-N-Out Pizza Cafe', 'Aurochs Brewing', 'Butcher and the Rye', 'Subway', 'Sidelines Bar & Grill', 'Great Wall', 'Chaz & Odette', \"Nobby's Pizzeria\", 'Dairy Queen Brazier of White Oak', 'Pittsburgh Thai by Boris', \"Abruzzi's\", \"A'Pizza Badamo\", \"BJ's Restaurant & Brewhouse\", 'Monterey Bay Fish Grotto', 'Pizza Roma', 'Chipotle Mexican Grill', \"Applebee's Grill + Bar\", 'Pan Asian', \"McCoy's Pub & Grille\", \"Gus' Cafe\", 'Bahama Breeze', 'Ciccanti Ristorante', \"Falce's Restaurant\", 'City Cafe', 'South Side BBQ Company', 'The Porch at Siena', 'Ginza Korean & Japanese Restaurant', 'Olive Garden Italian Restaurant', 'Police Station Pizza', \"Palmer's Pizza\", 'The Coffee Tree Roasters', \"Atria's\", 'Isabela On Grandview', 'Fuji Sushi & Grill', \"Calabria's Italian Restaurant\", \"Yovi's\", 'Omni William Penn Hotel', \"Sciulli's Bar & Grille\", 'Circolo Woodfired', \"Kenny's Place\", 'Casbah', 'Primanti Bros', 'Qdoba Mexican Grill', \"Cain's Local Bar + Kitchen\", 'Cafe On Main', \"Big Shot Bob's House of Wings\", 'Knossos Gyros & Sis-Kabob', 'Wheel the Bar & Lounge', \"Eat'n Park\", 'GetGo Fuel Station', 'Madero Cantina', 'Chipotle Mexican Grill', \"Vincenzo's Pizza & Pasta\", \"Stinky's Bar & Grill\", \"BZ's Bar and Grill\", 'Nak Won Garden', 'Butterjoint', 'Hilton Garden Inn - Pittsburgh Airport', 'Sing Sing Dueling Piano Bar', 'Azorean Cafe', 'Pizzarella', \"Edgar's Best Tacos\", \"Wendy's\", 'Pizza Amier', \"Bob's Garage\", \"Ida's\", \"Gyros N'at\", \"Jimmy John's\", 'Buffalo Wild Wings', 'Red Robin Gourmet Burgers', 'TGI Fridays', 'Popeyes Louisiana Kitchen', 'Cibo', 'Red Lobster', 'Aseoma', 'Union Pig & Chicken', 'Tamarind', 'The Original Gyro', 'The Franklin Inn', 'Larry & Carols Pizza', \"Pasqualino's Pizza & Pasta\", 'Tasty Platters and Fried Chicken', 'GrandSlam Pizza', 'Hello Bistro', 'Kaleidoscope Café', 'Celebrations Bar Banquet and Grill', 'Fellinis Pizzeria', \"Clark's Diner\", \"Vinny's Pizza\", 'Fortune Star', \"Champ's Sports Grill & Lounge\", 'Feng Japanese Steak Hibachi & Sushi House', \"J Lynn's Cafe\", \"Homerun  Harry's Sports Bar & Grille\", 'Hunan Kitchen', \"MJ's Steel City Saloon\", 'City Fresh Pasta', \"Bishop's Pizza\", 'Lorelei', \"Nancy B's Bakery\", 'Little Athens of Sewickley', \"Ditka's\", 'Castle Tavern South', \"Denny's\", \"Applebee's Grill + Bar\", 'Golden Palace', 'Cilantro & Ajo', \"Two Louie's Market\", 'Oxford Market', \"Arby's\", 'American Natural - Cheswick', 'Subway', 'Pittsburgh Pizza Point', 'Elevation Restaurant', \"Iceburgh's Bistro\", 'M&J Bistro', \"McDonald's\", 'King Crust', \"Peppi's\", \"Johnny's Drive In\", \"Rocchio's Italian Deli\", 'Amazon Cafe', \"Foli's Place\", \"Wendy's\", \"Robbie's Super-Stuff Super-Licious Bbq Restaurant\", 'Tomatoes II Pizzeria', 'BreadWorks', 'Piper Bay Cafe', \"Emiliano's Mexican Restaurant & Bar\", 'The Original Pancake House', 'Kaya', 'Frescos', 'Showcase Pizza', \"Nellie's Sandwiches & Deli\", 'Exit4pizza', 'Fogo de Chão Brazilian Steakhouse', 'China Max', 'Banana Peppers', 'KFC', 'Bombay Curry House', \"Houlihan's\", \"Papa John's Pizza\", \"Verdetto's Bar & Restaurant\", 'Sports Town Pizza & Grill', 'Acoustic Moose Cafe', \"Smokey's Tavern\", 'Pizza Hut', \"Wendy's\", 'Le Pommier', 'Pittsburgh Fish & Chicken', 'Soba', \"Long John Silver's\", \"Alice's diner\", 'Freedom Pizza & Deli', \"Portofino's\", 'Chipotle Mexican Grill', 'Katana', 'Binali Pizza', 'Subway', 'Miss Saigon 88 Cafe', \"Nikki's Pizza & Gyro\", \"JT's Restaurant\", \"Handel's Homemade Ice Cream & Yogurt\", 'Vocelli Pizza', 'Food Shoppe', 'Fratangelo Gardens', 'Boston Market', \"Eat'n Park\", 'S&D Polish Deli', 'Luma Restaurant', 'California Coffee Bar', \"McNally's Cafe & 6 Pack Shoppe\", 'Panda', \"Hoss's Steak & Seahouse\", 'The Backdraft Bar & Grille', 'Venice Pizzeria', 'Taco Bell', 'Waffles INCaffeinated', \"DeMore's Pizzeria\", 'Wooden Nickel', \"Tazza D'oro\", \"Eat'n Park\", \"Chow's Asian Cuisine\", \"Mandy's Pizza\", \"Bae Bae's Kitchen\", 'Starbucks', 'Gluuteny Bakery', 'Garden of Eating Pizzeria', '5 Fools', 'Terrace Room', \"P T's Pizza\", \"Applebee's Grill + Bar\", 'Bakersfield', 'Industry Public House', 'Lexus Club at PNC Park', 'Taco Bell', \"Morton's The Steakhouse\", 'Starbucks', \"Piper's Pub\", 'More Than Grilled Cheese Diner', 'Walnut Grill', 'La Vostra Pizza', \"Amel's Restaurant\", 'Subway', \"Rupe's Roadhouse\", 'Wild Rice', 'Flipt', \"Wendy's\", 'Azul Bar Y Cantina', \"Eat'n Park\", \"Jimmy John's\", \"T & K's Soul Food Kitchen\", 'Primanti Brothers at PNC Park', 'Pizza Hut', 'Cedars Mediterranean Cuisine', 'Chili Noodle Corner', 'Stagioni', 'Pizzarita', \"Lombardozzi's Restaurant\", 'Jekyl & Hyde', 'Rodos Greek Cafe', 'Brick-Side Eatery', \"Fellini's Pizzeria\", 'The Isaly Company', 'Hey Andy Sportsbar & Lounge', 'Dozen Bake Shop & Bistro', \"Mario's South Side Saloon\", 'Dancing Crab Thai Noodle House', \"Aracri's Greentree Inn\", 'Panera Bread', 'Bar Louie', 'Afamia Mediterranean Grille', 'Saigon 88', 'Hills Restaurant', \"O'Brien's Grille & Pub\", 'KFC', 'Quaker Steak & Lube', 'QDOBA Mexican Eats', 'Merante Brothers Market', \"Big Nick's Pizza\", \"Wendy's\", 'La Gourmandine Bakery & Pastry Shop', 'Our Diner', 'Don Don Chinese Restaurant', 'Uno Pizzeria & Grill', 'La Prima Espresso Co', 'Thai Place', 'Panera Bread', \"Nonni's Pizza\", 'Pizza Hut', 'Ibiza Tapas & Wine Bar', 'Chipotle Mexican Grill', 'B & Z Deli', \"Mateo's Cucina Italiana\", 'Le Mont', 'Easy Street', 'Tan Lac Vien', 'Hokkaido Seafood Buffet', 'Andys Wine Bar', 'Keith Heinritz Katering', 'Olive Oil Pizzeria', 'The Coffee Tree Roasters', 'Little Asia', \"Blaze Fast Fire'd Pizza\", \"Zaw's Asian Foods\", 'Ham N Eggers Diner', 'Kanlaya Thai Kitchen', 'Penn Ave Fish Company', 'Bluebird Kitchen', \"Shouf's Cafe\", \"Eat'n Park\", 'Burger 21', 'Vocelli Pizza', 'China Fortune', 'Brrats Deli', 'Park Bruges', \"Mama Pepino's Pizza\", 'Breakfast Shoppe', 'China Garden', \"McDonald's\", 'Remedy Restaurant and Lounge', 'Tender Bar & Kitchen', 'Mad Mex - Shadyside', 'Grande Pizza', \"Gil's Cafe\", 'Olive Garden Italian Restaurant', 'Bomonti Pizza', 'Interchange Lounge', 'Farmhouse Coffee', 'La Poblanita Taqueria', 'Jacksons Restaurant + Bar', 'Red Hot & Blue', 'Barrel Junction', 'Jimmy Wans', \"Nancy's East End Diner\", 'Pittsburgh Pizza Fish and Chicken', 'Original Oyster House', 'The Smiling Moose', 'Italian Oven Restaurant', \"Chen's Wok\", 'Pizza Hut', 'The Coal Mine', 'Newman & Marleys', 'Le Lyonnais', \"Wendy's\", 'Buca di Beppo Italian Restaurant', 'Driscoll Yough Twister', 'Latina Pizza', \"Bruegger's Bagels\", 'The Simple Greek', 'Caliente Restaurant', 'Southern Tier Brewery Pittsburgh', \"Stello's Pizzeria\", 'Starbucks', \"Zarra's A Taste of Southern Italy\", 'Chick-fil-A', \"Charya's\", 'Express Pizzeria', \"Calli's\", 'Pepperoncinis', \"McDonald's\", 'Bull Dawgs', \"Wendy's\", 'India Garden', \"Mike's Place\", \"Sammy's Famous Corned Beef\", 'The Hop House', 'Dinette', \"Fox's Pizza Den\", 'La Vite', 'Oakmont BBQ Company', \"Don Pablo's\", 'Pizza Hut', 'Hibachi Japan', 'Miyako Japanese Steak & Seafood', 'Hook Fish & Chicken', 'Evil Swine BBQ', 'Brassero Grill', 'F. Tambellini Ristorante', \"Domino's Pizza\", \"P&G's Pamela's Diner\", 'Ricci Italian Sausage', \"McDonald's\", 'Center Plate', \"McDonald's\", \"Rudy's Subs\", 'Hunan Wok Chinese Restaurant', \"Hanini's Market\", \"Mario's Family Italian Restaurant\", 'Brasserie 33', \"Bruegger's Bagels\", \"Joey's Snack Bar\", 'Great Harvest Bread Co', \"Wendy's\", 'China House II', '1905 Eatery', \"Amili's Pizzeria\", \"Romano's Pizza & Cafe\", 'Rey Azteca', 'Caffe Amante', 'Angelias Italian Grille', 'E Town Bar and Grille', 'The Getaway Cafe', 'Meat Here', \"Peter's Pub\", 'Joe & Pie', \"Leena's Food\", 'SLICE on Broadway', '7 Senses', 'Simple Ingredients', 'Gia Visto', 'City Oven', \"Wagner's Restaurant\", \"Everyday's A Sundae\", \"Arby's\", 'Sidelines Beer House', \"Fresco's Wine Bar & European Cuisine\", \"Winghart's Burger & Whiskey Bar\", 'Caliente Pizza & Drafthouse', '424 Walnut', 'Ajs burger Peruvian restaurant', 'No. 1 Kitchen', \"Green Leaf's & Bananas\", 'Bitter Ends Luncheonette', 'Dudt H D Bakery', \"Arby's\", 'Thai Cuisine', 'Lucky Chinese Express', 'Midtown Tavern', 'Sauce Pot', \"Millie's Homemade Ice Cream\", 'Krazy Dogz', 'Taco Diablo', 'The Pizza Company', 'Zen Restaurant', 'Lucca', \"Meglio's Pizza and Sandwiches\", \"Arby's\", \"Atria's Restaurant & Tavern\", \"Ross's SHOP 'n SAVE\", 'Walnut Grill', \"AJ's Inca Peruvian Restaurant\", 'Burgatory', \"Woody's Catering\", \"Janet's Restaurant\", 'The Gyro Place', 'Stout Pub & Kitchen', 'Cafe Venice', 'Gran Agave Mexican Restaurant', \"Dad's Pub & Grub\", \"Eat'n Park\", 'Hong Kong Express II', \"Jim's Famous Sauce\", \"Aiello's Pizzeria\", \"Houlihan's\", 'Old Mexico', \"Johnny's\", 'Gandy Dancer Saloon', 'Olive or Twist', 'Needle and Pin', 'Blue North', 'Pizzuvio', 'Arpino Trattoria', 'Top China Buffet', 'Bai Ling Chinese Restaurant', 'Pizza Hut', 'Hello Bistro', 'Corner Mercantile', 'Pizza Milano', 'Bob Evans', 'Bob Evans', 'Mm Mm Pizza', 'Ephesus Pizza - Pittsburgh', \"Blinky's Noble Grill & Bar\", 'Pizza Hut', \"Pasquarelli's Pizza House\", \"Eat'n Park\", 'Groceria Italiana', 'Pangea', \"Aiello's Pizza\", 'Lelulos Pizzeria', 'Panera Bread', 'Esta Esta Restaurant', \"Hemingway's Cafe\", 'Beta Bites', \"Bruegger's Bagels\", \"Lupi's Famous Pizza\", 'Coffee Tree Roasters', 'Penn Station East Coast Subs', 'Payne Hill Grille', 'Skyvue Restaurant', 'The Pitt Stop', 'Pirata', 'Driftwood Oven', \"Max's Allegheny Tavern\", 'China Bistro', \"Pasquale's Pizzeria\", 'Keystone Cafe', 'Ribkens Cpr', \"Arby's\", 'Gluten Free Goat Bakery', 'Village Tavern and Trattoria', \"Nobby's Pizzeria\", 'Cafe 808', 'Kebab Factory', \"Alfred's Deli & Market\", \"P.F. Chang's\", 'Grille on Seventh', 'Deer Creek Diner', 'Walnut Grill - Bridgeville', 'The Mighty Oak Barrel', \"Max and Odi's\", 'Great Wall Chinese Food', 'Chipotle Mexican Grill', \"Peppi's\", 'Sunset Restaurant and Grill', 'Pizza Sola', 'Pizza Hut', \"Walid's Fish And Chicken\", 'Chakh Le India', 'Z-Best BBQ', \"Mohan's Restaurant\", \"Fox's Pizza Den\", \"Original Milano's Pizza East Side\", 'Hundred Wood', 'NOLA', 'Wicked Fox', 'Osteria Pasqualino', 'City of Bridges Cafe', 'Cioppino Restaurant & Cigar Bar', 'Castle Place', \"Ryan's Pub\", \"Monico's Bar & Grill\", \"Fox's Pizza Den\", 'Umbrella Cafe', 'Pizza & Pasta Villa', 'Comfort Inn Conference Center', 'Pizza Hut', \"Wesley's Delicatessen & Catering\", \"Mitchell's Pub\", 'Bob Evans', \"Sammy's Famous Corned Beef\", 'Caliente Pizza & Draft House', \"McDonald's\", 'Packs & Dogs', 'Doce Taqueria', 'The Last Call Bar and Grill', 'Main Event Entertainment', 'Pizza Care', 'Brookline Pub', \"McDonald's\", 'Oh Yeah! Ice Cream & Coffee', 'Cafe Euro', \"Uncle Tony's Pizza\", \"Randita's Organic Vegan Cafe\", \"Sciulli's Pizza\", \"Fenoglietto's Wedding Cakes\", 'Corelife Eatery', 'Sesame Inn', 'Truth Lounge', \"Wendy's\", 'Le Brew House', \"Aunt Cheryl's Cafe\", \"Jabo's Smoke House and Saloon\", 'The Pretzel Shop', 'The Baltimore House', 'Margaritaville', 'Sesame Inn Chinese Restaurant', 'Cinco', 'Reed & Co', 'The Elbow Room', 'Culture', 'Three Little Birds Cafe & Juice Bar', \"Long John Silver's\", \"Segneri's Italian Restaurant\", 'El Paisano Mexican Restaurant', 'Brothers Grimm', \"King's Family Restaurant\", \"Wendy's\", 'Westwood Golf Club', 'Eggs-R-Us', 'Turkish Kebab House', 'Andora', 'Thai Suan Thip', 'Nine on Nine', 'Palm Court', 'Double Wide Grill', 'Sphinx Cafe', \"Johnny's Diner\", 'Pittsburgh Pizza & Subs', 'Shogun Japanese Steak House', \"Alchemy N' Ale\", \"Veltre's Pizza of White Oak\", 'Pastitsio', 'B Gourmet', \"D'Imperio's Restaurant\", 'Zen Asian Diner', \"Fox's Pizza Den\", 'Sonic', 'Dingbats', 'Siam Thai Restaurant', 'Palace Lunch', 'Insurrection AleWorks', 'North Shore Deli', 'IHOP', 'Elbow Room', 'Asian Rice Bowl', 'Osteria 100', 'Northeastern Kitchen', \"Wendy's\", \"BD's Mongolian Grill\", 'Burger King', 'Schorr Bakery', \"Lidia's\", 'Hot Metal Diner', \"Alida's Woodfire Cucina\", 'Leaf & Bean', 'The Spot Etc', 'Burgatory', 'Wiener World', \"Dana's Bakery\", 'Verde Mexican Kitchen & Cantina', 'Marisqueira Mediterranean Bistro', \"Moe's Southwest Grill\", 'Mendoza Express', 'G & G Noodle Bar', 'Wok of Life', 'KFC', 'Noodles & Company', 'Italian Village Pizza', 'China Ichiban', \"Cefalo's Banquet & Event Center\", 'Tomato Pie Cafe', 'My Big Fat Greek Gyro', \"Applebee's Grill + Bar\", 'Zuppas Delicatessen', 'Tutti Frutti Frozen Yogurt', 'Wai Wai Buffet & Grill', \"Mineo's Pizza\", 'Panera Bread', 'My Little Outback', \"Bill's Bar & Burger\", \"Jack's Pizza & Hoagies\", \"Bubba's Gourmet Burghers & Beer\", 'Italian Village Pizza', 'B52 Cafe', 'Einstein Bros Bagels', 'The Angry Sicilian', 'Creekhouse', \"P&G's Pamela's Diner\", 'China Express', 'Mad Mex', 'Cure', 'Cole Cafe', \"Pasquale's Pizzeria\", \"Angelia's Pizza\", 'Tambellini Bridgeville Restaurant', 'Penn Station East Coast Subs', \"Big Shot Bob's House of Wings - Carnegie\", \"Tyma'z Mediteranean & Middle Eastern House\", 'Italian Village Pizza', 'Wild Rosemary', \"Marty's Market\", 'Blue Water Tavern', 'Southern Hospitality', 'Penn Brewery', 'Stone Mansion Restaurant', 'Lone Star Steakhouse & Saloon', 'Giant Eagle Market District', \"GM Dog N' Burger Shoope\", \"BnD'z Burgerz & Dogz\", 'La Casa', \"Sammy's Place\", 'Boston Market', 'Espresso a Mano', 'Open German & Italian Restaurant & Tavern', 'Avenue B', 'The Livermore', 'Savory Hill', 'Fortune Star Buffet & Grill', \"Pastoli's Pizza, Pasta & Paisans\", 'Texas de Brazil', 'Casa Nayarit Mexican Grill', 'Honey Bees Restaurant & Catering', 'E M Pizzeria', 'Dairy Queen', 'Arcade Bakery & Cafe', 'Caribéana', \"P.F. Chang's\", \"Mullin's Diner\", 'Walnut Grill-Wexford', 'Freeport Pizza Kitchen and Bar', 'Papaya Thai Cuisine & Sushi Bar', 'Turkish Grille', \"Casey's Family Restaurant\", 'Italian Village Pizza', \"Walker's Pub\", \"Pizza Joe's\", 'Sirena Taco Joint & Bar', 'Cucina Bella', 'Lot 17', \"Roland's Seafood Grill\", 'Obey House Tavern', 'Pgh Crepes', 'Great Wall Chinese Cuisine', \"Eat'n Park\", 'Honeymoon Chinese Restaurant', 'The Red Caboose', 'Villa Reale Pizzeria & Restaurant', 'Primanti Bros', \"Alexander's Italian Bistro\", 'New China Inn', 'Bar 3 Millvale', 'Table Brick Oven and Bar', 'Artisan', \"Wendy's\", 'New China House', \"Bruegger's Bagels\", \"Amato's Pizza\", \"Blaze Fast Fire'd Pizza\", 'Philly Pretzel Factory', 'Paradiso Ristorante', \"Dick's Diner\", 'Pittsburgh Steak Company', \"Grandma B's\", 'Bagel Factory', 'LongHorn Steakhouse', 'Taal Indian Cuisine', \"Franco's Trattoria\", \"Wendy's\", 'Social House Seven', 'Las Palmas Carniceria', 'Franktuary', \"McDonald's\", 'Steel Cactus', 'Mamma Lucia', \"Long John Silver's\", 'Eleven', \"Graham's Bakery\", 'Campus Deli', \"Nick's Pizza\", 'Rock Run Inn', 'Los Cabos Mexican Restaurant', 'Thai Touch Kitchen', 'Onion Maiden', 'The Lemon Grill', 'Liliput Coffee and Cafe', 'Chipotle Mexican Grill', 'Beach House Restaurant', \"Ya Ya's Pizza\", \"Penny's Diner\", 'Island Cafe', 'Rum Runners', 'Jeet', \"Peter Allen's\", \"Roxanne's Catering\", \"Blaze Fast-Fire'd Pizza\", 'Sushi Fuku', \"Bella Ria's\", 'Noodlehead', 'Flamers', \"AJ's Burger & Peruvian Chicken\", 'Better-Maid Donut', 'Scratch Food & Beverage', 'Chick-Fil-A', 'Bites Restaurant', 'Leogreta', 'Apteka', \"Bob's Diner\", \"Max & Erma's\", \"McDonald's\", 'Curry on Murray', 'Crazy Mocha', 'There Ultra Lounge', 'Cips Sports Bar', 'Smallman Street Deli', \"John's Chinese & Sushi Restaurant\", 'The Potato Patch', \"Brick N' Mortar Kitchen & Catering\", 'Café Raymond', 'Little Tokyo', 'Bloomfield Bridge Tavern', 'Burger King', 'Ki Ramen', 'Penn Station East Coast Subs', \"Yu's Old Town Buffet\", 'Penn Station East Coast Subs', 'Colonia', \"McDonald's\", \"Denny's\", 'Hello Bistro', 'Puffs n Stuff', 'Firehouse Subs', \"Rpm's Wings and Things\", 'Golden Gate Restaurant', \"Rooster's Road House\", \"Spadafora's Bar & Restaurant\", 'Siempre Algo', 'Shootz Cafe & Billiards', 'Pizza Station', 'Courthouse Tavern', 'Glassport Diner', \"Sonny & Jo's\", 'Pub In The Park', \"Patsy's Place\", \"Jimmy Tsang's Chinese Restaurant\", 'Sushi Fuku', \"Bob's Lounge\", 'Verde Good Beans', 'TMD', \"McDonald's\", 'Smiling Banana Leaf', 'Salt of the Earth', \"Hough's\", 'Wai Wai Chinese Cuisine', 'China Sea Chinese Restaurant', \"Antonio's Pizzeria\", 'Emporio: A Meatball Joint', 'First Watch', 'Union Grill', 'Iris & Ivory', 'Restaurant Hana', 'Umi', 'The Greek Gourmet', \"Doc's Place\", 'Maietta Restaurant', 'Milky Way', \"Cannon's Chop House\", \"Bruegger's Bagels\", 'Frittata Mangia Italiano', 'Old School Italian Sandwich Shop', 'One Thirty One East', 'Around Back Cafe', \"Lin's Asian Fusion\", 'Mission BBQ', 'Ichiban Hibachi Steakhouse & Sushi Bar', 'Asian Cafe', \"Redbeard's On Sixth\", 'La Tavola Italiana', 'The Ave', 'OTB Bicycle Café', 'Porked East Liberty', \"Little Nipper's Pizza\", 'Asian Cafe', 'Saga Hibachi Steakhouse & Sushi Bar', \"McDonald's\", 'Table Brick Oven & Bar', 'Murrays Cafe', \"McDonald's\", 'China Palace', 'Pad Thai Noodle', 'Fuel & Fuddle', 'Shenanigans Bar & Grille', 'Church Brew Works', 'Tequila Cowboy Bar & Grill', 'The Country Store', 'Grand View Golf Club', 'Speakeasy', 'Tres Rios', 'Madres Mexican', \"Di Salla's Pizza Parlor\", 'KFC', \"McDonald's\", \"McDonald's\", \"Pirollo's Delicatessen & Take-Out\", 'Schenley Park Visitors Center', 'Skibo Cafe', 'My Big Fat Greek Gyro', \"Lemonhead's Brightwood Grille\", 'Szechuan Spice', 'China Palace', 'Italian Village Pizza', 'Soup Du Jour', 'Wheel House', \"C C's Home Made Food\", \"McDonald's\", 'Napoli Restaurant', 'Crystal On Penn', 'Schatz Dining Hall', 'My Dogz on the Run', 'Wiseguys Pizza', 'One 10 Lounge', 'Forbes Tavern', 'Liberty Boro Sandwich Factory', \"Wendy's\", \"Kristopher's Place\", 'Pizza Palermo', 'Alquisiras Paleteria', \"Wendy's\", \"Nature's Kitchen\", 'Sinbad Mediterranean Grill', \"Angelia's Pizza\", 'Ease Modern Comfort Cuisine', 'Pizza Bellagio', 'Lincoln Bakery', 'BeanThru', 'El Paso Mexican Grill', \"Moe's Southwest Grill\", \"Stella's Restaurant\", 'Bella Frutteto', 'Bangal Kabab House and Restaurant', 'Kar Hing', 'My Ngoc Restaurant', 'Verona Village Inn', 'Dosa Place', 'Sweetwater Grille', 'Tokyo', 'Asiatique Thai Bistro', \"Pietro's Pizzaria\", 'Caliente Pizza & Drafthouse', \"Aladdin's Eatery\", 'Amazing Wok', 'Eat N Park', \"Fox's Pizza Den Robinson Twp\", 'Old Village Grill', 'Primanti Bros', 'Pittza Rella', 'Potenza Pizza and Pasta', 'The Abbey on Butler Street', \"Elliott's BBQ and Steakhouse\", \"Moio's Italian Pastry Shop\", \"Lee's Wok\", 'Food For Thought Deli', 'American Gyro', 'Your Inner Vagabond', 'Nepali Asian Restaurant', 'The Shady Dog', 'KFC', 'Deli on Butler Street', 'Thin Man Sandwich Shop', \"Jo Jo's Restaurant\", \"Suzy's Sandwiches & Deli\", \"Olive Oil's Pizzeria\", 'Bird On The Run', \"McDonald's\", 'Bella Luna Trattoria', 'China Star', 'TGI Fridays', \"Herk's Pizza\", 'Golden Palace Buffet', 'China House', 'Grand Concourse', 'Rockaway Pizzeria', 'Johnny Rockets', 'Pizza King', 'Panera Bread', \"Pamela's\", \"Johnny Mac's Pizza And Wings\", \"Mitty's Restaurant & Pizzaria\", \"Fox's Pizza Den\", 'China Palace', \"Anthony's Pizza\", 'Blue Grotto Pizza', \"Madonna's Mediterranean Cuisine\", \"Domino's Pizza\", 'Panera Bread', \"Leon's Caribbean Restaurant\", 'Lomito', 'Buca di Beppo Italian Restaurant', 'Woods Cafe and Bikes', 'Villa Fresh Italian Kitchen', 'Pizza Hut', \"Denny's\", \"Amo's Pizza\", 'Vocelli Pizza', 'The Crafty Jackalope', 'Cornerstone Restaurant & Bar', 'Panera Bread', \"Wallace's TapRoom\", \"Arnold's Tea\", \"Johnny O's Bar & Grille\", 'Market District Express', 'The BeerHive', 'Cinderlands Beer', 'Chipotle Mexican Grill', \"Elwood's Pub\", 'Condado Tacos', \"Max & Erma's Restaurants\", \"Domino's Pizza\", 'Great Wall', 'Pittsburgh Barbecue Company', 'Sushi Tomo', 'Pizza Prima', \"Eddie Merlot's - Pittsburgh\", 'Kings', \"Wendy's\", 'The Mediterranean Grill', \"Pamela's\", \"Bob's Diner\", \"Hog's Head Bar & Grill\", \"Andrew's Steak and Seafood\", 'Azimers Pizza Place', \"Ida's Restaurant\", 'Typhoon', 'Nancettas Ristorante', \"Rudy's Subs McMurray\", 'Italian Oven', 'Sincerely Yogurt', 'Chan An Restaurant', \"Kribel's Bakery\", 'SoHo', 'Prince of India', 'Chick-fil-A', 'Cibrone M & Sons Bakery', 'Pittsburgh Grille', \"Cafe Georgio's\", \"Zuko's Pizza\", 'Thai Spoon', 'Party Cake Shop', 'Nakama', \"Mama Pepino's\", 'CarSalas', 'Vue 412', 'Kaffeehaus', 'Piada Italian Street Food', 'Golden Wok Inn', 'Lotsa Stone Fired Pizza', 'New Way Gourmet', 'BRAVO! Cucina Italiana', \"Crouse's Family Diner\", 'Spice Cafe', \"Spilly's Bar-B-Q\", 'The Diner', \"Jimmy John's\", 'Sushi Too', 'Spak Brothers Pizza and More', 'Donatos Fox Chapel', 'Subway', \"Preeti's PiTT\", 'Vocelli Pizza', 'Anchor and Anvil Coffee Bar', \"McDonald's\", 'Route 28 Bar & Grille', \"Monte Cello's of Shaler\", 'Costa Market', \"Fernando's\", 'Supreme Pizza', 'Panera Bread', 'The Warren Bar and Burrow', 'Everyday Noodles', \"Supremo's Pizzeria\", 'Eat Unique', 'Smithfield Cafe', 'Family Deli', 'Pizza Bomonti', 'Ma & Pops Country Kitchen', 'Mt. Vernon Dairy', 'Homeville Trolley Stop', 'Little Caesars', 'Mattiniero', \"Patsy's Market\", 'Red Robin Gourmet Burgers', 'Arctic Avenue', 'Broad Street Bistro', \"Mario's Pizza\", \"Big Jim's Restaurant & Bar\", 'Robert Wholey and Co Fish Market', \"Jodi B's Restaurant\", 'New Dumpling And Sushi House', 'Pizza Daddies', 'Notion Restaurant', \"Pelegrino's Pizza & Pasta\", 'Mintt Indian Cuisine', 'Cafe Moulin', 'Triangle Bar & Grill', 'My Thai', 'The Iron Gate Inn', 'China House', 'Bea Taco Town', 'Pizza Hut', \"Eat'n Park\", 'Central Diner & Grille', 'Benichopsticks Restaurant', \"Sree's Foods\", 'Dozen Cupcakes', 'Little Caesars', \"Denny's\", 'Mama Lucia Pizza', \"Long John Silver's\", \"Bear's Inn\", 'Classic Chinese Cuisine', 'Subway', 'Grille 565', 'Sarku Japan', \"Original Ray's Pizza\", 'Korea Garden', 'Burgatory', \"McDonald's\", \"Elliott's Back Street Barbeque\", \"Jersey Mike's Subs\", \"Bruegger's Bagels\", 'Taco Bell', 'Bar Symon', \"Moe's Southwest Grill\", 'Tai Pei', 'TJ Buffet Sushi And Grill', 'Mighty Oak Barrel', 'Casa Rasta', 'Little Bangkok In the Strip', 'Rusty Dory Pub', \"Gali's Gyro & Grill\", 'Soul & Sea', 'Atami Japan', 'Burgher Burger', \"Fox's Pizza Den\", \"Domino's Pizza\", 'Senyai Thai Kitchen', 'The Big Idea Bookstore and Cafe', \"Dunkin' Donuts\", 'Homestyle Pizza', 'Wheelfish', 'Greenock Deli', 'Italian Village Pizza', 'Genoa Pizza & Bar', \"Applebee's Grill + Bar\", \"Peppercini's Italian Restaurant and Lounge\", 'Vocelli Pizza', \"Max & Erma's\", 'Condado Tacos', 'Two Brothers BBQ', \"Parker's PGH\", 'The Cozy Cafe', 'Steelhead Brasserie and Wine Bar', 'Ya Fei', 'Threadbare Cider House', \"Beto's Pizza\", 'Burgh Thai', \"Sciullo's 910\", \"Yen's Gourmet\", 'Chipotle Mexican Grill', \"R & B's Pizza Place\", \"Armstrong's Express\", 'Vocelli Pizza', 'Old Town Buffet', 'Beer Emporium', 'Sweet Peaches', \"Winghart's Burger & Whiskey Bar\", 'Marios Pizza House', 'The Carlton', 'Pizza Pronto & Gyro House - Avalon', 'Girasole Restaurant', 'Tailgaters', \"PJ's Grille & Bar\", \"Matt's Sub Shack and Pizza\", \"Conca D'oro Pizzeria\", 'Banhmilicious', 'Reyna Foods', 'Oakdale Inn', 'Dairy Queen', 'Hot Franks', 'Pittsburgh Field Club', 'El Campesino', 'Napoli Pizza', 'Italian Village Pizza', 'Orient Express', 'China Star', 'Conflict Kitchen', 'Walnut Grill', 'Richard Chen', 'Oasis Pasta House', 'Little Caesars Pizza', \"Minutello's Restaurant & Lounge\", 'The Grateful Deli & Catering Company', 'Abay Ethiopian Cuisine', \"J Clark's\", 'Forbes Gyro', 'First Watch', 'The Salad Cafe', 'Sir Pizza', 'The Burgh Bites Truck', 'Toscana Brick Oven', 'Thai 2 Go', 'Bella Vista', \"Denise's Diner\", 'Penn Monroe Grill', \"Johnny Carino's Italian Restaurant\", 'Cafe Du Jour', \"Antoon's Pizza\", 'North Park Lounge', 'The Brick House Tap & Grill', \"Wendy's\", 'Carnegie Coffee Company', \"Khoo's Garden\", 'Subway', 'Old Mexico', 'Ephesus Mediterranean Kitchen', \"DJ's Sandwich Shoppe\", \"Johnny Carino's\", 'Cucina Vitale', 'Casa Reyna', 'Cadillac Ranch', 'Pacific Ring', 'Health-A-Licious', 'Carnegie Diner', 'BRAVO! Cucina Italiana', 'La Poblanita', 'Dasonii Korean Bistro', 'Panther Hollow Inn', 'My Big Fat Greek Gyro', \"Monte Cello's\", 'Carhops', 'Panda Garden', 'Mulligans Club House and Grille', 'Hug Thai', 'The Italian Bread Place & Deli', 'The Simple Greek', 'Pizza Americana', 'El Campesino', 'Smallman Street Deli', 'The Bloomfield Sandwich Shop', \"Tillie's Restaurant & Chantillie Lounge\", 'Pizza Vesuvio', 'Brugge On North', 'El Burro', \"Wendy's\", 'Pittsburgh Grill and Sports Bar', 'Panera Bread', 'Topgolf', 'Asian Cafe', 'Five Guys', \"Gullifty's Restaurant\", \"Portofino's Pizza & Pasta\", 'Passport Cafe', \"Aladdin's Eatery\", 'Murray Avenue Grill', 'Dive Bar & Grille', \"Cheerleaders Gentlemen's Club\", \"Breakfast At Shelly's\", 'Dunkin Donuts', \"Jimmy John's\", 'Giant Eagle', 'No 1 Chinese Kitchen', 'Bigham Tavern', 'Patron Mexican Grill', \"Bama's Southern Kitchen\", 'Taquitos', 'Pizza Giano', \"Tom's Diner\", \"Freddie's II\", 'Oishii Bento', \"Aladdin's Eatery\", 'Large Plain', 'Saffron Fine Indian Cuisine', 'Sunseri Pizza', \"Carol of Casey's Pizza\", 'Curry Away', 'Cafe Americano', 'The Real McCoy Sandwich Shop', 'Bobby Hendrix Restaurant & Lounge', \"Mercurio's\", 'Moonlight Truck Food', 'Cala Lily Restaurant And Bar', \"Jet's Pizza\", \"Sarafino's Pasta and Pizza\", 'TGI Fridays', 'Whitfield', 'Vespucci Pizza', \"McDonald's\", \"Jimmy John's\", 'La Feria', 'Pizza Parma', 'Pizza Hut', 'Union Pie Co', 'Café 412', \"Cenci's Pizzeria & Bar-Wexford\", 'Vocelli Pizza', 'Peace, Love and Little Donuts of Robinson', \"Don Campiti's Pizzeria\", 'Primanti Bros', \"Joe's Crab Shack\", 'Emporio: A Meatball Joint', 'Cafe Notte', 'SAKE Asian Cuisine & Sushi Bar', 'Embury', 'Hidden Harbor', \"Bruegger's Bagels\", 'Circle Inn', 'Peanut Butter Jelly Time', \"Bob's Sub\", \"Wendy's\", 'Silver Palace Chinese Restaurant', \"Chubby's Pizza & Hoagies Northside\", \"Kassab's\", 'Italian Village Pizza', 'Peking House', \"Gunny's Lounge\", \"Carmody's Lounge\", 'Waffle Shop', \"Country Fixin's\", 'Orient Kitchen', \"Ida's Place\", \"Gio's Cafe\", \"McDonald's\", 'Starr Road Mushroom Market & Catering', \"Baba D's\", \"Arby's\", \"Mike & Tony's Gyros\", 'Loose Moose Saloon', 'Clay Cafe', 'Gasoline Street Coffee', \"Veltre's Pizza\", 'Grandview Saloon', 'Pork & Beans', 'Italian Village Pizza', 'Fossil Fuels Café', \"Nathan's Famous\", \"Johnny's Wife's Place II\", \"Long John Silver's\", 'Thee Olde Place Inn', 'The Coop Chicken and Waffles', 'How Lee', 'Asian Garden', \"Tailgater's\", 'Fresh From The Farm Juices', 'Lesvos Gyros', \"Pomodoro's\", \"Uncle Sam's Submarines\", 'Golden Goblet', 'Maenam Thai Restaurant', \"The Crack'd Egg\", \"Vento's Pizza\", 'Pizza Roma', 'Michigan & Trumbull', 'Sienna On The Square', 'Shaler Lounge', 'Rialto Pizza', 'The Doner Kebab House', 'Napoli Pizzeria', 'Garden View Cafe', 'Señor Frogs', 'Au Bon Pain', 'Pizza Milano', 'Vicino', 'The Tandem Connection', 'Hook Fish & Chicken', \"Cappy's Cafe\", 'Shady Grove', 'Hing Wong Chinese Restaurant', \"K-Vay's Restaurant\", 'Bridgeville Vocelli Pizza', \"McDonald's\", 'The Chelsea Grille', 'Baja Bar & Grill', 'Park Classic Diner', \"McCormick & Schmick's Seafood & Steaks\", 'Squirrel Hill Cafe', 'Station', 'Panda Restaurant', 'Loafers Bread Co', 'Panda Express', 'Cucina Di Domenica', 'Boston Market', 'Java House', 'Dairy Queen', \"Adrian's Pizza and Six Packs\", 'Aji Picante', 'Amazing Cafe', \"Cecelia's Pizza Kitchen\", 'Riviera PIzza & Pasta', 'Tasty Chinese Restaurant', \"Bob's Diner\", 'Tavern 51', 'City Works - Pittsburgh', 'Subway', 'Grand China Buffet & Grill', \"Frank's Pizzeria\", 'Commonplace Coffee', \"Dorido's Restaurant\", \"Pasquale's Pizzeria\", \"Rudy's Submarines\", 'Clarks Restaurant', 'Mama Rose', 'Pittzarella', \"Burg's in the Burgh\", 'Pizza Pavilion', \"Michael A's Restaurant & Lounge\", 'Slapshots', 'Sun Penang', 'Ferguson Pub', \"McDonald's\", 'Lebo Subs', \"Fat Tommy's Pizzeria\", \"Rocky's Lounge\", 'Green Bamboo', 'Au Bon Pain Co', 'Crested Duck Charcuterie', \"Marroni's Lounge\", 'Quaker Steak & Lube', 'Our Place Homemade', 'The Saloon of Mt Lebanon', 'Showcase BBQ', 'Zoup!', 'China House', \"Gary's Restaurant\", \"Good L'oven\", 'Pittsburgh Public Market', 'Penn Avenue Fish Company', 'Ribs N Bread', 'China Wok', \"Eddie V's Prime Seafood\", 'Antojitos Mexican Restaurant', 'LongHorn Steakhouse', \"Franks'pub & Grill 88\", \"Adrian's Pizza\", \"DeMino's Pizza\", \"Szmidt's Old World Deli\", 'Tonic Bar & Grill', 'Pizza Salerno', 'La Hacienda', 'Ash Kris Pizza', 'The Dor-Stop Restaurant', 'Rogue BBQ PGH', 'Misaki', 'Club Sandwich & Deli', 'Bar Frenchman', 'Radisson Hotel Pittsburgh Green Tree', 'Panera Bread', 'Panera Bread', 'Franks Pizza & Chicken', 'TGI Fridays', 'Uptown Coffee', \"Jay's Sports Bar & Restaurant\", 'Ginos Petit Dejeuner', 'Little Caesars Pizza', \"McDonald's\", 'Steak ’n Shake', 'Tavern In The Wall', \"Eat'n Park\", 'Crazy Mocha Coffee', 'Forever Rosemary', 'Pizza Perfectta', 'Portman Farms Market', 'The Handle Bar & Grille', 'Golden Palace Chinese Restaurant', 'Au Bon Pain', 'Mia Madre Trattoria', 'Il Burloni La Pizza E Cucina', 'Chipotle Mexican Grill', 'Subway', 'Grande Pizza', \"Jersey Mike's Subs\", 'Bethel Bakery', \"Pasquale's Pizzeria\", 'Mad Mex - Monroeville', 'Pita Pit', \"King's Family Restaurants\", 'Steel Towne Inn', \"The Chef's Table at Quickhatch\", 'Tuscan Cafe', 'Cavo Nightclub', 'Eagles Landing', 'La Nova Pizzeria', 'Silver Star Meats', 'Soup Nancys', \"Tolerico's Restaurant\", 'Schenley Park Cafe', \"Winghart's Burger & Whiskey Bar\", \"Eggs N'at\", 'Stak Shak Table and Taps', 'Subway', 'Riviera Pizza & Pasta', 'La Gourmandine Bakery & Pastry Shop', \"McDonald's\", \"Mullen's\", 'Choolaah Indian BBQ', 'Pizza Italia', 'Starbucks', 'Twin Oaks Lounge', 'Pizza and Gyro Express', 'Azan Wok', 'Three Rivers Bar & Grill', 'Pasta II', 'Fu Lai Chinese Restaurant', \"Deluca's Diner\", 'Police Station Pizza', 'Olives & Peppers', \"Enrico's Ristorante\", 'Crafton Ice Cream Delite', 'Au Bon Pain Co', \"Stack'd Burgers - Shadyside\", 'Burger King', \"Gavino's Pizzeria\", 'My Big Fat Greek Gyro', \"Jioio's Restaurant\", \"Donna Lynn's Pizza\", 'Three Amigos', \"Labriola's Italian Market\", 'Chevere', \"Rea's Restaurant\", \"McDonald's\", 'The Grove', 'Alma Pan-Latin Kitchen', \"Eat'n Park\", \"Stack'd Burgers\", 'Panera Bread', 'Area 51 Bbq', \"Walter's BBQ | Southern Kitchen\", \"Denny's\", 'Buckhead Saloon', \"Eden's Market\", \"Jimmy John's\", \"Gianni's Pizza\", 'QDOBA Mexican Eats', 'Mekong Restaurant', 'Outback Steakhouse', 'Pi Coal Fired Pizza', 'Vocelli Pizza', 'Disanto Pizza', \"Arby's\", 'Sunny Bridge Natural Foods & Cafe', 'Penn Station East Coast Subs', \"Geno's Restaurant\", 'Sabroso Mexican Delights', \"Lin's Garden\", 'Stroll Inn', 'Panera Bread', 'Cattivo', \"Yimmy's Deli\", 'Hello Bistro', 'Fireside Caribbean Restaurant', 'Noodles & Company', \"Gaetano's Restaurant\", \"Billu's Indian Grill\", 'Patron Mexican Grill', 'Harris Grill', 'Taj Mahal', 'Bravo Franco Ristorante', 'Dorothy 6 Blast Furnace Cafe', \"Moe's Southwest Grill\", 'Sarku Japan', \"Hoot's\", 'Crave a Bowl', 'East End Brewing Taproom', 'Pan Asia', 'Spoonwood Brewing', \"Billy's Roadhouse\", 'Subway', 'Vocelli Pizza', 'The Loft', 'The Artsmiths of Pittsburgh', 'Subway', \"Claudio's Pizzeria & Ristorante\", \"Nied's Hotel\", 'io Deli', 'The Café at the Frick', \"Pasquale's Pizzeria\", \"Braddock's Pittsburgh Brasserie\", \"Jimmy G's Bar & Grill\", \"Franco's Pizza\", 'Kabab N Curry', \"Silky's Sports Bar & Grill\", 'Asian Star', 'Smoke BBQ Taqueria', \"Dunning's Grill\", 'Biryani Indian Restaurant', \"BJ's Restaurant & Brewhouse\", 'Starbucks', 'Pizza Palermo', 'Grande Italian Restaurant', \"Hanlon's Cafe\", \"Papa John's\", \"Sumi's Cakery\", \"Kullman's Bakery\", 'Crazy Mocha - Southpointe', 'Rasta House Caribbean Resturant', 'Caffe Mona La Bistro', 'The Warehouse Pub & Grub', \"Disilva's Pizzeria\", 'Bellfarm', \"Ron's Pizza Palace\", 'Bob Evans', 'la Cappella', 'China House Chinese Restaurant', \"Rita's Italian Ice\", 'Asian Garden', 'Pizza Burgh', \"Atria's Restaurant\", 'Make Your Mark', \"Mario Dicarlo's Pizza\", 'Kings', 'La Palapa, Traditional Mexican Kitchen', \"August Henry's Burger Bar\", \"Nicky's Thai Kitchen\", 'Mantsch Blue Bonnet Bakery', 'Red The Steakhouse', 'Steel Cactus', 'The Bagel Factory', 'Social', 'Boulevard Lounge', \"Penny's Diner\", 'The Pub Chip Shop', \"Yeung's House\", 'Fadz Sandwich Shop', 'The Pizza Company', 'Steel Cactus', 'Pizza Fiesta', 'Ninos Pizza', \"Kevin's Deli\", 'Cupka Richd Deli', 'Café Cravings', 'Country Style Pizza', 'Starbucks', 'Tiki Lounge', 'Bar Louie', 'The Burgh Sports Bar', 'Rivertowne', 'Forest Hills Coffee Co', \"Atria's Restaurant\", \"Donna Lynn's Pizza\", \"Arby's\", 'Thai Cottage', 'Pizza Bellagio', 'Blue Flame Restaurant', \"Chan's Tea House\", 'Sapporo Asian Cuisine & Sushi Bar', 'Gino Bros. Pizzeria', 'Tilted Kilt Pub & Eatery', \"Bellisario's\", 'Cafe Fifth Ave', 'Subway', 'Chick-fil-A', 'Pie Bar', 'Jo-Lynn Pizza', \"Rosa's Bakery & Pizza Shop\", \"McDonald's\", 'Burger King', 'Sugar and Smoke', 'The Pizza Company - Baldwin', 'Starbucks', 'Au Bon Pain Co', 'Little Caesars', 'Tartan Express', 'Elena Restaurant & Cafe', 'Pittsburgh Pretzel Sandwich Shop', 'Studio AM', 'Elrama Tavern', 'Starlite Lounge', 'Bonefish Grill', 'Colony Café', \"Nicky's Thai Kitchen\", \"Denny's\", 'Starbucks', 'Steves New York Hotdog Shop', 'Porto Fino Pizzaria & Gyro', 'Yinz Guys Pizza', \"Max & Erma's Restaurants\", 'Fireside Inn', 'Le Petit Chocolat & Cafe', 'Lili Cafe', \"Long John Silver's\", 'Bea Taco Town', \"Nardi's Fine Dining\", 'New Dragon Express', \"Claudette's Kitchen\", \"Pino's Contemporary Italian Restaurant & Wine Bar\", 'Apollo Cafe', \"Bob's Sub\", 'Casa Brasil', 'Cool Beans Coffee', 'Yuzu Kitchen', 'Crust! Cafe and Pizzeria', \"Cosmo's Pizza Murrysville\", 'Bisou', \"McDonald's\", 'Flowers In the Attic', 'LongHorn Steakhouse', \"McDonald's\", 'Firehouse Lounge', 'George Aiken', 'Huszar', 'Roma Restaurant', 'Rocks Landing Bar & Grille', 'Fajita Grill', \"Luciano's Pizza & Six Pack To Go\", \"Arby's\", \"Atria's\", 'Jade Garden Restaurant', \"Big Shot Bob's House of wings\", 'Fellinis Pizzeria', \"Wendy's\", 'Palate Bistro', 'BURGER KING', \"Butler's Golf Course\", 'Cafe Delhi', 'Pittsburgh Poke', \"Santoro's Pizzeria Italiana\", \"Bishop's Pizza\", 'Carmi Soul Food', 'Joe & Pie Cafe Pizzeria', \"Carmella's Plates & Pints\", \"Dom's Pizzeria\", \"D's Sixpax & Dogz\", 'Market St Grocery', 'Subway', 'Dairy Queen', 'Ki Pollo', 'Istanbul', 'CobblerWorld', 'Gateway Clipper Cafe', 'Rey Azteca', 'Leaf and Plate', 'Mt Troy Inn', 'Back Burner Bar & Grill', 'Pizza Hut', \"Sal's City Deli\", \"Schmidt's Tavern\", 'Subway', \"Niko's Coffee\", 'Hard Rock Cafe', \"Joey D's in the Park, RIDC\", 'Mm Mm Pizza', 'Lorenz Cafe', \"Lampert's Fine Meats and Deli\", 'Gloria Jeans Coffees', 'Burma-Tokyo', 'Bad Azz BBQ', \"Eat 'n Park Restaurants\", 'Talia Cucina & Rosticceria', 'Sienna Mercato', 'Starbucks', 'Phong May House', 'Si Senor Restaurant', 'Pabellon', \"Doughboy's Pizza\", 'Patron Mexican Grill', 'Carson City Saloon', \"P&G's Pamela's Diner\", 'Poulet Bleu', 'Primanti Bros', 'Ground Round', \"J & J's Family Restaurant & Catering\", \"John Anthony's Restaurant Lounge & Banquets\", 'Sunnyledge Boutique Hotel', 'Tamarind Express', 'Primanti Bros', \"Eat'n Park\", 'Franks Pizza & Chicken', 'Carson Street Deli & Craft Beer Bar', 'Happiness Is Homemade', 'Cho Buffet', 'Home Plate Pizza', 'The Pennsylvania Market', 'Taco Bell', \"Eat'n Park\", \"Little Nipper's Pizza II\", \"Chili's\", 'China Palace of Wexford', \"Chuck E Cheese's\", 'Club Bistro', 'Ciao! 2', 'Or, The Whale', 'Ruths Chris Steak House', 'Cuzamil Restaurante Mexicano', 'Impressionz', \"Lumpy's Country Deli & Pie Shop\", 'Mauramori Cafe', \"Birdy's Restaurant\", 'Rivas Nicaraguan Restaurant', \"Casey's Draft House\", \"Campiti's Pizzeria - Bethel Park\", 'Subway', \"Big Guy's Pizza & Pasta\", 'Smoq Pitt', 'KFC', 'Pepperoncinis II', 'Holiday Inn Hotel Pittsburgh North', \"Mike & Tony's Gyros\", \"Nick's Place\", 'The Simple Greek', \"Papa John's Pizza\", 'William Penn Tavern', 'Steel Cactus Bethel Park', \"Bishop's Pizza\", 'Quaker Steak and Lube', 'The Dream BBQ', 'Z-Best Barbeque Chicken & Ribs', 'The Yard', 'Bossa Nova', \"DiBella's Subs\", 'Pie For Breakfast', 'Brisketburgh', 'Hunan Wok', \"Danny's Bar & Grill\", 'Vagabond Food truck', \"Ni's Wok\", \"R&B's Pizza Place\", 'El Campesino', 'China City', \"Rook's East Side Saloon\", 'Kouskous Express', 'Perrytowne Draft House', 'Dukes Rib House & Grille', \"Bruegger's Bagels\", 'Panda Express', 'Fez Grill Turkish & Mediterranean Cuisine', 'Panera Bread', 'China Lin', \"Szmidt's Old World Deli\", 'KFC', 'BFG Café', 'Vocelli Pizza', \"McDonald's\", \"Arby's\", 'Dairy Queen', 'El Burro', 'Tasty N Healthy', \"Patron's Pizza\", \"Angelina's Pizzeria\", 'China Gate', 'Starbucks', \"Big Jim's Roadhouse\", \"Rocky's Route 8\", 'Franktuary', 'Vocelli Pizza', 'The Colombian Spot', 'La Riviera Bistro', 'Five Guys', \"K & T's Fish and Chicken\", \"O'Leary's\", 'Luma Restaurant', 'Gaucho Parrilla Argentina', 'Laughing Buddha Bar', 'Casa Del Sole Pizza', 'Wize Guyz', 'Smoke BBQ Taqueria', \"Damon's Grill & Sports Bar\", 'Pittsburgh International Airport', 'Chop Sticks', 'American Cafe', 'Primanti Bros', 'New China Jade', 'Eighty Acres Kitchen & Bar', \"Uncle Sam's Sandwich Bar\", 'The Lot at Edgewater', \"Walid's Fish And Chicken\", \"Fazio's Pizza\", 'Il Pizzaiolo', 'Micro Diner', 'Krazy Brothers Pizza N Pasta', 'Pittsburgh Burger Company', 'Pho Minh', 'Fresh Healthy Cafe', 'No 1 China House', \"Alexion's Bar & Grill\", \"Pusadee's Garden\", \"Emiliano's Mexican Restaurant\", 'Taiwanese Bistro Cafe 33', 'Fujiya Ramen', 'Naya Cuisine', 'Constellation Coffee', 'Lindos Restaurant', \"Jose' Ole' Mexican Grill\", \"Chub's Place\", \"Carl's Tavern\", 'Round The Corner Carry Out', \"Woody's Little Italy Restaurants\", \"Viola's\", 'Marketplace Cafe', 'The Dragon Chinese Cuisine', 'Chef Chen Chinese Resturant', 'Tonidale Restaurant and Lounge', 'The Garden Cafe', 'Italian Village Pizza', 'Bob Evans', 'The Rose Bar & Grille', 'Asian Cuisine', 'Quiznos', 'Jake & Sons Pizzeria', \"Leena's Food Truck\", 'Piccolo Forno', 'Las Fuentes Mexican Restaurant', 'The Old Bridge Restaurant', 'Cool Beans Taco Truck', 'No. 1 Sushi Sushi', 'Currito - Burritos Without Borders', 'Kiva Han', \"Toss't\", 'Fox and Hound', \"Krista's Cantina\", 'Coriander India Grill', 'Istanbul Grille', \"Frank's Pizza & Chicken\", 'Crepes Parisiennes', 'Maximum Flavor Pizza Shop', \"Papa John's\", 'Bamboo Garden', 'Trolley Stop Inn', \"Madonna's Restaurant\", 'China Cafe', \"Houlihan's\", 'Wings Over Pittsburgh', 'Kiyoshi', 'Starbucks', 'Dragon Town', 'Asian Kitchen', 'Bistro To Go', 'The Warhol: Cafe', \"Wendy's\", 'Signature Desserts', 'The Pickle Barrel', 'J & L Grill Company', 'North Park Clubhouse', \"Leone's Pizza\", 'Sbarro Restaurant', 'Village Pizza Bar & Grill', \"Eat'n Park\", 'Alla Famiglia', 'WG Grinders', \"Selma's Texas Barbeque\", 'Pizza 412', 'China Garden Chinese Restaurant', 'Brown Bag Deli', 'Cool Beans Coffee', 'Casa Rasta', 'The Cheesecake Factory', 'Umai', 'Rivers Club', 'Chopstick House', 'Seasons Restaurant', 'Starbucks', \"Jersey Mike's Subs\", 'Universal Pizza', 'Boston Waterfront Restaurant & Lounge', 'Grandslam Pizza', 'Gypsy Cafe', 'Legume', 'Grounded Cafe & Beanery', 'T-Swirl Crepe', 'S&D Cafe', 'Second Breakfast', 'Cocina Mendoza', 'Biryani House Kabab And Grill', 'Philly Pretzel Factory', 'Pizza Hut', 'Saga Hibachi Steakhouse & Sushi Bar', 'Cambod-Ican Kitchen', 'Holy Guacamole ', \"Dunkin' Donuts\", \"Nipper's Pizzeria\", 'Red Lobster', 'Thirsty Scholar Bar & Grille', 'Cakes by Cheryl', 'Zombie Den: Bar Of The Dead', 'Rumfish Grille', 'Level 20', 'Gaby Et Jules', \"DiBella's Subs\", 'Rail House Restaurant', \"Gennaro's Pizza & Pub\", \"Edgar's Authentic Mexican\", \"Mancini's Bakery\", 'Panera Bread', \"Danny's Pizza\", 'BRGR', \"Bee'z Bistro & Pub\", 'Willow Restaurant', \"Billy's Troy Hill Bistro\", 'Sea Shell Bar', 'Krispy Krunchy Chicken', 'Binali Pizza', 'Nicholas Coffee', 'The Zone', 'Union Standard', \"Max & Erma's\", 'Duncan St Sandwich Shop', \"Penny's Diner\", 'Dozen Bake Shop', 'Kings', 'Pizza Authority', \"Papa John's\", 'Pizza Hut', 'Bob Evans', 'Holiday Inn Pittsburgh-Monroeville', 'Giant Eagle', 'Sparta Gyros', \"Armstrong's\", 'Forgotten Taste Pierogies', \"Chick'n Bubbly\", 'Taza 21', \"Angelo's Pizzeria\", 'Castaways Outside Inn', 'Chicken Derby', 'Ten Penny', 'Subway', 'Rice N Noodle', 'Primanti Bros', 'Earth Inspired Salads', \"Dunkin' Donuts\", 'Mattress Factory Cafe', 'Gather Restaurant & Bar', \"Joe's Hot Dog Shop\", 'Casa Rasta', 'Coca Cafe', 'Block 292', 'Italian Village Pizza', 'Pad Thai Express', \"Bic's Pub and Grill\", \"Atria's Restaurant\", 'Hofbrauhaus Pittsburgh', \"Tramp's Restaurant\", 'täkō', \"Domino's Pizza\", 'Roman Bistro', \"Pesaro's Pizza\", 'Duck Donuts', 'Pamelas Diner', 'K Asian Bistro', 'The Cabana Bar', 'The Pub At 333', \"DeLuca's Diner\", 'Wingstop', \"Silvioni's Restaurant\", \"Fox's Pizza Den\", \"Hambone's Neighborhood Bar and Grill\", 'Palmyra Mediterrean Cuisine', 'McDains', 'Pizza Di Roma', 'The Upper Crust Pizza', 'Five Guys', \"Charley's Grilled Subs\", 'Tamarind Savoring India', 'La Cucina Flegrea Regional Italian Cuisine', 'Thai Terrace', 'Vivo', \"Chris' Taste of Home\", 'Knuckleheads Pizza', 'Wildwood Golf Club', 'Vasta Lounge', \"Sree's Indian Truck\", 'Tilted Kilt Pub & Eatery', 'Terrene', \"BullDawg's\", \"Bruegger's Bagels\", 'Tan Izakaya', 'RedWood Cafe', 'Quaker Steak & Lube', 'Plaza Azteca', \"Matteo's\", 'China Garden', 'Mike and Tonys Gyros', \"Caffè d'Amore Coffeeshop\", 'Boulevard Bistro', '1889 Cafe', 'Kings Family Restaurant', \"Lulu's Noodles\", 'Lotus Garden', 'Jacktown Ride & Hunt Club', 'Golden Dragon Chinese Restaurant', 'Juniper Grill - Murrysville', 'East End Food Co-Op', \"Applebee's Grill + Bar\", 'Teutonia Männerchor', 'Giuseppes', '26th Street Market and Cafe', \"Angie's Restaurant\", 'Pennsbury Pub & Grill', 'Point Brugge Café', 'Pizza Bosa', 'Pizza Bellagio', \"Arleo's Pizza\", 'Kohinoor Indo-Pak Cuisine', \"Lydia's Place\", \"Chuck E Cheese's\", \"Portogallo Peppers N'at\", 'KFC', 'Kings', 'Donut Connection', 'Burger King', 'V3 Flatbread Pizza', \"JT's Bakery and Cafe\", \"Applebee's Grill + Bar\", 'Bronze Hood Lounge', 'Subway', \"Silky's Crows Nest\", \"Archie's\", \"Uncle Redd's BBQ\", \"Aladdin's Eatery\", 'Driscoll & Sons Cafe', 'Shiraz Kabob and Hookah', 'Burger King', 'Pizza Hut', 'Chick-fil-A', 'Woodpeckers Pub & Grub', 'The Clubhouse Gibsonia', 'Starbucks', 'Little City Coffee', \"Alioto's\", 'AntiquiTea Tearoom & Gift Shop', 'The Melting Pot - Pittsburgh', \"Dettore's Pizza\", 'Honeymoon Chinese Restaurant', 'Park Place Pub', 'Shop-n-Go Deli', 'Curry Leaf Indian Bistro', \"Maldini's Taste of Italy\", 'Basha 21', \"Bruno's Pizza\", 'Sababa Middle Eastern Grill', 'The Zenith', \"Nico's Recovery Room\", 'Fede Pasta', 'P & M Pizza', 'Latitude 360', \"Theresa's Italian Bakery\", 'Subway', 'Paparazzi Restaurant', \"Damon's Grill & Sports Bar\", 'The Vandal', \"Wendy's\", 'China Park', \"Sweet Tammy's\", 'Starbucks', 'Italian Village Pizza', 'The Boulevard Restaurant & Bar', 'Tan Lac Vien Express', 'Franks Pizza  and Chicken', \"DiBella's Subs\", 'Buon Cibo', 'Chick-fil-A', 'Subway', 'Kings', \"Donte's Pizzeria\", \"Khalil's II\", 'Thai & Noodle Outlet', \"DiPietro's\", 'Irrawaddy Sushi & Thai Cuisine', 'Bagel Factory', 'Firehouse Subs', \"Chev & Rachel's Family Diner\", 'Paris 66', 'Hoi Polloi: Coffeehouse and Vegetarian Cafe', \"Jolina's Mediterranean Cuisine\", \"Tracy's Deli\", 'Bar Marco', 'Primanti Bros', 'Green Forest Churrascaria', 'Three Rivers Lounge', \"JT's Rib Shack\", \"Perry Di Pizzaman's\", \"Zen's Noodle House\", 'Federal Galley', \"Frank & Shirley's\", \"Papa J's\", 'Merchant Oyster Company', 'Black & Cold Creamery', 'BoneWorks Grill', 'Subway', \"Fellini's Pizzeria\", \"Frankie's Extra Long\", 'Vocelli Pizza', 'American Natural', 'Pints On Penn', 'Pallantia Tapas de España', 'Burger King', \"Mark's Grille & Catering\", 'Olive Garden Italian Restaurant', 'Pizza Romano', \"June Bug's Bar\", 'TCBY Yogurt', 'Mambo Italia', \"Fox's Pizza Den\", 'Roost', 'Home Restaurant', 'Chipotle Mexican Grill', 'Steel Cactus', 'Deli On North Avenue', 'Smashburger', \"Mama Lena's II\", 'Gateway Grill', 'Pittsburgh Poultry Company', 'Applewood Smoke Burger', \"What's Cooking at Casey's\", 'Sakura Teppanyaki & Sushi', 'Cracker Barrel Old Country Store', 'honeygrow', 'Golden Pig', \"Benny Fierro's\", 'Mt. Nebo Pizza Roma', 'Vincenzos Pizza & Pasta', 'Say Cheese! Pizza', 'Ladeda Fish, Chicken & Gyro', 'Chicken Grille', 'Habitat Restaurant', 'The New York Hot Dog Shop', 'Zhen Choo Chinese Restaurant', \"Big Shot Bob's House of Wings - Coraopolis\", \"Hunner's Restaurant & Catering\", \"Dunkin' Donuts\", \"Salem's Cafe and Event Center\", \"Franco's Restaurant\", 'Lorenzo Italian Pizza', \"Eat'n Park\", \"Kribel's Bakery\", 'Sbarro', \"Lilly's Gourmet Pasta Express\", 'Sanchioli Bakery', 'Earth Inspired Salads', 'Local Bar + Kitchen', 'Potomac Bakery', \"Arby's\", 'Yuva India Kitchen + Bar', 'Super Pizza', 'Adesso Cafe', \"Carmody's Grille\"]\n"
     ]
    },
    {
     "ename": "AttributeError",
     "evalue": "index not found",
     "output_type": "error",
     "traceback": [
      "\u001b[0;31m---------------------------------------------------------------------------\u001b[0m",
      "\u001b[0;31mAttributeError\u001b[0m                            Traceback (most recent call last)",
      "\u001b[0;32m<ipython-input-52-04de093e9a90>\u001b[0m in \u001b[0;36m<module>\u001b[0;34m\u001b[0m\n\u001b[1;32m     35\u001b[0m \u001b[0;34m\u001b[0m\u001b[0m\n\u001b[1;32m     36\u001b[0m \u001b[0mrestaurant_recommender\u001b[0m\u001b[0;34m(\u001b[0m\u001b[0mknn_model\u001b[0m\u001b[0;34m,\u001b[0m \u001b[0mpa_sparse\u001b[0m\u001b[0;34m,\u001b[0m \u001b[0mpa_sparse_id\u001b[0m\u001b[0;34m,\u001b[0m \u001b[0;36m5\u001b[0m\u001b[0;34m,\u001b[0m \u001b[0mfav_restaurant\u001b[0m\u001b[0;34m)\u001b[0m\u001b[0;34m\u001b[0m\u001b[0;34m\u001b[0m\u001b[0m\n\u001b[0;32m---> 37\u001b[0;31m \u001b[0mpa_sparse\u001b[0m\u001b[0;34m.\u001b[0m\u001b[0mindex\u001b[0m\u001b[0;34m\u001b[0m\u001b[0;34m\u001b[0m\u001b[0m\n\u001b[0m",
      "\u001b[0;32m~/anaconda3/lib/python3.7/site-packages/scipy/sparse/base.py\u001b[0m in \u001b[0;36m__getattr__\u001b[0;34m(self, attr)\u001b[0m\n\u001b[1;32m    686\u001b[0m             \u001b[0;32mreturn\u001b[0m \u001b[0mself\u001b[0m\u001b[0;34m.\u001b[0m\u001b[0mgetnnz\u001b[0m\u001b[0;34m(\u001b[0m\u001b[0;34m)\u001b[0m\u001b[0;34m\u001b[0m\u001b[0;34m\u001b[0m\u001b[0m\n\u001b[1;32m    687\u001b[0m         \u001b[0;32melse\u001b[0m\u001b[0;34m:\u001b[0m\u001b[0;34m\u001b[0m\u001b[0;34m\u001b[0m\u001b[0m\n\u001b[0;32m--> 688\u001b[0;31m             \u001b[0;32mraise\u001b[0m \u001b[0mAttributeError\u001b[0m\u001b[0;34m(\u001b[0m\u001b[0mattr\u001b[0m \u001b[0;34m+\u001b[0m \u001b[0;34m\" not found\"\u001b[0m\u001b[0;34m)\u001b[0m\u001b[0;34m\u001b[0m\u001b[0;34m\u001b[0m\u001b[0m\n\u001b[0m\u001b[1;32m    689\u001b[0m \u001b[0;34m\u001b[0m\u001b[0m\n\u001b[1;32m    690\u001b[0m     \u001b[0;32mdef\u001b[0m \u001b[0mtranspose\u001b[0m\u001b[0;34m(\u001b[0m\u001b[0mself\u001b[0m\u001b[0;34m,\u001b[0m \u001b[0maxes\u001b[0m\u001b[0;34m=\u001b[0m\u001b[0;32mNone\u001b[0m\u001b[0;34m,\u001b[0m \u001b[0mcopy\u001b[0m\u001b[0;34m=\u001b[0m\u001b[0;32mFalse\u001b[0m\u001b[0;34m)\u001b[0m\u001b[0;34m:\u001b[0m\u001b[0;34m\u001b[0m\u001b[0;34m\u001b[0m\u001b[0m\n",
      "\u001b[0;31mAttributeError\u001b[0m: index not found"
     ]
    }
   ],
   "source": [
    "def restaurant_recommender(model, sparse_matrix, n_recommendations = 5, fav_restaurant = None):\n",
    "    \"\"\"takes in knn_model, a sparse matrix processed by KNN_matrix, and fav_restaurant which is restaurant on \n",
    "    which model makes recommendation\"\"\"\n",
    "    \n",
    "#     if fav_restaurant = None:\n",
    "#    find some restaurant to recommend. \n",
    "        \n",
    "    # get a fuzzy match\n",
    "    # reassign fav_restaurant\n",
    "    \n",
    "    matrix, business_id, business_names = zip(*sparse_matrix)\n",
    "\n",
    "    \n",
    "    print(sparse_business_id)\n",
    "    print(business_names)\n",
    "    \n",
    "    fav_business_id = rest_biz_csvTOpd[rest_biz_csvTOpd['name'] == fav_restaurant].iloc[0, 0]\n",
    "    fav_business_index = sparse_business_id.index(fav_business_id)\n",
    "    distances, indices = model.kneighbors(sparse_matrix[fav_business_index], n_neighbors = n_recommendations + 1)\n",
    "    \n",
    "    for i, rest_id in enumerate(indices[0]):\n",
    "        if i == 0:\n",
    "            restaurant_id = sparse_business_id[rest_id]\n",
    "            fav_rest = list(rest_biz_csvTOpd[rest_biz_csvTOpd['business_id'] == restaurant_id]['name'])[0]\n",
    "            print('Your favorite restaurant is:', fav_rest, '\\n')\n",
    "            print('Here are some other restaurants that people visited: \\n')\n",
    "        else:\n",
    "            restaurant_id = sparse_business_id[rest_id]\n",
    "            print(i,'.',list(rest_biz_csvTOpd[rest_biz_csvTOpd['business_id'] == restaurant_id]['name'])[0])\n",
    "    \n",
    "    \n",
    "fav_restaurant = \"Ron's Pizza Palace\"\n",
    "    \n",
    "restaurant_recommender(knn_model, pa_sparse, 5, fav_restaurant)\n",
    "pa_sparse.index\n"
   ]
  },
  {
   "cell_type": "code",
   "execution_count": 27,
   "metadata": {},
   "outputs": [
    {
     "data": {
      "text/html": [
       "<div>\n",
       "<style scoped>\n",
       "    .dataframe tbody tr th:only-of-type {\n",
       "        vertical-align: middle;\n",
       "    }\n",
       "\n",
       "    .dataframe tbody tr th {\n",
       "        vertical-align: top;\n",
       "    }\n",
       "\n",
       "    .dataframe thead th {\n",
       "        text-align: right;\n",
       "    }\n",
       "</style>\n",
       "<table border=\"1\" class=\"dataframe\">\n",
       "  <thead>\n",
       "    <tr style=\"text-align: right;\">\n",
       "      <th></th>\n",
       "      <th>business_id</th>\n",
       "      <th>name</th>\n",
       "      <th>address</th>\n",
       "      <th>city</th>\n",
       "      <th>state</th>\n",
       "      <th>stars</th>\n",
       "      <th>review_count</th>\n",
       "      <th>is_open</th>\n",
       "      <th>attributes</th>\n",
       "      <th>categories</th>\n",
       "      <th>hours</th>\n",
       "    </tr>\n",
       "  </thead>\n",
       "  <tbody>\n",
       "    <tr>\n",
       "      <th>5</th>\n",
       "      <td>1RHY4K3BD22FK7Cfftn8Mg</td>\n",
       "      <td>Marathon Diner</td>\n",
       "      <td>Center Core - Food Court, Fl 3, Pittsburgh Int...</td>\n",
       "      <td>Pittsburgh</td>\n",
       "      <td>PA</td>\n",
       "      <td>4.0</td>\n",
       "      <td>35</td>\n",
       "      <td>1</td>\n",
       "      <td>{'RestaurantsTakeOut': 'True', 'BusinessParkin...</td>\n",
       "      <td>Sandwiches, Salad, Restaurants, Burgers, Comfo...</td>\n",
       "      <td>NaN</td>\n",
       "    </tr>\n",
       "    <tr>\n",
       "      <th>14</th>\n",
       "      <td>dQj5DLZjeDK3KFysh1SYOQ</td>\n",
       "      <td>Apteka</td>\n",
       "      <td>4606 Penn Ave</td>\n",
       "      <td>Pittsburgh</td>\n",
       "      <td>PA</td>\n",
       "      <td>4.5</td>\n",
       "      <td>242</td>\n",
       "      <td>1</td>\n",
       "      <td>{'CoatCheck': 'False', 'BusinessParking': \"{'g...</td>\n",
       "      <td>Nightlife, Bars, Polish, Modern European, Rest...</td>\n",
       "      <td>{'Wednesday': '17:0-0:0', 'Thursday': '17:0-0:...</td>\n",
       "    </tr>\n",
       "    <tr>\n",
       "      <th>16</th>\n",
       "      <td>v-scZMU6jhnmV955RSzGJw</td>\n",
       "      <td>No. 1 Sushi Sushi</td>\n",
       "      <td>436 Market St</td>\n",
       "      <td>Pittsburgh</td>\n",
       "      <td>PA</td>\n",
       "      <td>4.5</td>\n",
       "      <td>106</td>\n",
       "      <td>1</td>\n",
       "      <td>{'OutdoorSeating': 'False', 'HasTV': 'True', '...</td>\n",
       "      <td>Japanese, Sushi Bars, Restaurants</td>\n",
       "      <td>{'Monday': '11:0-20:0', 'Tuesday': '11:0-20:0'...</td>\n",
       "    </tr>\n",
       "    <tr>\n",
       "      <th>18</th>\n",
       "      <td>KFbUQ-RR2UOV62Ep7WnXHw</td>\n",
       "      <td>Westwood Bar &amp; Grill</td>\n",
       "      <td>825 Commonwealth Ave</td>\n",
       "      <td>West Mifflin</td>\n",
       "      <td>PA</td>\n",
       "      <td>3.0</td>\n",
       "      <td>5</td>\n",
       "      <td>1</td>\n",
       "      <td>{'GoodForMeal': \"{'dessert': False, 'latenight...</td>\n",
       "      <td>American (Traditional), Restaurants</td>\n",
       "      <td>{'Wednesday': '11:0-0:0', 'Thursday': '11:0-0:...</td>\n",
       "    </tr>\n",
       "    <tr>\n",
       "      <th>41</th>\n",
       "      <td>t-6tdxRaz7s9a0sf94Tguw</td>\n",
       "      <td>Impressionz</td>\n",
       "      <td>6008 Broad St</td>\n",
       "      <td>Pittsburgh</td>\n",
       "      <td>PA</td>\n",
       "      <td>4.5</td>\n",
       "      <td>29</td>\n",
       "      <td>0</td>\n",
       "      <td>{'RestaurantsDelivery': 'False', 'RestaurantsG...</td>\n",
       "      <td>Restaurants, Caribbean</td>\n",
       "      <td>{'Monday': '11:0-20:0', 'Tuesday': '11:0-20:0'...</td>\n",
       "    </tr>\n",
       "    <tr>\n",
       "      <th>53</th>\n",
       "      <td>5WMIvoMx3l1vn1uJ3HZB6Q</td>\n",
       "      <td>Subway</td>\n",
       "      <td>411 7th Ave</td>\n",
       "      <td>Pittsburgh</td>\n",
       "      <td>PA</td>\n",
       "      <td>3.0</td>\n",
       "      <td>3</td>\n",
       "      <td>1</td>\n",
       "      <td>{'RestaurantsTakeOut': 'True', 'BusinessAccept...</td>\n",
       "      <td>Fast Food, Sandwiches, Restaurants</td>\n",
       "      <td>NaN</td>\n",
       "    </tr>\n",
       "    <tr>\n",
       "      <th>88</th>\n",
       "      <td>q4P3WHwC0lFafwvTlkKMIw</td>\n",
       "      <td>Ron's Pizza Palace</td>\n",
       "      <td>1535 Lowrie St</td>\n",
       "      <td>Pittsburgh</td>\n",
       "      <td>PA</td>\n",
       "      <td>3.0</td>\n",
       "      <td>6</td>\n",
       "      <td>1</td>\n",
       "      <td>{'RestaurantsDelivery': 'True', 'RestaurantsTa...</td>\n",
       "      <td>Restaurants, Pizza</td>\n",
       "      <td>NaN</td>\n",
       "    </tr>\n",
       "    <tr>\n",
       "      <th>90</th>\n",
       "      <td>hZj2HCiLae5-AxIp0im6lQ</td>\n",
       "      <td>Route 28 Bar &amp; Grille</td>\n",
       "      <td>180 Gamma Dr</td>\n",
       "      <td>Pittsburgh</td>\n",
       "      <td>PA</td>\n",
       "      <td>2.5</td>\n",
       "      <td>7</td>\n",
       "      <td>1</td>\n",
       "      <td>{'Music': \"{'dj': True, 'background_music': Fa...</td>\n",
       "      <td>Bars, Nightlife, Restaurants, American (Tradit...</td>\n",
       "      <td>{'Monday': '11:0-23:0', 'Tuesday': '11:0-23:0'...</td>\n",
       "    </tr>\n",
       "    <tr>\n",
       "      <th>100</th>\n",
       "      <td>ebDtlHODMCNmV1PrdNXKnA</td>\n",
       "      <td>Table Brick Oven &amp; Bar</td>\n",
       "      <td>4905 William Penn Hwy</td>\n",
       "      <td>Murrysville</td>\n",
       "      <td>PA</td>\n",
       "      <td>3.5</td>\n",
       "      <td>10</td>\n",
       "      <td>0</td>\n",
       "      <td>{'RestaurantsDelivery': 'False', 'RestaurantsP...</td>\n",
       "      <td>Nightlife, Bars, American (New), Restaurants, ...</td>\n",
       "      <td>NaN</td>\n",
       "    </tr>\n",
       "    <tr>\n",
       "      <th>115</th>\n",
       "      <td>El6Bum4I-0VWJRgzbtscJQ</td>\n",
       "      <td>Jimmy John's</td>\n",
       "      <td>12061 Perry Hwy</td>\n",
       "      <td>Wexford</td>\n",
       "      <td>PA</td>\n",
       "      <td>3.0</td>\n",
       "      <td>11</td>\n",
       "      <td>1</td>\n",
       "      <td>{'RestaurantsTakeOut': 'True', 'GoodForKids': ...</td>\n",
       "      <td>Fast Food, Sandwiches, Restaurants, Food, Food...</td>\n",
       "      <td>{'Monday': '11:0-21:0', 'Tuesday': '11:0-21:0'...</td>\n",
       "    </tr>\n",
       "  </tbody>\n",
       "</table>\n",
       "</div>"
      ],
      "text/plain": [
       "                business_id                    name  \\\n",
       "5    1RHY4K3BD22FK7Cfftn8Mg          Marathon Diner   \n",
       "14   dQj5DLZjeDK3KFysh1SYOQ                  Apteka   \n",
       "16   v-scZMU6jhnmV955RSzGJw       No. 1 Sushi Sushi   \n",
       "18   KFbUQ-RR2UOV62Ep7WnXHw    Westwood Bar & Grill   \n",
       "41   t-6tdxRaz7s9a0sf94Tguw             Impressionz   \n",
       "53   5WMIvoMx3l1vn1uJ3HZB6Q                  Subway   \n",
       "88   q4P3WHwC0lFafwvTlkKMIw      Ron's Pizza Palace   \n",
       "90   hZj2HCiLae5-AxIp0im6lQ   Route 28 Bar & Grille   \n",
       "100  ebDtlHODMCNmV1PrdNXKnA  Table Brick Oven & Bar   \n",
       "115  El6Bum4I-0VWJRgzbtscJQ            Jimmy John's   \n",
       "\n",
       "                                               address          city state  \\\n",
       "5    Center Core - Food Court, Fl 3, Pittsburgh Int...    Pittsburgh    PA   \n",
       "14                                       4606 Penn Ave    Pittsburgh    PA   \n",
       "16                                       436 Market St    Pittsburgh    PA   \n",
       "18                                825 Commonwealth Ave  West Mifflin    PA   \n",
       "41                                       6008 Broad St    Pittsburgh    PA   \n",
       "53                                         411 7th Ave    Pittsburgh    PA   \n",
       "88                                      1535 Lowrie St    Pittsburgh    PA   \n",
       "90                                        180 Gamma Dr    Pittsburgh    PA   \n",
       "100                              4905 William Penn Hwy   Murrysville    PA   \n",
       "115                                    12061 Perry Hwy       Wexford    PA   \n",
       "\n",
       "     stars  review_count  is_open  \\\n",
       "5      4.0            35        1   \n",
       "14     4.5           242        1   \n",
       "16     4.5           106        1   \n",
       "18     3.0             5        1   \n",
       "41     4.5            29        0   \n",
       "53     3.0             3        1   \n",
       "88     3.0             6        1   \n",
       "90     2.5             7        1   \n",
       "100    3.5            10        0   \n",
       "115    3.0            11        1   \n",
       "\n",
       "                                            attributes  \\\n",
       "5    {'RestaurantsTakeOut': 'True', 'BusinessParkin...   \n",
       "14   {'CoatCheck': 'False', 'BusinessParking': \"{'g...   \n",
       "16   {'OutdoorSeating': 'False', 'HasTV': 'True', '...   \n",
       "18   {'GoodForMeal': \"{'dessert': False, 'latenight...   \n",
       "41   {'RestaurantsDelivery': 'False', 'RestaurantsG...   \n",
       "53   {'RestaurantsTakeOut': 'True', 'BusinessAccept...   \n",
       "88   {'RestaurantsDelivery': 'True', 'RestaurantsTa...   \n",
       "90   {'Music': \"{'dj': True, 'background_music': Fa...   \n",
       "100  {'RestaurantsDelivery': 'False', 'RestaurantsP...   \n",
       "115  {'RestaurantsTakeOut': 'True', 'GoodForKids': ...   \n",
       "\n",
       "                                            categories  \\\n",
       "5    Sandwiches, Salad, Restaurants, Burgers, Comfo...   \n",
       "14   Nightlife, Bars, Polish, Modern European, Rest...   \n",
       "16                   Japanese, Sushi Bars, Restaurants   \n",
       "18                 American (Traditional), Restaurants   \n",
       "41                              Restaurants, Caribbean   \n",
       "53                  Fast Food, Sandwiches, Restaurants   \n",
       "88                                  Restaurants, Pizza   \n",
       "90   Bars, Nightlife, Restaurants, American (Tradit...   \n",
       "100  Nightlife, Bars, American (New), Restaurants, ...   \n",
       "115  Fast Food, Sandwiches, Restaurants, Food, Food...   \n",
       "\n",
       "                                                 hours  \n",
       "5                                                  NaN  \n",
       "14   {'Wednesday': '17:0-0:0', 'Thursday': '17:0-0:...  \n",
       "16   {'Monday': '11:0-20:0', 'Tuesday': '11:0-20:0'...  \n",
       "18   {'Wednesday': '11:0-0:0', 'Thursday': '11:0-0:...  \n",
       "41   {'Monday': '11:0-20:0', 'Tuesday': '11:0-20:0'...  \n",
       "53                                                 NaN  \n",
       "88                                                 NaN  \n",
       "90   {'Monday': '11:0-23:0', 'Tuesday': '11:0-23:0'...  \n",
       "100                                                NaN  \n",
       "115  {'Monday': '11:0-21:0', 'Tuesday': '11:0-21:0'...  "
      ]
     },
     "execution_count": 27,
     "metadata": {},
     "output_type": "execute_result"
    }
   ],
   "source": [
    "rest_biz_csvTOpd[rest_biz_csvTOpd['state'] == 'PA'].head(10)"
   ]
  },
  {
   "cell_type": "code",
   "execution_count": null,
   "metadata": {},
   "outputs": [],
   "source": []
  }
 ],
 "metadata": {
  "kernelspec": {
   "display_name": "Python 3",
   "language": "python",
   "name": "python3"
  },
  "language_info": {
   "codemirror_mode": {
    "name": "ipython",
    "version": 3
   },
   "file_extension": ".py",
   "mimetype": "text/x-python",
   "name": "python",
   "nbconvert_exporter": "python",
   "pygments_lexer": "ipython3",
   "version": "3.7.3"
  }
 },
 "nbformat": 4,
 "nbformat_minor": 2
}
