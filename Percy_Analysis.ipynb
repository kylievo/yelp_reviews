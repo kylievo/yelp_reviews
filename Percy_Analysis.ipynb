{
 "cells": [
  {
   "cell_type": "code",
   "execution_count": 1,
   "metadata": {},
   "outputs": [],
   "source": [
    "import pandas as pd\n",
    "from tqdm import tqdm\n",
    "import json\n",
    "import numpy as np\n",
    "import matplotlib.pyplot as plt"
   ]
  },
  {
   "cell_type": "code",
   "execution_count": 35,
   "metadata": {},
   "outputs": [],
   "source": [
    "from sklearn.feature_extraction.text import CountVectorizer\n",
    "from sklearn.linear_model import LogisticRegression\n",
    "from sklearn import metrics\n",
    "import re"
   ]
  },
  {
   "cell_type": "code",
   "execution_count": 3,
   "metadata": {},
   "outputs": [],
   "source": [
    "import warnings\n",
    "warnings.filterwarnings('ignore')"
   ]
  },
  {
   "cell_type": "markdown",
   "metadata": {},
   "source": [
    "# user.json"
   ]
  },
  {
   "cell_type": "code",
   "execution_count": 4,
   "metadata": {},
   "outputs": [],
   "source": [
    "# data = {'user_id': [], 'name': [], 'review_count': [], 'yelping_since': [], 'friends': [], 'useful': [], 'funny': [], 'cool': [], 'fans': [], 'elite': [], 'average_stars':[], 'compliment_hot': [], 'compliment_more': [], 'compliment_profile': [], 'compliment_cute': [], 'compliment_list': [], 'compliment_note': [], 'compliment_plain': [], 'compliment_cool': [], 'compliment_funny': [], 'compliment_writer': [], 'compliment_photos': []}\n",
    "\n",
    "# with open('user.json') as f:\n",
    "#     for line in tqdm(f):\n",
    "#         review = json.loads(line)\n",
    "#         data['user_id'].append(review['user_id'])\n",
    "#         data['name'].append(review['name'])\n",
    "#         data['review_count'].append(review['review_count'])\n",
    "#         data['yelping_since'].append(review['yelping_since'])\n",
    "#         data['friends'].append(review['friends'])\n",
    "#         data['useful'].append(review['useful'])\n",
    "#         data['funny'].append(review['funny'])\n",
    "#         data['cool'].append(review['cool'])\n",
    "#         data['fans'].append(review['fans'])\n",
    "#         data['elite'].append(review['elite'])\n",
    "#         data['average_stars'].append(review['average_stars'])\n",
    "#         data['compliment_hot'].append(review['compliment_hot'])\n",
    "#         data['compliment_more'].append(review['compliment_more'])\n",
    "#         data['compliment_profile'].append(review['compliment_profile'])\n",
    "#         data['compliment_cute'].append(review['compliment_cute'])\n",
    "#         data['compliment_list'].append(review['compliment_list'])\n",
    "#         data['compliment_note'].append(review['compliment_note'])\n",
    "#         data['compliment_plain'].append(review['compliment_plain'])\n",
    "#         data['compliment_cool'].append(review['compliment_cool'])\n",
    "#         data['compliment_funny'].append(review['compliment_funny'])\n",
    "#         data['compliment_writer'].append(review['compliment_writer'])\n",
    "#         data['compliment_photos'].append(review['compliment_photos'])"
   ]
  },
  {
   "cell_type": "code",
   "execution_count": 5,
   "metadata": {
    "scrolled": true
   },
   "outputs": [],
   "source": [
    "# user_df = pd.DataFrame(data)\n",
    "# user_df.head()"
   ]
  },
  {
   "cell_type": "code",
   "execution_count": 6,
   "metadata": {},
   "outputs": [],
   "source": [
    "# user_df.shape"
   ]
  },
  {
   "cell_type": "code",
   "execution_count": 7,
   "metadata": {},
   "outputs": [],
   "source": [
    "# pd.set_option('float_format', '{:.3f}'.format)\n",
    "# user_df.describe()"
   ]
  },
  {
   "cell_type": "markdown",
   "metadata": {},
   "source": [
    "# CSV file from 'business.json'"
   ]
  },
  {
   "cell_type": "code",
   "execution_count": 8,
   "metadata": {
    "scrolled": true
   },
   "outputs": [],
   "source": [
    "# Reading in 'extacted_restaurants_from_business.csv'\n",
    "rest_biz_csvTOpd = pd.read_csv('extracted_restaurants_from_business.csv')"
   ]
  },
  {
   "cell_type": "code",
   "execution_count": 341,
   "metadata": {},
   "outputs": [
    {
     "data": {
      "text/plain": [
       "['QXAEGFB4oINsVuTFxEYKFQ',\n",
       " 'gnKjwL_1w79qoiV3IC_xQQ',\n",
       " '1Dfx3zM-rW4n-31KeC8sJg',\n",
       " 'fweCYi8FmbJXHCqLnwuk8w',\n",
       " 'PZ-LZzSlhSe9utkQYU8pFg']"
      ]
     },
     "execution_count": 341,
     "metadata": {},
     "output_type": "execute_result"
    }
   ],
   "source": [
    "# Business IDs for the restaurants\n",
    "restaurant_id_list = rest_biz_csvTOpd.business_id.tolist()\n",
    "restaurant_id_list[:5]"
   ]
  },
  {
   "cell_type": "code",
   "execution_count": 10,
   "metadata": {},
   "outputs": [
    {
     "name": "stdout",
     "output_type": "stream",
     "text": [
      "Number of restaurants in the original dataset: 59371\n"
     ]
    }
   ],
   "source": [
    "print('Number of restaurants in the original dataset:',len(restaurant_id_list))"
   ]
  },
  {
   "cell_type": "markdown",
   "metadata": {},
   "source": [
    "# CSV file from 'review.json'"
   ]
  },
  {
   "cell_type": "code",
   "execution_count": 11,
   "metadata": {},
   "outputs": [],
   "source": [
    "# Reading in 'extracted_restaurants_from_review.csv'\n",
    "rest_review_csvTOpd = pd.read_csv('extracted_restaurants_from_review.csv')"
   ]
  },
  {
   "cell_type": "code",
   "execution_count": 12,
   "metadata": {
    "scrolled": false
   },
   "outputs": [
    {
     "data": {
      "text/html": [
       "<div>\n",
       "<style scoped>\n",
       "    .dataframe tbody tr th:only-of-type {\n",
       "        vertical-align: middle;\n",
       "    }\n",
       "\n",
       "    .dataframe tbody tr th {\n",
       "        vertical-align: top;\n",
       "    }\n",
       "\n",
       "    .dataframe thead th {\n",
       "        text-align: right;\n",
       "    }\n",
       "</style>\n",
       "<table border=\"1\" class=\"dataframe\">\n",
       "  <thead>\n",
       "    <tr style=\"text-align: right;\">\n",
       "      <th></th>\n",
       "      <th>Index_From_review.JSON</th>\n",
       "      <th>review_id</th>\n",
       "      <th>business_id</th>\n",
       "      <th>stars</th>\n",
       "      <th>text</th>\n",
       "    </tr>\n",
       "  </thead>\n",
       "  <tbody>\n",
       "    <tr>\n",
       "      <th>0</th>\n",
       "      <td>3</td>\n",
       "      <td>yi0R0Ugj_xUx_Nek0-_Qig</td>\n",
       "      <td>ikCg8xy5JIg_NGPx-MSIDA</td>\n",
       "      <td>5.0</td>\n",
       "      <td>Went in for a lunch. Steak sandwich was delici...</td>\n",
       "    </tr>\n",
       "    <tr>\n",
       "      <th>1</th>\n",
       "      <td>5</td>\n",
       "      <td>fdiNeiN_hoCxCMy2wTRW9g</td>\n",
       "      <td>eU_713ec6fTGNO4BegRaww</td>\n",
       "      <td>4.0</td>\n",
       "      <td>I'll be the first to admit that I was not exci...</td>\n",
       "    </tr>\n",
       "    <tr>\n",
       "      <th>2</th>\n",
       "      <td>6</td>\n",
       "      <td>G7XHMxG0bx9oBJNECG4IFg</td>\n",
       "      <td>3fw2X5bZYeW9xCz_zGhOHg</td>\n",
       "      <td>3.0</td>\n",
       "      <td>Tracy dessert had a big name in Hong Kong and ...</td>\n",
       "    </tr>\n",
       "    <tr>\n",
       "      <th>3</th>\n",
       "      <td>7</td>\n",
       "      <td>8e9HxxLjjqc9ez5ezzN7iQ</td>\n",
       "      <td>zvO-PJCpNk4fgAVUnExYAA</td>\n",
       "      <td>1.0</td>\n",
       "      <td>This place has gone down hill.  Clearly they h...</td>\n",
       "    </tr>\n",
       "    <tr>\n",
       "      <th>4</th>\n",
       "      <td>10</td>\n",
       "      <td>kbtscdyz6lvrtGjD1quQTg</td>\n",
       "      <td>8mIrX_LrOnAqWsB5JrOojQ</td>\n",
       "      <td>4.0</td>\n",
       "      <td>Like walking back in time, every Saturday morn...</td>\n",
       "    </tr>\n",
       "    <tr>\n",
       "      <th>...</th>\n",
       "      <td>...</td>\n",
       "      <td>...</td>\n",
       "      <td>...</td>\n",
       "      <td>...</td>\n",
       "      <td>...</td>\n",
       "    </tr>\n",
       "    <tr>\n",
       "      <th>4201680</th>\n",
       "      <td>6685894</td>\n",
       "      <td>-zfXs0DOn8VjMAt4pf5zJw</td>\n",
       "      <td>7sb2FYLS2sejZKxRYF9mtg</td>\n",
       "      <td>5.0</td>\n",
       "      <td>Best sushi place I've ever tasted...My favorit...</td>\n",
       "    </tr>\n",
       "    <tr>\n",
       "      <th>4201681</th>\n",
       "      <td>6685896</td>\n",
       "      <td>jPCXuSBbI_cPocgoNBhdkg</td>\n",
       "      <td>yA6dKNm_zl1ucZCnwW8ZCg</td>\n",
       "      <td>1.0</td>\n",
       "      <td>I think this owner and the owner of Amy's Baki...</td>\n",
       "    </tr>\n",
       "    <tr>\n",
       "      <th>4201682</th>\n",
       "      <td>6685897</td>\n",
       "      <td>zwzO3yPdGbdgGy3-XQ0SWg</td>\n",
       "      <td>a192hdM0_UVCYLwPJv1Qwg</td>\n",
       "      <td>5.0</td>\n",
       "      <td>Off the grid Mexican in Vegas. Very tasty, qua...</td>\n",
       "    </tr>\n",
       "    <tr>\n",
       "      <th>4201683</th>\n",
       "      <td>6685898</td>\n",
       "      <td>o8Nc2BJhKJXM6tRHJDRuPA</td>\n",
       "      <td>kOo4ZY2UQAX4j312mzQ8mA</td>\n",
       "      <td>5.0</td>\n",
       "      <td>We hired Taco Naco to cater our family party a...</td>\n",
       "    </tr>\n",
       "    <tr>\n",
       "      <th>4201684</th>\n",
       "      <td>6685899</td>\n",
       "      <td>OKmOLFwtI-NjofTHAGzv1Q</td>\n",
       "      <td>PkqN5st3zZ_Xce_5QlBtNQ</td>\n",
       "      <td>3.0</td>\n",
       "      <td>Having just come back from Hawaii a few months...</td>\n",
       "    </tr>\n",
       "  </tbody>\n",
       "</table>\n",
       "<p>4201685 rows × 5 columns</p>\n",
       "</div>"
      ],
      "text/plain": [
       "        Index_From_review.JSON               review_id  \\\n",
       "0                            3  yi0R0Ugj_xUx_Nek0-_Qig   \n",
       "1                            5  fdiNeiN_hoCxCMy2wTRW9g   \n",
       "2                            6  G7XHMxG0bx9oBJNECG4IFg   \n",
       "3                            7  8e9HxxLjjqc9ez5ezzN7iQ   \n",
       "4                           10  kbtscdyz6lvrtGjD1quQTg   \n",
       "...                        ...                     ...   \n",
       "4201680                6685894  -zfXs0DOn8VjMAt4pf5zJw   \n",
       "4201681                6685896  jPCXuSBbI_cPocgoNBhdkg   \n",
       "4201682                6685897  zwzO3yPdGbdgGy3-XQ0SWg   \n",
       "4201683                6685898  o8Nc2BJhKJXM6tRHJDRuPA   \n",
       "4201684                6685899  OKmOLFwtI-NjofTHAGzv1Q   \n",
       "\n",
       "                    business_id  stars  \\\n",
       "0        ikCg8xy5JIg_NGPx-MSIDA    5.0   \n",
       "1        eU_713ec6fTGNO4BegRaww    4.0   \n",
       "2        3fw2X5bZYeW9xCz_zGhOHg    3.0   \n",
       "3        zvO-PJCpNk4fgAVUnExYAA    1.0   \n",
       "4        8mIrX_LrOnAqWsB5JrOojQ    4.0   \n",
       "...                         ...    ...   \n",
       "4201680  7sb2FYLS2sejZKxRYF9mtg    5.0   \n",
       "4201681  yA6dKNm_zl1ucZCnwW8ZCg    1.0   \n",
       "4201682  a192hdM0_UVCYLwPJv1Qwg    5.0   \n",
       "4201683  kOo4ZY2UQAX4j312mzQ8mA    5.0   \n",
       "4201684  PkqN5st3zZ_Xce_5QlBtNQ    3.0   \n",
       "\n",
       "                                                      text  \n",
       "0        Went in for a lunch. Steak sandwich was delici...  \n",
       "1        I'll be the first to admit that I was not exci...  \n",
       "2        Tracy dessert had a big name in Hong Kong and ...  \n",
       "3        This place has gone down hill.  Clearly they h...  \n",
       "4        Like walking back in time, every Saturday morn...  \n",
       "...                                                    ...  \n",
       "4201680  Best sushi place I've ever tasted...My favorit...  \n",
       "4201681  I think this owner and the owner of Amy's Baki...  \n",
       "4201682  Off the grid Mexican in Vegas. Very tasty, qua...  \n",
       "4201683  We hired Taco Naco to cater our family party a...  \n",
       "4201684  Having just come back from Hawaii a few months...  \n",
       "\n",
       "[4201685 rows x 5 columns]"
      ]
     },
     "execution_count": 12,
     "metadata": {},
     "output_type": "execute_result"
    }
   ],
   "source": [
    "# Rename column containing the old indices\n",
    "rest_review_csvTOpd.rename(columns={\"Unnamed: 0\": \"Index_From_review.JSON\"})"
   ]
  },
  {
   "cell_type": "markdown",
   "metadata": {},
   "source": [
    "# Modeling"
   ]
  },
  {
   "cell_type": "code",
   "execution_count": 123,
   "metadata": {
    "scrolled": false
   },
   "outputs": [
    {
     "data": {
      "image/png": "[encoded data removed]",
      "text/plain": [
       "<Figure size 504x504 with 1 Axes>"
      ]
     },
     "metadata": {
      "needs_background": "light"
     },
     "output_type": "display_data"
    }
   ],
   "source": [
    "plt.figure(figsize=(7,7))\n",
    "plt.hist(rest_review_csvTOpd.stars, range = (0.2,5.5), bins = 10)\n",
    "plt.show()"
   ]
  },
  {
   "cell_type": "code",
   "execution_count": 140,
   "metadata": {},
   "outputs": [
    {
     "name": "stdout",
     "output_type": "stream",
     "text": [
      "There are 4201685 restaurant reviews.\n"
     ]
    },
    {
     "data": {
      "text/html": [
       "<div>\n",
       "<style scoped>\n",
       "    .dataframe tbody tr th:only-of-type {\n",
       "        vertical-align: middle;\n",
       "    }\n",
       "\n",
       "    .dataframe tbody tr th {\n",
       "        vertical-align: top;\n",
       "    }\n",
       "\n",
       "    .dataframe thead th {\n",
       "        text-align: right;\n",
       "    }\n",
       "</style>\n",
       "<table border=\"1\" class=\"dataframe\">\n",
       "  <thead>\n",
       "    <tr style=\"text-align: right;\">\n",
       "      <th></th>\n",
       "      <th>Unnamed: 0</th>\n",
       "      <th>review_id</th>\n",
       "      <th>business_id</th>\n",
       "      <th>stars</th>\n",
       "      <th>text</th>\n",
       "    </tr>\n",
       "  </thead>\n",
       "  <tbody>\n",
       "    <tr>\n",
       "      <th>0</th>\n",
       "      <td>3</td>\n",
       "      <td>yi0R0Ugj_xUx_Nek0-_Qig</td>\n",
       "      <td>ikCg8xy5JIg_NGPx-MSIDA</td>\n",
       "      <td>5.0</td>\n",
       "      <td>Went in for a lunch. Steak sandwich was delici...</td>\n",
       "    </tr>\n",
       "    <tr>\n",
       "      <th>1</th>\n",
       "      <td>5</td>\n",
       "      <td>fdiNeiN_hoCxCMy2wTRW9g</td>\n",
       "      <td>eU_713ec6fTGNO4BegRaww</td>\n",
       "      <td>4.0</td>\n",
       "      <td>I'll be the first to admit that I was not exci...</td>\n",
       "    </tr>\n",
       "    <tr>\n",
       "      <th>2</th>\n",
       "      <td>6</td>\n",
       "      <td>G7XHMxG0bx9oBJNECG4IFg</td>\n",
       "      <td>3fw2X5bZYeW9xCz_zGhOHg</td>\n",
       "      <td>3.0</td>\n",
       "      <td>Tracy dessert had a big name in Hong Kong and ...</td>\n",
       "    </tr>\n",
       "    <tr>\n",
       "      <th>3</th>\n",
       "      <td>7</td>\n",
       "      <td>8e9HxxLjjqc9ez5ezzN7iQ</td>\n",
       "      <td>zvO-PJCpNk4fgAVUnExYAA</td>\n",
       "      <td>1.0</td>\n",
       "      <td>This place has gone down hill.  Clearly they h...</td>\n",
       "    </tr>\n",
       "    <tr>\n",
       "      <th>4</th>\n",
       "      <td>10</td>\n",
       "      <td>kbtscdyz6lvrtGjD1quQTg</td>\n",
       "      <td>8mIrX_LrOnAqWsB5JrOojQ</td>\n",
       "      <td>4.0</td>\n",
       "      <td>Like walking back in time, every Saturday morn...</td>\n",
       "    </tr>\n",
       "  </tbody>\n",
       "</table>\n",
       "</div>"
      ],
      "text/plain": [
       "  Unnamed: 0               review_id             business_id  stars  \\\n",
       "0          3  yi0R0Ugj_xUx_Nek0-_Qig  ikCg8xy5JIg_NGPx-MSIDA    5.0   \n",
       "1          5  fdiNeiN_hoCxCMy2wTRW9g  eU_713ec6fTGNO4BegRaww    4.0   \n",
       "2          6  G7XHMxG0bx9oBJNECG4IFg  3fw2X5bZYeW9xCz_zGhOHg    3.0   \n",
       "3          7  8e9HxxLjjqc9ez5ezzN7iQ  zvO-PJCpNk4fgAVUnExYAA    1.0   \n",
       "4         10  kbtscdyz6lvrtGjD1quQTg  8mIrX_LrOnAqWsB5JrOojQ    4.0   \n",
       "\n",
       "                                                text  \n",
       "0  Went in for a lunch. Steak sandwich was delici...  \n",
       "1  I'll be the first to admit that I was not exci...  \n",
       "2  Tracy dessert had a big name in Hong Kong and ...  \n",
       "3  This place has gone down hill.  Clearly they h...  \n",
       "4  Like walking back in time, every Saturday morn...  "
      ]
     },
     "execution_count": 140,
     "metadata": {},
     "output_type": "execute_result"
    }
   ],
   "source": [
    "# Random EDA\n",
    "rest_review_length = len(rest_review_csvTOpd)\n",
    "print(\"There are {} restaurant reviews.\".format(rest_review_length))\n",
    "testset = rest_review_csvTOpd[:1000]\n",
    "category = testset.stars\n",
    "testset.head()"
   ]
  },
  {
   "cell_type": "code",
   "execution_count": 178,
   "metadata": {},
   "outputs": [],
   "source": [
    "one_star = rest_review_csvTOpd.loc[rest_review_csvTOpd['stars'] == 1.0]\n",
    "two_star = rest_review_csvTOpd.loc[rest_review_csvTOpd['stars'] == 2.0]\n",
    "three_star = rest_review_csvTOpd.loc[rest_review_csvTOpd['stars'] == 3.0]\n",
    "four_star = rest_review_csvTOpd.loc[rest_review_csvTOpd['stars'] == 4.0]\n",
    "five_star = rest_review_csvTOpd.loc[rest_review_csvTOpd['stars'] == 5.0]"
   ]
  },
  {
   "cell_type": "code",
   "execution_count": 15,
   "metadata": {},
   "outputs": [
    {
     "name": "stdout",
     "output_type": "stream",
     "text": [
      "For 80% of the data, there should be 3361348 reviews.\n"
     ]
    }
   ],
   "source": [
    "# Figuring out what percentage of the \"rest_review_csvTOpd\" should be training data, and what percentage should be test data.\n",
    "num_train_data = int(rest_review_length * 0.8)\n",
    "print(\"For 80% of the data, there should be {} reviews.\".format(num_train_data))"
   ]
  },
  {
   "cell_type": "code",
   "execution_count": 342,
   "metadata": {},
   "outputs": [],
   "source": [
    "# Train data has equal amounts of each rating.\n",
    "train_data = pd.concat([one_star.text[:1600], two_star.text[:1600], three_star.text[:1600], four_star.text[:1600], five_star.text[:1600]])\n",
    "train_labels = pd.concat([one_star.stars[:1600], one_star.stars[:1600], three_star.stars[:1600], five_star.stars[:1600], five_star.stars[:1600]])\n",
    "\n",
    "test_data = pd.concat([one_star.text[1600:1700], two_star.text[1600:1700], three_star.text[1600:1700], four_star.text[1600:1700], five_star.text[1600:1700]])\n",
    "test_labels = pd.concat([one_star.stars[1600:1700], one_star.stars[1600:1700], three_star.stars[1600:1700], five_star.stars[1600:1700], five_star.stars[1600:1700]])"
   ]
  },
  {
   "cell_type": "code",
   "execution_count": 343,
   "metadata": {},
   "outputs": [
    {
     "data": {
      "image/png": "[encoded data removed]",
      "text/plain": [
       "<Figure size 504x504 with 1 Axes>"
      ]
     },
     "metadata": {
      "needs_background": "light"
     },
     "output_type": "display_data"
    }
   ],
   "source": [
    "plt.figure(figsize=(7,7))\n",
    "plt.hist(train_labels, range = (1,5), bins = 10)\n",
    "plt.show()"
   ]
  },
  {
   "cell_type": "code",
   "execution_count": 344,
   "metadata": {},
   "outputs": [],
   "source": [
    "# Fit CountVectorizer with your text data\n",
    "vectorizer = CountVectorizer()\n",
    "# train_data = testset.text.tolist()\n",
    "vtrain = vectorizer.fit_transform(train_data)\n",
    "vdev = vectorizer.transform(test_data)"
   ]
  },
  {
   "cell_type": "code",
   "execution_count": 369,
   "metadata": {},
   "outputs": [
    {
     "name": "stdout",
     "output_type": "stream",
     "text": [
      "0.7645667436311591\n"
     ]
    }
   ],
   "source": [
    "# Train LogisticRegression Classifier\n",
    "lr_classifier = LogisticRegression(C=0.09)\n",
    "lr_classifier.fit(vtrain, train_labels)\n",
    "train_predicted_labels = lr_classifier.predict(vdev)\n",
    "f1_score = metrics.f1_score(test_labels, train_predicted_labels, average = 'weighted')\n",
    "print(f1_score)"
   ]
  },
  {
   "cell_type": "code",
   "execution_count": 350,
   "metadata": {},
   "outputs": [
    {
     "data": {
      "text/plain": [
       "array([[9.74598169e-01, 4.02074554e-05, 2.53616237e-02],\n",
       "       [8.41955619e-01, 1.42672209e-01, 1.53721719e-02],\n",
       "       [9.60548390e-01, 2.76008676e-02, 1.18507420e-02],\n",
       "       ...,\n",
       "       [5.33305275e-02, 4.74843169e-02, 8.99185156e-01],\n",
       "       [9.11196862e-03, 2.27569638e-03, 9.88612335e-01],\n",
       "       [6.11947559e-02, 3.65666845e-02, 9.02238560e-01]])"
      ]
     },
     "execution_count": 350,
     "metadata": {},
     "output_type": "execute_result"
    }
   ],
   "source": [
    "lr_classifier.predict_proba(vdev)"
   ]
  },
  {
   "cell_type": "markdown",
   "metadata": {},
   "source": [
    "# Predictions without the neutral data"
   ]
  },
  {
   "cell_type": "code",
   "execution_count": 370,
   "metadata": {},
   "outputs": [],
   "source": [
    "# Throwing away the neutral data\n",
    "NO3_train_data = pd.concat([one_star.text[:1600], two_star.text[:1600], four_star.text[:1600], five_star.text[:1600]])\n",
    "NO3_train_labels = pd.concat([one_star.stars[:1600], one_star.stars[:1600], five_star.stars[:1600], five_star.stars[:1600]])\n",
    "\n",
    "NO3_test_data = pd.concat([one_star.text[1600:1700], two_star.text[1600:1700], four_star.text[1600:1700], five_star.text[1600:1700]])\n",
    "NO3_test_labels = pd.concat([one_star.stars[1600:1700], one_star.stars[1600:1700], five_star.stars[1600:1700], five_star.stars[1600:1700]])"
   ]
  },
  {
   "cell_type": "code",
   "execution_count": 371,
   "metadata": {},
   "outputs": [],
   "source": [
    "# Fit CountVectorizer with your text data\n",
    "vectorizer = CountVectorizer()\n",
    "# train_data = testset.text.tolist()\n",
    "v_NO3_train = vectorizer.fit_transform(NO3_train_data)\n",
    "v_NO3_dev = vectorizer.transform(NO3_test_data)"
   ]
  },
  {
   "cell_type": "code",
   "execution_count": 380,
   "metadata": {},
   "outputs": [
    {
     "name": "stdout",
     "output_type": "stream",
     "text": [
      "0.917474726635032\n"
     ]
    }
   ],
   "source": [
    "# Train LogisticRegression Classifier\n",
    "lr_classifier = LogisticRegression(C=0.08)\n",
    "lr_classifier.fit(v_NO3_train, NO3_train_labels)\n",
    "train_predicted_labels = lr_classifier.predict(v_NO3_dev)\n",
    "f1_score = metrics.f1_score(NO3_test_labels, train_predicted_labels, average = 'weighted')\n",
    "print(f1_score)"
   ]
  },
  {
   "cell_type": "markdown",
   "metadata": {},
   "source": [
    "* So if we throw out the moderate data (the 3-star reviews), it is clear that there is a difference between positive and negative reviews."
   ]
  },
  {
   "cell_type": "markdown",
   "metadata": {},
   "source": [
    "# Sample Prediction"
   ]
  },
  {
   "cell_type": "code",
   "execution_count": 351,
   "metadata": {},
   "outputs": [],
   "source": [
    "# Predict new sentence\n",
    "test_sentence = \"I hate this place\"\n",
    "test_sentence = [test_sentence]"
   ]
  },
  {
   "cell_type": "code",
   "execution_count": 352,
   "metadata": {},
   "outputs": [
    {
     "data": {
      "text/plain": [
       "array([[0.55746564, 0.16803394, 0.27450042]])"
      ]
     },
     "execution_count": 352,
     "metadata": {},
     "output_type": "execute_result"
    }
   ],
   "source": [
    "new_test = vectorizer.transform(test_sentence)\n",
    "lr_classifier.predict(new_test)\n",
    "lr_classifier.predict_proba(new_test)"
   ]
  },
  {
   "cell_type": "markdown",
   "metadata": {},
   "source": [
    "# Word Cloud"
   ]
  },
  {
   "cell_type": "code",
   "execution_count": null,
   "metadata": {},
   "outputs": [],
   "source": []
  }
 ],
 "metadata": {
  "kernelspec": {
   "display_name": "Python 3",
   "language": "python",
   "name": "python3"
  },
  "language_info": {
   "codemirror_mode": {
    "name": "ipython",
    "version": 3
   },
   "file_extension": ".py",
   "mimetype": "text/x-python",
   "name": "python",
   "nbconvert_exporter": "python",
   "pygments_lexer": "ipython3",
   "version": "3.7.5"
  }
 },
 "nbformat": 4,
 "nbformat_minor": 2
}
