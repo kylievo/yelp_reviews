{
 "cells": [
  {
   "cell_type": "code",
   "execution_count": null,
   "metadata": {},
   "outputs": [],
   "source": [
    "import pandas as pd\n",
    "from tqdm import tqdm\n",
    "import json\n",
    "import warnings\n",
    "warnings.filterwarnings('ignore')"
   ]
  },
  {
   "cell_type": "code",
   "execution_count": null,
   "metadata": {},
   "outputs": [],
   "source": [
    "# Reading in json file 'business.json'\n",
    "data2 = {'business_id':[], 'name':[], 'address':[], 'city': [], 'state': [], 'stars':[], 'review_count':[], 'is_open':[], 'attributes':[], 'categories':[], 'hours':[]}\n",
    "\n",
    "with open('business.json') as f:\n",
    "    for line in tqdm(f):\n",
    "        review = json.loads(line)\n",
    "        data2['business_id'].append(review['business_id'])\n",
    "        data2['name'].append(review['name'])\n",
    "        data2['address'].append(review['address'])\n",
    "        data2['city'].append(review['city'])\n",
    "        data2['state'].append(review['state'])\n",
    "        data2['stars'].append(review['stars'])\n",
    "        data2['review_count'].append(review['review_count'])\n",
    "        data2['is_open'].append(review['is_open'])\n",
    "        data2['attributes'].append(review['attributes'])\n",
    "        data2['categories'].append(review['categories'])\n",
    "        data2['hours'].append(review['hours'])"
   ]
  },
  {
   "cell_type": "code",
   "execution_count": null,
   "metadata": {},
   "outputs": [],
   "source": [
    "# Extracts restaurants from business.json.\n",
    "business_df = pd.DataFrame(data2)\n",
    "no_none = business_df.loc[business_df.categories.notnull()]\n",
    "rest_biz_df = no_none.loc[no_none['categories'].str.contains('Restaurants')]\n",
    "rest_biz_df.to_csv('extracted_restaurants_from_business.csv', index=False)"
   ]
  },
  {
   "cell_type": "code",
   "execution_count": null,
   "metadata": {},
   "outputs": [],
   "source": [
    "# 'business_id_list' is used to extract the reviews of restaurants from review.json\n",
    "business_id_list = rest_biz_csvTOpd.business_id.tolist()"
   ]
  },
  {
   "cell_type": "code",
   "execution_count": null,
   "metadata": {},
   "outputs": [],
   "source": [
    "# Reading in json file 'review.json'\n",
    "rest_review_StarsText = {'review_id':[], 'business_id':[], 'stars':[], 'text':[]}\n",
    "\n",
    "with open('review.json') as f:\n",
    "    for line in tqdm(f):\n",
    "        review = json.loads(line)\n",
    "        rest_review_StarsText['review_id'].append(review['review_id'])\n",
    "        rest_review_StarsText['business_id'].append(review['business_id'])\n",
    "        rest_review_StarsText['stars'].append(review['stars'])\n",
    "        rest_review_StarsText['text'].append(review['text'])\n",
    "        \n",
    "rest_pd = pd.DataFrame(rest_review_StarsText)"
   ]
  },
  {
   "cell_type": "code",
   "execution_count": null,
   "metadata": {},
   "outputs": [],
   "source": [
    "# Extracts reviews of RESTAURANTS from 'reviews.json'\n",
    "review_rest = rest_pd[pd.DataFrame(rest_pd.business_id.tolist()).isin(business_id_list).any(1)]\n",
    "review_rest.to_csv('extracted_restaurants_from_review.csv', index=False)"
   ]
  }
 ],
 "metadata": {
  "kernelspec": {
   "display_name": "Python 3",
   "language": "python",
   "name": "python3"
  },
  "language_info": {
   "codemirror_mode": {
    "name": "ipython",
    "version": 3
   },
   "file_extension": ".py",
   "mimetype": "text/x-python",
   "name": "python",
   "nbconvert_exporter": "python",
   "pygments_lexer": "ipython3",
   "version": "3.7.5"
  }
 },
 "nbformat": 4,
 "nbformat_minor": 2
}
